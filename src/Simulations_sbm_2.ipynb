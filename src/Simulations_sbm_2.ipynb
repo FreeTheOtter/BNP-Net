{
 "cells": [
  {
   "cell_type": "code",
   "execution_count": 1,
   "metadata": {},
   "outputs": [],
   "source": [
    "from main_sbm import SBM\n",
    "import numpy as np\n",
    "import pandas as pd\n",
    "import matplotlib.pyplot as plt\n",
    "import seaborn as sns\n",
    "import igraph as ig\n",
    "import pickle as pkl\n",
    "from collections import Counter\n",
    "from eval import retrieve_samples\n",
    "from igraph.clustering import compare_communities\n",
    "\n",
    "def generate_graph_bicluster(Sr, Sc, thetas, random_seed = None, edge = \"binary\", undirected = False):\n",
    "    # Kr = thetas.shape[0]\n",
    "    # Kc = thetas.shape[1]\n",
    "\n",
    "    N = np.sum(Sr)\n",
    "\n",
    "    Hr = []\n",
    "    c = 0\n",
    "    for i in Sr:\n",
    "        for j in range(i):\n",
    "            Hr += [c]\n",
    "        c+=1\n",
    "\n",
    "    Hc = []\n",
    "    c = 0\n",
    "    for i in Sc:\n",
    "        for j in range(i):\n",
    "            Hc += [c]\n",
    "        c+=1\n",
    "\n",
    "    if isinstance(random_seed, int):\n",
    "        np.random.seed(random_seed)\n",
    "\n",
    "    X = np.zeros((N,N))\n",
    "    if edge == \"binary\":\n",
    "        for i in range(N):\n",
    "            for j in range(N):\n",
    "                if i == j:\n",
    "                    continue\n",
    "                X[i, j] = np.random.binomial(1, thetas[Hr[i], Hc[j]])\n",
    "    elif edge == \"weighted\":\n",
    "        for i in range(N):\n",
    "            for j in range(N):\n",
    "                if i == j:\n",
    "                    continue\n",
    "                X[i, j] = np.random.poisson(thetas[Hr[i], Hc[j]], 1)\n",
    "\n",
    "    if undirected:\n",
    "        X = np.triu(X) + np.triu(X).T\n",
    "\n",
    "    return X\n",
    "\n",
    "def cluster_summs(Z, ret = False):\n",
    "    temp_Z = []\n",
    "    mean_lenght = 0\n",
    "    mean_nodes = 0\n",
    "    for i in range(len(Z)):\n",
    "        current_z = np.sum(Z[i], 0)\n",
    "        temp_Z.append(current_z)\n",
    "        mean_lenght += len(current_z)\n",
    "        mean_nodes += np.mean(current_z)\n",
    "\n",
    "    mean_lenght /= len(Z)\n",
    "    mean_nodes /= len(Z)\n",
    "\n",
    "    print('mean number of clusters', mean_lenght)\n",
    "    print('mean nodes per cluster', mean_nodes)\n",
    "    if ret:\n",
    "        return temp_Z"
   ]
  },
  {
   "cell_type": "code",
   "execution_count": 2,
   "metadata": {},
   "outputs": [],
   "source": [
    "def compute_VIs(C):\n",
    "    N = len(C)\n",
    "    VIs = np.zeros((N,N))\n",
    "\n",
    "    for i in range(N):\n",
    "        for j in range(i):\n",
    "            VIs[i,j] = compare_communities(C[i], C[j])\n",
    "\n",
    "    VIs += VIs.T\n",
    "\n",
    "    return VIs\n",
    "\n",
    "def compute_edge_quantities(X, zr, zc = None, mode = 'biclustering'):\n",
    "    if mode == 'uniclustering':\n",
    "        M1 = zr.T @ X @ zr\n",
    "        X = X.copy().astype(int)\n",
    "        X_rev = (np.where((X==0)|(X==1), X^1, X) - np.eye(X.shape[0])).copy() #reverse matrix for non_links\n",
    "        M0 = zr.T @ X_rev @ zr\n",
    "\n",
    "\n",
    "    if mode == 'biclustering':\n",
    "        M1 = zr.T @ X @ zc\n",
    "\n",
    "        X = X.copy().astype(int)\n",
    "        X_rev = (np.where((X==0)|(X==1), X^1, X) - np.eye(X.shape[0])).copy() #reverse matrix for non_links\n",
    "        M0 = zr.T @ X_rev @ zc\n",
    "\n",
    "    return M1, M0\n",
    "\n",
    "def compute_logL(X, zr, zc = None, a=1, b=1, mode = 'biclustering'):\n",
    "    if mode == 'uniclustering':\n",
    "        M1, M0 = compute_edge_quantities(X, zr, mode = 'uniclustering')\n",
    "        \n",
    "\n",
    "    if mode == 'biclustering':\n",
    "        M1, M0 = compute_edge_quantities(X, zr, zc, mode = 'biclustering')\n",
    "    \n",
    "    logLlhood = np.sum(betaln(M1 + a, M0 + b) - betaln(a, b))\n",
    "    return logLlhood\n",
    "\n",
    "def compute_logLs(X, Z, mode = 'biclustering'):\n",
    "    if mode == 'uniclustering':\n",
    "        N = len(Z)\n",
    "        logLs = [0]*N\n",
    "        for i in range(N):\n",
    "            logLs[i] = compute_logL(X, Z[i], mode = 'uniclustering')\n",
    "    if mode == 'biclustering':\n",
    "        N = len(Z[0])\n",
    "        logLs = [0]*N\n",
    "        for i in range(N):\n",
    "            logLs[i] = compute_logL(X, Z[0][i], Z[1][i], mode = 'biclustering')\n",
    "\n",
    "    return logLs\n",
    "\n",
    "def compute_Zhat(X, Z, mode = 'biclustering', weight_llhood = False, ret_VI = False, ret_all = False):\n",
    "    if mode == 'uniclustering':\n",
    "        Z = retrieve_samples(Z, gap = 10)\n",
    "\n",
    "        C = [np.where(x == 1)[1].tolist() for x in Z]\n",
    "\n",
    "        VI = compute_VIs(C)\n",
    "        VI = VI.sum(0)/VI.shape[0]\n",
    "\n",
    "        if weight_llhood == True:\n",
    "            logLs = compute_logLs(X, Z, mode = 'uniclustering')\n",
    "            VI *= -logLs        \n",
    "\n",
    "        idx_min = np.argmin(VI) \n",
    "        z_hat = Z[idx_min]\n",
    "        c_hat = np.where(z_hat==1)[1]\n",
    "\n",
    "    if mode == 'biclustering':\n",
    "        Zr = retrieve_samples(Z[0], gap = 10)\n",
    "        Zc = retrieve_samples(Z[1], gap = 10)\n",
    "\n",
    "        Cr = [np.where(x == 1)[1].tolist() for x in Zr]\n",
    "        Cc = [np.where(x == 1)[1].tolist() for x in Zc]\n",
    "\n",
    "        VIr = compute_VIs(Cr)\n",
    "        VIc = compute_VIs(Cc)\n",
    "\n",
    "        VI = (VIr + VIc)/2\n",
    "        VI = VI.sum(0)/VI.shape[0]\n",
    "\n",
    "        if weight_llhood == True:\n",
    "            logLs = compute_logLs(X, [Zr, Zc], mode = 'biclustering')\n",
    "            VI *= -logLs\n",
    "\n",
    "        idx_min = np.argmin(VI) \n",
    "        z_hat = [Zr[idx_min], Zc[idx_min]]\n",
    "        c_hat = [np.where(z_hat[0]==1)[1], np.where(z_hat[1]==1)[1]]\n",
    "\n",
    "    if ret_all:\n",
    "        return [Zr, Zc], VI, idx_min\n",
    "\n",
    "    if ret_VI:\n",
    "        return z_hat, VI[idx_min]\n",
    "\n",
    "    return z_hat\n",
    "\n",
    "def compute_rhos(X, Z, a=1, b=1, edge_type = 'directed', edge_weight = 'binary', mode = 'normal'):\n",
    "    rhos = np.zeros((len(X), len(X)))\n",
    "    if mode == 'normal':    \n",
    "        A = np.array([np.where(Z[i,:] == 1)[0] for i in range(len(Z))]).flatten()\n",
    "\n",
    "        if edge_type == 'undirected':\n",
    "            M1 = Z.T @ X @ Z - np.diag(np.sum(X@Z*Z, 0) / 2) \n",
    "\n",
    "            m = np.sum(Z, 0)[np.newaxis]\n",
    "\n",
    "            M0 = m.T@m - np.diag((m*(m+1) / 2).flatten()) - M1 \n",
    "\n",
    "        elif edge_type == 'directed':\n",
    "            M1 = Z.T @ X @ Z\n",
    "\n",
    "            m = np.sum(Z, 0)[np.newaxis]\n",
    "            M0 = m.T@m - np.diag(m.flatten()) - M1\n",
    "\n",
    "        for i in range(len(X)):\n",
    "            for j in range(len(X)):\n",
    "                if i == j:\n",
    "                    continue\n",
    "                links = M1[A[i], A[j]]\n",
    "                non_links = M0[A[i], A[j]]\n",
    "                rhos[i,j] += (links + a) / (links + non_links + a + b)\n",
    "\n",
    "    elif mode == 'biclustering':\n",
    "        zr = Z[0]\n",
    "        zc = Z[1]\n",
    "        cr = np.where(zr==1)[1]\n",
    "        cc = np.where(zc==1)[1]\n",
    "\n",
    "        M1 = zr.T @ X @ zc\n",
    "\n",
    "        X_ = X.copy().astype(int)\n",
    "        X_rev = (np.where((X_==0)|(X_==1), X_^1, X_) - np.eye(X_.shape[0])).copy() #reverse matrix for non_links\n",
    "\n",
    "        M0 = zr.T @ X_rev @ zc\n",
    "\n",
    "        for i in range(len(X)):\n",
    "            for j in range(len(X)):\n",
    "                if i == j:\n",
    "                    continue\n",
    "                links = M1[cr[i], cc[j]]\n",
    "                non_links = M0[cr[i], cc[j]]\n",
    "                rhos[i,j] += (links + a) / (links + non_links + a + b)\n",
    "    return rhos\n",
    "\n",
    "def compute_rho(X, sample, edge_type = 'directed', edge_weight = 'binary', mode = 'normal'):\n",
    "    rhos = np.zeros((len(X), len(X)))\n",
    "    if mode == 'normal':\n",
    "        for i in sample:\n",
    "            rhos += compute_rhos(X, i, edge_type = edge_type, edge_weight = edge_weight, mode = mode)\n",
    "        rhos /= len(sample)\n",
    "    if mode == 'biclustering':\n",
    "        for i in range(len(sample[0])):\n",
    "            rhos += compute_rhos(X, [sample[0][i], sample[1][i]], \n",
    "                            edge_type = edge_type, edge_weight = edge_weight, mode = mode)\n",
    "        rhos /= len(sample[0])\n",
    "    return rhos\n",
    "\n",
    "def compute_predicted_thetas(Sr, Sc, rho):\n",
    "    prob_matrix = np.zeros((len(Sr), len(Sc)))\n",
    "\n",
    "    Sr_ = [0] + list(np.cumsum(Sr))\n",
    "    Sc_ = [0] + list(np.cumsum(Sc))\n",
    "    for i in range(len(Sr)):\n",
    "        for j in range(len(Sc)):\n",
    "            interaction_matrix = rho[Sr_[i]:Sr_[i+1], Sc_[j]:Sc_[j+1]]\n",
    "            # if i == j:\n",
    "            #     if len(interaction_matrix) == 1:\n",
    "            #         continue\n",
    "            #     prob_matrix[i,j] += np.sum(interaction_matrix)/(len(interaction_matrix)**2 - len(interaction_matrix))\n",
    "            # else:\n",
    "            # prob_matrix[i,j] += np.mean(interaction_matrix)\n",
    "            prob_matrix[i,j] += np.average(interaction_matrix, weights=(interaction_matrix>0))\n",
    "\n",
    "    return prob_matrix"
   ]
  },
  {
   "cell_type": "code",
   "execution_count": 3,
   "metadata": {},
   "outputs": [],
   "source": [
    "# theta = np.array([[0.75, 0.25, 0.25, 0.25],\n",
    "#                   [0.25, 0.75, 0.25, 0.25],\n",
    "#                   [0.25, 0.25, 0.75, 0.25],\n",
    "#                   [0.25, 0.25, 0.25, 0.75]])\n",
    "\n",
    "# Sr = [15, 15, 15, 15]\n",
    "# Sc = [15, 15, 15, 15]\n",
    "n_clust = 5\n",
    "theta = np.zeros((n_clust,n_clust)) + 0.25\n",
    "np.fill_diagonal(theta, 0.75)\n",
    "\n",
    "# Sr = [20]*n_clust\n",
    "# Sc = [20]*n_clust\n",
    "\n",
    "Sr = [20, 20, 20, 20, 20]\n",
    "Sc = [20, 20, 20, 20, 20]\n",
    "\n",
    "# Sr = [15, 15, 15, 15]\n",
    "# Sc = [15, 15, 15, 15]\n",
    "\n",
    "Hr = []\n",
    "c = 0\n",
    "for i in Sr:\n",
    "    for j in range(i):\n",
    "        Hr += [c]\n",
    "    c+=1\n",
    "\n",
    "Hc = []\n",
    "c = 0\n",
    "for i in Sc:\n",
    "    for j in range(i):\n",
    "        Hc += [c]\n",
    "    c+=1\n",
    "\n",
    "z0 = [np.array(Hr), np.array(Hc)]\n",
    "\n",
    "N = np.sum(Sr)\n",
    "true_rho = np.zeros((N,N))\n",
    "for i in range(N):\n",
    "    for j in range(N):\n",
    "        if i == j:\n",
    "            continue\n",
    "        true_rho[i,j] += theta[z0[0][i], z0[1][j]]\n",
    "\n",
    "X = generate_graph_bicluster(Sr, Sc, theta, random_seed=40) #CASE 1"
   ]
  },
  {
   "cell_type": "code",
   "execution_count": 94,
   "metadata": {},
   "outputs": [],
   "source": [
    "theta = np.array([[0.75, 0.25, 0.25, 0.75, 0.25],\n",
    "                  [0.25, 0.75, 0.25, 0.25, 0.75],\n",
    "                  [0.25, 0.25, 0.75, 0.25, 0.75],\n",
    "                  [0.75, 0.25, 0.25, 0.75, 0.75],\n",
    "                  [0.25, 0.75, 0.75, 0.75, 0.75]])\n",
    "\n",
    "Sr = [20, 15, 10, 10, 8]\n",
    "Sc = [20, 15, 10, 10, 8]\n",
    "# n_clust = 5\n",
    "# theta = np.zeros((n_clust,n_clust)) + 0.25\n",
    "# np.fill_diagonal(theta, 0.75)\n",
    "\n",
    "# Sr = [20]*n_clust\n",
    "# Sc = [20]*n_clust\n",
    "\n",
    "# Sr = [30, 30, 15, 15, 10]\n",
    "# Sc = [30, 30, 15, 15, 10]\n",
    "\n",
    "# Sr = [15, 15, 15, 15]\n",
    "# Sc = [15, 15, 15, 15]\n",
    "\n",
    "Hr = []\n",
    "c = 0\n",
    "for i in Sr:\n",
    "    for j in range(i):\n",
    "        Hr += [c]\n",
    "    c+=1\n",
    "\n",
    "Hc = []\n",
    "c = 0\n",
    "for i in Sc:\n",
    "    for j in range(i):\n",
    "        Hc += [c]\n",
    "    c+=1\n",
    "\n",
    "z0 = [np.array(Hr), np.array(Hc)]\n",
    "\n",
    "X = generate_graph_bicluster(Sr, Sc, theta, random_seed=40) #CASE 2"
   ]
  },
  {
   "cell_type": "code",
   "execution_count": 96,
   "metadata": {},
   "outputs": [],
   "source": [
    "theta = np.array([[0.75, 0.25, 0.75, 0.75, 0.25],\n",
    "                  [0.25, 0.75, 0.25, 0.25, 0.75],\n",
    "                  [0.75, 0.75, 0.25, 0.75, 0.75],\n",
    "                  [0.75, 0.25, 0.25, 0.25, 0.25],\n",
    "                  [0.75, 0.25, 0.25, 0.75, 0.75]])\n",
    "\n",
    "Sr = [15, 15, 15, 15, 15]\n",
    "Sc = [15, 15, 15, 15, 15]\n",
    "\n",
    "X = generate_graph_bicluster(Sr, Sc, theta, random_seed=40) #CASE 3"
   ]
  },
  {
   "cell_type": "code",
   "execution_count": 11,
   "metadata": {},
   "outputs": [],
   "source": [
    "theta = np.array([[0.75, 0.25, 0.1, 0.9, 0.75],\n",
    "                  [0.1, 0.75, 0.1, 0.1, 0.25],\n",
    "                  [0.1, 0.75, 0.25, 0.9, 0.25],\n",
    "                  [0.75, 0.9, 0.25, 0.25, 0.75]])\n",
    "\n",
    "Sr = [25, 25, 25, 25]\n",
    "Sc = [20, 20, 20, 20, 20]\n",
    "\n",
    "Hr = []\n",
    "c = 0\n",
    "for i in Sr:\n",
    "    for j in range(i):\n",
    "        Hr += [c]\n",
    "    c+=1\n",
    "\n",
    "Hc = []\n",
    "c = 0\n",
    "for i in Sc:\n",
    "    for j in range(i):\n",
    "        Hc += [c]\n",
    "    c+=1\n",
    "\n",
    "z0 = [np.array(Hr), np.array(Hc)]\n",
    "\n",
    "X = generate_graph_bicluster(Sr, Sc, theta, random_seed=40) #CASE 4"
   ]
  },
  {
   "cell_type": "code",
   "execution_count": 390,
   "metadata": {},
   "outputs": [],
   "source": [
    "theta = np.array([[0.75, 0.25, 0.25, 0.9, 0.75, 0.75],\n",
    "                  [0.25, 0.75, 0.25, 0.25, 0.25, 0.75],\n",
    "                  [0.75, 0.75, 0.25, 0.9, 0.25, 0.75],\n",
    "                  [0.75, 0.25, 0.25, 0.25, 0.75, 0.25]])\n",
    "\n",
    "Sr = [30, 20, 15, 10]\n",
    "Sc = [12, 13, 10, 13, 12, 15]\n",
    "\n",
    "Hr = []\n",
    "c = 0\n",
    "for i in Sr:\n",
    "    for j in range(i):\n",
    "        Hr += [c]\n",
    "    c+=1\n",
    "\n",
    "Hc = []\n",
    "c = 0\n",
    "for i in Sc:\n",
    "    for j in range(i):\n",
    "        Hc += [c]\n",
    "    c+=1\n",
    "\n",
    "z0 = [np.array(Hr), np.array(Hc)]\n",
    "\n",
    "X = generate_graph_bicluster(Sr, Sc, theta, random_seed=40) #CASE 5"
   ]
  },
  {
   "cell_type": "code",
   "execution_count": 391,
   "metadata": {},
   "outputs": [
    {
     "data": {
      "image/png": "[encoded data removed]",
      "text/plain": [
       "<Figure size 432x432 with 1 Axes>"
      ]
     },
     "metadata": {},
     "output_type": "display_data"
    }
   ],
   "source": [
    "fig, ax = plt.subplots(figsize = (6,6))\n",
    "ax = sns.heatmap(X, linewidth=0.0, ax = ax, cbar=False, cmap= 'rocket_r', xticklabels=[], yticklabels=[])\n",
    "plt.show()"
   ]
  },
  {
   "cell_type": "code",
   "execution_count": 392,
   "metadata": {},
   "outputs": [],
   "source": [
    "X_gt_theta = np.zeros((len(X), len(X)))\n",
    "for i in range(len(X)):\n",
    "    for j in range(len(X)):\n",
    "        if i == j:\n",
    "            continue\n",
    "        X_gt_theta[i,j] = theta[z0[0][i], z0[1][j]]"
   ]
  },
  {
   "cell_type": "code",
   "execution_count": 393,
   "metadata": {},
   "outputs": [
    {
     "data": {
      "image/png": "[encoded data removed]",
      "text/plain": [
       "<Figure size 432x432 with 1 Axes>"
      ]
     },
     "metadata": {},
     "output_type": "display_data"
    }
   ],
   "source": [
    "def train_val_split(data, valid_dim=0.2, random_seed = 42):\n",
    "        '''\n",
    "        Creating two additional objects, i.e. training and validation set, which can be used in the fitting process\n",
    "\n",
    "        Parameters:\n",
    "        data = np.array\n",
    "        valid_dim = float\n",
    "        '''\n",
    "        if valid_dim >= 1:\n",
    "          raise ValueError(\"valid_dim must be lower than 1\")\n",
    "\n",
    "        train = data.copy()\n",
    "        valid = np.zeros(data.shape)\n",
    "\n",
    "        np.random.seed(random_seed)\n",
    "\n",
    "        for u in np.unique(data.nonzero()[0]):\n",
    "            ind = data[u].nonzero()[0] \n",
    "\n",
    "            if len(ind) > 0: \n",
    "                valid_ind = np.random.choice(ind, round(len(ind)*valid_dim), replace=False)\n",
    "                for i in valid_ind:\n",
    "                    valid[u,i], train[u,i] = data[u,i], 0\n",
    "        return train, valid\n",
    "\n",
    "train, test = train_val_split(X, valid_dim = 0.2, random_seed= 30)\n",
    "# model = esbmr()\n",
    "# model.fit(train, 100)\n",
    "# y_pred = model.predict(test)\n",
    "fig, ax = plt.subplots(figsize = (6,6))\n",
    "ax = sns.heatmap(train, linewidth=0.0, ax = ax, cbar=False, cmap= 'rocket_r', xticklabels=[], yticklabels=[])\n",
    "plt.show()"
   ]
  },
  {
   "cell_type": "code",
   "execution_count": 243,
   "metadata": {},
   "outputs": [
    {
     "data": {
      "text/plain": [
       "2301.0"
      ]
     },
     "execution_count": 243,
     "metadata": {},
     "output_type": "execute_result"
    }
   ],
   "source": [
    "np.sum(train)"
   ]
  },
  {
   "cell_type": "code",
   "execution_count": 244,
   "metadata": {},
   "outputs": [
    {
     "data": {
      "text/plain": [
       "577.0"
      ]
     },
     "execution_count": 244,
     "metadata": {},
     "output_type": "execute_result"
    }
   ],
   "source": [
    "np.sum(test)"
   ]
  },
  {
   "cell_type": "code",
   "execution_count": 394,
   "metadata": {},
   "outputs": [],
   "source": [
    "import numpy.ma as ma"
   ]
  },
  {
   "cell_type": "code",
   "execution_count": 395,
   "metadata": {},
   "outputs": [
    {
     "data": {
      "text/plain": [
       "array([[False, False, False, ..., False, False, False],\n",
       "       [False, False,  True, ...,  True, False, False],\n",
       "       [False, False, False, ...,  True, False, False],\n",
       "       ...,\n",
       "       [False, False, False, ..., False,  True, False],\n",
       "       [False, False,  True, ..., False, False, False],\n",
       "       [False, False, False, ..., False, False, False]])"
      ]
     },
     "execution_count": 395,
     "metadata": {},
     "output_type": "execute_result"
    }
   ],
   "source": [
    "test.astype(\"bool\")"
   ]
  },
  {
   "cell_type": "code",
   "execution_count": 325,
   "metadata": {},
   "outputs": [],
   "source": [
    "mask = np.invert(test.astype('bool'))"
   ]
  },
  {
   "cell_type": "code",
   "execution_count": 88,
   "metadata": {},
   "outputs": [],
   "source": [
    "mx_X = ma.masked_array(X, mask = mask)"
   ]
  },
  {
   "cell_type": "code",
   "execution_count": 309,
   "metadata": {},
   "outputs": [
    {
     "name": "stdout",
     "output_type": "stream",
     "text": [
      "mean number of clusters 9.6\n",
      "mean nodes per cluster 7.863636363636364\n",
      "None\n",
      "mean number of clusters 9.7\n",
      "mean nodes per cluster 7.768181818181815\n",
      "None\n",
      "Counter({1: 13, 3: 13, 0: 12, 4: 10, 6: 9, 2: 5, 7: 5, 5: 5, 8: 2, 9: 1})\n"
     ]
    }
   ],
   "source": [
    "config = {'directed': True,\n",
    "          'binary': True,\n",
    "          'unicluster': True}\n",
    "DP = SBM(config, alpha_PY_r=6, start_z=\"singleton\", set_seed=42)\n",
    "DP.fit(X,100)\n",
    "print(cluster_summs(DP.Z[90:]))\n",
    "Counter(np.argwhere(DP.Z[-1])[:,1])\n",
    "\n",
    "# DP.fit(X, 10000)\n",
    "# with open(\"results/Case1_DP_Z_unipartite.pickle\", \"wb\") as f:\n",
    "#     pkl.dump(DP.Z, f)\n",
    "\n",
    "print(cluster_summs(DP.Z[len(DP.Z)//2:]))\n",
    "print(Counter(np.argwhere(DP.Z[-1])[:,1]))"
   ]
  },
  {
   "cell_type": "code",
   "execution_count": 310,
   "metadata": {},
   "outputs": [
    {
     "name": "stdout",
     "output_type": "stream",
     "text": [
      "VI_rel_true:  0.559738474460999\n",
      "VI_rel_ball:  0.11367240765126851\n",
      "Kr\n",
      "0.25:  9.0\n",
      "0.50:  10.0\n",
      "0.75:  10.0\n",
      "Kc\n",
      "0.25:  9.0\n",
      "0.50:  10.0\n",
      "0.75:  10.0\n"
     ]
    },
    {
     "data": {
      "text/plain": [
       "0.035440392272476265"
      ]
     },
     "execution_count": 310,
     "metadata": {},
     "output_type": "execute_result"
    }
   ],
   "source": [
    "DP.evalZ(z0)\n",
    "DP.compute_block_probabilities()\n",
    "DP.predict()\n",
    "np.sum(np.abs(X_gt_theta - DP.X_pred_theta))/(len(X)*(len(X)-1))"
   ]
  },
  {
   "cell_type": "code",
   "execution_count": 311,
   "metadata": {},
   "outputs": [
    {
     "data": {
      "text/plain": [
       "array([[0.        , 0.71428571, 0.71428571, ..., 0.71900826, 0.71900826,\n",
       "        0.71900826],\n",
       "       [0.71428571, 0.        , 0.71428571, ..., 0.71900826, 0.71900826,\n",
       "        0.71900826],\n",
       "       [0.71428571, 0.71428571, 0.        , ..., 0.71900826, 0.71900826,\n",
       "        0.71900826],\n",
       "       ...,\n",
       "       [0.76033058, 0.76033058, 0.76033058, ..., 0.        , 0.16483516,\n",
       "        0.16483516],\n",
       "       [0.76033058, 0.76033058, 0.76033058, ..., 0.16483516, 0.        ,\n",
       "        0.16483516],\n",
       "       [0.76033058, 0.76033058, 0.76033058, ..., 0.16483516, 0.16483516,\n",
       "        0.        ]])"
      ]
     },
     "execution_count": 311,
     "metadata": {},
     "output_type": "execute_result"
    }
   ],
   "source": [
    "DP.X_pred_theta"
   ]
  },
  {
   "cell_type": "code",
   "execution_count": 312,
   "metadata": {},
   "outputs": [
    {
     "data": {
      "text/plain": [
       "array([[0.71428571, 0.24203822, 0.26229508, 0.24590164, 0.91082803,\n",
       "        0.76033058, 0.73770492, 0.71900826, 0.8       ],\n",
       "       [0.75796178, 0.26751592, 0.37878788, 0.28787879, 0.92941176,\n",
       "        0.79389313, 0.60606061, 0.70992366, 0.7037037 ],\n",
       "       [0.7704918 , 0.28787879, 0.42857143, 0.38461538, 0.95454545,\n",
       "        0.62745098, 0.92307692, 0.70588235, 0.81818182],\n",
       "       [0.31147541, 0.72727273, 0.26923077, 0.23809524, 0.28787879,\n",
       "        0.17647059, 0.53846154, 0.54901961, 0.27272727],\n",
       "       [0.24840764, 0.77647059, 0.21212121, 0.25757576, 0.2611465 ,\n",
       "        0.29007634, 0.46969697, 0.53435115, 0.37037037],\n",
       "       [0.79338843, 0.7480916 , 0.17647059, 0.2745098 , 0.88549618,\n",
       "        0.20879121, 0.80392157, 0.75247525, 0.23809524],\n",
       "       [0.68852459, 0.71212121, 0.34615385, 0.15384615, 0.90909091,\n",
       "        0.25490196, 0.71428571, 0.74509804, 0.18181818],\n",
       "       [0.76033058, 0.23664122, 0.2745098 , 0.2745098 , 0.22137405,\n",
       "        0.77227723, 0.29411765, 0.16483516, 0.80952381],\n",
       "       [0.24      , 0.85185185, 0.54545455, 0.27272727, 0.37037037,\n",
       "        0.14285714, 0.63636364, 0.33333333, 1.        ]])"
      ]
     },
     "execution_count": 312,
     "metadata": {},
     "output_type": "execute_result"
    }
   ],
   "source": [
    "DP.estimated_theta"
   ]
  },
  {
   "cell_type": "code",
   "execution_count": 313,
   "metadata": {},
   "outputs": [
    {
     "data": {
      "text/plain": [
       "-3127.356811516076"
      ]
     },
     "execution_count": 313,
     "metadata": {},
     "output_type": "execute_result"
    }
   ],
   "source": [
    "DP.evalLogLikelihood_full()"
   ]
  },
  {
   "cell_type": "code",
   "execution_count": 314,
   "metadata": {},
   "outputs": [
    {
     "name": "stdout",
     "output_type": "stream",
     "text": [
      "-3226.188608315044\n",
      "-3154.45778734731\n",
      "-3131.8474658296627\n",
      "-3131.3965942294076\n",
      "-3134.538473256343\n",
      "-3127.6152007869114\n",
      "-3133.0182733928214\n",
      "-3127.6152007869114\n",
      "-3130.1330511287692\n",
      "-3127.6152007869114\n",
      "-3127.6152007869114\n",
      "-3127.6152007869114\n",
      "-3127.356811516076\n",
      "-3127.356811516076\n",
      "-3127.6152007869114\n",
      "-3127.356811516076\n",
      "-3127.356811516076\n",
      "-3127.356811516076\n",
      "-3127.6152007869114\n",
      "-3127.6152007869114\n",
      "-3127.356811516076\n",
      "-3127.356811516076\n",
      "-3127.356811516076\n",
      "-3127.356811516076\n",
      "-3127.6152007869114\n",
      "-3127.356811516076\n",
      "-3127.6152007869114\n",
      "-3127.6152007869114\n",
      "-3127.356811516076\n",
      "-3129.5867624982898\n",
      "-3130.1330511287692\n",
      "-3127.6152007869114\n",
      "-3127.6152007869114\n",
      "-3127.356811516076\n",
      "-3127.356811516076\n",
      "-3127.6152007869114\n",
      "-3127.6152007869114\n",
      "-3129.5867624982898\n",
      "-3134.5368751403425\n",
      "-3127.6152007869114\n",
      "-3127.6152007869114\n",
      "-3127.356811516076\n",
      "-3127.356811516076\n",
      "-3127.356811516076\n",
      "-3127.6152007869114\n",
      "-3127.356811516076\n",
      "-3127.6152007869114\n",
      "-3127.356811516076\n",
      "-3132.9725363896337\n",
      "-3127.6152007869114\n",
      "-3127.356811516076\n",
      "-3130.1330511287692\n",
      "-3127.356811516076\n",
      "-3129.5867624982898\n",
      "-3127.6152007869114\n",
      "-3142.4896451808727\n",
      "-3134.116475560856\n",
      "-3127.356811516076\n",
      "-3127.6152007869114\n",
      "-3127.356811516076\n",
      "-3127.6152007869114\n",
      "-3127.6152007869114\n",
      "-3132.9725363896337\n",
      "-3132.4644627660737\n",
      "-3134.4401094202117\n",
      "-3131.3965942294076\n",
      "-3127.356811516076\n",
      "-3127.6152007869114\n",
      "-3127.6152007869114\n",
      "-3127.356811516076\n",
      "-3127.6152007869114\n",
      "-3132.149610118311\n",
      "-3127.356811516076\n",
      "-3127.356811516076\n",
      "-3127.356811516076\n",
      "-3127.356811516076\n",
      "-3130.1330511287692\n",
      "-3127.615200786911\n",
      "-3130.1330511287692\n",
      "-3127.615200786911\n",
      "-3127.615200786911\n",
      "-3127.356811516076\n",
      "-3127.615200786911\n",
      "-3127.615200786911\n",
      "-3127.615200786911\n",
      "-3127.615200786911\n",
      "-3127.356811516076\n",
      "-3127.356811516076\n",
      "-3127.615200786911\n",
      "-3129.58676249829\n",
      "-3133.3894726228564\n",
      "-3127.615200786911\n",
      "-3127.356811516076\n",
      "-3127.615200786911\n",
      "-3129.58676249829\n",
      "-3127.615200786911\n",
      "-3127.615200786911\n",
      "-3127.615200786911\n",
      "-3127.615200786911\n",
      "-3127.356811516076\n"
     ]
    },
    {
     "name": "stderr",
     "output_type": "stream",
     "text": [
      "c:\\Users\\nakaz\\Desktop\\DSBA\\TESI\\BNP-Net\\src\\main_sbm.py:670: FutureWarning: elementwise comparison failed; returning scalar instead, but in the future will perform elementwise comparison\n",
      "  if zr == \"none\":\n"
     ]
    }
   ],
   "source": [
    "for i in DP.Z:\n",
    "    print(DP.evalLogLikelihood_full(i))"
   ]
  },
  {
   "cell_type": "code",
   "execution_count": 315,
   "metadata": {},
   "outputs": [
    {
     "data": {
      "text/plain": [
       "0.03318338656165674"
      ]
     },
     "execution_count": 315,
     "metadata": {},
     "output_type": "execute_result"
    }
   ],
   "source": [
    "mask_X_gt = ma.masked_array(X_gt_theta, mask=mask)\n",
    "mask_X_pred = ma.masked_array(DP.X_pred_theta, mask = mask)\n",
    "np.sum(np.abs((mask_X_gt - mask_X_pred)))/np.sum(test)"
   ]
  },
  {
   "cell_type": "code",
   "execution_count": 58,
   "metadata": {},
   "outputs": [],
   "source": [
    "DP.fit(X, 1)"
   ]
  },
  {
   "cell_type": "code",
   "execution_count": 70,
   "metadata": {},
   "outputs": [],
   "source": [
    "# print(cluster_summs(DP.Z[00:600]))\n",
    "# DP.expected_cl(DP.N, 0, 3.5, np.Infinity)\n",
    "# list_Z = cluster_summs(DP.Z, ret = True)\n",
    "# np.quantile([len(x) for x in list_Z], 0.75)\n",
    "# np.quantile([len(x) for x in list_Z], 0.5)"
   ]
  },
  {
   "cell_type": "code",
   "execution_count": 316,
   "metadata": {},
   "outputs": [
    {
     "name": "stdout",
     "output_type": "stream",
     "text": [
      "mean number of clusters 5.51\n",
      "mean nodes per cluster 14.016071428571431\n",
      "None\n",
      "mean number of clusters 8.33\n",
      "mean nodes per cluster 9.220048701298703\n",
      "None\n",
      "Counter({0: 30, 1: 18, 2: 15, 3: 8, 4: 3, 5: 1})\n",
      "Counter({3: 24, 0: 11, 4: 10, 1: 9, 5: 7, 2: 6, 6: 5, 7: 2, 8: 1})\n"
     ]
    }
   ],
   "source": [
    "config = {'directed': True,\n",
    "          'binary': True,\n",
    "          'unicluster': False}\n",
    "DP_bi = SBM(config, alpha_PY_r = 3, alpha_PY_c=3,\n",
    "            start_z = \"singleton\", set_seed=42)\n",
    "DP_bi.fit(train,200)\n",
    "\n",
    "# DP_bi.fit(X, 10000)\n",
    "# with open(\"results/Case4_DP_Z_bipartite_originalver.pickle\", \"wb\") as f:\n",
    "#     pkl.dump(DP_bi.Z, f)\n",
    "\n",
    "print(cluster_summs(DP_bi.Zr[len(DP_bi.Zr)//2:]))\n",
    "print(cluster_summs(DP_bi.Zc[len(DP_bi.Zc)//2:]))\n",
    "print(Counter(np.argwhere(DP_bi.Zr[-1])[:,1]))\n",
    "print(Counter(np.argwhere(DP_bi.Zc[-1])[:,1]))"
   ]
  },
  {
   "cell_type": "code",
   "execution_count": 342,
   "metadata": {},
   "outputs": [
    {
     "name": "stdout",
     "output_type": "stream",
     "text": [
      "VI_rel_true:  0.4950207736670048\n",
      "VI_rel_ball:  0.6559164776310331\n",
      "Kr\n",
      "0.25:  5.0\n",
      "0.50:  5.0\n",
      "0.75:  6.0\n",
      "Kc\n",
      "0.25:  7.0\n",
      "0.50:  8.0\n",
      "0.75:  9.0\n"
     ]
    },
    {
     "data": {
      "text/plain": [
       "0.11128836458498656"
      ]
     },
     "execution_count": 342,
     "metadata": {},
     "output_type": "execute_result"
    }
   ],
   "source": [
    "DP_bi.evalZ(z0)\n",
    "DP_bi.compute_block_probabilities()\n",
    "DP_bi.predict()\n",
    "np.sum(np.abs(X_gt_theta - DP_bi.X_pred_theta))/(len(X)*(len(X)-1))"
   ]
  },
  {
   "cell_type": "code",
   "execution_count": 343,
   "metadata": {},
   "outputs": [
    {
     "name": "stdout",
     "output_type": "stream",
     "text": [
      "VI_rel_true:  0.4950207736670048\n",
      "VI_rel_ball:  0.6559164776310331\n",
      "Kr\n",
      "0.25:  5.0\n",
      "0.50:  5.0\n",
      "0.75:  6.0\n",
      "Kc\n",
      "0.25:  7.0\n",
      "0.50:  8.0\n",
      "0.75:  9.0\n"
     ]
    },
    {
     "data": {
      "text/plain": [
       "0.11128836458498656"
      ]
     },
     "execution_count": 343,
     "metadata": {},
     "output_type": "execute_result"
    }
   ],
   "source": [
    "DP_bi.evalZ(z0)\n",
    "DP_bi.compute_block_probabilities()\n",
    "DP_bi.predict()\n",
    "np.sum(np.abs(X_gt_theta - DP_bi.X_pred_theta))/(len(X)*(len(X)-1))"
   ]
  },
  {
   "cell_type": "code",
   "execution_count": 172,
   "metadata": {},
   "outputs": [
    {
     "data": {
      "text/plain": [
       "array([[0.11737089, 0.42545455, 0.32713755, 0.13811189, 0.19318182,\n",
       "        0.43323727, 0.46666667],\n",
       "       [0.12737921, 0.12068966, 0.3668942 , 0.31451613, 0.40425532,\n",
       "        0.45867393, 0.1875    ],\n",
       "       [0.12371134, 0.34931507, 0.35144312, 0.45322581, 0.2173913 ,\n",
       "        0.13623978, 0.09677419],\n",
       "       [0.13687601, 0.12522686, 0.0923913 , 0.38811189, 0.32183908,\n",
       "        0.16842105, 0.26666667]])"
      ]
     },
     "execution_count": 172,
     "metadata": {},
     "output_type": "execute_result"
    }
   ],
   "source": [
    "DP_bi.estimated_theta"
   ]
  },
  {
   "cell_type": "code",
   "execution_count": 173,
   "metadata": {},
   "outputs": [
    {
     "data": {
      "text/plain": [
       "0.18176133218810978"
      ]
     },
     "execution_count": 173,
     "metadata": {},
     "output_type": "execute_result"
    }
   ],
   "source": [
    "mask_X_gt = ma.masked_array(X_gt_theta, mask=mask)\n",
    "mask_X_pred = ma.masked_array(DP_bi.X_pred_theta, mask = mask)\n",
    "np.sum(np.abs((mask_X_gt - mask_X_pred)))/np.sum(test)"
   ]
  },
  {
   "cell_type": "code",
   "execution_count": 110,
   "metadata": {},
   "outputs": [
    {
     "data": {
      "text/plain": [
       "Counter({5: 19, 1: 21, 2: 20, 0: 20, 4: 23, 3: 17})"
      ]
     },
     "execution_count": 110,
     "metadata": {},
     "output_type": "execute_result"
    }
   ],
   "source": [
    "Counter(DP_bi.cc_hat)"
   ]
  },
  {
   "cell_type": "code",
   "execution_count": 72,
   "metadata": {},
   "outputs": [],
   "source": [
    "DP_bi.fit(X,1)"
   ]
  },
  {
   "cell_type": "code",
   "execution_count": 396,
   "metadata": {},
   "outputs": [
    {
     "name": "stdout",
     "output_type": "stream",
     "text": [
      "mean number of clusters 9.0\n",
      "mean nodes per cluster 8.333333333333329\n",
      "None\n",
      "Counter({1: 13, 4: 13, 0: 12, 6: 10, 8: 10, 2: 5, 3: 5, 7: 5, 5: 2})\n"
     ]
    }
   ],
   "source": [
    "config = {'directed': True,\n",
    "          'binary': True,\n",
    "          'unicluster': True}\n",
    "PY = SBM(config, prior_r = \"PY\", alpha_PY_r=0.6,sigma_PY_r=-0.3, \n",
    "           start_z = \"singleton\", set_seed=42)\n",
    "PY.fit(X,100)\n",
    "\n",
    "# PY.fit(X, 10000)\n",
    "# with open(\"results/Case4_PY_Z_unipartite.pickle\", \"wb\") as f:\n",
    "#     pkl.dump(PY.Z, f)\n",
    "\n",
    "print(cluster_summs(PY.Z[len(PY.Z)//2:]))\n",
    "print(Counter(np.argwhere(PY.Z[-1])[:,1]))"
   ]
  },
  {
   "cell_type": "code",
   "execution_count": 397,
   "metadata": {},
   "outputs": [
    {
     "name": "stdout",
     "output_type": "stream",
     "text": [
      "VI_rel_true:  0.5299736145971649\n",
      "VI_rel_ball:  0.0\n",
      "Kr\n",
      "0.25:  9.0\n",
      "0.50:  9.0\n",
      "0.75:  9.0\n",
      "Kc\n",
      "0.25:  9.0\n",
      "0.50:  9.0\n",
      "0.75:  9.0\n",
      "-3083.088752723324\n"
     ]
    },
    {
     "data": {
      "text/plain": [
       "0.03552972487191214"
      ]
     },
     "execution_count": 397,
     "metadata": {},
     "output_type": "execute_result"
    }
   ],
   "source": [
    "PY.evalZ(z0)\n",
    "PY.compute_block_probabilities()\n",
    "PY.predict()\n",
    "print(PY.evalLogLikelihood_full())\n",
    "np.sum(np.abs(X_gt_theta - PY.X_pred_theta))/(len(X)*(len(X)-1))"
   ]
  },
  {
   "cell_type": "code",
   "execution_count": 399,
   "metadata": {},
   "outputs": [
    {
     "data": {
      "text/plain": [
       "-3083.088752723324"
      ]
     },
     "execution_count": 399,
     "metadata": {},
     "output_type": "execute_result"
    }
   ],
   "source": [
    "PY.evalLogLikelihood_full()"
   ]
  },
  {
   "cell_type": "code",
   "execution_count": 353,
   "metadata": {},
   "outputs": [
    {
     "data": {
      "text/plain": [
       "0.13510562761473216"
      ]
     },
     "execution_count": 353,
     "metadata": {},
     "output_type": "execute_result"
    }
   ],
   "source": [
    "mask_X_gt = ma.masked_array(X_gt_theta, mask=mask)\n",
    "mask_X_pred = ma.masked_array(PY.X_pred_theta, mask = mask)\n",
    "np.sum(np.abs((mask_X_gt - mask_X_pred)))/np.sum(test)"
   ]
  },
  {
   "cell_type": "code",
   "execution_count": 74,
   "metadata": {},
   "outputs": [],
   "source": [
    "PY.fit(X,1)"
   ]
  },
  {
   "cell_type": "code",
   "execution_count": 400,
   "metadata": {},
   "outputs": [
    {
     "name": "stdout",
     "output_type": "stream",
     "text": [
      "mean number of clusters 4.22\n",
      "mean nodes per cluster 17.9375\n",
      "None\n",
      "mean number of clusters 6.22\n",
      "mean nodes per cluster 12.111607142857142\n",
      "None\n",
      "Counter({0: 30, 1: 19, 2: 15, 3: 10, 4: 1})\n",
      "Counter({3: 15, 1: 13, 4: 13, 0: 12, 5: 11, 2: 10, 6: 1})\n"
     ]
    }
   ],
   "source": [
    "config = {'directed': True,\n",
    "          'binary': True,\n",
    "          'unicluster': False}\n",
    "PY_bi = SBM(config, start_z = \"singleton\", set_seed=42,\n",
    "         prior_r = \"PY\", alpha_PY_r=0.6,sigma_PY_r=-0.3,\n",
    "         prior_c = \"PY\", alpha_PY_c=0.6,sigma_PY_c=-0.3)\n",
    "\n",
    "PY_bi.fit(X,200)\n",
    "\n",
    "# PY_bi.fit(X, 10000)\n",
    "# with open(\"results/Case4_PY_Z_bipartite.pickle\", \"wb\") as f:\n",
    "#     pkl.dump(PY_bi.Z, f)\n",
    "\n",
    "print(cluster_summs(PY_bi.Zr[len(PY_bi.Zr)//2:]))\n",
    "print(cluster_summs(PY_bi.Zc[len(PY_bi.Zc)//2:]))\n",
    "print(Counter(np.argwhere(PY_bi.Zr[-1])[:,1]))\n",
    "print(Counter(np.argwhere(PY_bi.Zc[-1])[:,1]))"
   ]
  },
  {
   "cell_type": "code",
   "execution_count": 401,
   "metadata": {},
   "outputs": [
    {
     "name": "stdout",
     "output_type": "stream",
     "text": [
      "VI_rel_true:  0.02650393486306702\n",
      "VI_rel_ball:  0.09285704238423609\n",
      "Kr\n",
      "0.25:  4.0\n",
      "0.50:  4.0\n",
      "0.75:  4.0\n",
      "Kc\n",
      "0.25:  6.0\n",
      "0.50:  6.0\n",
      "0.75:  6.0\n",
      "-3026.6732189613836\n"
     ]
    },
    {
     "data": {
      "text/plain": [
       "0.018791580272626954"
      ]
     },
     "execution_count": 401,
     "metadata": {},
     "output_type": "execute_result"
    }
   ],
   "source": [
    "PY_bi.evalZ(z0)\n",
    "PY_bi.compute_block_probabilities()\n",
    "PY_bi.predict()\n",
    "print(PY_bi.evalLogLikelihood_full())\n",
    "np.sum(np.abs(X_gt_theta - PY_bi.X_pred_theta))/(len(X)*(len(X)-1))"
   ]
  },
  {
   "cell_type": "code",
   "execution_count": 402,
   "metadata": {},
   "outputs": [
    {
     "data": {
      "text/plain": [
       "-3026.6732189613836"
      ]
     },
     "execution_count": 402,
     "metadata": {},
     "output_type": "execute_result"
    }
   ],
   "source": [
    "PY_bi.evalLogLikelihood_full()"
   ]
  },
  {
   "cell_type": "code",
   "execution_count": 364,
   "metadata": {},
   "outputs": [
    {
     "data": {
      "text/plain": [
       "Counter({0: 12, 1: 13, 2: 10, 4: 13, 5: 12, 3: 15})"
      ]
     },
     "execution_count": 364,
     "metadata": {},
     "output_type": "execute_result"
    }
   ],
   "source": [
    "Counter(PY_bi.cc_hat)"
   ]
  },
  {
   "cell_type": "code",
   "execution_count": 365,
   "metadata": {},
   "outputs": [
    {
     "data": {
      "text/plain": [
       "array([0, 0, 0, 0, 0, 0, 0, 0, 0, 0, 0, 0, 0, 0, 0, 0, 0, 0, 0, 0, 0, 0,\n",
       "       0, 0, 0, 0, 0, 0, 0, 0, 1, 1, 1, 1, 1, 1, 1, 1, 1, 1, 1, 1, 1, 1,\n",
       "       1, 1, 1, 1, 1, 1, 2, 2, 2, 2, 2, 2, 2, 2, 2, 2, 2, 2, 2, 2, 2, 3,\n",
       "       3, 3, 3, 3, 3, 3, 3, 3, 3], dtype=int64)"
      ]
     },
     "execution_count": 365,
     "metadata": {},
     "output_type": "execute_result"
    }
   ],
   "source": [
    "PY_bi.cr_hat"
   ]
  },
  {
   "cell_type": "code",
   "execution_count": 366,
   "metadata": {},
   "outputs": [
    {
     "data": {
      "text/plain": [
       "0.0177907382348028"
      ]
     },
     "execution_count": 366,
     "metadata": {},
     "output_type": "execute_result"
    }
   ],
   "source": [
    "mask_X_gt = ma.masked_array(X_gt_theta, mask=mask)\n",
    "mask_X_pred = ma.masked_array(PY_bi.X_pred_theta, mask = mask)\n",
    "np.sum(np.abs((mask_X_gt - mask_X_pred)))/np.sum(test)"
   ]
  },
  {
   "cell_type": "code",
   "execution_count": 267,
   "metadata": {},
   "outputs": [],
   "source": [
    "PY_bi.fit(X,1)"
   ]
  },
  {
   "cell_type": "code",
   "execution_count": 268,
   "metadata": {},
   "outputs": [
    {
     "ename": "KeyboardInterrupt",
     "evalue": "",
     "output_type": "error",
     "traceback": [
      "\u001b[1;31m---------------------------------------------------------------------------\u001b[0m",
      "\u001b[1;31mKeyboardInterrupt\u001b[0m                         Traceback (most recent call last)",
      "\u001b[1;32mc:\\Users\\nakaz\\Desktop\\DSBA\\TESI\\BNP-Net\\src\\Simulations_sbm_2.ipynb Cell 43\u001b[0m in \u001b[0;36m<cell line: 6>\u001b[1;34m()\u001b[0m\n\u001b[0;32m      <a href='vscode-notebook-cell:/c%3A/Users/nakaz/Desktop/DSBA/TESI/BNP-Net/src/Simulations_sbm_2.ipynb#X22sZmlsZQ%3D%3D?line=0'>1</a>\u001b[0m config \u001b[39m=\u001b[39m {\u001b[39m'\u001b[39m\u001b[39mdirected\u001b[39m\u001b[39m'\u001b[39m: \u001b[39mTrue\u001b[39;00m,\n\u001b[0;32m      <a href='vscode-notebook-cell:/c%3A/Users/nakaz/Desktop/DSBA/TESI/BNP-Net/src/Simulations_sbm_2.ipynb#X22sZmlsZQ%3D%3D?line=1'>2</a>\u001b[0m           \u001b[39m'\u001b[39m\u001b[39mbinary\u001b[39m\u001b[39m'\u001b[39m: \u001b[39mTrue\u001b[39;00m,\n\u001b[0;32m      <a href='vscode-notebook-cell:/c%3A/Users/nakaz/Desktop/DSBA/TESI/BNP-Net/src/Simulations_sbm_2.ipynb#X22sZmlsZQ%3D%3D?line=2'>3</a>\u001b[0m           \u001b[39m'\u001b[39m\u001b[39municluster\u001b[39m\u001b[39m'\u001b[39m: \u001b[39mTrue\u001b[39;00m}\n\u001b[0;32m      <a href='vscode-notebook-cell:/c%3A/Users/nakaz/Desktop/DSBA/TESI/BNP-Net/src/Simulations_sbm_2.ipynb#X22sZmlsZQ%3D%3D?line=3'>4</a>\u001b[0m DM \u001b[39m=\u001b[39m SBM(config, prior_r \u001b[39m=\u001b[39m \u001b[39m\"\u001b[39m\u001b[39mDM\u001b[39m\u001b[39m\"\u001b[39m,beta_DM_r\u001b[39m=\u001b[39m\u001b[39m3.5\u001b[39m\u001b[39m/\u001b[39m\u001b[39m50\u001b[39m,K_DM_r\u001b[39m=\u001b[39m\u001b[39m50\u001b[39m,\n\u001b[0;32m      <a href='vscode-notebook-cell:/c%3A/Users/nakaz/Desktop/DSBA/TESI/BNP-Net/src/Simulations_sbm_2.ipynb#X22sZmlsZQ%3D%3D?line=4'>5</a>\u001b[0m             start_z \u001b[39m=\u001b[39m \u001b[39m\"\u001b[39m\u001b[39msingleton\u001b[39m\u001b[39m\"\u001b[39m, set_seed\u001b[39m=\u001b[39m\u001b[39m42\u001b[39m)\n\u001b[1;32m----> <a href='vscode-notebook-cell:/c%3A/Users/nakaz/Desktop/DSBA/TESI/BNP-Net/src/Simulations_sbm_2.ipynb#X22sZmlsZQ%3D%3D?line=5'>6</a>\u001b[0m DM\u001b[39m.\u001b[39;49mfit(train,\u001b[39m100\u001b[39;49m)\n\u001b[0;32m      <a href='vscode-notebook-cell:/c%3A/Users/nakaz/Desktop/DSBA/TESI/BNP-Net/src/Simulations_sbm_2.ipynb#X22sZmlsZQ%3D%3D?line=7'>8</a>\u001b[0m \u001b[39m# DM.fit(X, 10000)\u001b[39;00m\n\u001b[0;32m      <a href='vscode-notebook-cell:/c%3A/Users/nakaz/Desktop/DSBA/TESI/BNP-Net/src/Simulations_sbm_2.ipynb#X22sZmlsZQ%3D%3D?line=8'>9</a>\u001b[0m \u001b[39m# with open(\"results/Case4_DM_Z_unipartite.pickle\", \"wb\") as f:\u001b[39;00m\n\u001b[0;32m     <a href='vscode-notebook-cell:/c%3A/Users/nakaz/Desktop/DSBA/TESI/BNP-Net/src/Simulations_sbm_2.ipynb#X22sZmlsZQ%3D%3D?line=9'>10</a>\u001b[0m \u001b[39m#     pkl.dump(DM.Z, f)\u001b[39;00m\n\u001b[0;32m     <a href='vscode-notebook-cell:/c%3A/Users/nakaz/Desktop/DSBA/TESI/BNP-Net/src/Simulations_sbm_2.ipynb#X22sZmlsZQ%3D%3D?line=11'>12</a>\u001b[0m \u001b[39mprint\u001b[39m(cluster_summs(DM\u001b[39m.\u001b[39mZ[\u001b[39mlen\u001b[39m(DM\u001b[39m.\u001b[39mZ)\u001b[39m/\u001b[39m\u001b[39m/\u001b[39m\u001b[39m2\u001b[39m:]))\n",
      "File \u001b[1;32mc:\\Users\\nakaz\\Desktop\\DSBA\\TESI\\BNP-Net\\src\\main_sbm.py:94\u001b[0m, in \u001b[0;36mSBM.fit\u001b[1;34m(self, X, T)\u001b[0m\n\u001b[0;32m     91\u001b[0m np\u001b[39m.\u001b[39mfill_diagonal(\u001b[39mself\u001b[39m\u001b[39m.\u001b[39mX_full, \u001b[39m0\u001b[39m)\n\u001b[0;32m     93\u001b[0m \u001b[39mif\u001b[39;00m \u001b[39mself\u001b[39m\u001b[39m.\u001b[39municluster:\n\u001b[1;32m---> 94\u001b[0m     \u001b[39mself\u001b[39;49m\u001b[39m.\u001b[39;49mgibbs_unicluster()\n\u001b[0;32m     95\u001b[0m \u001b[39melse\u001b[39;00m:\n\u001b[0;32m     96\u001b[0m     \u001b[39mself\u001b[39m\u001b[39m.\u001b[39mgibbs_bicluster()\n",
      "File \u001b[1;32mc:\\Users\\nakaz\\Desktop\\DSBA\\TESI\\BNP-Net\\src\\main_sbm.py:126\u001b[0m, in \u001b[0;36mSBM.gibbs_unicluster\u001b[1;34m(self)\u001b[0m\n\u001b[0;32m    123\u001b[0m     \u001b[39mself\u001b[39m\u001b[39m.\u001b[39mz \u001b[39m=\u001b[39m np\u001b[39m.\u001b[39mdelete(\u001b[39mself\u001b[39m\u001b[39m.\u001b[39mz, idx, axis\u001b[39m=\u001b[39m\u001b[39m1\u001b[39m)\n\u001b[0;32m    124\u001b[0m     K \u001b[39m-\u001b[39m\u001b[39m=\u001b[39m \u001b[39mlen\u001b[39m(idx)\n\u001b[1;32m--> 126\u001b[0m logLikelihood \u001b[39m=\u001b[39m \u001b[39mself\u001b[39;49m\u001b[39m.\u001b[39;49mevalLikelihood(nn, n, K)\n\u001b[0;32m    128\u001b[0m logPrior \u001b[39m=\u001b[39m np\u001b[39m.\u001b[39mlog(\u001b[39mself\u001b[39m\u001b[39m.\u001b[39mevalPrior(nn, \u001b[39mself\u001b[39m\u001b[39m.\u001b[39municluster))\n\u001b[0;32m    130\u001b[0m logPosterior \u001b[39m=\u001b[39m logPrior \u001b[39m+\u001b[39m logLikelihood\n",
      "File \u001b[1;32mc:\\Users\\nakaz\\Desktop\\DSBA\\TESI\\BNP-Net\\src\\main_sbm.py:293\u001b[0m, in \u001b[0;36mSBM.evalLikelihood\u001b[1;34m(self, nn, n, K)\u001b[0m\n\u001b[0;32m    287\u001b[0m     P_n \u001b[39m=\u001b[39m np\u001b[39m.\u001b[39mconcatenate([PLM,PLM_2],axis\u001b[39m=\u001b[39m\u001b[39m1\u001b[39m) \u001b[39m#Potential links for current node n\u001b[39;00m\n\u001b[0;32m    289\u001b[0m     logLikelihood_old \u001b[39m=\u001b[39m np\u001b[39m.\u001b[39msum(betaln(LM \u001b[39m+\u001b[39m LM_n \u001b[39m+\u001b[39m \u001b[39mself\u001b[39m\u001b[39m.\u001b[39ma, NLM \u001b[39m+\u001b[39m P_n \u001b[39m-\u001b[39m LM_n \u001b[39m+\u001b[39m \u001b[39mself\u001b[39m\u001b[39m.\u001b[39mb) \\\n\u001b[0;32m    290\u001b[0m                          \u001b[39m-\u001b[39m betaln(LM \u001b[39m+\u001b[39m \u001b[39mself\u001b[39m\u001b[39m.\u001b[39ma, NLM \u001b[39m+\u001b[39m \u001b[39mself\u001b[39m\u001b[39m.\u001b[39mb)\n\u001b[0;32m    291\u001b[0m                            , \u001b[39m1\u001b[39m) \u001b[39m#log prob of assigning to existing clusters\u001b[39;00m\n\u001b[1;32m--> 293\u001b[0m     logLikelihood_new \u001b[39m=\u001b[39m np\u001b[39m.\u001b[39msum(betaln(np\u001b[39m.\u001b[39;49mhstack([r,s]) \u001b[39m+\u001b[39m \u001b[39mself\u001b[39m\u001b[39m.\u001b[39ma, np\u001b[39m.\u001b[39mhstack([m\u001b[39m-\u001b[39mr,m\u001b[39m-\u001b[39ms]) \u001b[39m+\u001b[39m \u001b[39mself\u001b[39m\u001b[39m.\u001b[39mb) \\\n\u001b[0;32m    294\u001b[0m                              \u001b[39m-\u001b[39m betaln(\u001b[39mself\u001b[39m\u001b[39m.\u001b[39ma, \u001b[39mself\u001b[39m\u001b[39m.\u001b[39mb)\n\u001b[0;32m    295\u001b[0m                                , \u001b[39m1\u001b[39m) \u001b[39m#log prob of assigning to new clusters\u001b[39;00m\n\u001b[0;32m    297\u001b[0m     logLikelihood \u001b[39m=\u001b[39m np\u001b[39m.\u001b[39mconcatenate([logLikelihood_old, logLikelihood_new])\n\u001b[0;32m    299\u001b[0m \u001b[39melse\u001b[39;00m: \u001b[39m#directed weighted\u001b[39;00m\n",
      "File \u001b[1;32m<__array_function__ internals>:180\u001b[0m, in \u001b[0;36mhstack\u001b[1;34m(*args, **kwargs)\u001b[0m\n",
      "File \u001b[1;32mc:\\Users\\nakaz\\Desktop\\DSBA\\TESI\\BNP-Net\\bnpenv\\lib\\site-packages\\numpy\\core\\shape_base.py:343\u001b[0m, in \u001b[0;36mhstack\u001b[1;34m(tup)\u001b[0m\n\u001b[0;32m    341\u001b[0m \u001b[39m# As a special case, dimension 0 of 1-dimensional arrays is \"horizontal\"\u001b[39;00m\n\u001b[0;32m    342\u001b[0m \u001b[39mif\u001b[39;00m arrs \u001b[39mand\u001b[39;00m arrs[\u001b[39m0\u001b[39m]\u001b[39m.\u001b[39mndim \u001b[39m==\u001b[39m \u001b[39m1\u001b[39m:\n\u001b[1;32m--> 343\u001b[0m     \u001b[39mreturn\u001b[39;00m _nx\u001b[39m.\u001b[39;49mconcatenate(arrs, \u001b[39m0\u001b[39;49m)\n\u001b[0;32m    344\u001b[0m \u001b[39melse\u001b[39;00m:\n\u001b[0;32m    345\u001b[0m     \u001b[39mreturn\u001b[39;00m _nx\u001b[39m.\u001b[39mconcatenate(arrs, \u001b[39m1\u001b[39m)\n",
      "File \u001b[1;32m<__array_function__ internals>:180\u001b[0m, in \u001b[0;36mconcatenate\u001b[1;34m(*args, **kwargs)\u001b[0m\n",
      "\u001b[1;31mKeyboardInterrupt\u001b[0m: "
     ]
    }
   ],
   "source": [
    "config = {'directed': True,\n",
    "          'binary': True,\n",
    "          'unicluster': True}\n",
    "DM = SBM(config, prior_r = \"DM\",beta_DM_r=3.5/50,K_DM_r=50,\n",
    "            start_z = \"singleton\", set_seed=42)\n",
    "DM.fit(train,100)\n",
    "\n",
    "# DM.fit(X, 10000)\n",
    "# with open(\"results/Case4_DM_Z_unipartite.pickle\", \"wb\") as f:\n",
    "#     pkl.dump(DM.Z, f)\n",
    "\n",
    "print(cluster_summs(DM.Z[len(DM.Z)//2:]))\n",
    "print(Counter(np.argwhere(DM.Z[-1])[:,1]))"
   ]
  },
  {
   "cell_type": "code",
   "execution_count": 78,
   "metadata": {},
   "outputs": [],
   "source": [
    "DM.fit(X,1)"
   ]
  },
  {
   "cell_type": "code",
   "execution_count": 79,
   "metadata": {},
   "outputs": [
    {
     "name": "stdout",
     "output_type": "stream",
     "text": [
      "mean number of clusters 5.1592\n",
      "mean nodes per cluster 19.882555555555765\n",
      "None\n",
      "mean number of clusters 5.9866\n",
      "mean nodes per cluster 17.104905483405616\n",
      "None\n",
      "Counter({3: 25, 2: 25, 0: 25, 1: 23, 4: 2})\n",
      "Counter({0: 32, 3: 20, 1: 20, 2: 20, 4: 8})\n"
     ]
    }
   ],
   "source": [
    "config = {'directed': True,\n",
    "          'binary': True,\n",
    "          'unicluster': False}\n",
    "DM_bi = SBM(config, start_z = \"singleton\", set_seed=42,\n",
    "         prior_r = \"DM\", beta_DM_r=3.5/50, K_DM_r=50,\n",
    "         prior_c = \"DM\", beta_DM_c=3.5/50, K_DM_c=50)\n",
    "DM_bi.fit(X,500)\n",
    "\n",
    "# DM_bi.fit(X, 10000)\n",
    "# with open(\"results/Case4_DM_Z_bipartite.pickle\", \"wb\") as f:\n",
    "#     pkl.dump(DM_bi.Z, f)\n",
    "\n",
    "print(cluster_summs(DM_bi.Zr[len(DM_bi.Zr)//2:]))\n",
    "print(cluster_summs(DM_bi.Zc[len(DM_bi.Zc)//2:]))\n",
    "print(Counter(np.argwhere(DM_bi.Zr[-1])[:,1]))\n",
    "print(Counter(np.argwhere(DM_bi.Zc[-1])[:,1]))"
   ]
  },
  {
   "cell_type": "code",
   "execution_count": 80,
   "metadata": {},
   "outputs": [],
   "source": [
    "DM_bi.fit(X,1)"
   ]
  },
  {
   "cell_type": "code",
   "execution_count": 375,
   "metadata": {},
   "outputs": [
    {
     "name": "stdout",
     "output_type": "stream",
     "text": [
      "mean number of clusters 8.96\n",
      "mean nodes per cluster 8.375000000000002\n",
      "None\n",
      "Counter({1: 13, 4: 13, 0: 12, 5: 10, 7: 10, 2: 5, 3: 5, 6: 5, 8: 2})\n"
     ]
    }
   ],
   "source": [
    "config = {'directed': True,\n",
    "          'binary': True,\n",
    "          'unicluster': True}\n",
    "GN = SBM(config, prior_r = \"GN\", gamma_GN_r=0.45,\n",
    "            start_z = \"singleton\", set_seed=42)\n",
    "GN.fit(train,50)\n",
    "\n",
    "# GN.fit(X, 10000)\n",
    "# with open(\"results/Case4_GN_Z_unipartite.pickle\", \"wb\") as f:\n",
    "#     pkl.dump(GN.Z, f)\n",
    "\n",
    "print(cluster_summs(GN.Z[len(GN.Z)//2:]))\n",
    "print(Counter(np.argwhere(GN.Z[-1])[:,1]))"
   ]
  },
  {
   "cell_type": "code",
   "execution_count": 376,
   "metadata": {},
   "outputs": [
    {
     "name": "stdout",
     "output_type": "stream",
     "text": [
      "VI_rel_true:  0.5331139506792342\n",
      "VI_rel_ball:  0.0720897934186091\n",
      "Kr\n",
      "0.25:  9.0\n",
      "0.50:  9.0\n",
      "0.75:  9.0\n",
      "Kc\n",
      "0.25:  9.0\n",
      "0.50:  9.0\n",
      "0.75:  9.0\n"
     ]
    },
    {
     "data": {
      "text/plain": [
       "0.10937270807809053"
      ]
     },
     "execution_count": 376,
     "metadata": {},
     "output_type": "execute_result"
    }
   ],
   "source": [
    "GN.evalZ(z0)\n",
    "GN.compute_block_probabilities()\n",
    "GN.predict()\n",
    "np.sum(np.abs(X_gt_theta - GN.X_pred_theta))/(len(X)*(len(X)-1))"
   ]
  },
  {
   "cell_type": "code",
   "execution_count": 377,
   "metadata": {},
   "outputs": [
    {
     "data": {
      "text/plain": [
       "25"
      ]
     },
     "execution_count": 377,
     "metadata": {},
     "output_type": "execute_result"
    }
   ],
   "source": [
    "len(GN.Z_sample)"
   ]
  },
  {
   "cell_type": "code",
   "execution_count": 378,
   "metadata": {},
   "outputs": [],
   "source": [
    "def compute_psm(Z_samples):\n",
    "    N = len(X)\n",
    "    Z = Z_samples\n",
    "    zs = [np.where(x==1)[1][:, np.newaxis] for x in Z]\n",
    "    T = len(zs)\n",
    "    cocluster = np.zeros((N,N), dtype = int)\n",
    "    for i in range(T):\n",
    "        cocluster += (zs[i] == zs[i].T)\n",
    "\n",
    "    psm = cocluster/T\n",
    "    return psm"
   ]
  },
  {
   "cell_type": "code",
   "execution_count": 379,
   "metadata": {},
   "outputs": [],
   "source": [
    "psm = compute_psm(GN.Z_sample)"
   ]
  },
  {
   "cell_type": "code",
   "execution_count": 380,
   "metadata": {},
   "outputs": [
    {
     "data": {
      "image/png": "[encoded data removed]",
      "text/plain": [
       "<Figure size 432x432 with 1 Axes>"
      ]
     },
     "metadata": {},
     "output_type": "display_data"
    }
   ],
   "source": [
    "psm = compute_psm(GN.Z_sample)\n",
    "fig, ax = plt.subplots(figsize = (6,6))\n",
    "ax = sns.heatmap(X, linewidth=0.0, ax = ax, cbar=False, cmap= 'rocket_r', xticklabels=[], yticklabels=[])\n",
    "plt.show()"
   ]
  },
  {
   "cell_type": "code",
   "execution_count": 381,
   "metadata": {},
   "outputs": [
    {
     "data": {
      "image/png": "[encoded data removed]",
      "text/plain": [
       "<Figure size 432x432 with 1 Axes>"
      ]
     },
     "metadata": {},
     "output_type": "display_data"
    }
   ],
   "source": [
    "psm = compute_psm(GN.Z_sample)\n",
    "fig, ax = plt.subplots(figsize = (6,6))\n",
    "ax = sns.heatmap(X, linewidth=0.0, ax = ax, cbar=False, cmap= 'rocket_r', xticklabels=[], yticklabels=[])\n",
    "plt.show()"
   ]
  },
  {
   "cell_type": "code",
   "execution_count": 382,
   "metadata": {},
   "outputs": [
    {
     "data": {
      "text/plain": [
       "array([[1., 1., 1., ..., 0., 0., 0.],\n",
       "       [1., 1., 1., ..., 0., 0., 0.],\n",
       "       [1., 1., 1., ..., 0., 0., 0.],\n",
       "       ...,\n",
       "       [0., 0., 0., ..., 1., 1., 1.],\n",
       "       [0., 0., 0., ..., 1., 1., 1.],\n",
       "       [0., 0., 0., ..., 1., 1., 1.]])"
      ]
     },
     "execution_count": 382,
     "metadata": {},
     "output_type": "execute_result"
    }
   ],
   "source": [
    "psm"
   ]
  },
  {
   "cell_type": "code",
   "execution_count": 383,
   "metadata": {},
   "outputs": [
    {
     "data": {
      "text/plain": [
       "0.13510562761473216"
      ]
     },
     "execution_count": 383,
     "metadata": {},
     "output_type": "execute_result"
    }
   ],
   "source": [
    "mask_X_gt = ma.masked_array(X_gt_theta, mask=mask)\n",
    "mask_X_pred = ma.masked_array(GN.X_pred_theta, mask = mask)\n",
    "np.sum(np.abs((mask_X_gt - mask_X_pred)))/np.sum(test)"
   ]
  },
  {
   "cell_type": "code",
   "execution_count": 82,
   "metadata": {},
   "outputs": [],
   "source": [
    "GN.fit(X,1)"
   ]
  },
  {
   "cell_type": "code",
   "execution_count": 374,
   "metadata": {},
   "outputs": [
    {
     "name": "stdout",
     "output_type": "stream",
     "text": [
      "mean number of clusters 4.0\n",
      "mean nodes per cluster 18.75\n",
      "None\n",
      "mean number of clusters 6.0\n",
      "mean nodes per cluster 12.5\n",
      "None\n",
      "Counter({0: 32, 1: 20, 2: 13, 3: 10})\n",
      "Counter({5: 17, 2: 15, 0: 12, 4: 12, 1: 10, 3: 9})\n"
     ]
    }
   ],
   "source": [
    "config = {'directed': True,\n",
    "          'binary': True,\n",
    "          'unicluster': False}\n",
    "GN_bi = SBM(config, start_z = \"singleton\", set_seed=42,\n",
    "         prior_r = \"GN\", gamma_GN_r=0.45,\n",
    "         prior_c = \"GN\", gamma_GN_c=0.45)\n",
    "GN_bi.fit(train,100)\n",
    "\n",
    "# GN_bi.fit(X, 10000)\n",
    "# with open(\"results/Case4_GN_Z_bipartite.pickle\", \"wb\") as f:\n",
    "#     pkl.dump(GN_bi.Z, f)\n",
    "\n",
    "print(cluster_summs(GN_bi.Zr[len(GN_bi.Zr)//2:]))\n",
    "print(cluster_summs(GN_bi.Zc[len(GN_bi.Zc)//2:]))\n",
    "print(Counter(np.argwhere(GN_bi.Zr[-1])[:,1]))\n",
    "print(Counter(np.argwhere(GN_bi.Zc[-1])[:,1]))"
   ]
  },
  {
   "cell_type": "code",
   "execution_count": 384,
   "metadata": {},
   "outputs": [
    {
     "name": "stdout",
     "output_type": "stream",
     "text": [
      "VI_rel_true:  0.2203639331468027\n",
      "VI_rel_ball:  0.3605956639718524\n",
      "Kr\n",
      "0.25:  4.0\n",
      "0.50:  4.0\n",
      "0.75:  4.0\n",
      "Kc\n",
      "0.25:  6.0\n",
      "0.50:  6.0\n",
      "0.75:  6.0\n"
     ]
    },
    {
     "data": {
      "text/plain": [
       "0.10921271483512465"
      ]
     },
     "execution_count": 384,
     "metadata": {},
     "output_type": "execute_result"
    }
   ],
   "source": [
    "GN_bi.evalZ(z0)\n",
    "GN_bi.compute_block_probabilities()\n",
    "GN_bi.predict()\n",
    "np.sum(np.abs(X_gt_theta - GN_bi.X_pred_theta))/(len(X)*(len(X)-1))"
   ]
  },
  {
   "cell_type": "code",
   "execution_count": 385,
   "metadata": {},
   "outputs": [
    {
     "data": {
      "text/plain": [
       "0.1349149611721775"
      ]
     },
     "execution_count": 385,
     "metadata": {},
     "output_type": "execute_result"
    }
   ],
   "source": [
    "mask_X_gt = ma.masked_array(X_gt_theta, mask=mask)\n",
    "mask_X_pred = ma.masked_array(GN_bi.X_pred_theta, mask = mask)\n",
    "np.sum(np.abs((mask_X_gt - mask_X_pred)))/np.sum(test)"
   ]
  },
  {
   "cell_type": "code",
   "execution_count": 386,
   "metadata": {},
   "outputs": [
    {
     "data": {
      "text/plain": [
       "0.0"
      ]
     },
     "execution_count": 386,
     "metadata": {},
     "output_type": "execute_result"
    }
   ],
   "source": [
    "GN_bi.VIr_true"
   ]
  },
  {
   "cell_type": "code",
   "execution_count": 387,
   "metadata": {},
   "outputs": [
    {
     "data": {
      "image/png": "[encoded data removed]",
      "text/plain": [
       "<Figure size 432x432 with 1 Axes>"
      ]
     },
     "metadata": {},
     "output_type": "display_data"
    }
   ],
   "source": [
    "psm = compute_psm(GN_bi.Zr_sample)\n",
    "fig, ax = plt.subplots(figsize = (6,6))\n",
    "ax = sns.heatmap(psm, linewidth=0.0, ax = ax, cbar=False, cmap= 'rocket_r', xticklabels=[], yticklabels=[])\n",
    "plt.show()"
   ]
  },
  {
   "cell_type": "code",
   "execution_count": 388,
   "metadata": {},
   "outputs": [
    {
     "data": {
      "image/png": "[encoded data removed]",
      "text/plain": [
       "<Figure size 432x432 with 1 Axes>"
      ]
     },
     "metadata": {},
     "output_type": "display_data"
    }
   ],
   "source": [
    "psm = compute_psm(GN_bi.Zc_sample)\n",
    "fig, ax = plt.subplots(figsize = (6,6))\n",
    "ax = sns.heatmap(psm, linewidth=0.0, ax = ax, cbar=False, cmap= 'rocket_r', xticklabels=[], yticklabels=[])\n",
    "plt.show()"
   ]
  },
  {
   "cell_type": "code",
   "execution_count": 389,
   "metadata": {},
   "outputs": [
    {
     "data": {
      "text/plain": [
       "array([[0.1984127 , 0.26013514, 0.68819599, 0.59106529, 0.64265928,\n",
       "        0.5631929 ],\n",
       "       [0.6091954 , 0.19897959, 0.23611111, 0.19900498, 0.20920502,\n",
       "        0.59800664],\n",
       "       [0.62755102, 0.14569536, 0.69911504, 0.62913907, 0.15204678,\n",
       "        0.59728507],\n",
       "       [0.19083969, 0.21782178, 0.1986755 , 0.63366337, 0.6446281 ,\n",
       "        0.17021277]])"
      ]
     },
     "execution_count": 389,
     "metadata": {},
     "output_type": "execute_result"
    }
   ],
   "source": [
    "GN_bi.estimated_theta"
   ]
  },
  {
   "cell_type": "code",
   "execution_count": 116,
   "metadata": {},
   "outputs": [
    {
     "name": "stdout",
     "output_type": "stream",
     "text": [
      "[6.43545e+03 1.58900e+02 3.10000e+00]\n"
     ]
    },
    {
     "data": {
      "text/plain": [
       "array([8.76957705, 5.06827507, 1.13140211])"
      ]
     },
     "execution_count": 116,
     "metadata": {},
     "output_type": "execute_result"
    }
   ],
   "source": [
    "m = np.array([80,1])\n",
    "gamma = 0.45\n",
    "print(np.append((m + 1) * (np.sum(m) - len(m) + gamma), len(m)**2 - len(m)*gamma))\n",
    "np.log(np.append((m + 1) * (np.sum(m) - len(m) + gamma), len(m)**2 - len(m)*gamma))"
   ]
  },
  {
   "cell_type": "code",
   "execution_count": 405,
   "metadata": {},
   "outputs": [],
   "source": [
    "from scipy.special import binom\n",
    "from scipy.special import gammaln"
   ]
  },
  {
   "cell_type": "code",
   "execution_count": 440,
   "metadata": {},
   "outputs": [],
   "source": [
    "# H = 50\n",
    "N = 332\n",
    "h = np.array([_ for _ in range(N)])\n",
    "gamma = 0."
   ]
  },
  {
   "cell_type": "code",
   "execution_count": 441,
   "metadata": {},
   "outputs": [
    {
     "data": {
      "text/plain": [
       "0.0"
      ]
     },
     "execution_count": 441,
     "metadata": {},
     "output_type": "execute_result"
    }
   ],
   "source": [
    "np.exp(np.sum(np.log(binom(N, h)) + gammaln(h - gamma) - gammaln(1 - gamma) + np.log(gamma) + gammaln(N + gamma - h) - gammaln(N + gamma)))"
   ]
  },
  {
   "cell_type": "code",
   "execution_count": 433,
   "metadata": {},
   "outputs": [
    {
     "data": {
      "text/plain": [
       "array([1.00000000e+00, 9.90029820e-01, 4.95029866e-03, 1.66665105e-03,\n",
       "       8.37517610e-04, 5.04200973e-04, 3.36984623e-04, 2.41192107e-04,\n",
       "       1.81201146e-04, 1.41139915e-04, 1.13056572e-04, 9.26064866e-05,\n",
       "       7.72516508e-05, 6.54282504e-05, 5.61298515e-05, 4.86848222e-05,\n",
       "       4.26309923e-05, 3.76418497e-05, 3.34813970e-05, 2.99756158e-05,\n",
       "       2.69939045e-05, 2.44366939e-05, 2.22269985e-05, 2.03045350e-05,\n",
       "       1.86215532e-05, 1.71398341e-05, 1.58284931e-05, 1.46623537e-05,\n",
       "       1.36207259e-05, 1.26864796e-05, 1.18453341e-05, 1.10853071e-05,\n",
       "       1.03962850e-05, 9.76968313e-06, 9.19817695e-06, 8.67548601e-06,\n",
       "       8.19620039e-06, 7.75563974e-06, 7.34973827e-06, 6.97495041e-06,\n",
       "       6.62817284e-06, 6.30667995e-06, 6.00806991e-06, 5.73021962e-06,\n",
       "       5.47124673e-06, 5.22947762e-06, 5.00342021e-06, 4.79174081e-06,\n",
       "       4.59324439e-06, 4.40685759e-06, 4.23161419e-06, 4.06664247e-06,\n",
       "       3.91115438e-06, 3.76443604e-06, 3.62583956e-06, 3.49477581e-06,\n",
       "       3.37070814e-06, 3.25314690e-06, 3.14164455e-06, 3.03579140e-06,\n",
       "       2.93521183e-06, 2.83956096e-06, 2.74852163e-06, 2.66180184e-06,\n",
       "       2.57913231e-06, 2.50026448e-06, 2.42496854e-06, 2.35303181e-06,\n",
       "       2.28425723e-06, 2.21846196e-06, 2.15547621e-06, 2.09514213e-06,\n",
       "       2.03731279e-06, 1.98185131e-06, 1.92863004e-06, 1.87752983e-06,\n",
       "       1.82843934e-06, 1.78125445e-06, 1.73587769e-06, 1.69221778e-06,\n",
       "       1.65018909e-06, 1.60971128e-06, 1.57070891e-06, 1.53311107e-06,\n",
       "       1.49685106e-06, 1.46186608e-06, 1.42809699e-06, 1.39548805e-06,\n",
       "       1.36398667e-06, 1.33354319e-06, 1.30411074e-06, 1.27564498e-06,\n",
       "       1.24810402e-06, 1.22144817e-06, 1.19563988e-06, 1.17064356e-06,\n",
       "       1.14642546e-06, 1.12295360e-06, 1.10019758e-06, 1.07812857e-06,\n",
       "       1.05671917e-06, 1.03594331e-06, 1.01577623e-06, 9.96194355e-07,\n",
       "       9.77175231e-07, 9.58697482e-07, 9.40740735e-07, 9.23285569e-07,\n",
       "       9.06313459e-07, 8.89806725e-07, 8.73748494e-07, 8.58122648e-07,\n",
       "       8.42913789e-07, 8.28107196e-07, 8.13688795e-07, 7.99645122e-07,\n",
       "       7.85963292e-07, 7.72630968e-07, 7.59636337e-07, 7.46968080e-07,\n",
       "       7.34615348e-07, 7.22567741e-07, 7.10815283e-07, 6.99348403e-07,\n",
       "       6.88157916e-07, 6.77235001e-07, 6.66571189e-07, 6.56158344e-07,\n",
       "       6.45988643e-07, 6.36054571e-07, 6.26348898e-07, 6.16864671e-07,\n",
       "       6.07595197e-07, 5.98534038e-07, 5.89674992e-07, 5.81012090e-07,\n",
       "       5.72539579e-07, 5.64251917e-07, 5.56143761e-07, 5.48209961e-07,\n",
       "       5.40445550e-07, 5.32845738e-07, 5.25405901e-07, 5.18121578e-07,\n",
       "       5.10988462e-07, 5.04002394e-07, 4.97159359e-07, 4.90455475e-07,\n",
       "       4.83886993e-07, 4.77450289e-07, 4.71141861e-07, 4.64958320e-07,\n",
       "       4.58896390e-07, 4.52952902e-07, 4.47124788e-07, 4.41409081e-07,\n",
       "       4.35802907e-07, 4.30303485e-07, 4.24908121e-07, 4.19614204e-07,\n",
       "       4.14419207e-07, 4.09320680e-07, 4.04316250e-07, 3.99403613e-07,\n",
       "       3.94580539e-07, 3.89844864e-07, 3.85194488e-07, 3.80627375e-07,\n",
       "       3.76141550e-07, 3.71735094e-07, 3.67406147e-07, 3.63152902e-07,\n",
       "       3.58973604e-07, 3.54866549e-07, 3.50830082e-07, 3.46862596e-07,\n",
       "       3.42962529e-07, 3.39128362e-07, 3.35358619e-07, 3.31651866e-07,\n",
       "       3.28006709e-07, 3.24421791e-07, 3.20895793e-07, 3.17427432e-07,\n",
       "       3.14015460e-07, 3.10658663e-07, 3.07355858e-07, 3.04105895e-07,\n",
       "       3.00907654e-07, 2.97760044e-07, 2.94662005e-07, 2.91612503e-07,\n",
       "       2.88610530e-07, 2.85655105e-07, 2.82745273e-07, 2.79880102e-07,\n",
       "       2.77058685e-07, 2.74280139e-07, 2.71543599e-07, 2.68848226e-07,\n",
       "       2.66193201e-07, 2.63577724e-07, 2.61001016e-07, 2.58462316e-07,\n",
       "       2.55960883e-07, 2.53495994e-07, 2.51066943e-07, 2.48673040e-07,\n",
       "       2.46313614e-07, 2.43988007e-07, 2.41695580e-07, 2.39435708e-07,\n",
       "       2.37207778e-07, 2.35011196e-07, 2.32845378e-07, 2.30709757e-07,\n",
       "       2.28603775e-07, 2.26526891e-07, 2.24478573e-07, 2.22458305e-07,\n",
       "       2.20465578e-07, 2.18499900e-07, 2.16560784e-07, 2.14647760e-07,\n",
       "       2.12760364e-07, 2.10898144e-07, 2.09060659e-07, 2.07247476e-07,\n",
       "       2.05458173e-07, 2.03692336e-07, 2.01949562e-07, 2.00229453e-07,\n",
       "       1.98531625e-07, 1.96855697e-07, 1.95201299e-07, 1.93568070e-07,\n",
       "       1.91955654e-07, 1.90363704e-07, 1.88791880e-07, 1.87239850e-07,\n",
       "       1.85707288e-07, 1.84193876e-07, 1.82699300e-07, 1.81223257e-07,\n",
       "       1.79765446e-07, 1.78325575e-07, 1.76903356e-07, 1.75498509e-07,\n",
       "       1.74110759e-07, 1.72739835e-07, 1.71385475e-07, 1.70047419e-07,\n",
       "       1.68725415e-07, 1.67419213e-07, 1.66128572e-07, 1.64853253e-07,\n",
       "       1.63593022e-07, 1.62347652e-07, 1.61116918e-07, 1.59900600e-07,\n",
       "       1.58698485e-07, 1.57510362e-07, 1.56336024e-07, 1.55175269e-07,\n",
       "       1.54027899e-07, 1.52893721e-07, 1.51772545e-07, 1.50664184e-07,\n",
       "       1.49568457e-07, 1.48485185e-07, 1.47414193e-07, 1.46355311e-07,\n",
       "       1.45308371e-07, 1.44273209e-07, 1.43249665e-07, 1.42237582e-07,\n",
       "       1.41236806e-07, 1.40247189e-07, 1.39268583e-07, 1.38300845e-07,\n",
       "       1.37343835e-07, 1.36397417e-07, 1.35461457e-07, 1.34535826e-07,\n",
       "       1.33620397e-07, 1.32715048e-07, 1.31819657e-07, 1.30934111e-07,\n",
       "       1.30058294e-07, 1.29192099e-07, 1.28335419e-07, 1.27488153e-07,\n",
       "       1.26650203e-07, 1.25821474e-07, 1.25001877e-07, 1.24191326e-07,\n",
       "       1.23389740e-07, 1.22597042e-07, 1.21813161e-07, 1.21038030e-07,\n",
       "       1.20271591e-07, 1.19513788e-07, 1.18764574e-07, 1.18023911e-07,\n",
       "       1.17291765e-07, 1.16568116e-07, 1.15852951e-07, 1.15146269e-07,\n",
       "       1.14448084e-07, 1.13758423e-07, 1.13077331e-07, 1.12404875e-07,\n",
       "       1.11741144e-07, 1.11086256e-07, 1.10440364e-07, 1.09803664e-07,\n",
       "       1.09176400e-07, 1.08558883e-07, 1.07951505e-07, 1.07354759e-07,\n",
       "       1.06769276e-07, 1.06195870e-07, 1.05635599e-07, 1.05089869e-07,\n",
       "       1.04560588e-07, 1.04050418e-07, 1.03563211e-07, 1.03104805e-07,\n",
       "       1.02684630e-07, 1.02319327e-07, 1.02042452e-07, 1.01938657e-07])"
      ]
     },
     "execution_count": 433,
     "metadata": {},
     "output_type": "execute_result"
    }
   ],
   "source": [
    "np.exp(np.log(binom(N, h)) + gammaln(h - gamma) - gammaln(1 - gamma) + np.log(gamma) + gammaln(N + gamma - h) - gammaln(N + gamma))"
   ]
  },
  {
   "cell_type": "code",
   "execution_count": 431,
   "metadata": {},
   "outputs": [
    {
     "data": {
      "text/plain": [
       "1.9999998976487068"
      ]
     },
     "execution_count": 431,
     "metadata": {},
     "output_type": "execute_result"
    }
   ],
   "source": [
    "np.sum(np.exp(np.log(binom(N, h)) + gammaln(h - gamma) - gammaln(1 - gamma) + np.log(gamma) + gammaln(N + gamma - h) - gammaln(N + gamma)))"
   ]
  },
  {
   "attachments": {},
   "cell_type": "markdown",
   "metadata": {},
   "source": [
    "Link_Prediction"
   ]
  },
  {
   "cell_type": "code",
   "execution_count": 231,
   "metadata": {},
   "outputs": [],
   "source": [
    "import pandas as pd"
   ]
  },
  {
   "cell_type": "code",
   "execution_count": 237,
   "metadata": {},
   "outputs": [],
   "source": [
    "d = {}\n",
    "d[\"PY\"] = 1"
   ]
  },
  {
   "cell_type": "code",
   "execution_count": 239,
   "metadata": {},
   "outputs": [
    {
     "data": {
      "text/plain": [
       "{'PY': 1}"
      ]
     },
     "execution_count": 239,
     "metadata": {},
     "output_type": "execute_result"
    }
   ],
   "source": [
    "d"
   ]
  },
  {
   "cell_type": "code",
   "execution_count": 257,
   "metadata": {},
   "outputs": [
    {
     "data": {
      "text/html": [
       "<div>\n",
       "<style scoped>\n",
       "    .dataframe tbody tr th:only-of-type {\n",
       "        vertical-align: middle;\n",
       "    }\n",
       "\n",
       "    .dataframe tbody tr th {\n",
       "        vertical-align: top;\n",
       "    }\n",
       "\n",
       "    .dataframe thead th {\n",
       "        text-align: right;\n",
       "    }\n",
       "</style>\n",
       "<table border=\"1\" class=\"dataframe\">\n",
       "  <thead>\n",
       "    <tr style=\"text-align: right;\">\n",
       "      <th></th>\n",
       "      <th>0.00</th>\n",
       "      <th>0.05</th>\n",
       "      <th>0.10</th>\n",
       "      <th>0.15</th>\n",
       "      <th>0.20</th>\n",
       "      <th>0.25</th>\n",
       "      <th>0.30</th>\n",
       "      <th>0.35</th>\n",
       "      <th>0.40</th>\n",
       "      <th>0.45</th>\n",
       "      <th>0.50</th>\n",
       "      <th>0.55</th>\n",
       "      <th>0.60</th>\n",
       "      <th>0.65</th>\n",
       "      <th>0.70</th>\n",
       "      <th>0.75</th>\n",
       "      <th>0.80</th>\n",
       "      <th>0.85</th>\n",
       "      <th>0.90</th>\n",
       "      <th>0.95</th>\n",
       "    </tr>\n",
       "  </thead>\n",
       "  <tbody>\n",
       "    <tr>\n",
       "      <th>PY_All</th>\n",
       "      <td>0</td>\n",
       "      <td>0</td>\n",
       "      <td>0</td>\n",
       "      <td>0</td>\n",
       "      <td>0</td>\n",
       "      <td>0</td>\n",
       "      <td>0</td>\n",
       "      <td>0</td>\n",
       "      <td>0</td>\n",
       "      <td>0</td>\n",
       "      <td>0</td>\n",
       "      <td>0</td>\n",
       "      <td>0</td>\n",
       "      <td>0</td>\n",
       "      <td>0</td>\n",
       "      <td>0</td>\n",
       "      <td>0</td>\n",
       "      <td>0</td>\n",
       "      <td>0</td>\n",
       "      <td>0</td>\n",
       "    </tr>\n",
       "    <tr>\n",
       "      <th>PY_Test</th>\n",
       "      <td>0</td>\n",
       "      <td>0</td>\n",
       "      <td>0</td>\n",
       "      <td>0</td>\n",
       "      <td>0</td>\n",
       "      <td>0</td>\n",
       "      <td>0</td>\n",
       "      <td>0</td>\n",
       "      <td>0</td>\n",
       "      <td>0</td>\n",
       "      <td>0</td>\n",
       "      <td>0</td>\n",
       "      <td>0</td>\n",
       "      <td>0</td>\n",
       "      <td>0</td>\n",
       "      <td>0</td>\n",
       "      <td>0</td>\n",
       "      <td>0</td>\n",
       "      <td>0</td>\n",
       "      <td>0</td>\n",
       "    </tr>\n",
       "    <tr>\n",
       "      <th>GN_All</th>\n",
       "      <td>0</td>\n",
       "      <td>0</td>\n",
       "      <td>0</td>\n",
       "      <td>0</td>\n",
       "      <td>0</td>\n",
       "      <td>0</td>\n",
       "      <td>0</td>\n",
       "      <td>0</td>\n",
       "      <td>0</td>\n",
       "      <td>0</td>\n",
       "      <td>0</td>\n",
       "      <td>0</td>\n",
       "      <td>0</td>\n",
       "      <td>0</td>\n",
       "      <td>0</td>\n",
       "      <td>0</td>\n",
       "      <td>0</td>\n",
       "      <td>0</td>\n",
       "      <td>0</td>\n",
       "      <td>0</td>\n",
       "    </tr>\n",
       "    <tr>\n",
       "      <th>GN_Test</th>\n",
       "      <td>0</td>\n",
       "      <td>0</td>\n",
       "      <td>0</td>\n",
       "      <td>0</td>\n",
       "      <td>0</td>\n",
       "      <td>0</td>\n",
       "      <td>0</td>\n",
       "      <td>0</td>\n",
       "      <td>0</td>\n",
       "      <td>0</td>\n",
       "      <td>0</td>\n",
       "      <td>0</td>\n",
       "      <td>0</td>\n",
       "      <td>0</td>\n",
       "      <td>0</td>\n",
       "      <td>0</td>\n",
       "      <td>0</td>\n",
       "      <td>0</td>\n",
       "      <td>0</td>\n",
       "      <td>0</td>\n",
       "    </tr>\n",
       "  </tbody>\n",
       "</table>\n",
       "</div>"
      ],
      "text/plain": [
       "         0.00  0.05  0.10  0.15  0.20  0.25  0.30  0.35  0.40  0.45  0.50  \\\n",
       "PY_All      0     0     0     0     0     0     0     0     0     0     0   \n",
       "PY_Test     0     0     0     0     0     0     0     0     0     0     0   \n",
       "GN_All      0     0     0     0     0     0     0     0     0     0     0   \n",
       "GN_Test     0     0     0     0     0     0     0     0     0     0     0   \n",
       "\n",
       "         0.55  0.60  0.65  0.70  0.75  0.80  0.85  0.90  0.95  \n",
       "PY_All      0     0     0     0     0     0     0     0     0  \n",
       "PY_Test     0     0     0     0     0     0     0     0     0  \n",
       "GN_All      0     0     0     0     0     0     0     0     0  \n",
       "GN_Test     0     0     0     0     0     0     0     0     0  "
      ]
     },
     "execution_count": 257,
     "metadata": {},
     "output_type": "execute_result"
    }
   ],
   "source": [
    "df = pd.DataFrame(0, index = [\"PY_All\", \"PY_Test\",\"GN_All\", \"GN_Test\"], columns = [i/20 for i in range(20)])\n",
    "df"
   ]
  },
  {
   "cell_type": "code",
   "execution_count": 258,
   "metadata": {},
   "outputs": [],
   "source": [
    "missing_percents = [i/20 for i in range(20)]\n",
    "for i, percent in enumerate(missing_percents):\n",
    "    for t in range(10):\n",
    "        df.iloc[0,i] += 1"
   ]
  },
  {
   "cell_type": "code",
   "execution_count": 259,
   "metadata": {},
   "outputs": [
    {
     "data": {
      "text/html": [
       "<div>\n",
       "<style scoped>\n",
       "    .dataframe tbody tr th:only-of-type {\n",
       "        vertical-align: middle;\n",
       "    }\n",
       "\n",
       "    .dataframe tbody tr th {\n",
       "        vertical-align: top;\n",
       "    }\n",
       "\n",
       "    .dataframe thead th {\n",
       "        text-align: right;\n",
       "    }\n",
       "</style>\n",
       "<table border=\"1\" class=\"dataframe\">\n",
       "  <thead>\n",
       "    <tr style=\"text-align: right;\">\n",
       "      <th></th>\n",
       "      <th>0.00</th>\n",
       "      <th>0.05</th>\n",
       "      <th>0.10</th>\n",
       "      <th>0.15</th>\n",
       "      <th>0.20</th>\n",
       "      <th>0.25</th>\n",
       "      <th>0.30</th>\n",
       "      <th>0.35</th>\n",
       "      <th>0.40</th>\n",
       "      <th>0.45</th>\n",
       "      <th>0.50</th>\n",
       "      <th>0.55</th>\n",
       "      <th>0.60</th>\n",
       "      <th>0.65</th>\n",
       "      <th>0.70</th>\n",
       "      <th>0.75</th>\n",
       "      <th>0.80</th>\n",
       "      <th>0.85</th>\n",
       "      <th>0.90</th>\n",
       "      <th>0.95</th>\n",
       "    </tr>\n",
       "  </thead>\n",
       "  <tbody>\n",
       "    <tr>\n",
       "      <th>PY_All</th>\n",
       "      <td>10</td>\n",
       "      <td>10</td>\n",
       "      <td>10</td>\n",
       "      <td>10</td>\n",
       "      <td>10</td>\n",
       "      <td>10</td>\n",
       "      <td>10</td>\n",
       "      <td>10</td>\n",
       "      <td>10</td>\n",
       "      <td>10</td>\n",
       "      <td>10</td>\n",
       "      <td>10</td>\n",
       "      <td>10</td>\n",
       "      <td>10</td>\n",
       "      <td>10</td>\n",
       "      <td>10</td>\n",
       "      <td>10</td>\n",
       "      <td>10</td>\n",
       "      <td>10</td>\n",
       "      <td>10</td>\n",
       "    </tr>\n",
       "    <tr>\n",
       "      <th>PY_Test</th>\n",
       "      <td>0</td>\n",
       "      <td>0</td>\n",
       "      <td>0</td>\n",
       "      <td>0</td>\n",
       "      <td>0</td>\n",
       "      <td>0</td>\n",
       "      <td>0</td>\n",
       "      <td>0</td>\n",
       "      <td>0</td>\n",
       "      <td>0</td>\n",
       "      <td>0</td>\n",
       "      <td>0</td>\n",
       "      <td>0</td>\n",
       "      <td>0</td>\n",
       "      <td>0</td>\n",
       "      <td>0</td>\n",
       "      <td>0</td>\n",
       "      <td>0</td>\n",
       "      <td>0</td>\n",
       "      <td>0</td>\n",
       "    </tr>\n",
       "    <tr>\n",
       "      <th>GN_All</th>\n",
       "      <td>0</td>\n",
       "      <td>0</td>\n",
       "      <td>0</td>\n",
       "      <td>0</td>\n",
       "      <td>0</td>\n",
       "      <td>0</td>\n",
       "      <td>0</td>\n",
       "      <td>0</td>\n",
       "      <td>0</td>\n",
       "      <td>0</td>\n",
       "      <td>0</td>\n",
       "      <td>0</td>\n",
       "      <td>0</td>\n",
       "      <td>0</td>\n",
       "      <td>0</td>\n",
       "      <td>0</td>\n",
       "      <td>0</td>\n",
       "      <td>0</td>\n",
       "      <td>0</td>\n",
       "      <td>0</td>\n",
       "    </tr>\n",
       "    <tr>\n",
       "      <th>GN_Test</th>\n",
       "      <td>0</td>\n",
       "      <td>0</td>\n",
       "      <td>0</td>\n",
       "      <td>0</td>\n",
       "      <td>0</td>\n",
       "      <td>0</td>\n",
       "      <td>0</td>\n",
       "      <td>0</td>\n",
       "      <td>0</td>\n",
       "      <td>0</td>\n",
       "      <td>0</td>\n",
       "      <td>0</td>\n",
       "      <td>0</td>\n",
       "      <td>0</td>\n",
       "      <td>0</td>\n",
       "      <td>0</td>\n",
       "      <td>0</td>\n",
       "      <td>0</td>\n",
       "      <td>0</td>\n",
       "      <td>0</td>\n",
       "    </tr>\n",
       "  </tbody>\n",
       "</table>\n",
       "</div>"
      ],
      "text/plain": [
       "         0.00  0.05  0.10  0.15  0.20  0.25  0.30  0.35  0.40  0.45  0.50  \\\n",
       "PY_All     10    10    10    10    10    10    10    10    10    10    10   \n",
       "PY_Test     0     0     0     0     0     0     0     0     0     0     0   \n",
       "GN_All      0     0     0     0     0     0     0     0     0     0     0   \n",
       "GN_Test     0     0     0     0     0     0     0     0     0     0     0   \n",
       "\n",
       "         0.55  0.60  0.65  0.70  0.75  0.80  0.85  0.90  0.95  \n",
       "PY_All     10    10    10    10    10    10    10    10    10  \n",
       "PY_Test     0     0     0     0     0     0     0     0     0  \n",
       "GN_All      0     0     0     0     0     0     0     0     0  \n",
       "GN_Test     0     0     0     0     0     0     0     0     0  "
      ]
     },
     "execution_count": 259,
     "metadata": {},
     "output_type": "execute_result"
    }
   ],
   "source": [
    "df"
   ]
  },
  {
   "cell_type": "code",
   "execution_count": null,
   "metadata": {},
   "outputs": [],
   "source": [
    "missing_percents = [i/20 for i in range(20)]\n",
    "\n",
    "config_uni = {'directed': True,\n",
    "          'binary': True,\n",
    "          'unicluster': True}\n",
    "\n",
    "config_bi = {'directed': True,\n",
    "          'binary': True,\n",
    "          'unicluster': False}\n",
    "for i, percent in missing_percents:\n",
    "    for j in range(10):\n",
    "        train, test = train_val_split(X, valid_dim = i, random_seed= j)\n",
    "        \n",
    "        PY = SBM(config, prior_r = \"PY\", alpha_PY_r=0.6,sigma_PY_r=-0.3, \n",
    "                start_z = \"singleton\", set_seed=42)\n",
    "        PY.fit(train,500)\n",
    "        PY.compute_block_probabilities()\n",
    "        PY.predict()\n",
    "        df.iloc[0,i] += np.sum(np.abs((X_gt_theta - PY.X_pred_theta)))/(len(X)*(len(X)-1))\n",
    "\n",
    "        mask_X_gt = ma.masked_array(X_gt_theta, mask=mask)\n",
    "        mask_X_pred = ma.masked_array(PY_bi.X_pred_theta, mask = mask)\n",
    "        np.sum(np.abs((mask_X_gt - mask_X_pred)))/np.sum(test)\n",
    "        \n",
    "        PY_bi = SBM(config, start_z = \"singleton\", set_seed=42,\n",
    "         prior_r = \"PY\", alpha_PY_r=0.6,sigma_PY_r=-0.3,\n",
    "         prior_c = \"PY\", alpha_PY_c=0.6,sigma_PY_c=-0.3)\n",
    "\n",
    "        PY_bi.fit(train,500)\n",
    "        PY_bi.compute_block_probabilities()\n",
    "        PY_bi.predict()\n",
    "        df.np.sum(np.abs(X_gt_theta - PY_bi.X_pred_theta))/(len(X)*(len(X)-1))\n"
   ]
  },
  {
   "cell_type": "code",
   "execution_count": 229,
   "metadata": {},
   "outputs": [
    {
     "data": {
      "text/plain": [
       "[0.0,\n",
       " 0.05,\n",
       " 0.1,\n",
       " 0.15,\n",
       " 0.2,\n",
       " 0.25,\n",
       " 0.3,\n",
       " 0.35,\n",
       " 0.4,\n",
       " 0.45,\n",
       " 0.5,\n",
       " 0.55,\n",
       " 0.6,\n",
       " 0.65,\n",
       " 0.7,\n",
       " 0.75,\n",
       " 0.8,\n",
       " 0.85,\n",
       " 0.9,\n",
       " 0.95]"
      ]
     },
     "execution_count": 229,
     "metadata": {},
     "output_type": "execute_result"
    }
   ],
   "source": [
    "[i/20 for i in range(20)]"
   ]
  },
  {
   "cell_type": "code",
   "execution_count": null,
   "metadata": {},
   "outputs": [],
   "source": []
  },
  {
   "cell_type": "code",
   "execution_count": 181,
   "metadata": {},
   "outputs": [],
   "source": [
    "def evalZ(Z, z0):\n",
    "    Zr = retrieve_samples(Z[0], gap = 10)\n",
    "    Zc = retrieve_samples(Z[1], gap = 10)\n",
    "\n",
    "    Cr = [np.where(x == 1)[1].tolist() for x in Zr]\n",
    "    Cc = [np.where(x == 1)[1].tolist() for x in Zc]\n",
    "\n",
    "    VIr = 0\n",
    "    VIc = 0\n",
    "    for i in range(len(Cr)):\n",
    "        VIr += compare_communities(Cr[i], z0[0])\n",
    "        VIc += compare_communities(Cc[i], z0[1])\n",
    "\n",
    "    VIr = VIr/len(Cr)\n",
    "    VIc = VIc/len(Cc)\n",
    "\n",
    "    VI_relative_true = np.mean([VIr, VIc])\n",
    "\n",
    "    Zsample, VI, idx_min = compute_Zhat(X, Z, mode = 'biclustering', ret_all = True)\n",
    "\n",
    "    z_hat = [Zsample[0][idx_min], Zsample[1][idx_min]]\n",
    "    c_hat = [np.where(z_hat[0]==1)[1], np.where(z_hat[1]==1)[1]]\n",
    "\n",
    "    sorted_VI = VI[np.argsort(VI)]\n",
    "    sorted_Zr = [Zsample[0][i] for i in np.argsort(VI)]\n",
    "    sorted_Zc = [Zsample[1][i] for i in np.argsort(VI)]\n",
    "\n",
    "    b_threshold = int(len(VI)*0.95)\n",
    "\n",
    "    zr_ball = sorted_Zr[b_threshold]\n",
    "    zc_ball = sorted_Zc[b_threshold]\n",
    "\n",
    "    c_ball = [np.where(zr_ball==1)[1], np.where(zc_ball==1)[1]]\n",
    "\n",
    "    VI_relative_ball = np.mean([compare_communities(c_hat[0], c_ball[0]), \n",
    "                                compare_communities(c_hat[1], c_ball[1])])\n",
    "\n",
    "    VIr_true = compare_communities(c_hat[0], z0[0])\n",
    "    VIc_true = compare_communities(c_hat[1], z0[1])\n",
    "\n",
    "    print(\"VIr: \", VIr_true)\n",
    "    print(\"VIc: \", VIc_true)\n",
    "    print(\"VI_rel_true: \", VI_relative_true)\n",
    "    print(\"VI_rel_ball: \", VI_relative_ball)\n",
    "\n",
    "\n",
    "    Kr_vector = [i.shape[1] for i in sorted_Zr]\n",
    "    Kc_vector = [i.shape[1] for i in sorted_Zc] \n",
    "    print(\"Kr\")\n",
    "    print('0.25: ', np.quantile(np.sort(Kr_vector), 0.25))\n",
    "    print('0.50: ', np.quantile(np.sort(Kr_vector), 0.5))\n",
    "    print('0.75: ', np.quantile(np.sort(Kr_vector), 0.75))\n",
    "\n",
    "    print(\"Kc\")\n",
    "    print('0.25: ', np.quantile(np.sort(Kc_vector), 0.25))\n",
    "    print('0.50: ', np.quantile(np.sort(Kc_vector), 0.5))\n",
    "    print('0.75: ', np.quantile(np.sort(Kc_vector), 0.75))\n",
    "\n",
    "    rho = compute_rho(X, Zsample, mode = 'biclustering')\n",
    "    predicted_thetas = compute_predicted_thetas(Sr, Sc, rho)\n",
    "\n",
    "    MAE = np.sum(np.abs(true_rho - rho))/(len(rho)**2 - len(rho))\n",
    "    print(\"MAE: \", MAE)\n",
    "\n",
    "    "
   ]
  },
  {
   "attachments": {},
   "cell_type": "markdown",
   "metadata": {},
   "source": [
    "Analysis:"
   ]
  },
  {
   "attachments": {},
   "cell_type": "markdown",
   "metadata": {},
   "source": [
    "Case 1:"
   ]
  },
  {
   "cell_type": "code",
   "execution_count": 200,
   "metadata": {},
   "outputs": [],
   "source": [
    "\n",
    "n_clust = 5\n",
    "theta = np.zeros((n_clust,n_clust)) + 0.25\n",
    "np.fill_diagonal(theta, 0.75)\n",
    "\n",
    "Sr = [20, 20, 20, 20, 20]\n",
    "Sc = [20, 20, 20, 20, 20]\n",
    "\n",
    "Hr = []\n",
    "c = 0\n",
    "for i in Sr:\n",
    "    for j in range(i):\n",
    "        Hr += [c]\n",
    "    c+=1\n",
    "\n",
    "Hc = []\n",
    "c = 0\n",
    "for i in Sc:\n",
    "    for j in range(i):\n",
    "        Hc += [c]\n",
    "    c+=1\n",
    "\n",
    "z0 = [np.array(Hr), np.array(Hc)]\n",
    "\n",
    "N = np.sum(Sr)\n",
    "true_rho = np.zeros((N,N))\n",
    "for i in range(N):\n",
    "    for j in range(N):\n",
    "        if i == j:\n",
    "            continue\n",
    "        true_rho[i,j] += theta[z0[0][i], z0[1][j]]\n",
    "\n",
    "X = generate_graph_bicluster(Sr, Sc, theta, random_seed=40) #CASE 1"
   ]
  },
  {
   "cell_type": "code",
   "execution_count": 201,
   "metadata": {},
   "outputs": [
    {
     "name": "stdout",
     "output_type": "stream",
     "text": [
      "VIr:  0.0\n",
      "VIc:  0.0\n",
      "VI_rel_true:  0.001797561233461919\n",
      "VI_rel_ball:  0.0\n",
      "Kr\n",
      "0.25:  5.0\n",
      "0.50:  5.0\n",
      "0.75:  5.0\n",
      "Kc\n",
      "0.25:  5.0\n",
      "0.50:  5.0\n",
      "0.75:  5.0\n",
      "MAE:  0.015527047474324202\n",
      "\n",
      "\n",
      "VIr:  0.0\n",
      "VIc:  0.0\n",
      "VI_rel_true:  7.940609733834946e-05\n",
      "VI_rel_ball:  0.0\n",
      "Kr\n",
      "0.25:  5.0\n",
      "0.50:  5.0\n",
      "0.75:  5.0\n",
      "Kc\n",
      "0.25:  5.0\n",
      "0.50:  5.0\n",
      "0.75:  5.0\n",
      "MAE:  0.015527637769108177\n"
     ]
    }
   ],
   "source": [
    "with open(\"results/Case1_DP_Z_unipartite.pickle\", \"rb\") as f:\n",
    "    Z_uni = pkl.load(f)\n",
    "Z = [Z_uni, Z_uni]\n",
    "evalZ(Z, z0)\n",
    "print(\"\\n\")\n",
    "with open(\"results/Case1_PY_Z_unipartite.pickle\", \"rb\") as f:\n",
    "    Z_uni = pkl.load(f)\n",
    "Z = [Z_uni, Z_uni]\n",
    "evalZ(Z, z0)"
   ]
  },
  {
   "cell_type": "code",
   "execution_count": 126,
   "metadata": {},
   "outputs": [
    {
     "name": "stdout",
     "output_type": "stream",
     "text": [
      "VIr:  0.0\n",
      "VIc:  0.0\n",
      "VI_rel_true:  0.0021945917201536664\n",
      "VI_rel_ball:  0.039703048669174734\n",
      "0.25:  5.0\n",
      "0.50:  5.0\n",
      "0.75:  5.0\n",
      "MAE:  0.015526761498456521\n",
      "VIr:  0.0\n",
      "VIc:  0.0\n",
      "VI_rel_true:  0.0\n",
      "VI_rel_ball:  0.0\n",
      "0.25:  5.0\n",
      "0.50:  5.0\n",
      "0.75:  5.0\n",
      "MAE:  0.015527694964281713\n"
     ]
    }
   ],
   "source": [
    "with open(\"results/Case1_DM_Z_unipartite.pickle\", \"rb\") as f:\n",
    "    Z_uni = pkl.load(f)\n",
    "Z = [Z_uni, Z_uni]\n",
    "evalZ(Z, z0)\n",
    "print(\"\\n\")\n",
    "with open(\"results/Case1_GN_Z_unipartite.pickle\", \"rb\") as f:\n",
    "    Z_uni = pkl.load(f)\n",
    "Z = [Z_uni, Z_uni]\n",
    "evalZ(Z, z0)"
   ]
  },
  {
   "cell_type": "code",
   "execution_count": 202,
   "metadata": {},
   "outputs": [
    {
     "name": "stdout",
     "output_type": "stream",
     "text": [
      "VIr:  0.0\n",
      "VIc:  0.0\n",
      "VI_rel_true:  0.045661396554873265\n",
      "VI_rel_ball:  0.1173199446673705\n",
      "Kr\n",
      "0.25:  5.0\n",
      "0.50:  6.0\n",
      "0.75:  6.0\n",
      "Kc\n",
      "0.25:  5.0\n",
      "0.50:  5.0\n",
      "0.75:  6.0\n",
      "MAE:  0.01612648460554333\n",
      "\n",
      "\n",
      "VIr:  0.0\n",
      "VIc:  0.0\n",
      "VI_rel_true:  0.015581776138153595\n",
      "VI_rel_ball:  0.06190753419815409\n",
      "Kr\n",
      "0.25:  5.0\n",
      "0.50:  5.0\n",
      "0.75:  5.0\n",
      "Kc\n",
      "0.25:  5.0\n",
      "0.50:  5.0\n",
      "0.75:  5.0\n",
      "MAE:  0.015772005930835026\n"
     ]
    }
   ],
   "source": [
    "with open(\"results/Case1_DP_Z_bipartite.pickle\", \"rb\") as f:\n",
    "    Z_uni = pkl.load(f)\n",
    "Zr = [x[0] for x in [i for i in Z_uni]]\n",
    "Zc = [x[1] for x in [i for i in Z_uni]]    \n",
    "Z = [Zr, Zc]\n",
    "evalZ(Z, z0)\n",
    "print(\"\\n\")\n",
    "with open(\"results/Case1_PY_Z_bipartite.pickle\", \"rb\") as f:\n",
    "    Z_uni = pkl.load(f)\n",
    "Zr = [x[0] for x in [i for i in Z_uni]]\n",
    "Zc = [x[1] for x in [i for i in Z_uni]]    \n",
    "Z = [Zr, Zc]\n",
    "evalZ(Z, z0)"
   ]
  },
  {
   "cell_type": "code",
   "execution_count": 204,
   "metadata": {},
   "outputs": [
    {
     "name": "stdout",
     "output_type": "stream",
     "text": [
      "VIr:  0.039703048669174734\n",
      "VIc:  0.0\n",
      "VI_rel_true:  0.07406041209007647\n",
      "VI_rel_ball:  0.16387142717158532\n",
      "Kr\n",
      "0.25:  6.0\n",
      "0.50:  6.0\n",
      "0.75:  7.0\n",
      "Kc\n",
      "0.25:  5.0\n",
      "0.50:  5.0\n",
      "0.75:  6.0\n",
      "MAE:  0.016768512094353163\n",
      "\n",
      "\n",
      "VIr:  0.0\n",
      "VIc:  0.0\n",
      "VI_rel_true:  0.0070818316124991836\n",
      "VI_rel_ball:  0.03995315294014756\n",
      "Kr\n",
      "0.25:  5.0\n",
      "0.50:  5.0\n",
      "0.75:  5.0\n",
      "Kc\n",
      "0.25:  5.0\n",
      "0.50:  5.0\n",
      "0.75:  5.0\n",
      "MAE:  0.015722868113898697\n"
     ]
    }
   ],
   "source": [
    "with open(\"results/Case1_DM_Z_bipartite.pickle\", \"rb\") as f:\n",
    "    Z_uni = pkl.load(f)\n",
    "Zr = [x[0] for x in [i for i in Z_uni]]\n",
    "Zc = [x[1] for x in [i for i in Z_uni]]    \n",
    "Z = [Zr, Zc]\n",
    "evalZ(Z, z0)\n",
    "print(\"\\n\")\n",
    "with open(\"results/Case1_GN_Z_bipartite.pickle\", \"rb\") as f:\n",
    "    Z_uni = pkl.load(f)\n",
    "Zr = [x[0] for x in [i for i in Z_uni]]\n",
    "Zc = [x[1] for x in [i for i in Z_uni]]    \n",
    "Z = [Zr, Zc]\n",
    "evalZ(Z, z0)"
   ]
  },
  {
   "cell_type": "code",
   "execution_count": 205,
   "metadata": {},
   "outputs": [],
   "source": [
    "theta = np.array([[0.75, 0.25, 0.25, 0.75, 0.25],\n",
    "                  [0.25, 0.75, 0.25, 0.25, 0.75],\n",
    "                  [0.25, 0.25, 0.75, 0.25, 0.75],\n",
    "                  [0.75, 0.25, 0.25, 0.75, 0.75],\n",
    "                  [0.25, 0.75, 0.75, 0.75, 0.75]])\n",
    "\n",
    "Sr = [20, 15, 10, 10, 8]\n",
    "Sc = [20, 15, 10, 10, 8]\n",
    "# Sc = [15, 15, 15, 15]\n",
    "\n",
    "Hr = []\n",
    "c = 0\n",
    "for i in Sr:\n",
    "    for j in range(i):\n",
    "        Hr += [c]\n",
    "    c+=1\n",
    "\n",
    "Hc = []\n",
    "c = 0\n",
    "for i in Sc:\n",
    "    for j in range(i):\n",
    "        Hc += [c]\n",
    "    c+=1\n",
    "\n",
    "z0 = [np.array(Hr), np.array(Hc)]\n",
    "\n",
    "N = np.sum(Sr)\n",
    "true_rho = np.zeros((N,N))\n",
    "for i in range(N):\n",
    "    for j in range(N):\n",
    "        if i == j:\n",
    "            continue\n",
    "        true_rho[i,j] += theta[z0[0][i], z0[1][j]]\n",
    "\n",
    "X = generate_graph_bicluster(Sr, Sc, theta, random_seed=40) #CASE 2"
   ]
  },
  {
   "cell_type": "code",
   "execution_count": 206,
   "metadata": {},
   "outputs": [
    {
     "name": "stdout",
     "output_type": "stream",
     "text": [
      "DP: \n",
      "VIr:  0.11621114186919179\n",
      "VIc:  0.11621114186919179\n",
      "VI_rel_true:  0.19322489912477328\n",
      "VI_rel_ball:  0.24700320524045605\n",
      "Kr\n",
      "0.25:  5.0\n",
      "0.50:  5.0\n",
      "0.75:  5.0\n",
      "Kc\n",
      "0.25:  5.0\n",
      "0.50:  5.0\n",
      "0.75:  5.0\n",
      "MAE:  0.02634419670993856\n",
      "\n",
      "PY: \n",
      "VIr:  0.11621114186919179\n",
      "VIc:  0.11621114186919179\n",
      "VI_rel_true:  0.18767962097729968\n",
      "VI_rel_ball:  0.19007331236801273\n",
      "Kr\n",
      "0.25:  5.0\n",
      "0.50:  5.0\n",
      "0.75:  5.0\n",
      "Kc\n",
      "0.25:  5.0\n",
      "0.50:  5.0\n",
      "0.75:  5.0\n",
      "MAE:  0.02628968141475012\n"
     ]
    }
   ],
   "source": [
    "print(\"DP: \")\n",
    "with open(\"results/Case2_DP_Z_unipartite.pickle\", \"rb\") as f:\n",
    "    Z_uni = pkl.load(f)\n",
    "Z = [Z_uni, Z_uni]\n",
    "evalZ(Z, z0)\n",
    "print(\"\\nPY: \")\n",
    "with open(\"results/Case2_PY_Z_unipartite.pickle\", \"rb\") as f:\n",
    "    Z_uni = pkl.load(f)\n",
    "Z = [Z_uni, Z_uni]\n",
    "evalZ(Z, z0)"
   ]
  },
  {
   "cell_type": "code",
   "execution_count": 185,
   "metadata": {},
   "outputs": [
    {
     "name": "stdout",
     "output_type": "stream",
     "text": [
      "DM: \n",
      "VIr:  0.11621114186919179\n",
      "VIc:  0.11621114186919179\n",
      "VI_rel_true:  0.1951130191062112\n",
      "VI_rel_ball:  0.24555210346506096\n",
      "Kr\n",
      "0.25:  5.0\n",
      "0.50:  5.0\n",
      "0.75:  5.0\n",
      "Kc\n",
      "0.25:  5.0\n",
      "0.50:  5.0\n",
      "0.75:  5.0\n",
      "MAE:  0.02638518581576847\n",
      "\n",
      "GN: \n",
      "VIr:  0.11621114186919179\n",
      "VIc:  0.11621114186919179\n",
      "VI_rel_true:  0.18681373287731734\n",
      "VI_rel_ball:  0.19007331236801273\n",
      "Kr\n",
      "0.25:  5.0\n",
      "0.50:  5.0\n",
      "0.75:  5.0\n",
      "Kc\n",
      "0.25:  5.0\n",
      "0.50:  5.0\n",
      "0.75:  5.0\n",
      "MAE:  0.02631268524854733\n"
     ]
    }
   ],
   "source": [
    "print(\"DM: \")\n",
    "with open(\"results/Case2_DM_Z_unipartite.pickle\", \"rb\") as f:\n",
    "    Z_uni = pkl.load(f)\n",
    "Z = [Z_uni, Z_uni]\n",
    "evalZ(Z, z0)\n",
    "print(\"\\nGN: \")\n",
    "with open(\"results/Case2_GN_Z_unipartite.pickle\", \"rb\") as f:\n",
    "    Z_uni = pkl.load(f)\n",
    "Z = [Z_uni, Z_uni]\n",
    "evalZ(Z, z0)"
   ]
  },
  {
   "cell_type": "code",
   "execution_count": 209,
   "metadata": {},
   "outputs": [
    {
     "name": "stdout",
     "output_type": "stream",
     "text": [
      "VIr:  0.4629754954368046\n",
      "VIc:  0.2918067096977355\n",
      "VI_rel_true:  0.6422019685535041\n",
      "VI_rel_ball:  0.6803561779539744\n",
      "Kr\n",
      "0.25:  6.0\n",
      "0.50:  7.0\n",
      "0.75:  8.0\n",
      "Kc\n",
      "0.25:  6.0\n",
      "0.50:  7.0\n",
      "0.75:  8.0\n",
      "MAE:  0.047907153398820325\n",
      "\n",
      "\n",
      "VIr:  0.4691607250949277\n",
      "VIc:  0.4099292336339202\n",
      "VI_rel_true:  0.5214320589530062\n",
      "VI_rel_ball:  0.3557459186188463\n",
      "Kr\n",
      "0.25:  5.0\n",
      "0.50:  5.0\n",
      "0.75:  5.0\n",
      "Kc\n",
      "0.25:  5.0\n",
      "0.50:  5.0\n",
      "0.75:  5.0\n",
      "MAE:  0.04567115940860594\n"
     ]
    }
   ],
   "source": [
    "with open(\"results/Case2_DP_Z_bipartite.pickle\", \"rb\") as f:\n",
    "    Z_uni = pkl.load(f)\n",
    "Zr = [x[0] for x in [i for i in Z_uni]]\n",
    "Zc = [x[1] for x in [i for i in Z_uni]]    \n",
    "Z = [Zr, Zc]\n",
    "evalZ(Z, z0)\n",
    "print(\"\\n\")\n",
    "with open(\"results/Case2_PY_Z_bipartite.pickle\", \"rb\") as f:\n",
    "    Z_uni = pkl.load(f)\n",
    "Zr = [x[0] for x in [i for i in Z_uni]]\n",
    "Zc = [x[1] for x in [i for i in Z_uni]]    \n",
    "Z = [Zr, Zc]\n",
    "evalZ(Z, z0)"
   ]
  },
  {
   "cell_type": "code",
   "execution_count": 208,
   "metadata": {},
   "outputs": [
    {
     "name": "stdout",
     "output_type": "stream",
     "text": [
      "VIr:  0.4629754954368046\n",
      "VIc:  0.44667123901968564\n",
      "VI_rel_true:  0.6680479872654141\n",
      "VI_rel_ball:  0.7313807967992765\n",
      "Kr\n",
      "0.25:  7.0\n",
      "0.50:  8.0\n",
      "0.75:  9.0\n",
      "Kc\n",
      "0.25:  6.0\n",
      "0.50:  7.0\n",
      "0.75:  8.0\n",
      "MAE:  0.049038193837340587\n",
      "\n",
      "\n",
      "VIr:  0.4629754954368046\n",
      "VIc:  0.4099292336339202\n",
      "VI_rel_true:  0.49713262018317905\n",
      "VI_rel_ball:  0.47444843155697347\n",
      "Kr\n",
      "0.25:  5.0\n",
      "0.50:  5.0\n",
      "0.75:  5.0\n",
      "Kc\n",
      "0.25:  5.0\n",
      "0.50:  5.0\n",
      "0.75:  5.0\n",
      "MAE:  0.04492854657922441\n"
     ]
    }
   ],
   "source": [
    "with open(\"results/Case2_DM_Z_bipartite.pickle\", \"rb\") as f:\n",
    "    Z_uni = pkl.load(f)\n",
    "Zr = [x[0] for x in [i for i in Z_uni]]\n",
    "Zc = [x[1] for x in [i for i in Z_uni]]    \n",
    "Z = [Zr, Zc]\n",
    "evalZ(Z, z0)\n",
    "print(\"\\n\")\n",
    "with open(\"results/Case2_GN_Z_bipartite.pickle\", \"rb\") as f:\n",
    "    Z_uni = pkl.load(f)\n",
    "Zr = [x[0] for x in [i for i in Z_uni]]\n",
    "Zc = [x[1] for x in [i for i in Z_uni]]    \n",
    "Z = [Zr, Zc]\n",
    "evalZ(Z, z0)"
   ]
  },
  {
   "cell_type": "code",
   "execution_count": null,
   "metadata": {},
   "outputs": [],
   "source": []
  },
  {
   "cell_type": "code",
   "execution_count": 210,
   "metadata": {},
   "outputs": [],
   "source": [
    "theta = np.array([[0.75, 0.25, 0.75, 0.75, 0.25],\n",
    "                  [0.25, 0.75, 0.25, 0.25, 0.75],\n",
    "                  [0.75, 0.75, 0.25, 0.75, 0.75],\n",
    "                  [0.75, 0.25, 0.25, 0.25, 0.25],\n",
    "                  [0.75, 0.25, 0.25, 0.75, 0.75]])\n",
    "\n",
    "Sr = [15, 15, 15, 15, 15]\n",
    "Sc = [15, 15, 15, 15, 15]\n",
    "\n",
    "Hr = []\n",
    "c = 0\n",
    "for i in Sr:\n",
    "    for j in range(i):\n",
    "        Hr += [c]\n",
    "    c+=1\n",
    "\n",
    "Hc = []\n",
    "c = 0\n",
    "for i in Sc:\n",
    "    for j in range(i):\n",
    "        Hc += [c]\n",
    "    c+=1\n",
    "\n",
    "z0 = [np.array(Hr), np.array(Hc)]\n",
    "\n",
    "N = np.sum(Sr)\n",
    "true_rho = np.zeros((N,N))\n",
    "for i in range(N):\n",
    "    for j in range(N):\n",
    "        if i == j:\n",
    "            continue\n",
    "        true_rho[i,j] += theta[z0[0][i], z0[1][j]]\n",
    "\n",
    "X = generate_graph_bicluster(Sr, Sc, theta, random_seed=40) #CASE 3"
   ]
  },
  {
   "cell_type": "code",
   "execution_count": 211,
   "metadata": {},
   "outputs": [
    {
     "name": "stdout",
     "output_type": "stream",
     "text": [
      "DP: \n",
      "VIr:  0.0\n",
      "VIc:  0.0\n",
      "VI_rel_true:  0.013945401505659706\n",
      "VI_rel_ball:  0.04898600535892683\n",
      "Kr\n",
      "0.25:  5.0\n",
      "0.50:  5.0\n",
      "0.75:  5.0\n",
      "Kc\n",
      "0.25:  5.0\n",
      "0.50:  5.0\n",
      "0.75:  5.0\n",
      "MAE:  0.020143055986398088\n",
      "\n",
      "PY: \n",
      "VIr:  0.0\n",
      "VIc:  0.0\n",
      "VI_rel_true:  0.0019838807039651253\n",
      "VI_rel_ball:  0.0\n",
      "Kr\n",
      "0.25:  5.0\n",
      "0.50:  5.0\n",
      "0.75:  5.0\n",
      "Kc\n",
      "0.25:  5.0\n",
      "0.50:  5.0\n",
      "0.75:  5.0\n",
      "MAE:  0.01991560807495949\n"
     ]
    }
   ],
   "source": [
    "print(\"DP: \")\n",
    "with open(\"results/Case3_DP_Z_unipartite.pickle\", \"rb\") as f:\n",
    "    Z_uni = pkl.load(f)\n",
    "Z = [Z_uni, Z_uni]\n",
    "evalZ(Z, z0)\n",
    "print(\"\\nPY: \")\n",
    "with open(\"results/Case3_PY_Z_unipartite.pickle\", \"rb\") as f:\n",
    "    Z_uni = pkl.load(f)\n",
    "Z = [Z_uni, Z_uni]\n",
    "evalZ(Z, z0)"
   ]
  },
  {
   "cell_type": "code",
   "execution_count": 215,
   "metadata": {},
   "outputs": [
    {
     "name": "stdout",
     "output_type": "stream",
     "text": [
      "DP: \n",
      "VIr:  0.0\n",
      "VIc:  0.0\n",
      "VI_rel_true:  0.01576799547475424\n",
      "VI_rel_ball:  0.07853489344551079\n",
      "Kr\n",
      "0.25:  5.0\n",
      "0.50:  5.0\n",
      "0.75:  6.0\n",
      "Kc\n",
      "0.25:  5.0\n",
      "0.50:  5.0\n",
      "0.75:  6.0\n",
      "MAE:  0.02023393424344843\n",
      "\n",
      "PY: \n",
      "VIr:  0.0\n",
      "VIc:  0.0\n",
      "VI_rel_true:  0.0\n",
      "VI_rel_ball:  0.0\n",
      "Kr\n",
      "0.25:  5.0\n",
      "0.50:  5.0\n",
      "0.75:  5.0\n",
      "Kc\n",
      "0.25:  5.0\n",
      "0.50:  5.0\n",
      "0.75:  5.0\n",
      "MAE:  0.019909378250331282\n"
     ]
    }
   ],
   "source": [
    "print(\"DP: \")\n",
    "with open(\"results/Case3_DM_Z_unipartite.pickle\", \"rb\") as f:\n",
    "    Z_uni = pkl.load(f)\n",
    "Z = [Z_uni, Z_uni]\n",
    "evalZ(Z, z0)\n",
    "print(\"\\nPY: \")\n",
    "with open(\"results/Case3_GN_Z_unipartite.pickle\", \"rb\") as f:\n",
    "    Z_uni = pkl.load(f)\n",
    "Z = [Z_uni, Z_uni]\n",
    "evalZ(Z, z0)"
   ]
  },
  {
   "cell_type": "code",
   "execution_count": 213,
   "metadata": {},
   "outputs": [
    {
     "name": "stdout",
     "output_type": "stream",
     "text": [
      "VIr:  0.19594402143570866\n",
      "VIc:  0.0\n",
      "VI_rel_true:  0.2539071088385361\n",
      "VI_rel_ball:  0.3002272383184683\n",
      "Kr\n",
      "0.25:  6.0\n",
      "0.50:  7.0\n",
      "0.75:  8.0\n",
      "Kc\n",
      "0.25:  6.0\n",
      "0.50:  6.0\n",
      "0.75:  7.0\n",
      "MAE:  0.02811761763875129\n",
      "\n",
      "\n",
      "VIr:  0.09886155921630513\n",
      "VIc:  0.0\n",
      "VI_rel_true:  0.16799198360584355\n",
      "VI_rel_ball:  0.1870059787252496\n",
      "Kr\n",
      "0.25:  5.0\n",
      "0.50:  5.5\n",
      "0.75:  6.0\n",
      "Kc\n",
      "0.25:  5.0\n",
      "0.50:  5.0\n",
      "0.75:  5.0\n",
      "MAE:  0.023958335591145213\n"
     ]
    }
   ],
   "source": [
    "with open(\"results/Case3_DP_Z_bipartite.pickle\", \"rb\") as f:\n",
    "    Z_uni = pkl.load(f)\n",
    "Zr = [x[0] for x in [i for i in Z_uni]]\n",
    "Zc = [x[1] for x in [i for i in Z_uni]]    \n",
    "Z = [Zr, Zc]\n",
    "evalZ(Z, z0)\n",
    "print(\"\\n\")\n",
    "with open(\"results/Case3_PY_Z_bipartite.pickle\", \"rb\") as f:\n",
    "    Z_uni = pkl.load(f)\n",
    "Zr = [x[0] for x in [i for i in Z_uni]]\n",
    "Zc = [x[1] for x in [i for i in Z_uni]]    \n",
    "Z = [Zr, Zc]\n",
    "evalZ(Z, z0)"
   ]
  },
  {
   "cell_type": "code",
   "execution_count": 214,
   "metadata": {},
   "outputs": [
    {
     "name": "stdout",
     "output_type": "stream",
     "text": [
      "VIr:  0.2144279462506411\n",
      "VIc:  0.0\n",
      "VI_rel_true:  0.2709682975858777\n",
      "VI_rel_ball:  0.34778992349827464\n",
      "Kr\n",
      "0.25:  7.0\n",
      "0.50:  7.0\n",
      "0.75:  8.0\n",
      "Kc\n",
      "0.25:  6.0\n",
      "0.50:  7.0\n",
      "0.75:  7.0\n",
      "MAE:  0.028890425510612976\n",
      "\n",
      "\n",
      "VIr:  0.09886155921630513\n",
      "VIc:  0.0\n",
      "VI_rel_true:  0.14620111925777368\n",
      "VI_rel_ball:  0.22733565047815452\n",
      "Kr\n",
      "0.25:  5.0\n",
      "0.50:  5.0\n",
      "0.75:  5.0\n",
      "Kc\n",
      "0.25:  5.0\n",
      "0.50:  5.0\n",
      "0.75:  5.0\n",
      "MAE:  0.02256050567385287\n"
     ]
    }
   ],
   "source": [
    "with open(\"results/Case3_DM_Z_bipartite.pickle\", \"rb\") as f:\n",
    "    Z_uni = pkl.load(f)\n",
    "Zr = [x[0] for x in [i for i in Z_uni]]\n",
    "Zc = [x[1] for x in [i for i in Z_uni]]    \n",
    "Z = [Zr, Zc]\n",
    "evalZ(Z, z0)\n",
    "print(\"\\n\")\n",
    "with open(\"results/Case3_GN_Z_bipartite.pickle\", \"rb\") as f:\n",
    "    Z_uni = pkl.load(f)\n",
    "Zr = [x[0] for x in [i for i in Z_uni]]\n",
    "Zc = [x[1] for x in [i for i in Z_uni]]    \n",
    "Z = [Zr, Zc]\n",
    "evalZ(Z, z0)"
   ]
  },
  {
   "cell_type": "code",
   "execution_count": 217,
   "metadata": {},
   "outputs": [],
   "source": [
    "theta = np.array([[0.75, 0.25, 0.1, 0.9, 0.75],\n",
    "                  [0.1, 0.75, 0.1, 0.1, 0.25],\n",
    "                  [0.1, 0.75, 0.25, 0.9, 0.25],\n",
    "                  [0.75, 0.9, 0.25, 0.25, 0.75]])\n",
    "\n",
    "Sr = [25, 25, 25, 25]\n",
    "Sc = [20, 20, 20, 20, 20]\n",
    "\n",
    "Hr = []\n",
    "c = 0\n",
    "for i in Sr:\n",
    "    for j in range(i):\n",
    "        Hr += [c]\n",
    "    c+=1\n",
    "\n",
    "Hc = []\n",
    "c = 0\n",
    "for i in Sc:\n",
    "    for j in range(i):\n",
    "        Hc += [c]\n",
    "    c+=1\n",
    "\n",
    "z0 = [np.array(Hr), np.array(Hc)]\n",
    "\n",
    "N = np.sum(Sr)\n",
    "true_rho = np.zeros((N,N))\n",
    "for i in range(N):\n",
    "    for j in range(N):\n",
    "        if i == j:\n",
    "            continue\n",
    "        true_rho[i,j] += theta[z0[0][i], z0[1][j]]\n",
    "\n",
    "X = generate_graph_bicluster(Sr, Sc, theta, random_seed=40) #CASE 4"
   ]
  },
  {
   "cell_type": "code",
   "execution_count": 218,
   "metadata": {},
   "outputs": [
    {
     "name": "stdout",
     "output_type": "stream",
     "text": [
      "DP: \n",
      "VIr:  0.5867070452737218\n",
      "VIc:  0.36356349395951204\n",
      "VI_rel_true:  0.4755541481900082\n",
      "VI_rel_ball:  0.0\n",
      "Kr\n",
      "0.25:  8.0\n",
      "0.50:  8.0\n",
      "0.75:  8.0\n",
      "Kc\n",
      "0.25:  8.0\n",
      "0.50:  8.0\n",
      "0.75:  8.0\n",
      "MAE:  0.019861563885623656\n",
      "\n",
      "PY: \n",
      "VIr:  0.5867070452737218\n",
      "VIc:  0.36356349395951204\n",
      "VI_rel_true:  0.4752653028059749\n",
      "VI_rel_ball:  0.0\n",
      "Kr\n",
      "0.25:  8.0\n",
      "0.50:  8.0\n",
      "0.75:  8.0\n",
      "Kc\n",
      "0.25:  8.0\n",
      "0.50:  8.0\n",
      "0.75:  8.0\n",
      "MAE:  0.019858625366412842\n"
     ]
    }
   ],
   "source": [
    "print(\"DP: \")\n",
    "with open(\"results/Case4_DP_Z_unipartite.pickle\", \"rb\") as f:\n",
    "    Z_uni = pkl.load(f)\n",
    "Z = [Z_uni, Z_uni]\n",
    "evalZ(Z, z0)\n",
    "print(\"\\nPY: \")\n",
    "with open(\"results/Case4_PY_Z_unipartite.pickle\", \"rb\") as f:\n",
    "    Z_uni = pkl.load(f)\n",
    "Z = [Z_uni, Z_uni]\n",
    "evalZ(Z, z0)"
   ]
  },
  {
   "cell_type": "code",
   "execution_count": 219,
   "metadata": {},
   "outputs": [
    {
     "name": "stdout",
     "output_type": "stream",
     "text": [
      "VIr:  0.5867070452737218\n",
      "VIc:  0.36356349395951204\n",
      "VI_rel_true:  0.475944247758078\n",
      "VI_rel_ball:  0.0\n",
      "Kr\n",
      "0.25:  8.0\n",
      "0.50:  8.0\n",
      "0.75:  8.0\n",
      "Kc\n",
      "0.25:  8.0\n",
      "0.50:  8.0\n",
      "0.75:  8.0\n",
      "MAE:  0.01986536020522878\n",
      "\n",
      "\n",
      "VIr:  0.5867070452737218\n",
      "VIc:  0.36356349395951204\n",
      "VI_rel_true:  0.47513526961661834\n",
      "VI_rel_ball:  0.0\n",
      "Kr\n",
      "0.25:  8.0\n",
      "0.50:  8.0\n",
      "0.75:  8.0\n",
      "Kc\n",
      "0.25:  8.0\n",
      "0.50:  8.0\n",
      "0.75:  8.0\n",
      "MAE:  0.019857932460046055\n"
     ]
    }
   ],
   "source": [
    "with open(\"results/Case4_DM_Z_unipartite.pickle\", \"rb\") as f:\n",
    "    Z_uni = pkl.load(f)\n",
    "Z = [Z_uni, Z_uni]\n",
    "evalZ(Z, z0)\n",
    "print(\"\\n\")\n",
    "with open(\"results/Case4_GN_Z_unipartite.pickle\", \"rb\") as f:\n",
    "    Z_uni = pkl.load(f)\n",
    "Z = [Z_uni, Z_uni]\n",
    "evalZ(Z, z0)"
   ]
  },
  {
   "cell_type": "code",
   "execution_count": 220,
   "metadata": {},
   "outputs": [
    {
     "name": "stdout",
     "output_type": "stream",
     "text": [
      "VIr:  0.0\n",
      "VIc:  0.2840051164834252\n",
      "VI_rel_true:  0.21074904513709167\n",
      "VI_rel_ball:  0.24303905112445534\n",
      "Kr\n",
      "0.25:  4.0\n",
      "0.50:  5.0\n",
      "0.75:  6.0\n",
      "Kc\n",
      "0.25:  5.0\n",
      "0.50:  6.0\n",
      "0.75:  6.0\n",
      "MAE:  0.017182975581791902\n",
      "\n",
      "\n",
      "VIr:  0.0\n",
      "VIc:  0.2375676348083089\n",
      "VI_rel_true:  0.16289303746826503\n",
      "VI_rel_ball:  0.15998135112893208\n",
      "Kr\n",
      "0.25:  4.0\n",
      "0.50:  4.0\n",
      "0.75:  4.0\n",
      "Kc\n",
      "0.25:  5.0\n",
      "0.50:  5.0\n",
      "0.75:  5.0\n",
      "MAE:  0.01495700780784881\n"
     ]
    }
   ],
   "source": [
    "with open(\"results/Case4_DP_Z_bipartite.pickle\", \"rb\") as f:\n",
    "    Z_uni = pkl.load(f)\n",
    "Zr = [x[0] for x in [i for i in Z_uni]]\n",
    "Zc = [x[1] for x in [i for i in Z_uni]]    \n",
    "Z = [Zr, Zc]\n",
    "evalZ(Z, z0)\n",
    "print(\"\\n\")\n",
    "with open(\"results/Case4_PY_Z_bipartite.pickle\", \"rb\") as f:\n",
    "    Z_uni = pkl.load(f)\n",
    "Zr = [x[0] for x in [i for i in Z_uni]]\n",
    "Zc = [x[1] for x in [i for i in Z_uni]]    \n",
    "Z = [Zr, Zc]\n",
    "evalZ(Z, z0)"
   ]
  },
  {
   "cell_type": "code",
   "execution_count": 221,
   "metadata": {},
   "outputs": [
    {
     "name": "stdout",
     "output_type": "stream",
     "text": [
      "VIr:  0.0\n",
      "VIc:  0.2840051164834252\n",
      "VI_rel_true:  0.21955609564332143\n",
      "VI_rel_ball:  0.2511849002749307\n",
      "Kr\n",
      "0.25:  5.0\n",
      "0.50:  5.0\n",
      "0.75:  6.0\n",
      "Kc\n",
      "0.25:  5.0\n",
      "0.50:  6.0\n",
      "0.75:  6.0\n",
      "MAE:  0.017438836591718278\n",
      "\n",
      "\n",
      "VIr:  0.0\n",
      "VIc:  0.2375676348083089\n",
      "VI_rel_true:  0.15573675535566936\n",
      "VI_rel_ball:  0.16971559858855834\n",
      "Kr\n",
      "0.25:  4.0\n",
      "0.50:  4.0\n",
      "0.75:  4.0\n",
      "Kc\n",
      "0.25:  5.0\n",
      "0.50:  5.0\n",
      "0.75:  5.0\n",
      "MAE:  0.014646979007810236\n"
     ]
    }
   ],
   "source": [
    "with open(\"results/Case4_DM_Z_bipartite.pickle\", \"rb\") as f:\n",
    "    Z_uni = pkl.load(f)\n",
    "Zr = [x[0] for x in [i for i in Z_uni]]\n",
    "Zc = [x[1] for x in [i for i in Z_uni]]    \n",
    "Z = [Zr, Zc]\n",
    "evalZ(Z, z0)\n",
    "print(\"\\n\")\n",
    "with open(\"results/Case4_GN_Z_bipartite.pickle\", \"rb\") as f:\n",
    "    Z_uni = pkl.load(f)\n",
    "Zr = [x[0] for x in [i for i in Z_uni]]\n",
    "Zc = [x[1] for x in [i for i in Z_uni]]    \n",
    "Z = [Zr, Zc]\n",
    "evalZ(Z, z0)"
   ]
  },
  {
   "cell_type": "code",
   "execution_count": null,
   "metadata": {},
   "outputs": [],
   "source": []
  },
  {
   "cell_type": "code",
   "execution_count": null,
   "metadata": {},
   "outputs": [],
   "source": []
  }
 ],
 "metadata": {
  "kernelspec": {
   "display_name": "bnpenv",
   "language": "python",
   "name": "python3"
  },
  "language_info": {
   "codemirror_mode": {
    "name": "ipython",
    "version": 3
   },
   "file_extension": ".py",
   "mimetype": "text/x-python",
   "name": "python",
   "nbconvert_exporter": "python",
   "pygments_lexer": "ipython3",
   "version": "3.9.8"
  },
  "orig_nbformat": 4,
  "vscode": {
   "interpreter": {
    "hash": "5e30ed4f6f8bb2a91dfe46fec38963d5a062a926e2e168732dffa7def24e0a27"
   }
  }
 },
 "nbformat": 4,
 "nbformat_minor": 2
}
