{
 "cells": [
  {
   "cell_type": "code",
   "execution_count": 1,
   "metadata": {},
   "outputs": [],
   "source": [
    "import numpy as np\n",
    "import igraph as ig\n",
    "from scipy.special import betaln"
   ]
  },
  {
   "cell_type": "markdown",
   "metadata": {},
   "source": [
    "Data Generation"
   ]
  },
  {
   "cell_type": "code",
   "execution_count": 39,
   "metadata": {},
   "outputs": [],
   "source": [
    "theta = np.array([[0.75, 0.25, 0.1, 0.9],\n",
    "                  [0.1, 0.75, 0.1, 0.1],\n",
    "                  [0.1, 0.75, 0.25, 0.9]])"
   ]
  },
  {
   "cell_type": "code",
   "execution_count": 40,
   "metadata": {},
   "outputs": [],
   "source": [
    "Sr = [20, 20, 20]\n",
    "Sc = [15, 15, 15, 15]"
   ]
  },
  {
   "cell_type": "code",
   "execution_count": 41,
   "metadata": {},
   "outputs": [],
   "source": [
    "def generate_graph_bicluster(Sr, Sc, thetas):\n",
    "    # Kr = thetas.shape[0]\n",
    "    # Kc = thetas.shape[1]\n",
    "\n",
    "    N = np.sum(Sr)\n",
    "\n",
    "    Hr = []\n",
    "    c = 0\n",
    "    for i in Sr:\n",
    "        for j in range(i):\n",
    "            Hr += [c]\n",
    "        c+=1\n",
    "\n",
    "    Hc = []\n",
    "    c = 0\n",
    "    for i in Sc:\n",
    "        for j in range(i):\n",
    "            Hc += [c]\n",
    "        c+=1\n",
    "\n",
    "    X = np.zeros((N,N))\n",
    "    for i in range(N):\n",
    "        for j in range(N):\n",
    "            if i == j:\n",
    "                continue\n",
    "            X[i, j] = np.random.binomial(1, thetas[Hr[i], Hc[j]])\n",
    "\n",
    "    return X\n"
   ]
  },
  {
   "cell_type": "code",
   "execution_count": 42,
   "metadata": {},
   "outputs": [],
   "source": [
    "X = generate_graph_bicluster(Sr, Sc, theta)"
   ]
  },
  {
   "cell_type": "code",
   "execution_count": 43,
   "metadata": {},
   "outputs": [],
   "source": [
    "def irm_bicluster(X, T, a, b, A, set_seed = True, random_seed = 42, print_iter = False):\n",
    "    N = len(X)\n",
    "    zr = np.ones([N, 1])\n",
    "    zc = np.ones([N, 1])\n",
    "    Z = []\n",
    "    Zr = []\n",
    "    Zc = []\n",
    "\n",
    "    if set_seed:\n",
    "        np.random.seed(random_seed)\n",
    "\n",
    "    for t in range(T):\n",
    "        for n in range(N):\n",
    "            nn = [_ for _ in range(N)]\n",
    "            nn.remove(n)\n",
    "\n",
    "            X_ = X.copy().astype(int)\n",
    "            X_[n,:] = 0\n",
    "\n",
    "            Kr = len(zr[0])\n",
    "\n",
    "            if Kr > 1:\n",
    "                idx = np.argwhere(np.sum(zr[nn], 0) == 0)\n",
    "                zr = np.delete(zr, idx, axis=1)\n",
    "                Kr -= len(idx)\n",
    "\n",
    "            # m = n. of nodes in each component \n",
    "            mr = np.sum(zr[nn,:], 0)[np.newaxis] #newaxis allows m to become 2d array (for transposing)\n",
    "            mc = np.sum(zc[nn,:], 0)[np.newaxis]\n",
    "            Mc = np.tile(mc, (Kr, 1))\n",
    "            M1 = zr.T @ X_ @ zc\n",
    "\n",
    "            X_rev = (np.where((X_==0)|(X_==1), X_^1, X_) - np.eye(X_.shape[0])).copy() #reverse matrix for non_links\n",
    "            X_rev[n,:] = 0\n",
    "            M0 = zr.T @ X_rev @ zc #n. of non-links between biclusters without current node\n",
    "\n",
    "            r = zc[nn,:].T @ X[n, nn]\n",
    "            R = np.tile(r, (Kr, 1))\n",
    "\n",
    "            logLik_exComp = np.sum(betaln(M1+R+a, M0+Mc-R+b) - betaln(M1+a, M0+b),1)\n",
    "            logLik_newComp = np.sum(betaln(r+a, mc-r+b) - betaln(a,b),1)\n",
    "\n",
    "            logLik = np.concatenate([logLik_exComp, logLik_newComp])\n",
    "            logPrior = np.log(np.append(mr, A))\n",
    "\n",
    "            logPost = logPrior + logLik\n",
    "\n",
    "            P = np.exp(logPost-max(logPost)) \n",
    "\n",
    "            # Assignment through random draw fron unif(0,1), taking first value from prob. vector\n",
    "            draw = np.random.rand()\n",
    "            i = np.argwhere(draw<np.cumsum(P)/sum(P))[0]\n",
    "\n",
    "            zr[n,:] = 0\n",
    "            if i == Kr: # If new component: add new column to partition matrix\n",
    "                zr = np.hstack((zr, np.zeros((N,1)))) \n",
    "            zr[n,i] = 1\n",
    "\n",
    "        for n in range(N):\n",
    "            nn = [_ for _ in range(N)]\n",
    "            nn.remove(n)\n",
    "\n",
    "            X_ = X.copy().astype(int)\n",
    "            X_[:,n] = 0\n",
    "\n",
    "            Kc = len(zc[0])\n",
    "\n",
    "            if Kc > 1:\n",
    "                idx = np.argwhere(np.sum(zc[nn], 0) == 0)\n",
    "                zc = np.delete(zc, idx, axis=1)\n",
    "                Kc -= len(idx)\n",
    "\n",
    "            # m = n. of nodes in each component \n",
    "            mr = np.sum(zr[nn,:], 0)[np.newaxis] #newaxis allows m to become 2d array (for transposing)\n",
    "            mc = np.sum(zc[nn,:], 0)[np.newaxis]\n",
    "            Mr = np.tile(mr.T, (1, Kc))\n",
    "\n",
    "            M1 = zr.T @ X_ @ zc\n",
    "\n",
    "            X_rev = (np.where((X_==0)|(X_==1), X_^1, X_) - np.eye(X_.shape[0])).copy() #reverse matrix for non_links\n",
    "            X_rev[:,0] = 0\n",
    "            M0 = zr.T @ X_rev @ zc #n. of non-links between biclusters without current node\n",
    "\n",
    "            s = zr[nn,:].T @ X[nn, n]\n",
    "            S = np.tile(s[np.newaxis].T, (1, Kc))\n",
    "\n",
    "            logLik_exComp = np.sum(betaln(M1+S+a, M0+Mr-S+b) - betaln(M1+a, M0+b), 0)\n",
    "            logLik_newComp = np.sum(betaln(s+a, mr-s+b) - betaln(a,b),1)\n",
    "\n",
    "            logLik = np.concatenate([logLik_exComp, logLik_newComp])\n",
    "            logPrior = np.log(np.append(mc, A))\n",
    "\n",
    "            logPost = logPrior + logLik\n",
    "\n",
    "            P = np.exp(logPost-max(logPost)) \n",
    "\n",
    "            # Assignment through random draw fron unif(0,1), taking first value from prob. vector\n",
    "            draw = np.random.rand()\n",
    "            i = np.argwhere(draw<np.cumsum(P)/sum(P))[0]\n",
    "\n",
    "            zc[n,:] = 0\n",
    "            if i == Kc: # If new component: add new column to partition matrix\n",
    "                zc = np.hstack((zc, np.zeros((N,1)))) \n",
    "            zc[n,i] = 1\n",
    "\n",
    "        Z.append([zr.copy(), zc.copy()])\n",
    "    \n",
    "    return Z"
   ]
  },
  {
   "cell_type": "code",
   "execution_count": 44,
   "metadata": {},
   "outputs": [
    {
     "data": {
      "text/plain": [
       "array([[0., 1., 0., ..., 1., 1., 1.],\n",
       "       [0., 0., 0., ..., 1., 1., 0.],\n",
       "       [0., 1., 0., ..., 1., 1., 1.],\n",
       "       ...,\n",
       "       [0., 0., 0., ..., 0., 1., 1.],\n",
       "       [0., 0., 0., ..., 1., 0., 1.],\n",
       "       [0., 0., 0., ..., 1., 0., 0.]])"
      ]
     },
     "execution_count": 44,
     "metadata": {},
     "output_type": "execute_result"
    }
   ],
   "source": [
    "X"
   ]
  },
  {
   "cell_type": "code",
   "execution_count": 45,
   "metadata": {},
   "outputs": [],
   "source": [
    "T = 500\n",
    "a = 1\n",
    "b = 1\n",
    "A = 1"
   ]
  },
  {
   "cell_type": "code",
   "execution_count": 46,
   "metadata": {},
   "outputs": [],
   "source": [
    "Z = irm_bicluster(X, T , a, b, A, set_seed = True, random_seed = 42)"
   ]
  },
  {
   "cell_type": "code",
   "execution_count": 47,
   "metadata": {},
   "outputs": [],
   "source": [
    "t = Z[-1]"
   ]
  },
  {
   "cell_type": "code",
   "execution_count": 48,
   "metadata": {},
   "outputs": [
    {
     "data": {
      "text/plain": [
       "[array([[0., 0., 1.],\n",
       "        [0., 0., 1.],\n",
       "        [0., 0., 1.],\n",
       "        [0., 0., 1.],\n",
       "        [0., 0., 1.],\n",
       "        [0., 0., 1.],\n",
       "        [0., 0., 1.],\n",
       "        [0., 0., 1.],\n",
       "        [0., 0., 1.],\n",
       "        [0., 0., 1.],\n",
       "        [0., 0., 1.],\n",
       "        [0., 0., 1.],\n",
       "        [0., 0., 1.],\n",
       "        [0., 0., 1.],\n",
       "        [0., 0., 1.],\n",
       "        [0., 0., 1.],\n",
       "        [0., 0., 1.],\n",
       "        [0., 0., 1.],\n",
       "        [0., 0., 1.],\n",
       "        [0., 0., 1.],\n",
       "        [0., 1., 0.],\n",
       "        [0., 1., 0.],\n",
       "        [0., 1., 0.],\n",
       "        [0., 1., 0.],\n",
       "        [0., 1., 0.],\n",
       "        [0., 1., 0.],\n",
       "        [0., 1., 0.],\n",
       "        [0., 1., 0.],\n",
       "        [0., 1., 0.],\n",
       "        [0., 1., 0.],\n",
       "        [0., 1., 0.],\n",
       "        [0., 1., 0.],\n",
       "        [0., 1., 0.],\n",
       "        [0., 1., 0.],\n",
       "        [0., 1., 0.],\n",
       "        [0., 1., 0.],\n",
       "        [0., 1., 0.],\n",
       "        [0., 1., 0.],\n",
       "        [0., 1., 0.],\n",
       "        [0., 1., 0.],\n",
       "        [1., 0., 0.],\n",
       "        [1., 0., 0.],\n",
       "        [1., 0., 0.],\n",
       "        [1., 0., 0.],\n",
       "        [1., 0., 0.],\n",
       "        [1., 0., 0.],\n",
       "        [1., 0., 0.],\n",
       "        [1., 0., 0.],\n",
       "        [1., 0., 0.],\n",
       "        [1., 0., 0.],\n",
       "        [1., 0., 0.],\n",
       "        [1., 0., 0.],\n",
       "        [1., 0., 0.],\n",
       "        [1., 0., 0.],\n",
       "        [1., 0., 0.],\n",
       "        [1., 0., 0.],\n",
       "        [1., 0., 0.],\n",
       "        [1., 0., 0.],\n",
       "        [1., 0., 0.],\n",
       "        [1., 0., 0.]]),\n",
       " array([[1., 0., 0., 0.],\n",
       "        [1., 0., 0., 0.],\n",
       "        [1., 0., 0., 0.],\n",
       "        [1., 0., 0., 0.],\n",
       "        [1., 0., 0., 0.],\n",
       "        [1., 0., 0., 0.],\n",
       "        [1., 0., 0., 0.],\n",
       "        [1., 0., 0., 0.],\n",
       "        [1., 0., 0., 0.],\n",
       "        [1., 0., 0., 0.],\n",
       "        [1., 0., 0., 0.],\n",
       "        [1., 0., 0., 0.],\n",
       "        [1., 0., 0., 0.],\n",
       "        [1., 0., 0., 0.],\n",
       "        [1., 0., 0., 0.],\n",
       "        [0., 0., 1., 0.],\n",
       "        [0., 0., 1., 0.],\n",
       "        [0., 0., 1., 0.],\n",
       "        [0., 0., 1., 0.],\n",
       "        [0., 0., 1., 0.],\n",
       "        [0., 0., 1., 0.],\n",
       "        [0., 0., 1., 0.],\n",
       "        [0., 0., 1., 0.],\n",
       "        [0., 0., 1., 0.],\n",
       "        [0., 0., 1., 0.],\n",
       "        [0., 0., 1., 0.],\n",
       "        [0., 0., 1., 0.],\n",
       "        [0., 0., 1., 0.],\n",
       "        [0., 0., 1., 0.],\n",
       "        [0., 0., 1., 0.],\n",
       "        [0., 1., 0., 0.],\n",
       "        [0., 1., 0., 0.],\n",
       "        [0., 1., 0., 0.],\n",
       "        [0., 1., 0., 0.],\n",
       "        [0., 1., 0., 0.],\n",
       "        [0., 1., 0., 0.],\n",
       "        [0., 1., 0., 0.],\n",
       "        [0., 1., 0., 0.],\n",
       "        [0., 1., 0., 0.],\n",
       "        [0., 1., 0., 0.],\n",
       "        [0., 1., 0., 0.],\n",
       "        [0., 1., 0., 0.],\n",
       "        [0., 1., 0., 0.],\n",
       "        [0., 1., 0., 0.],\n",
       "        [0., 1., 0., 0.],\n",
       "        [0., 0., 0., 1.],\n",
       "        [0., 0., 0., 1.],\n",
       "        [0., 0., 0., 1.],\n",
       "        [0., 0., 0., 1.],\n",
       "        [0., 0., 0., 1.],\n",
       "        [0., 0., 0., 1.],\n",
       "        [0., 0., 0., 1.],\n",
       "        [0., 0., 0., 1.],\n",
       "        [0., 0., 0., 1.],\n",
       "        [0., 0., 0., 1.],\n",
       "        [0., 0., 0., 1.],\n",
       "        [0., 0., 0., 1.],\n",
       "        [0., 0., 0., 1.],\n",
       "        [0., 0., 0., 1.],\n",
       "        [0., 0., 0., 1.]])]"
      ]
     },
     "execution_count": 48,
     "metadata": {},
     "output_type": "execute_result"
    }
   ],
   "source": [
    "t"
   ]
  },
  {
   "cell_type": "code",
   "execution_count": null,
   "metadata": {},
   "outputs": [],
   "source": []
  },
  {
   "cell_type": "code",
   "execution_count": null,
   "metadata": {},
   "outputs": [],
   "source": []
  },
  {
   "cell_type": "code",
   "execution_count": 264,
   "metadata": {},
   "outputs": [],
   "source": [
    "#test X\n",
    "X = np.array([[0, 1, 0, 0, 1],\n",
    "              [0, 0, 1, 1, 0],\n",
    "              [0, 1, 0, 1, 1],\n",
    "              [1, 1, 0, 0, 1],\n",
    "              [0, 1, 0, 1, 0]])\n",
    "\n",
    "zr = np.array([[1, 0],\n",
    "               [1, 0],\n",
    "               [1, 0],\n",
    "               [0, 1],\n",
    "               [0, 1]])\n",
    "\n",
    "zc = np.array([[1, 0, 0],\n",
    "               [1, 0, 0],\n",
    "               [0, 1, 0],\n",
    "               [0, 1, 0],\n",
    "               [0, 0, 1]])"
   ]
  },
  {
   "cell_type": "code",
   "execution_count": 32,
   "metadata": {},
   "outputs": [],
   "source": [
    "N = len(X)\n",
    "# zr = np.ones([N, 1])\n",
    "# zc = np.ones([N, 1])\n",
    "Zr = []\n",
    "Zc = []"
   ]
  },
  {
   "cell_type": "code",
   "execution_count": 55,
   "metadata": {},
   "outputs": [],
   "source": [
    "# for t in range(T):\n",
    "#     for n in range(N):\n",
    "n = 0\n",
    "\n",
    "nn = [_ for _ in range(N)]\n",
    "nn.remove(n)\n",
    "\n",
    "X_ = X[np.ix_(nn,nn)]\n",
    "\n",
    "Kr = len(zr[0])\n",
    "Kc = len(zc[0])\n",
    "\n",
    "if Kr > 1:\n",
    "    idx = np.argwhere(np.sum(zr[nn], 0) == 0)\n",
    "    zr = np.delete(zr, idx, axis=1)\n",
    "    Kr -= len(idx)\n",
    "\n",
    "# m = n. of nodes in each component \n",
    "mr = np.sum(zr[nn,:], 0)[np.newaxis] #newaxis allows m to become 2d array (for transposing)\n",
    "mc = np.sum(zc[nn,:], 0)[np.newaxis]\n",
    "\n",
    "# M = max links from other clusts\n",
    "# M = np.tile(m, (Kr, 1))\n",
    "\n",
    "M1 = zr[nn,:].T @ X_ @ zc[nn,:]\n",
    "\n",
    "X_rev = np.where((X_==0)|(X_==1), X_^1, X_) - np.eye(X_.shape[0]) #reverse matrix for non_links\n",
    "M0 = zr[nn,:].T @ X_rev @ zc[nn,:] #n. of non-links between biclusters without current node\n",
    "\n",
    "r = zc[nn,:].T @ X[n, nn]\n",
    "R = np.tile(r, (Kr, 1))\n",
    "\n",
    "s = zr[nn,:].T @ X[nn, n]\n",
    "S = np.tile(s[np.newaxis].T, (1, Kc))\n",
    "\n"
   ]
  },
  {
   "cell_type": "code",
   "execution_count": null,
   "metadata": {},
   "outputs": [],
   "source": []
  },
  {
   "cell_type": "code",
   "execution_count": 162,
   "metadata": {},
   "outputs": [],
   "source": [
    "# for t in range(T):\n",
    "#     for n in range(N):\n",
    "a = 1\n",
    "b = 1\n",
    "A = 1\n",
    "\n",
    "N = len(X)\n",
    "for i in range(N):\n",
    "    nn = [_ for _ in range(N)]\n",
    "    nn.remove(n)\n",
    "\n",
    "    # X_ = X[np.ix_(nn,nn)]\n",
    "\n",
    "    X_ = X.copy()\n",
    "    X_[n,:] = 0\n",
    "\n",
    "    Kr = len(zr[0])\n",
    "    Kc = len(zc[0])\n",
    "\n",
    "    if Kr > 1:\n",
    "        idx = np.argwhere(np.sum(zr[nn], 0) == 0)\n",
    "        zr = np.delete(zr, idx, axis=1)\n",
    "        Kr -= len(idx)\n",
    "\n",
    "    # m = n. of nodes in each component \n",
    "    mr = np.sum(zr[nn,:], 0)[np.newaxis] #newaxis allows m to become 2d array (for transposing)\n",
    "    mc = np.sum(zc[nn,:], 0)[np.newaxis]\n",
    "    Mc = np.tile(mc, (Kr, 1))\n",
    "\n",
    "    # M = max links from other clusts\n",
    "    # M = np.tile(m, (Kr, 1))\n",
    "\n",
    "    M1 = zr.T @ X_ @ zc\n",
    "\n",
    "    X_rev = (np.where((X_==0)|(X_==1), X_^1, X_) - np.eye(X_.shape[0])).copy() #reverse matrix for non_links\n",
    "    X_rev[n,:] = 0\n",
    "    M0 = zr.T @ X_rev @ zc #n. of non-links between biclusters without current node\n",
    "\n",
    "    r = zc[nn,:].T @ X[n, nn]\n",
    "    R = np.tile(r, (Kr, 1))\n",
    "\n",
    "    logLik_exComp = np.sum(betaln(M1+R+a, M0+Mc-R+b) - betaln(M1+a, M0+b),1)\n",
    "    logLik_newComp = np.sum(betaln(r+a, mc-r+b) - betaln(a,b),1)\n",
    "\n",
    "    logLik = np.concatenate([logLik_exComp, logLik_newcomp])\n",
    "    logPrior = np.log(np.append(mr, A))\n",
    "\n",
    "    logPost = logPrior + logLik\n",
    "\n",
    "    P = np.exp(logPost-max(logPost)) \n",
    "\n",
    "    # Assignment through random draw fron unif(0,1), taking first value from prob. vector\n",
    "    draw = np.random.rand()\n",
    "    i = np.argwhere(draw<np.cumsum(P)/sum(P))[0]\n",
    "\n",
    "    zr[n,:] = 0\n",
    "    if i == Kr: # If new component: add new column to partition matrix\n",
    "        zr = np.hstack((zr, np.zeros((N,1)))) \n",
    "    zr[n,i] = 1\n"
   ]
  },
  {
   "cell_type": "code",
   "execution_count": 16,
   "metadata": {},
   "outputs": [],
   "source": [
    "N = len(X)\n",
    "\n",
    "zr = np.ones([N, 1])\n",
    "zc = np.ones([N, 1])"
   ]
  },
  {
   "cell_type": "code",
   "execution_count": 17,
   "metadata": {},
   "outputs": [],
   "source": [
    "n = 0\n",
    "\n",
    "nn = [_ for _ in range(N)]\n",
    "nn.remove(n)\n",
    "\n",
    "# X_ = X[np.ix_(nn,nn)]\n",
    "\n",
    "X_ = X.copy()\n",
    "X_[:,n] = 0\n",
    "\n",
    "Kr = len(zr[0])\n",
    "Kc = len(zc[0])"
   ]
  },
  {
   "cell_type": "code",
   "execution_count": 20,
   "metadata": {},
   "outputs": [],
   "source": [
    "mr = np.sum(zr[nn,:], 0)[np.newaxis] #newaxis allows m to become 2d array (for transposing)\n",
    "mc = np.sum(zc[nn,:], 0)[np.newaxis]\n",
    "Mc = np.tile(mc, (Kr, 1))\n",
    "\n",
    "M1 = zr.T @ X_ @ zc"
   ]
  },
  {
   "cell_type": "code",
   "execution_count": 32,
   "metadata": {},
   "outputs": [],
   "source": [
    "X_rev = (np.where((X_==0)|(X_==1), X_^1, X_) - np.eye(X_.shape[0])).copy()"
   ]
  },
  {
   "cell_type": "code",
   "execution_count": 31,
   "metadata": {},
   "outputs": [],
   "source": [
    "X_ = X_.astype(int)"
   ]
  },
  {
   "cell_type": "code",
   "execution_count": 33,
   "metadata": {},
   "outputs": [
    {
     "ename": "NameError",
     "evalue": "name 'logLik_newcomp' is not defined",
     "output_type": "error",
     "traceback": [
      "\u001b[1;31m---------------------------------------------------------------------------\u001b[0m",
      "\u001b[1;31mNameError\u001b[0m                                 Traceback (most recent call last)",
      "\u001b[1;32mc:\\Users\\nakaz\\Desktop\\DSBA\\TESI\\BNP-Net\\src\\irm_bicluster.ipynb Cell 25\u001b[0m in \u001b[0;36m<cell line: 39>\u001b[1;34m()\u001b[0m\n\u001b[0;32m     <a href='vscode-notebook-cell:/c%3A/Users/nakaz/Desktop/DSBA/TESI/BNP-Net/src/irm_bicluster.ipynb#Y105sZmlsZQ%3D%3D?line=35'>36</a>\u001b[0m logLik_exComp \u001b[39m=\u001b[39m np\u001b[39m.\u001b[39msum(betaln(M1\u001b[39m+\u001b[39mR\u001b[39m+\u001b[39ma, M0\u001b[39m+\u001b[39mMc\u001b[39m-\u001b[39mR\u001b[39m+\u001b[39mb) \u001b[39m-\u001b[39m betaln(M1\u001b[39m+\u001b[39ma, M0\u001b[39m+\u001b[39mb),\u001b[39m1\u001b[39m)\n\u001b[0;32m     <a href='vscode-notebook-cell:/c%3A/Users/nakaz/Desktop/DSBA/TESI/BNP-Net/src/irm_bicluster.ipynb#Y105sZmlsZQ%3D%3D?line=36'>37</a>\u001b[0m logLik_newComp \u001b[39m=\u001b[39m np\u001b[39m.\u001b[39msum(betaln(r\u001b[39m+\u001b[39ma, mc\u001b[39m-\u001b[39mr\u001b[39m+\u001b[39mb) \u001b[39m-\u001b[39m betaln(a,b),\u001b[39m1\u001b[39m)\n\u001b[1;32m---> <a href='vscode-notebook-cell:/c%3A/Users/nakaz/Desktop/DSBA/TESI/BNP-Net/src/irm_bicluster.ipynb#Y105sZmlsZQ%3D%3D?line=38'>39</a>\u001b[0m logLik \u001b[39m=\u001b[39m np\u001b[39m.\u001b[39mconcatenate([logLik_exComp, logLik_newcomp])\n\u001b[0;32m     <a href='vscode-notebook-cell:/c%3A/Users/nakaz/Desktop/DSBA/TESI/BNP-Net/src/irm_bicluster.ipynb#Y105sZmlsZQ%3D%3D?line=39'>40</a>\u001b[0m logPrior \u001b[39m=\u001b[39m np\u001b[39m.\u001b[39mlog(np\u001b[39m.\u001b[39mappend(mr, A))\n\u001b[0;32m     <a href='vscode-notebook-cell:/c%3A/Users/nakaz/Desktop/DSBA/TESI/BNP-Net/src/irm_bicluster.ipynb#Y105sZmlsZQ%3D%3D?line=41'>42</a>\u001b[0m logPost \u001b[39m=\u001b[39m logPrior \u001b[39m+\u001b[39m logLik\n",
      "\u001b[1;31mNameError\u001b[0m: name 'logLik_newcomp' is not defined"
     ]
    }
   ],
   "source": [
    "n = 0\n",
    "\n",
    "nn = [_ for _ in range(N)]\n",
    "nn.remove(n)\n",
    "\n",
    "# X_ = X[np.ix_(nn,nn)]\n",
    "\n",
    "X_ = X.copy().astype(int)\n",
    "X_[:,n] = 0\n",
    "\n",
    "Kr = len(zr[0])\n",
    "Kc = len(zc[0])\n",
    "\n",
    "if Kr > 1:\n",
    "    idx = np.argwhere(np.sum(zr[nn], 0) == 0)\n",
    "    zr = np.delete(zr, idx, axis=1)\n",
    "    Kr -= len(idx)\n",
    "\n",
    "# m = n. of nodes in each component \n",
    "mr = np.sum(zr[nn,:], 0)[np.newaxis] #newaxis allows m to become 2d array (for transposing)\n",
    "mc = np.sum(zc[nn,:], 0)[np.newaxis]\n",
    "Mc = np.tile(mc, (Kr, 1))\n",
    "\n",
    "# M = max links from other clusts\n",
    "# M = np.tile(m, (Kr, 1))\n",
    "\n",
    "M1 = zr.T @ X_ @ zc\n",
    "\n",
    "X_rev = (np.where((X_==0)|(X_==1), X_^1, X_) - np.eye(X_.shape[0])).copy() #reverse matrix for non_links\n",
    "X_rev[n,:] = 0\n",
    "M0 = zr.T @ X_rev @ zc #n. of non-links between biclusters without current node\n",
    "\n",
    "r = zc[nn,:].T @ X[n, nn]\n",
    "R = np.tile(r, (Kr, 1))\n",
    "\n",
    "logLik_exComp = np.sum(betaln(M1+R+a, M0+Mc-R+b) - betaln(M1+a, M0+b),1)\n",
    "logLik_newComp = np.sum(betaln(r+a, mc-r+b) - betaln(a,b),1)\n",
    "\n",
    "logLik = np.concatenate([logLik_exComp, logLik_newComp])\n",
    "logPrior = np.log(np.append(mr, A))\n",
    "\n",
    "logPost = logPrior + logLik\n",
    "\n",
    "P = np.exp(logPost-max(logPost)) \n",
    "\n",
    "# Assignment through random draw fron unif(0,1), taking first value from prob. vector\n",
    "draw = np.random.rand()\n",
    "i = np.argwhere(draw<np.cumsum(P)/sum(P))[0]\n",
    "\n",
    "zr[n,:] = 0\n",
    "if i == Kr: # If new component: add new column to partition matrix\n",
    "    zr = np.hstack((zr, np.zeros((N,1)))) \n",
    "zr[n,i] = 1"
   ]
  },
  {
   "cell_type": "code",
   "execution_count": 297,
   "metadata": {},
   "outputs": [],
   "source": [
    "for n in range(N):\n",
    "    nn = [_ for _ in range(N)]\n",
    "    nn.remove(n)\n",
    "\n",
    "    # X_ = X[np.ix_(nn,nn)]\n",
    "\n",
    "    X_ = X.copy()\n",
    "    X_[:,n] = 0\n",
    "\n",
    "    Kr = len(zr[0])\n",
    "    Kc = len(zc[0])\n",
    "\n",
    "    if Kc > 1:\n",
    "        idx = np.argwhere(np.sum(zc[nn], 0) == 0)\n",
    "        zc = np.delete(zc, idx, axis=1)\n",
    "        Kc -= len(idx)\n",
    "\n",
    "    # m = n. of nodes in each component \n",
    "    mr = np.sum(zr[nn,:], 0)[np.newaxis] #newaxis allows m to become 2d array (for transposing)\n",
    "    mc = np.sum(zc[nn,:], 0)[np.newaxis]\n",
    "    Mr = np.tile(mr.T, (1, Kc))\n",
    "\n",
    "    M1 = zr.T @ X_ @ zc\n",
    "\n",
    "    X_rev = (np.where((X_==0)|(X_==1), X_^1, X_) - np.eye(X_.shape[0])).copy() #reverse matrix for non_links\n",
    "    X_rev[:,0] = 0\n",
    "    M0 = zr.T @ X_rev @ zc #n. of non-links between biclusters without current node\n",
    "\n",
    "    s = zr[nn,:].T @ X[nn, n]\n",
    "    S = np.tile(s[np.newaxis].T, (1, Kc))\n",
    "\n",
    "    logLik_exComp = np.sum(betaln(M1+S+a, M0+Mr-S+b) - betaln(M1+a, M0+b), 0)\n",
    "    logLik_newComp = np.sum(betaln(s+a, mr-s+b) - betaln(a,b),1)\n",
    "\n",
    "    logLik = np.concatenate([logLik_exComp, logLik_newComp])\n",
    "    logPrior = np.log(np.append(mc, A))\n",
    "\n",
    "    logPost = logPrior + logLik\n",
    "\n",
    "    P = np.exp(logPost-max(logPost)) \n",
    "\n",
    "    # Assignment through random draw fron unif(0,1), taking first value from prob. vector\n",
    "    draw = np.random.rand()\n",
    "    i = np.argwhere(draw<np.cumsum(P)/sum(P))[0]\n",
    "\n",
    "    zc[n,:] = 0\n",
    "    if i == Kc: # If new component: add new column to partition matrix\n",
    "        zc = np.hstack((zc, np.zeros((N,1)))) \n",
    "    zc[n,i] = 1"
   ]
  },
  {
   "cell_type": "code",
   "execution_count": 298,
   "metadata": {},
   "outputs": [
    {
     "data": {
      "text/plain": [
       "array([[0., 1., 0.],\n",
       "       [1., 0., 0.],\n",
       "       [0., 1., 0.],\n",
       "       [1., 0., 0.],\n",
       "       [0., 0., 1.]])"
      ]
     },
     "execution_count": 298,
     "metadata": {},
     "output_type": "execute_result"
    }
   ],
   "source": [
    "zc"
   ]
  },
  {
   "cell_type": "code",
   "execution_count": 268,
   "metadata": {},
   "outputs": [
    {
     "data": {
      "text/plain": [
       "array([-4.19970508, -3.14988295, -3.40119738])"
      ]
     },
     "execution_count": 268,
     "metadata": {},
     "output_type": "execute_result"
    }
   ],
   "source": [
    "np.sum(betaln(M1+S+a, M0+Mr-S+b) - betaln(M1+a, M0+b), 0)"
   ]
  },
  {
   "cell_type": "code",
   "execution_count": 271,
   "metadata": {},
   "outputs": [
    {
     "data": {
      "text/plain": [
       "array([-2.89037176])"
      ]
     },
     "execution_count": 271,
     "metadata": {},
     "output_type": "execute_result"
    }
   ],
   "source": [
    "np.sum(betaln(s+a, mr-s+b) - betaln(a,b), 1)"
   ]
  },
  {
   "cell_type": "code",
   "execution_count": 289,
   "metadata": {},
   "outputs": [],
   "source": [
    "zc[n,:] = 0\n",
    "if i == Kc: # If new component: add new column to partition matrix\n",
    "    zc = np.hstack((zc, np.zeros((N,1)))) \n",
    "zc[n,i] = 1"
   ]
  },
  {
   "cell_type": "code",
   "execution_count": 290,
   "metadata": {},
   "outputs": [
    {
     "data": {
      "text/plain": [
       "array([[0., 0., 0., 1.],\n",
       "       [1., 0., 0., 0.],\n",
       "       [0., 1., 0., 0.],\n",
       "       [0., 1., 0., 0.],\n",
       "       [0., 0., 1., 0.]])"
      ]
     },
     "execution_count": 290,
     "metadata": {},
     "output_type": "execute_result"
    }
   ],
   "source": [
    "zc"
   ]
  },
  {
   "cell_type": "code",
   "execution_count": null,
   "metadata": {},
   "outputs": [],
   "source": []
  }
 ],
 "metadata": {
  "kernelspec": {
   "display_name": "Python 3.9.8 ('bnpenv': venv)",
   "language": "python",
   "name": "python3"
  },
  "language_info": {
   "codemirror_mode": {
    "name": "ipython",
    "version": 3
   },
   "file_extension": ".py",
   "mimetype": "text/x-python",
   "name": "python",
   "nbconvert_exporter": "python",
   "pygments_lexer": "ipython3",
   "version": "3.9.8"
  },
  "orig_nbformat": 4,
  "vscode": {
   "interpreter": {
    "hash": "5e30ed4f6f8bb2a91dfe46fec38963d5a062a926e2e168732dffa7def24e0a27"
   }
  }
 },
 "nbformat": 4,
 "nbformat_minor": 2
}
