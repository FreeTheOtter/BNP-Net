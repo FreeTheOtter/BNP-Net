{
 "cells": [
  {
   "cell_type": "code",
   "execution_count": 2,
   "metadata": {},
   "outputs": [],
   "source": [
    "from main_sbm import SBM\n",
    "import numpy as np\n",
    "import matplotlib.pyplot as plt\n",
    "import seaborn as sns\n",
    "import igraph as ig\n",
    "import pickle as pkl\n",
    "from collections import Counter\n",
    "from eval import retrieve_samples\n",
    "from igraph.clustering import compare_communities\n",
    "\n",
    "def generate_graph_bicluster(Sr, Sc, thetas, random_seed = None, edge = \"binary\", undirected = False):\n",
    "    # Kr = thetas.shape[0]\n",
    "    # Kc = thetas.shape[1]\n",
    "\n",
    "    N = np.sum(Sr)\n",
    "\n",
    "    Hr = []\n",
    "    c = 0\n",
    "    for i in Sr:\n",
    "        for j in range(i):\n",
    "            Hr += [c]\n",
    "        c+=1\n",
    "\n",
    "    Hc = []\n",
    "    c = 0\n",
    "    for i in Sc:\n",
    "        for j in range(i):\n",
    "            Hc += [c]\n",
    "        c+=1\n",
    "\n",
    "    if isinstance(random_seed, int):\n",
    "        np.random.seed(random_seed)\n",
    "\n",
    "    X = np.zeros((N,N))\n",
    "    if edge == \"binary\":\n",
    "        for i in range(N):\n",
    "            for j in range(N):\n",
    "                if i == j:\n",
    "                    continue\n",
    "                X[i, j] = np.random.binomial(1, thetas[Hr[i], Hc[j]])\n",
    "    elif edge == \"weighted\":\n",
    "        for i in range(N):\n",
    "            for j in range(N):\n",
    "                if i == j:\n",
    "                    continue\n",
    "                X[i, j] = np.random.poisson(thetas[Hr[i], Hc[j]], 1)\n",
    "\n",
    "    if undirected:\n",
    "        X = np.triu(X) + np.triu(X).T\n",
    "\n",
    "    return X\n",
    "\n",
    "def cluster_summs(Z, ret = False):\n",
    "    temp_Z = []\n",
    "    mean_lenght = 0\n",
    "    mean_nodes = 0\n",
    "    for i in range(len(Z)):\n",
    "        current_z = np.sum(Z[i], 0)\n",
    "        temp_Z.append(current_z)\n",
    "        mean_lenght += len(current_z)\n",
    "        mean_nodes += np.mean(current_z)\n",
    "\n",
    "    mean_lenght /= len(Z)\n",
    "    mean_nodes /= len(Z)\n",
    "\n",
    "    print('mean number of clusters', mean_lenght)\n",
    "    print('mean nodes per cluster', mean_nodes)\n",
    "    if ret:\n",
    "        return temp_Z"
   ]
  },
  {
   "cell_type": "code",
   "execution_count": 3,
   "metadata": {},
   "outputs": [],
   "source": [
    "def compute_VIs(C):\n",
    "    N = len(C)\n",
    "    VIs = np.zeros((N,N))\n",
    "\n",
    "    for i in range(N):\n",
    "        for j in range(i):\n",
    "            VIs[i,j] = compare_communities(C[i], C[j])\n",
    "\n",
    "    VIs += VIs.T\n",
    "\n",
    "    return VIs\n",
    "\n",
    "def compute_edge_quantities(X, zr, zc = None, mode = 'biclustering'):\n",
    "    if mode == 'uniclustering':\n",
    "        M1 = zr.T @ X @ zr\n",
    "        X = X.copy().astype(int)\n",
    "        X_rev = (np.where((X==0)|(X==1), X^1, X) - np.eye(X.shape[0])).copy() #reverse matrix for non_links\n",
    "        M0 = zr.T @ X_rev @ zr\n",
    "\n",
    "\n",
    "    if mode == 'biclustering':\n",
    "        M1 = zr.T @ X @ zc\n",
    "\n",
    "        X = X.copy().astype(int)\n",
    "        X_rev = (np.where((X==0)|(X==1), X^1, X) - np.eye(X.shape[0])).copy() #reverse matrix for non_links\n",
    "        M0 = zr.T @ X_rev @ zc\n",
    "\n",
    "    return M1, M0\n",
    "\n",
    "def compute_logL(X, zr, zc = None, a=1, b=1, mode = 'biclustering'):\n",
    "    if mode == 'uniclustering':\n",
    "        M1, M0 = compute_edge_quantities(X, zr, mode = 'uniclustering')\n",
    "        \n",
    "\n",
    "    if mode == 'biclustering':\n",
    "        M1, M0 = compute_edge_quantities(X, zr, zc, mode = 'biclustering')\n",
    "    \n",
    "    logLlhood = np.sum(betaln(M1 + a, M0 + b) - betaln(a, b))\n",
    "    return logLlhood\n",
    "\n",
    "def compute_logLs(X, Z, mode = 'biclustering'):\n",
    "    if mode == 'uniclustering':\n",
    "        N = len(Z)\n",
    "        logLs = [0]*N\n",
    "        for i in range(N):\n",
    "            logLs[i] = compute_logL(X, Z[i], mode = 'uniclustering')\n",
    "    if mode == 'biclustering':\n",
    "        N = len(Z[0])\n",
    "        logLs = [0]*N\n",
    "        for i in range(N):\n",
    "            logLs[i] = compute_logL(X, Z[0][i], Z[1][i], mode = 'biclustering')\n",
    "\n",
    "    return logLs\n",
    "\n",
    "def compute_Zhat(X, Z, mode = 'biclustering', weight_llhood = False, ret_VI = False, ret_all = False):\n",
    "    if mode == 'uniclustering':\n",
    "        Z = retrieve_samples(Z, gap = 10)\n",
    "\n",
    "        C = [np.where(x == 1)[1].tolist() for x in Z]\n",
    "\n",
    "        VI = compute_VIs(C)\n",
    "        VI = VI.sum(0)/VI.shape[0]\n",
    "\n",
    "        if weight_llhood == True:\n",
    "            logLs = compute_logLs(X, Z, mode = 'uniclustering')\n",
    "            VI *= -logLs        \n",
    "\n",
    "        idx_min = np.argmin(VI) \n",
    "        z_hat = Z[idx_min]\n",
    "        c_hat = np.where(z_hat==1)[1]\n",
    "\n",
    "    if mode == 'biclustering':\n",
    "        Zr = retrieve_samples(Z[0], gap = 10)\n",
    "        Zc = retrieve_samples(Z[1], gap = 10)\n",
    "\n",
    "        Cr = [np.where(x == 1)[1].tolist() for x in Zr]\n",
    "        Cc = [np.where(x == 1)[1].tolist() for x in Zc]\n",
    "\n",
    "        VIr = compute_VIs(Cr)\n",
    "        VIc = compute_VIs(Cc)\n",
    "\n",
    "        VI = (VIr + VIc)/2\n",
    "        VI = VI.sum(0)/VI.shape[0]\n",
    "\n",
    "        if weight_llhood == True:\n",
    "            logLs = compute_logLs(X, [Zr, Zc], mode = 'biclustering')\n",
    "            VI *= -logLs\n",
    "\n",
    "        idx_min = np.argmin(VI) \n",
    "        z_hat = [Zr[idx_min], Zc[idx_min]]\n",
    "        c_hat = [np.where(z_hat[0]==1)[1], np.where(z_hat[1]==1)[1]]\n",
    "\n",
    "    if ret_all:\n",
    "        return [Zr, Zc], VI, idx_min\n",
    "\n",
    "    if ret_VI:\n",
    "        return z_hat, VI[idx_min]\n",
    "\n",
    "    return z_hat\n",
    "\n",
    "def compute_rhos(X, Z, a=1, b=1, edge_type = 'directed', edge_weight = 'binary', mode = 'normal'):\n",
    "    rhos = np.zeros((len(X), len(X)))\n",
    "    if mode == 'normal':    \n",
    "        A = np.array([np.where(Z[i,:] == 1)[0] for i in range(len(Z))]).flatten()\n",
    "\n",
    "        if edge_type == 'undirected':\n",
    "            M1 = Z.T @ X @ Z - np.diag(np.sum(X@Z*Z, 0) / 2) \n",
    "\n",
    "            m = np.sum(Z, 0)[np.newaxis]\n",
    "\n",
    "            M0 = m.T@m - np.diag((m*(m+1) / 2).flatten()) - M1 \n",
    "\n",
    "        elif edge_type == 'directed':\n",
    "            M1 = Z.T @ X @ Z\n",
    "\n",
    "            m = np.sum(Z, 0)[np.newaxis]\n",
    "            M0 = m.T@m - np.diag(m.flatten()) - M1\n",
    "\n",
    "        for i in range(len(X)):\n",
    "            for j in range(len(X)):\n",
    "                if i == j:\n",
    "                    continue\n",
    "                links = M1[A[i], A[j]]\n",
    "                non_links = M0[A[i], A[j]]\n",
    "                rhos[i,j] += (links + a) / (links + non_links + a + b)\n",
    "\n",
    "    elif mode == 'biclustering':\n",
    "        zr = Z[0]\n",
    "        zc = Z[1]\n",
    "        cr = np.where(zr==1)[1]\n",
    "        cc = np.where(zc==1)[1]\n",
    "\n",
    "        M1 = zr.T @ X @ zc\n",
    "\n",
    "        X_ = X.copy().astype(int)\n",
    "        X_rev = (np.where((X_==0)|(X_==1), X_^1, X_) - np.eye(X_.shape[0])).copy() #reverse matrix for non_links\n",
    "\n",
    "        M0 = zr.T @ X_rev @ zc\n",
    "\n",
    "        for i in range(len(X)):\n",
    "            for j in range(len(X)):\n",
    "                if i == j:\n",
    "                    continue\n",
    "                links = M1[cr[i], cc[j]]\n",
    "                non_links = M0[cr[i], cc[j]]\n",
    "                rhos[i,j] += (links + a) / (links + non_links + a + b)\n",
    "    return rhos\n",
    "\n",
    "def compute_rho(X, sample, edge_type = 'directed', edge_weight = 'binary', mode = 'normal'):\n",
    "    rhos = np.zeros((len(X), len(X)))\n",
    "    if mode == 'normal':\n",
    "        for i in sample:\n",
    "            rhos += compute_rhos(X, i, edge_type = edge_type, edge_weight = edge_weight, mode = mode)\n",
    "        rhos /= len(sample)\n",
    "    if mode == 'biclustering':\n",
    "        for i in range(len(sample[0])):\n",
    "            rhos += compute_rhos(X, [sample[0][i], sample[1][i]], \n",
    "                            edge_type = edge_type, edge_weight = edge_weight, mode = mode)\n",
    "        rhos /= len(sample[0])\n",
    "    return rhos\n",
    "\n",
    "def compute_predicted_thetas(Sr, Sc, rho):\n",
    "    prob_matrix = np.zeros((len(Sr), len(Sc)))\n",
    "\n",
    "    Sr_ = [0] + list(np.cumsum(Sr))\n",
    "    Sc_ = [0] + list(np.cumsum(Sc))\n",
    "    for i in range(len(Sr)):\n",
    "        for j in range(len(Sc)):\n",
    "            interaction_matrix = rho[Sr_[i]:Sr_[i+1], Sc_[j]:Sc_[j+1]]\n",
    "            # if i == j:\n",
    "            #     if len(interaction_matrix) == 1:\n",
    "            #         continue\n",
    "            #     prob_matrix[i,j] += np.sum(interaction_matrix)/(len(interaction_matrix)**2 - len(interaction_matrix))\n",
    "            # else:\n",
    "            # prob_matrix[i,j] += np.mean(interaction_matrix)\n",
    "            prob_matrix[i,j] += np.average(interaction_matrix, weights=(interaction_matrix>0))\n",
    "\n",
    "    return prob_matrix"
   ]
  },
  {
   "cell_type": "code",
   "execution_count": 4,
   "metadata": {},
   "outputs": [],
   "source": [
    "n_clust = 5\n",
    "theta = np.zeros((n_clust,n_clust)) + 0.5\n",
    "np.fill_diagonal(theta, 2)\n",
    "\n",
    "# Sr = [20]*n_clust\n",
    "# Sc = [20]*n_clust\n",
    "\n",
    "Sr = [20, 20, 20, 20, 20]\n",
    "Sc = [20, 20, 20, 20, 20]\n",
    "\n",
    "Hr = []\n",
    "c = 0\n",
    "for i in Sr:\n",
    "    for j in range(i):\n",
    "        Hr += [c]\n",
    "    c+=1\n",
    "\n",
    "Hc = []\n",
    "c = 0\n",
    "for i in Sc:\n",
    "    for j in range(i):\n",
    "        Hc += [c]\n",
    "    c+=1\n",
    "\n",
    "z0 = [np.array(Hr), np.array(Hc)]\n",
    "\n",
    "X = generate_graph_bicluster(Sr, Sc, theta, random_seed=42, edge=\"weighted\") #CASE 1"
   ]
  },
  {
   "cell_type": "code",
   "execution_count": 5,
   "metadata": {},
   "outputs": [
    {
     "data": {
      "text/plain": [
       "[array([0, 0, 0, 0, 0, 0, 0, 0, 0, 0, 0, 0, 0, 0, 0, 0, 0, 0, 0, 0, 1, 1,\n",
       "        1, 1, 1, 1, 1, 1, 1, 1, 1, 1, 1, 1, 1, 1, 1, 1, 1, 1, 2, 2, 2, 2,\n",
       "        2, 2, 2, 2, 2, 2, 2, 2, 2, 2, 2, 2, 2, 2, 2, 2, 3, 3, 3, 3, 3, 3,\n",
       "        3, 3, 3, 3, 3, 3, 3, 3, 3, 3, 3, 3, 3, 3, 4, 4, 4, 4, 4, 4, 4, 4,\n",
       "        4, 4, 4, 4, 4, 4, 4, 4, 4, 4, 4, 4]),\n",
       " array([0, 0, 0, 0, 0, 0, 0, 0, 0, 0, 0, 0, 0, 0, 0, 0, 0, 0, 0, 0, 1, 1,\n",
       "        1, 1, 1, 1, 1, 1, 1, 1, 1, 1, 1, 1, 1, 1, 1, 1, 1, 1, 2, 2, 2, 2,\n",
       "        2, 2, 2, 2, 2, 2, 2, 2, 2, 2, 2, 2, 2, 2, 2, 2, 3, 3, 3, 3, 3, 3,\n",
       "        3, 3, 3, 3, 3, 3, 3, 3, 3, 3, 3, 3, 3, 3, 4, 4, 4, 4, 4, 4, 4, 4,\n",
       "        4, 4, 4, 4, 4, 4, 4, 4, 4, 4, 4, 4])]"
      ]
     },
     "execution_count": 5,
     "metadata": {},
     "output_type": "execute_result"
    }
   ],
   "source": [
    "z0"
   ]
  },
  {
   "cell_type": "code",
   "execution_count": 87,
   "metadata": {},
   "outputs": [],
   "source": [
    "theta = np.array([[2, 0.5, 0.5, 2, 0.5],\n",
    "                  [0.5, 2, 0.5, 0.5, 2],\n",
    "                  [0.5, 0.5, 2, 0.5, 2],\n",
    "                  [2, 0.5, 0.5, 2, 2],\n",
    "                  [0.5, 2, 2, 2, 2]])\n",
    "\n",
    "Sr = [20, 15, 10, 10, 8]\n",
    "Sc = [20, 15, 10, 10, 8]\n",
    "# n_clust = 5\n",
    "# theta = np.zeros((n_clust,n_clust)) + 0.5\n",
    "# np.fill_diagonal(theta, 2)\n",
    "\n",
    "# Sr = [20]*n_clust\n",
    "# Sc = [20]*n_clust\n",
    "\n",
    "# Sr = [30, 30, 15, 15, 10]\n",
    "# Sc = [30, 30, 15, 15, 10]\n",
    "\n",
    "# Sr = [15, 15, 15, 15]\n",
    "# Sc = [15, 15, 15, 15]\n",
    "\n",
    "Hr = []\n",
    "c = 0\n",
    "for i in Sr:\n",
    "    for j in range(i):\n",
    "        Hr += [c]\n",
    "    c+=1\n",
    "\n",
    "Hc = []\n",
    "c = 0\n",
    "for i in Sc:\n",
    "    for j in range(i):\n",
    "        Hc += [c]\n",
    "    c+=1\n",
    "\n",
    "z0 = [np.array(Hr), np.array(Hc)]\n",
    "\n",
    "X = generate_graph_bicluster(Sr, Sc, theta, random_seed=40, edge=\"weighted\") #CASE 2"
   ]
  },
  {
   "cell_type": "code",
   "execution_count": 85,
   "metadata": {},
   "outputs": [],
   "source": [
    "theta = np.array([[2, 0.5, 2, 2, 0.5],\n",
    "                  [0.5, 2, 0.5, 0.5, 2],\n",
    "                  [2, 2, 0.5, 2, 2],\n",
    "                  [2, 0.5, 0.5, 0.5, 0.5],\n",
    "                  [2, 0.5, 0.5, 2, 2]])\n",
    "\n",
    "Sr = [15, 15, 15, 15, 15]\n",
    "Sc = [15, 15, 15, 15, 15]\n",
    "\n",
    "X = generate_graph_bicluster(Sr, Sc, theta, random_seed=40,  edge=\"weighted\") #CASE 3"
   ]
  },
  {
   "cell_type": "code",
   "execution_count": 63,
   "metadata": {},
   "outputs": [],
   "source": [
    "theta = np.array([[2, 0.5, 0.1, 5, 2],\n",
    "                  [0.1, 2, 0.1, 0.1, 0.5],\n",
    "                  [0.1, 2, 0.5, 5, 0.5],\n",
    "                  [2, 5, 7, 0.5, 2]])\n",
    "\n",
    "Sr = [25, 25, 25, 25]\n",
    "Sc = [20, 20, 20, 20, 20]\n",
    "\n",
    "X = generate_graph_bicluster(Sr, Sc, theta, random_seed=40, edge=\"weighted\") #CASE 4"
   ]
  },
  {
   "cell_type": "code",
   "execution_count": 100,
   "metadata": {},
   "outputs": [
    {
     "data": {
      "image/png": "[encoded data removed]",
      "text/plain": [
       "<Figure size 360x288 with 2 Axes>"
      ]
     },
     "metadata": {
      "needs_background": "light"
     },
     "output_type": "display_data"
    }
   ],
   "source": [
    "fig, ax = plt.subplots(figsize = (5,4))\n",
    "ax = sns.heatmap(X, linewidth=0.0, ax = ax, cbar=True, cmap= 'rocket_r', xticklabels=[], yticklabels=[])\n",
    "plt.show()"
   ]
  },
  {
   "cell_type": "code",
   "execution_count": 66,
   "metadata": {},
   "outputs": [
    {
     "name": "stdout",
     "output_type": "stream",
     "text": [
      "mean number of clusters 8.0\n",
      "mean nodes per cluster 12.5\n",
      "None\n",
      "Counter({0: 20, 7: 20, 2: 15, 5: 15, 3: 10, 4: 10, 1: 5, 6: 5})\n"
     ]
    }
   ],
   "source": [
    "config = {'directed': True,\n",
    "          'binary' : False,\n",
    "          'unicluster': True}\n",
    "DP = SBM(config, alpha_PY_r=3, start_z=\"singleton\", set_seed=42)\n",
    "# DP.fit(X,100)\n",
    "# print(cluster_summs(DP.Z[90:]))\n",
    "# Counter(np.argwhere(DP.Z[-1])[:,1])\n",
    "\n",
    "DP.fit(X, 10000)\n",
    "with open(\"results/Case4_DP_w_Z_unipartite.pickle\", \"wb\") as f:\n",
    "    pkl.dump(DP.Z, f)\n",
    "\n",
    "print(cluster_summs(DP.Z[len(DP.Z)//2:]))\n",
    "print(Counter(np.argwhere(DP.Z[-1])[:,1]))"
   ]
  },
  {
   "cell_type": "code",
   "execution_count": 67,
   "metadata": {},
   "outputs": [],
   "source": [
    "DP.fit(X, 1)"
   ]
  },
  {
   "cell_type": "code",
   "execution_count": 68,
   "metadata": {},
   "outputs": [],
   "source": [
    "# print(cluster_summs(DP.Z[00:600]))\n",
    "# DP.expected_cl(DP.N, 0, 3.5, np.Infinity)\n",
    "# list_Z = cluster_summs(DP.Z, ret = True)\n",
    "# np.quantile([len(x) for x in list_Z], 2)\n",
    "# np.quantile([len(x) for x in list_Z], 0.5)"
   ]
  },
  {
   "cell_type": "code",
   "execution_count": 69,
   "metadata": {},
   "outputs": [
    {
     "name": "stdout",
     "output_type": "stream",
     "text": [
      "mean number of clusters 4.043\n",
      "mean nodes per cluster 24.786\n",
      "None\n",
      "mean number of clusters 5.0802\n",
      "mean nodes per cluster 19.73533333333343\n",
      "None\n",
      "Counter({0: 25, 3: 25, 1: 25, 2: 25})\n",
      "Counter({4: 20, 0: 20, 1: 20, 2: 20, 3: 20})\n"
     ]
    }
   ],
   "source": [
    "config = {'directed': True,\n",
    "          'binary' : False,\n",
    "          'unicluster': False}\n",
    "DP_bi = SBM(config, alpha_PY_r = 3, alpha_PY_c=3,\n",
    "            start_z = \"singleton\", set_seed=42)\n",
    "# DP_bi.fit(X,100)\n",
    "\n",
    "DP_bi.fit(X, 10000)\n",
    "with open(\"results/Case4_DP_w_Z_bipartite.pickle\", \"wb\") as f:\n",
    "    pkl.dump(DP_bi.Z, f)\n",
    "\n",
    "print(cluster_summs(DP_bi.Zr[len(DP_bi.Zr)//2:]))\n",
    "print(cluster_summs(DP_bi.Zc[len(DP_bi.Zc)//2:]))\n",
    "print(Counter(np.argwhere(DP_bi.Zr[-1])[:,1]))\n",
    "print(Counter(np.argwhere(DP_bi.Zc[-1])[:,1]))"
   ]
  },
  {
   "cell_type": "code",
   "execution_count": 70,
   "metadata": {},
   "outputs": [],
   "source": [
    "DP_bi.fit(X,1)"
   ]
  },
  {
   "cell_type": "code",
   "execution_count": 71,
   "metadata": {},
   "outputs": [
    {
     "name": "stdout",
     "output_type": "stream",
     "text": [
      "mean number of clusters 8.0\n",
      "mean nodes per cluster 12.5\n",
      "None\n",
      "Counter({0: 20, 7: 20, 2: 15, 5: 15, 3: 10, 4: 10, 1: 5, 6: 5})\n"
     ]
    }
   ],
   "source": [
    "config = {'directed': True,\n",
    "          'binary' : False,\n",
    "          'unicluster': True}\n",
    "PY = SBM(config, prior_r = \"PY\", alpha_PY_r=0.6,sigma_PY_r=-0.3, \n",
    "           start_z = \"singleton\", set_seed=42)\n",
    "# PY.fit(X,100)\n",
    "\n",
    "PY.fit(X, 10000)\n",
    "with open(\"results/Case4_PY_w_Z_unipartite.pickle\", \"wb\") as f:\n",
    "    pkl.dump(PY.Z, f)\n",
    "\n",
    "print(cluster_summs(PY.Z[len(PY.Z)//2:]))\n",
    "print(Counter(np.argwhere(PY.Z[-1])[:,1]))"
   ]
  },
  {
   "cell_type": "code",
   "execution_count": 72,
   "metadata": {},
   "outputs": [],
   "source": [
    "PY.fit(X,1)"
   ]
  },
  {
   "cell_type": "code",
   "execution_count": 73,
   "metadata": {},
   "outputs": [
    {
     "name": "stdout",
     "output_type": "stream",
     "text": [
      "mean number of clusters 4.0032\n",
      "mean nodes per cluster 24.984\n",
      "None\n",
      "mean number of clusters 5.0084\n",
      "mean nodes per cluster 19.972\n",
      "None\n",
      "Counter({0: 25, 1: 25, 2: 25, 3: 25})\n",
      "Counter({0: 20, 1: 20, 2: 20, 3: 20, 4: 20})\n"
     ]
    }
   ],
   "source": [
    "config = {'directed': True,\n",
    "          'binary' : False,\n",
    "          'unicluster': False}\n",
    "PY_bi = SBM(config, start_z = \"singleton\", set_seed=42,\n",
    "         prior_r = \"PY\", alpha_PY_r=0.6,sigma_PY_r=-0.3,\n",
    "         prior_c = \"PY\", alpha_PY_c=0.6,sigma_PY_c=-0.3)\n",
    "\n",
    "# PY_bi.fit(X,500)\n",
    "\n",
    "PY_bi.fit(X, 10000)\n",
    "with open(\"results/Case4_PY_w_Z_bipartite.pickle\", \"wb\") as f:\n",
    "    pkl.dump(PY_bi.Z, f)\n",
    "\n",
    "print(cluster_summs(PY_bi.Zr[len(PY_bi.Zr)//2:]))\n",
    "print(cluster_summs(PY_bi.Zc[len(PY_bi.Zc)//2:]))\n",
    "print(Counter(np.argwhere(PY_bi.Zr[-1])[:,1]))\n",
    "print(Counter(np.argwhere(PY_bi.Zc[-1])[:,1]))"
   ]
  },
  {
   "cell_type": "code",
   "execution_count": 74,
   "metadata": {},
   "outputs": [],
   "source": [
    "PY_bi.fit(X,1)"
   ]
  },
  {
   "cell_type": "code",
   "execution_count": 75,
   "metadata": {},
   "outputs": [
    {
     "name": "stdout",
     "output_type": "stream",
     "text": [
      "mean number of clusters 8.0\n",
      "mean nodes per cluster 12.5\n",
      "None\n",
      "Counter({0: 20, 7: 20, 2: 15, 5: 15, 3: 10, 4: 10, 1: 5, 6: 5})\n"
     ]
    }
   ],
   "source": [
    "config = {'directed': True,\n",
    "          'binary' : False,\n",
    "          'unicluster': True}\n",
    "DM = SBM(config, prior_r = \"DM\",beta_DM_r=3.5/50,K_DM_r=50,\n",
    "            start_z = \"singleton\", set_seed=42)\n",
    "# DM.fit(X,100)\n",
    "\n",
    "DM.fit(X, 10000)\n",
    "with open(\"results/Case4_DM_w_Z_unipartite.pickle\", \"wb\") as f:\n",
    "    pkl.dump(DM.Z, f)\n",
    "\n",
    "print(cluster_summs(DM.Z[len(DM.Z)//2:]))\n",
    "print(Counter(np.argwhere(DM.Z[-1])[:,1]))"
   ]
  },
  {
   "cell_type": "code",
   "execution_count": 76,
   "metadata": {},
   "outputs": [],
   "source": [
    "DM.fit(X,1)"
   ]
  },
  {
   "cell_type": "code",
   "execution_count": 77,
   "metadata": {},
   "outputs": [
    {
     "name": "stdout",
     "output_type": "stream",
     "text": [
      "mean number of clusters 4.0536\n",
      "mean nodes per cluster 24.734\n",
      "None\n",
      "mean number of clusters 5.097\n",
      "mean nodes per cluster 19.68009523809534\n",
      "None\n",
      "Counter({0: 25, 3: 25, 1: 25, 2: 25})\n",
      "Counter({3: 20, 0: 20, 1: 20, 2: 20, 4: 20})\n"
     ]
    }
   ],
   "source": [
    "config = {'directed': True,\n",
    "          'binary' : False,\n",
    "          'unicluster': False}\n",
    "DM_bi = SBM(config, start_z = \"singleton\", set_seed=42,\n",
    "         prior_r = \"DM\", beta_DM_r=3.5/50, K_DM_r=50,\n",
    "         prior_c = \"DM\", beta_DM_c=3.5/50, K_DM_c=50)\n",
    "# DM_bi.fit(X,500)\n",
    "\n",
    "DM_bi.fit(X, 10000)\n",
    "with open(\"results/Case4_DM_w_Z_bipartite.pickle\", \"wb\") as f:\n",
    "    pkl.dump(DM_bi.Z, f)\n",
    "\n",
    "print(cluster_summs(DM_bi.Zr[len(DM_bi.Zr)//2:]))\n",
    "print(cluster_summs(DM_bi.Zc[len(DM_bi.Zc)//2:]))\n",
    "print(Counter(np.argwhere(DM_bi.Zr[-1])[:,1]))\n",
    "print(Counter(np.argwhere(DM_bi.Zc[-1])[:,1]))"
   ]
  },
  {
   "cell_type": "code",
   "execution_count": 78,
   "metadata": {},
   "outputs": [],
   "source": [
    "DM_bi.fit(X,1)"
   ]
  },
  {
   "cell_type": "code",
   "execution_count": 79,
   "metadata": {},
   "outputs": [
    {
     "name": "stdout",
     "output_type": "stream",
     "text": [
      "mean number of clusters 8.0\n",
      "mean nodes per cluster 12.5\n",
      "None\n",
      "Counter({0: 20, 7: 20, 2: 15, 5: 15, 3: 10, 4: 10, 1: 5, 6: 5})\n"
     ]
    }
   ],
   "source": [
    "config = {'directed': True,\n",
    "          'binary' : False,\n",
    "          'unicluster': True}\n",
    "GN = SBM(config, prior_r = \"GN\", gamma_GN_r=0.45,\n",
    "            start_z = \"singleton\", set_seed=42)\n",
    "# GN.fit(X,100)\n",
    "\n",
    "GN.fit(X, 10000)\n",
    "with open(\"results/Case4_w_GN_w_Z_unipartite.pickle\", \"wb\") as f:\n",
    "    pkl.dump(GN.Z, f)\n",
    "\n",
    "print(cluster_summs(GN.Z[len(GN.Z)//2:]))\n",
    "print(Counter(np.argwhere(GN.Z[-1])[:,1]))"
   ]
  },
  {
   "cell_type": "code",
   "execution_count": 80,
   "metadata": {},
   "outputs": [],
   "source": [
    "GN.fit(X,1)"
   ]
  },
  {
   "cell_type": "code",
   "execution_count": 81,
   "metadata": {},
   "outputs": [
    {
     "name": "stdout",
     "output_type": "stream",
     "text": [
      "mean number of clusters 4.0\n",
      "mean nodes per cluster 25.0\n",
      "None\n",
      "mean number of clusters 5.0\n",
      "mean nodes per cluster 20.0\n",
      "None\n",
      "Counter({0: 25, 1: 25, 2: 25, 3: 25})\n",
      "Counter({0: 20, 1: 20, 2: 20, 3: 20, 4: 20})\n"
     ]
    }
   ],
   "source": [
    "config = {'directed': True,\n",
    "          'binary' : False,\n",
    "          'unicluster': False}\n",
    "GN_bi = SBM(config, start_z = \"singleton\", set_seed=42,\n",
    "         prior_r = \"GN\", gamma_GN_r=0.45,\n",
    "         prior_c = \"GN\", gamma_GN_c=0.45)\n",
    "# GN_bi.fit(X,100)\n",
    "\n",
    "GN_bi.fit(X, 10000)\n",
    "with open(\"results/Case4_GN_w_Z_bipartite.pickle\", \"wb\") as f:\n",
    "    pkl.dump(GN_bi.Z, f)\n",
    "\n",
    "print(cluster_summs(GN_bi.Zr[len(GN_bi.Zr)//2:]))\n",
    "print(cluster_summs(GN_bi.Zc[len(GN_bi.Zc)//2:]))\n",
    "print(Counter(np.argwhere(GN_bi.Zr[-1])[:,1]))\n",
    "print(Counter(np.argwhere(GN_bi.Zc[-1])[:,1]))"
   ]
  },
  {
   "cell_type": "code",
   "execution_count": 116,
   "metadata": {},
   "outputs": [
    {
     "name": "stdout",
     "output_type": "stream",
     "text": [
      "[6.43545e+03 1.58900e+02 3.10000e+00]\n"
     ]
    },
    {
     "data": {
      "text/plain": [
       "array([8.76957705, 5.06827507, 1.13140211])"
      ]
     },
     "execution_count": 116,
     "metadata": {},
     "output_type": "execute_result"
    }
   ],
   "source": [
    "m = np.array([80,1])\n",
    "gamma = 0.45\n",
    "print(np.append((m + 1) * (np.sum(m) - len(m) + gamma), len(m)**2 - len(m)*gamma))\n",
    "np.log(np.append((m + 1) * (np.sum(m) - len(m) + gamma), len(m)**2 - len(m)*gamma))"
   ]
  },
  {
   "cell_type": "code",
   "execution_count": null,
   "metadata": {},
   "outputs": [],
   "source": []
  },
  {
   "attachments": {},
   "cell_type": "markdown",
   "metadata": {},
   "source": [
    "Analysis"
   ]
  },
  {
   "cell_type": "code",
   "execution_count": 107,
   "metadata": {},
   "outputs": [],
   "source": [
    "def evalZ(Z, z0):\n",
    "    Zr = retrieve_samples(Z[0], gap = 10)\n",
    "    Zc = retrieve_samples(Z[1], gap = 10)\n",
    "\n",
    "    Cr = [np.where(x == 1)[1].tolist() for x in Zr]\n",
    "    Cc = [np.where(x == 1)[1].tolist() for x in Zc]\n",
    "\n",
    "    VIr = 0\n",
    "    VIc = 0\n",
    "    for i in range(len(Cr)):\n",
    "        VIr += compare_communities(Cr[i], z0[0])\n",
    "        VIc += compare_communities(Cc[i], z0[1])\n",
    "\n",
    "    VIr = VIr/len(Cr)\n",
    "    VIc = VIc/len(Cc)\n",
    "\n",
    "    VI_relative_true = np.mean([VIr, VIc])\n",
    "\n",
    "    Zsample, VI, idx_min = compute_Zhat(X, Z, mode = 'biclustering', ret_all = True)\n",
    "\n",
    "    z_hat = [Zsample[0][idx_min], Zsample[1][idx_min]]\n",
    "    c_hat = [np.where(z_hat[0]==1)[1], np.where(z_hat[1]==1)[1]]\n",
    "\n",
    "    sorted_VI = VI[np.argsort(VI)]\n",
    "    sorted_Zr = [Zsample[0][i] for i in np.argsort(VI)]\n",
    "    sorted_Zc = [Zsample[1][i] for i in np.argsort(VI)]\n",
    "\n",
    "    b_threshold = int(len(VI)*0.95)\n",
    "\n",
    "    zr_ball = sorted_Zr[b_threshold]\n",
    "    zc_ball = sorted_Zc[b_threshold]\n",
    "\n",
    "    c_ball = [np.where(zr_ball==1)[1], np.where(zc_ball==1)[1]]\n",
    "\n",
    "    VI_relative_ball = np.mean([compare_communities(c_hat[0], c_ball[0]), \n",
    "                                compare_communities(c_hat[1], c_ball[1])])\n",
    "\n",
    "    VIr_true = compare_communities(c_hat[0], z0[0])\n",
    "    VIc_true = compare_communities(c_hat[1], z0[1])\n",
    "\n",
    "    print(\"VIr: \", VIr_true)\n",
    "    print(\"VIc: \", VIc_true)\n",
    "    print(\"VI_rel_true: \", VI_relative_true)\n",
    "    print(\"VI_rel_ball: \", VI_relative_ball)\n",
    "\n",
    "\n",
    "    Kr_vector = [i.shape[1] for i in sorted_Zr]\n",
    "    Kc_vector = [i.shape[1] for i in sorted_Zc] \n",
    "    print(\"Kr\")\n",
    "    print('0.25: ', np.quantile(np.sort(Kr_vector), 0.25))\n",
    "    print('0.50: ', np.quantile(np.sort(Kr_vector), 0.5))\n",
    "    print('0.75: ', np.quantile(np.sort(Kr_vector), 0.75))\n",
    "\n",
    "    print(\"Kc\")\n",
    "    print('0.25: ', np.quantile(np.sort(Kc_vector), 0.25))\n",
    "    print('0.50: ', np.quantile(np.sort(Kc_vector), 0.5))\n",
    "    print('0.75: ', np.quantile(np.sort(Kc_vector), 0.75))\n",
    "\n",
    "    # rho = compute_rho(X, Zsample, mode = 'biclustering')\n",
    "    # predicted_thetas = compute_predicted_thetas(Sr, Sc, rho)\n",
    "\n",
    "    # MAE = np.sum(np.abs(true_rho - rho))/(len(rho)**2 - len(rho))\n",
    "    # print(\"MAE: \", MAE)\n",
    "\n",
    "    "
   ]
  },
  {
   "attachments": {},
   "cell_type": "markdown",
   "metadata": {},
   "source": [
    "with open(\"results/Case1_DP_w_Z_unipartite.pickle\", \"rb\") as f:\n",
    "    DP_w_Z = pkl.load(f)"
   ]
  },
  {
   "cell_type": "code",
   "execution_count": 108,
   "metadata": {},
   "outputs": [],
   "source": [
    "n_clust = 5\n",
    "theta = np.zeros((n_clust,n_clust)) + 0.5\n",
    "np.fill_diagonal(theta, 2)\n",
    "\n",
    "# Sr = [20]*n_clust\n",
    "# Sc = [20]*n_clust\n",
    "\n",
    "Sr = [20, 20, 20, 20, 20]\n",
    "Sc = [20, 20, 20, 20, 20]\n",
    "\n",
    "Hr = []\n",
    "c = 0\n",
    "for i in Sr:\n",
    "    for j in range(i):\n",
    "        Hr += [c]\n",
    "    c+=1\n",
    "\n",
    "Hc = []\n",
    "c = 0\n",
    "for i in Sc:\n",
    "    for j in range(i):\n",
    "        Hc += [c]\n",
    "    c+=1\n",
    "\n",
    "z0 = [np.array(Hr), np.array(Hc)]\n",
    "\n",
    "X = generate_graph_bicluster(Sr, Sc, theta, random_seed=42, edge=\"weighted\") #CASE 1"
   ]
  },
  {
   "cell_type": "code",
   "execution_count": 110,
   "metadata": {},
   "outputs": [
    {
     "name": "stdout",
     "output_type": "stream",
     "text": [
      "VIr:  0.0\n",
      "VIc:  0.0\n",
      "VI_rel_true:  0.00020943928669492885\n",
      "VI_rel_ball:  0.0\n",
      "Kr\n",
      "0.25:  5.0\n",
      "0.50:  5.0\n",
      "0.75:  5.0\n",
      "Kc\n",
      "0.25:  5.0\n",
      "0.50:  5.0\n",
      "0.75:  5.0\n",
      "\n",
      "\n",
      "VIr:  0.0\n",
      "VIc:  0.0\n",
      "VI_rel_true:  0.0\n",
      "VI_rel_ball:  0.0\n",
      "Kr\n",
      "0.25:  5.0\n",
      "0.50:  5.0\n",
      "0.75:  5.0\n",
      "Kc\n",
      "0.25:  5.0\n",
      "0.50:  5.0\n",
      "0.75:  5.0\n"
     ]
    }
   ],
   "source": [
    "with open(\"results/Case1_DP_w_Z_unipartite.pickle\", \"rb\") as f:\n",
    "    Z_uni = pkl.load(f)\n",
    "Z = [Z_uni, Z_uni]\n",
    "evalZ(Z, z0)\n",
    "print(\"\\n\")\n",
    "with open(\"results/Case1_PY_w_Z_unipartite.pickle\", \"rb\") as f:\n",
    "    Z_uni = pkl.load(f)\n",
    "Z = [Z_uni, Z_uni]\n",
    "evalZ(Z, z0)"
   ]
  },
  {
   "cell_type": "code",
   "execution_count": 112,
   "metadata": {},
   "outputs": [
    {
     "name": "stdout",
     "output_type": "stream",
     "text": [
      "VIr:  0.0\n",
      "VIc:  0.0\n",
      "VI_rel_true:  0.00020943928669492885\n",
      "VI_rel_ball:  0.0\n",
      "Kr\n",
      "0.25:  5.0\n",
      "0.50:  5.0\n",
      "0.75:  5.0\n",
      "Kc\n",
      "0.25:  5.0\n",
      "0.50:  5.0\n",
      "0.75:  5.0\n",
      "\n",
      "\n"
     ]
    }
   ],
   "source": [
    "with open(\"results/Case1_DM_w_Z_unipartite.pickle\", \"rb\") as f:\n",
    "    Z_uni = pkl.load(f)\n",
    "Z = [Z_uni, Z_uni]\n",
    "evalZ(Z, z0)\n",
    "print(\"\\n\")\n",
    "# with open(\"results/Case1_GN_w_Z_unipartite.pickle\", \"rb\") as f:\n",
    "#     Z_uni = pkl.load(f)\n",
    "# Z = [Z_uni, Z_uni]\n",
    "# evalZ(Z, z0)"
   ]
  },
  {
   "cell_type": "code",
   "execution_count": 113,
   "metadata": {},
   "outputs": [
    {
     "name": "stdout",
     "output_type": "stream",
     "text": [
      "VIr:  0.0\n",
      "VIc:  0.0\n",
      "VI_rel_true:  0.018419935795361872\n",
      "VI_rel_ball:  0.07221134600831958\n",
      "Kr\n",
      "0.25:  5.0\n",
      "0.50:  5.0\n",
      "0.75:  6.0\n",
      "Kc\n",
      "0.25:  5.0\n",
      "0.50:  5.0\n",
      "0.75:  5.0\n",
      "\n",
      "\n",
      "VIr:  0.0\n",
      "VIc:  0.0\n",
      "VI_rel_true:  0.0022187459585551314\n",
      "VI_rel_ball:  0.019851524334587367\n",
      "Kr\n",
      "0.25:  5.0\n",
      "0.50:  5.0\n",
      "0.75:  5.0\n",
      "Kc\n",
      "0.25:  5.0\n",
      "0.50:  5.0\n",
      "0.75:  5.0\n"
     ]
    }
   ],
   "source": [
    "with open(\"results/Case1_DP_w_Z_bipartite.pickle\", \"rb\") as f:\n",
    "    Z_uni = pkl.load(f)\n",
    "Zr = [x[0] for x in [i for i in Z_uni]]\n",
    "Zc = [x[1] for x in [i for i in Z_uni]]    \n",
    "Z = [Zr, Zc]\n",
    "evalZ(Z, z0)\n",
    "print(\"\\n\")\n",
    "with open(\"results/Case1_PY_w_Z_bipartite.pickle\", \"rb\") as f:\n",
    "    Z_uni = pkl.load(f)\n",
    "Zr = [x[0] for x in [i for i in Z_uni]]\n",
    "Zc = [x[1] for x in [i for i in Z_uni]]    \n",
    "Z = [Zr, Zc]\n",
    "evalZ(Z, z0)"
   ]
  },
  {
   "cell_type": "code",
   "execution_count": 114,
   "metadata": {},
   "outputs": [
    {
     "name": "stdout",
     "output_type": "stream",
     "text": [
      "VIr:  0.0\n",
      "VIc:  0.0\n",
      "VI_rel_true:  0.02237438465051845\n",
      "VI_rel_ball:  0.08093795454007657\n",
      "Kr\n",
      "0.25:  5.0\n",
      "0.50:  5.0\n",
      "0.75:  6.0\n",
      "Kc\n",
      "0.25:  5.0\n",
      "0.50:  5.0\n",
      "0.75:  6.0\n",
      "\n",
      "\n",
      "VIr:  0.0\n",
      "VIc:  0.0\n",
      "VI_rel_true:  0.0\n",
      "VI_rel_ball:  0.0\n",
      "Kr\n",
      "0.25:  5.0\n",
      "0.50:  5.0\n",
      "0.75:  5.0\n",
      "Kc\n",
      "0.25:  5.0\n",
      "0.50:  5.0\n",
      "0.75:  5.0\n"
     ]
    }
   ],
   "source": [
    "with open(\"results/Case1_DM_w_Z_bipartite.pickle\", \"rb\") as f:\n",
    "    Z_uni = pkl.load(f)\n",
    "Zr = [x[0] for x in [i for i in Z_uni]]\n",
    "Zc = [x[1] for x in [i for i in Z_uni]]    \n",
    "Z = [Zr, Zc]\n",
    "evalZ(Z, z0)\n",
    "print(\"\\n\")\n",
    "with open(\"results/Case1_GN_w_Z_bipartite.pickle\", \"rb\") as f:\n",
    "    Z_uni = pkl.load(f)\n",
    "Zr = [x[0] for x in [i for i in Z_uni]]\n",
    "Zc = [x[1] for x in [i for i in Z_uni]]    \n",
    "Z = [Zr, Zc]\n",
    "evalZ(Z, z0)"
   ]
  },
  {
   "cell_type": "code",
   "execution_count": 138,
   "metadata": {},
   "outputs": [],
   "source": [
    "theta = np.array([[2, 0.5, 0.5, 2, 0.5],\n",
    "                  [0.5, 2, 0.5, 0.5, 2],\n",
    "                  [0.5, 0.5, 2, 0.5, 2],\n",
    "                  [2, 0.5, 0.5, 2, 2],\n",
    "                  [0.5, 2, 2, 2, 2]])\n",
    "\n",
    "Sr = [20, 15, 10, 10, 8]\n",
    "Sc = [20, 15, 10, 10, 8]\n",
    "# n_clust = 5\n",
    "# theta = np.zeros((n_clust,n_clust)) + 0.5\n",
    "# np.fill_diagonal(theta, 2)\n",
    "\n",
    "# Sr = [20]*n_clust\n",
    "# Sc = [20]*n_clust\n",
    "\n",
    "# Sr = [30, 30, 15, 15, 10]\n",
    "# Sc = [30, 30, 15, 15, 10]\n",
    "\n",
    "# Sr = [15, 15, 15, 15]\n",
    "# Sc = [15, 15, 15, 15]\n",
    "\n",
    "Hr = []\n",
    "c = 0\n",
    "for i in Sr:\n",
    "    for j in range(i):\n",
    "        Hr += [c]\n",
    "    c+=1\n",
    "\n",
    "Hc = []\n",
    "c = 0\n",
    "for i in Sc:\n",
    "    for j in range(i):\n",
    "        Hc += [c]\n",
    "    c+=1\n",
    "\n",
    "z0 = [np.array(Hr), np.array(Hc)]\n",
    "\n",
    "X = generate_graph_bicluster(Sr, Sc, theta, random_seed=40, edge=\"weighted\") #CASE 2"
   ]
  },
  {
   "cell_type": "code",
   "execution_count": 139,
   "metadata": {},
   "outputs": [
    {
     "name": "stdout",
     "output_type": "stream",
     "text": [
      "DP: \n",
      "VIr:  0.0\n",
      "VIc:  0.0\n",
      "VI_rel_true:  0.0020654283337314537\n",
      "VI_rel_ball:  0.0\n",
      "Kr\n",
      "0.25:  5.0\n",
      "0.50:  5.0\n",
      "0.75:  5.0\n",
      "Kc\n",
      "0.25:  5.0\n",
      "0.50:  5.0\n",
      "0.75:  5.0\n",
      "\n",
      "PY: \n",
      "VIr:  0.0\n",
      "VIc:  0.0\n",
      "VI_rel_true:  0.001503207289359085\n",
      "VI_rel_ball:  0.0\n",
      "Kr\n",
      "0.25:  5.0\n",
      "0.50:  5.0\n",
      "0.75:  5.0\n",
      "Kc\n",
      "0.25:  5.0\n",
      "0.50:  5.0\n",
      "0.75:  5.0\n"
     ]
    }
   ],
   "source": [
    "print(\"DP: \")\n",
    "with open(\"results/Case2_DP_w_Z_unipartite.pickle\", \"rb\") as f:\n",
    "    Z_uni = pkl.load(f)\n",
    "Z = [Z_uni, Z_uni]\n",
    "evalZ(Z, z0)\n",
    "print(\"\\nPY: \")\n",
    "with open(\"results/Case2_PY_w_Z_unipartite.pickle\", \"rb\") as f:\n",
    "    Z_uni = pkl.load(f)\n",
    "Z = [Z_uni, Z_uni]\n",
    "evalZ(Z, z0)"
   ]
  },
  {
   "cell_type": "code",
   "execution_count": 140,
   "metadata": {},
   "outputs": [
    {
     "name": "stdout",
     "output_type": "stream",
     "text": [
      "DM: \n",
      "VIr:  0.0\n",
      "VIc:  0.0\n",
      "VI_rel_true:  0.0020654283337314537\n",
      "VI_rel_ball:  0.0\n",
      "Kr\n",
      "0.25:  5.0\n",
      "0.50:  5.0\n",
      "0.75:  5.0\n",
      "Kc\n",
      "0.25:  5.0\n",
      "0.50:  5.0\n",
      "0.75:  5.0\n",
      "\n",
      "GN: \n"
     ]
    }
   ],
   "source": [
    "print(\"DM: \")\n",
    "with open(\"results/Case2_DM_w_Z_unipartite.pickle\", \"rb\") as f:\n",
    "    Z_uni = pkl.load(f)\n",
    "Z = [Z_uni, Z_uni]\n",
    "evalZ(Z, z0)\n",
    "print(\"\\nGN: \")\n",
    "# with open(\"results/Case2_GN_w_Z_unipartite.pickle\", \"rb\") as f:\n",
    "#     Z_uni = pkl.load(f)\n",
    "# Z = [Z_uni, Z_uni]\n",
    "# evalZ(Z, z0)"
   ]
  },
  {
   "cell_type": "code",
   "execution_count": 119,
   "metadata": {},
   "outputs": [
    {
     "name": "stdout",
     "output_type": "stream",
     "text": [
      "VIr:  0.2164494256495182\n",
      "VIc:  0.0\n",
      "VI_rel_true:  0.1644499802929198\n",
      "VI_rel_ball:  0.15686991024086838\n",
      "Kr\n",
      "0.25:  5.0\n",
      "0.50:  5.0\n",
      "0.75:  6.0\n",
      "Kc\n",
      "0.25:  5.0\n",
      "0.50:  5.0\n",
      "0.75:  6.0\n",
      "\n",
      "\n",
      "VIr:  0.2164494256495182\n",
      "VIc:  0.0\n",
      "VI_rel_true:  0.13802124070146227\n",
      "VI_rel_ball:  0.11541516595280199\n",
      "Kr\n",
      "0.25:  5.0\n",
      "0.50:  5.0\n",
      "0.75:  5.0\n",
      "Kc\n",
      "0.25:  5.0\n",
      "0.50:  5.0\n",
      "0.75:  5.0\n"
     ]
    }
   ],
   "source": [
    "with open(\"results/Case2_DP_w_Z_bipartite.pickle\", \"rb\") as f:\n",
    "    Z_uni = pkl.load(f)\n",
    "Zr = [x[0] for x in [i for i in Z_uni]]\n",
    "Zc = [x[1] for x in [i for i in Z_uni]]    \n",
    "Z = [Zr, Zc]\n",
    "evalZ(Z, z0)\n",
    "print(\"\\n\")\n",
    "with open(\"results/Case2_PY_w_Z_bipartite.pickle\", \"rb\") as f:\n",
    "    Z_uni = pkl.load(f)\n",
    "Zr = [x[0] for x in [i for i in Z_uni]]\n",
    "Zc = [x[1] for x in [i for i in Z_uni]]    \n",
    "Z = [Zr, Zc]\n",
    "evalZ(Z, z0)"
   ]
  },
  {
   "cell_type": "code",
   "execution_count": 120,
   "metadata": {},
   "outputs": [
    {
     "name": "stdout",
     "output_type": "stream",
     "text": [
      "VIr:  0.2164494256495182\n",
      "VIc:  0.0\n",
      "VI_rel_true:  0.17042193373293138\n",
      "VI_rel_ball:  0.15975211198141048\n",
      "Kr\n",
      "0.25:  5.0\n",
      "0.50:  5.0\n",
      "0.75:  6.0\n",
      "Kc\n",
      "0.25:  5.0\n",
      "0.50:  6.0\n",
      "0.75:  6.0\n",
      "\n",
      "\n"
     ]
    }
   ],
   "source": [
    "with open(\"results/Case2_DM_w_Z_bipartite.pickle\", \"rb\") as f:\n",
    "    Z_uni = pkl.load(f)\n",
    "Zr = [x[0] for x in [i for i in Z_uni]]\n",
    "Zc = [x[1] for x in [i for i in Z_uni]]    \n",
    "Z = [Zr, Zc]\n",
    "evalZ(Z, z0)\n",
    "print(\"\\n\")\n",
    "# with open(\"results/Case2_GN_w_Z_bipartite.pickle\", \"rb\") as f:\n",
    "#     Z_uni = pkl.load(f)\n",
    "# Zr = [x[0] for x in [i for i in Z_uni]]\n",
    "# Zc = [x[1] for x in [i for i in Z_uni]]    \n",
    "# Z = [Zr, Zc]\n",
    "# evalZ(Z, z0)"
   ]
  },
  {
   "cell_type": "code",
   "execution_count": 141,
   "metadata": {},
   "outputs": [],
   "source": [
    "theta = np.array([[2, 0.5, 2, 2, 0.5],\n",
    "                  [0.5, 2, 0.5, 0.5, 2],\n",
    "                  [2, 2, 0.5, 2, 2],\n",
    "                  [2, 0.5, 0.5, 0.5, 0.5],\n",
    "                  [2, 0.5, 0.5, 2, 2]])\n",
    "\n",
    "Sr = [15, 15, 15, 15, 15]\n",
    "Sc = [15, 15, 15, 15, 15]\n",
    "\n",
    "Hr = []\n",
    "c = 0\n",
    "for i in Sr:\n",
    "    for j in range(i):\n",
    "        Hr += [c]\n",
    "    c+=1\n",
    "\n",
    "Hc = []\n",
    "c = 0\n",
    "for i in Sc:\n",
    "    for j in range(i):\n",
    "        Hc += [c]\n",
    "    c+=1\n",
    "\n",
    "z0 = [np.array(Hr), np.array(Hc)]\n",
    "\n",
    "X = generate_graph_bicluster(Sr, Sc, theta, random_seed=40,  edge=\"weighted\") #CASE 3"
   ]
  },
  {
   "cell_type": "code",
   "execution_count": 142,
   "metadata": {},
   "outputs": [
    {
     "name": "stdout",
     "output_type": "stream",
     "text": [
      "DP: \n",
      "VIr:  0.0\n",
      "VIc:  0.0\n",
      "VI_rel_true:  0.00029813298013313004\n",
      "VI_rel_ball:  0.0\n",
      "Kr\n",
      "0.25:  5.0\n",
      "0.50:  5.0\n",
      "0.75:  5.0\n",
      "Kc\n",
      "0.25:  5.0\n",
      "0.50:  5.0\n",
      "0.75:  5.0\n",
      "\n",
      "PY: \n",
      "VIr:  0.0\n",
      "VIc:  0.0\n",
      "VI_rel_true:  9.797201071785366e-05\n",
      "VI_rel_ball:  0.0\n",
      "Kr\n",
      "0.25:  5.0\n",
      "0.50:  5.0\n",
      "0.75:  5.0\n",
      "Kc\n",
      "0.25:  5.0\n",
      "0.50:  5.0\n",
      "0.75:  5.0\n"
     ]
    }
   ],
   "source": [
    "print(\"DP: \")\n",
    "with open(\"results/Case3_DP_w_Z_unipartite.pickle\", \"rb\") as f:\n",
    "    Z_uni = pkl.load(f)\n",
    "Z = [Z_uni, Z_uni]\n",
    "evalZ(Z, z0)\n",
    "print(\"\\nPY: \")\n",
    "with open(\"results/Case3_PY_w_Z_unipartite.pickle\", \"rb\") as f:\n",
    "    Z_uni = pkl.load(f)\n",
    "Z = [Z_uni, Z_uni]\n",
    "evalZ(Z, z0)"
   ]
  },
  {
   "cell_type": "code",
   "execution_count": 143,
   "metadata": {},
   "outputs": [
    {
     "name": "stdout",
     "output_type": "stream",
     "text": [
      "DP: \n",
      "VIr:  0.0\n",
      "VIc:  0.0\n",
      "VI_rel_true:  0.00029813298013313004\n",
      "VI_rel_ball:  0.0\n",
      "Kr\n",
      "0.25:  5.0\n",
      "0.50:  5.0\n",
      "0.75:  5.0\n",
      "Kc\n",
      "0.25:  5.0\n",
      "0.50:  5.0\n",
      "0.75:  5.0\n",
      "\n",
      "PY: \n"
     ]
    }
   ],
   "source": [
    "print(\"DP: \")\n",
    "with open(\"results/Case3_DM_w_Z_unipartite.pickle\", \"rb\") as f:\n",
    "    Z_uni = pkl.load(f)\n",
    "Z = [Z_uni, Z_uni]\n",
    "evalZ(Z, z0)\n",
    "print(\"\\nPY: \")\n",
    "# with open(\"results/Case3_GN_w_Z_unipartite.pickle\", \"rb\") as f:\n",
    "#     Z_uni = pkl.load(f)\n",
    "# Z = [Z_uni, Z_uni]\n",
    "# evalZ(Z, z0)"
   ]
  },
  {
   "cell_type": "code",
   "execution_count": 130,
   "metadata": {},
   "outputs": [
    {
     "name": "stdout",
     "output_type": "stream",
     "text": [
      "VIr:  0.04898600535892683\n",
      "VIc:  0.09886155921630513\n",
      "VI_rel_true:  0.15105857262055908\n",
      "VI_rel_ball:  0.2499827885629573\n",
      "Kr\n",
      "0.25:  5.0\n",
      "0.50:  5.0\n",
      "0.75:  6.0\n",
      "Kc\n",
      "0.25:  5.0\n",
      "0.50:  6.0\n",
      "0.75:  6.0\n",
      "\n",
      "\n",
      "VIr:  0.0\n",
      "VIc:  0.09886155921630513\n",
      "VI_rel_true:  0.10634314176861179\n",
      "VI_rel_ball:  0.18657875719934802\n",
      "Kr\n",
      "0.25:  5.0\n",
      "0.50:  5.0\n",
      "0.75:  5.0\n",
      "Kc\n",
      "0.25:  5.0\n",
      "0.50:  5.0\n",
      "0.75:  5.0\n"
     ]
    }
   ],
   "source": [
    "with open(\"results/Case3_DP_w_Z_bipartite.pickle\", \"rb\") as f:\n",
    "    Z_uni = pkl.load(f)\n",
    "Zr = [x[0] for x in [i for i in Z_uni]]\n",
    "Zc = [x[1] for x in [i for i in Z_uni]]    \n",
    "Z = [Zr, Zc]\n",
    "evalZ(Z, z0)\n",
    "print(\"\\n\")\n",
    "with open(\"results/Case3_PY_w_Z_bipartite.pickle\", \"rb\") as f:\n",
    "    Z_uni = pkl.load(f)\n",
    "Zr = [x[0] for x in [i for i in Z_uni]]\n",
    "Zc = [x[1] for x in [i for i in Z_uni]]    \n",
    "Z = [Zr, Zc]\n",
    "evalZ(Z, z0)"
   ]
  },
  {
   "cell_type": "code",
   "execution_count": 144,
   "metadata": {},
   "outputs": [
    {
     "name": "stdout",
     "output_type": "stream",
     "text": [
      "VIr:  0.04898600535892683\n",
      "VIc:  0.09886155921630513\n",
      "VI_rel_true:  0.1641646052648196\n",
      "VI_rel_ball:  0.21602800203223782\n",
      "Kr\n",
      "0.25:  5.0\n",
      "0.50:  6.0\n",
      "0.75:  6.0\n",
      "Kc\n",
      "0.25:  5.0\n",
      "0.50:  6.0\n",
      "0.75:  6.0\n",
      "\n",
      "\n",
      "VIr:  0.0\n",
      "VIc:  0.09886155921630513\n",
      "VI_rel_true:  0.09688376741328406\n",
      "VI_rel_ball:  0.1791198778778107\n",
      "Kr\n",
      "0.25:  5.0\n",
      "0.50:  5.0\n",
      "0.75:  5.0\n",
      "Kc\n",
      "0.25:  5.0\n",
      "0.50:  5.0\n",
      "0.75:  5.0\n"
     ]
    }
   ],
   "source": [
    "with open(\"results/Case3_DM_w_Z_bipartite.pickle\", \"rb\") as f:\n",
    "    Z_uni = pkl.load(f)\n",
    "Zr = [x[0] for x in [i for i in Z_uni]]\n",
    "Zc = [x[1] for x in [i for i in Z_uni]]    \n",
    "Z = [Zr, Zc]\n",
    "evalZ(Z, z0)\n",
    "print(\"\\n\")\n",
    "with open(\"results/Case3_GN_w_Z_bipartite.pickle\", \"rb\") as f:\n",
    "    Z_uni = pkl.load(f)\n",
    "Zr = [x[0] for x in [i for i in Z_uni]]\n",
    "Zc = [x[1] for x in [i for i in Z_uni]]    \n",
    "Z = [Zr, Zc]\n",
    "evalZ(Z, z0)"
   ]
  },
  {
   "cell_type": "code",
   "execution_count": 145,
   "metadata": {},
   "outputs": [],
   "source": [
    "theta = np.array([[2, 0.5, 0.1, 5, 2],\n",
    "                  [0.1, 2, 0.1, 0.1, 0.5],\n",
    "                  [0.1, 2, 0.5, 5, 0.5],\n",
    "                  [2, 5, 7, 0.5, 2]])\n",
    "\n",
    "Sr = [25, 25, 25, 25]\n",
    "Sc = [20, 20, 20, 20, 20]\n",
    "\n",
    "Hr = []\n",
    "c = 0\n",
    "for i in Sr:\n",
    "    for j in range(i):\n",
    "        Hr += [c]\n",
    "    c+=1\n",
    "\n",
    "Hc = []\n",
    "c = 0\n",
    "for i in Sc:\n",
    "    for j in range(i):\n",
    "        Hc += [c]\n",
    "    c+=1\n",
    "\n",
    "z0 = [np.array(Hr), np.array(Hc)]\n",
    "\n",
    "X = generate_graph_bicluster(Sr, Sc, theta, random_seed=40, edge=\"weighted\") #CASE 4"
   ]
  },
  {
   "cell_type": "code",
   "execution_count": 146,
   "metadata": {},
   "outputs": [
    {
     "name": "stdout",
     "output_type": "stream",
     "text": [
      "DP: \n",
      "VIr:  0.5867070452737218\n",
      "VIc:  0.36356349395951204\n",
      "VI_rel_true:  0.47513526961661834\n",
      "VI_rel_ball:  0.0\n",
      "Kr\n",
      "0.25:  8.0\n",
      "0.50:  8.0\n",
      "0.75:  8.0\n",
      "Kc\n",
      "0.25:  8.0\n",
      "0.50:  8.0\n",
      "0.75:  8.0\n",
      "\n",
      "PY: \n",
      "VIr:  0.5867070452737218\n",
      "VIc:  0.36356349395951204\n",
      "VI_rel_true:  0.47513526961661834\n",
      "VI_rel_ball:  0.0\n",
      "Kr\n",
      "0.25:  8.0\n",
      "0.50:  8.0\n",
      "0.75:  8.0\n",
      "Kc\n",
      "0.25:  8.0\n",
      "0.50:  8.0\n",
      "0.75:  8.0\n"
     ]
    }
   ],
   "source": [
    "print(\"DP: \")\n",
    "with open(\"results/Case4_DP_w_Z_unipartite.pickle\", \"rb\") as f:\n",
    "    Z_uni = pkl.load(f)\n",
    "Z = [Z_uni, Z_uni]\n",
    "evalZ(Z, z0)\n",
    "print(\"\\nPY: \")\n",
    "with open(\"results/Case4_PY_w_Z_unipartite.pickle\", \"rb\") as f:\n",
    "    Z_uni = pkl.load(f)\n",
    "Z = [Z_uni, Z_uni]\n",
    "evalZ(Z, z0)"
   ]
  },
  {
   "cell_type": "code",
   "execution_count": 134,
   "metadata": {},
   "outputs": [
    {
     "name": "stdout",
     "output_type": "stream",
     "text": [
      "VIr:  0.5867070452737218\n",
      "VIc:  0.36356349395951204\n",
      "VI_rel_true:  0.47513526961661834\n",
      "VI_rel_ball:  0.0\n",
      "Kr\n",
      "0.25:  8.0\n",
      "0.50:  8.0\n",
      "0.75:  8.0\n",
      "Kc\n",
      "0.25:  8.0\n",
      "0.50:  8.0\n",
      "0.75:  8.0\n",
      "\n",
      "\n"
     ]
    }
   ],
   "source": [
    "with open(\"results/Case4_DM_w_Z_unipartite.pickle\", \"rb\") as f:\n",
    "    Z_uni = pkl.load(f)\n",
    "Z = [Z_uni, Z_uni]\n",
    "evalZ(Z, z0)\n",
    "print(\"\\n\")\n",
    "# with open(\"results/Case4_GN_w_Z_unipartite.pickle\", \"rb\") as f:\n",
    "#     Z_uni = pkl.load(f)\n",
    "# Z = [Z_uni, Z_uni]\n",
    "# evalZ(Z, z0)"
   ]
  },
  {
   "cell_type": "code",
   "execution_count": 135,
   "metadata": {},
   "outputs": [
    {
     "name": "stdout",
     "output_type": "stream",
     "text": [
      "VIr:  0.0\n",
      "VIc:  0.0\n",
      "VI_rel_true:  0.005868000933219901\n",
      "VI_rel_ball:  0.03995315294014756\n",
      "Kr\n",
      "0.25:  4.0\n",
      "0.50:  4.0\n",
      "0.75:  4.0\n",
      "Kc\n",
      "0.25:  5.0\n",
      "0.50:  5.0\n",
      "0.75:  5.0\n",
      "\n",
      "\n",
      "VIr:  0.0\n",
      "VIc:  0.0\n",
      "VI_rel_true:  0.0027133712931996794\n",
      "VI_rel_ball:  0.03995315294014756\n",
      "Kr\n",
      "0.25:  4.0\n",
      "0.50:  4.0\n",
      "0.75:  4.0\n",
      "Kc\n",
      "0.25:  5.0\n",
      "0.50:  5.0\n",
      "0.75:  5.0\n"
     ]
    }
   ],
   "source": [
    "with open(\"results/Case4_DP_w_Z_bipartite.pickle\", \"rb\") as f:\n",
    "    Z_uni = pkl.load(f)\n",
    "Zr = [x[0] for x in [i for i in Z_uni]]\n",
    "Zc = [x[1] for x in [i for i in Z_uni]]    \n",
    "Z = [Zr, Zc]\n",
    "evalZ(Z, z0)\n",
    "print(\"\\n\")\n",
    "with open(\"results/Case4_PY_w_Z_bipartite.pickle\", \"rb\") as f:\n",
    "    Z_uni = pkl.load(f)\n",
    "Zr = [x[0] for x in [i for i in Z_uni]]\n",
    "Zc = [x[1] for x in [i for i in Z_uni]]    \n",
    "Z = [Zr, Zc]\n",
    "evalZ(Z, z0)"
   ]
  },
  {
   "cell_type": "code",
   "execution_count": 136,
   "metadata": {},
   "outputs": [
    {
     "name": "stdout",
     "output_type": "stream",
     "text": [
      "VIr:  0.0\n",
      "VIc:  0.0\n",
      "VI_rel_true:  0.006491728544748696\n",
      "VI_rel_ball:  0.03995315294014756\n",
      "Kr\n",
      "0.25:  4.0\n",
      "0.50:  4.0\n",
      "0.75:  4.0\n",
      "Kc\n",
      "0.25:  5.0\n",
      "0.50:  5.0\n",
      "0.75:  5.0\n",
      "\n",
      "\n",
      "VIr:  0.0\n",
      "VIc:  0.0\n",
      "VI_rel_true:  0.0022373765646482636\n",
      "VI_rel_ball:  0.03995315294014756\n",
      "Kr\n",
      "0.25:  4.0\n",
      "0.50:  4.0\n",
      "0.75:  4.0\n",
      "Kc\n",
      "0.25:  5.0\n",
      "0.50:  5.0\n",
      "0.75:  5.0\n"
     ]
    }
   ],
   "source": [
    "with open(\"results/Case4_DM_w_Z_bipartite.pickle\", \"rb\") as f:\n",
    "    Z_uni = pkl.load(f)\n",
    "Zr = [x[0] for x in [i for i in Z_uni]]\n",
    "Zc = [x[1] for x in [i for i in Z_uni]]    \n",
    "Z = [Zr, Zc]\n",
    "evalZ(Z, z0)\n",
    "print(\"\\n\")\n",
    "with open(\"results/Case4_GN_w_Z_bipartite.pickle\", \"rb\") as f:\n",
    "    Z_uni = pkl.load(f)\n",
    "Zr = [x[0] for x in [i for i in Z_uni]]\n",
    "Zc = [x[1] for x in [i for i in Z_uni]]    \n",
    "Z = [Zr, Zc]\n",
    "evalZ(Z, z0)"
   ]
  },
  {
   "cell_type": "code",
   "execution_count": null,
   "metadata": {},
   "outputs": [],
   "source": []
  }
 ],
 "metadata": {
  "kernelspec": {
   "display_name": "bnpenv",
   "language": "python",
   "name": "python3"
  },
  "language_info": {
   "codemirror_mode": {
    "name": "ipython",
    "version": 3
   },
   "file_extension": ".py",
   "mimetype": "text/x-python",
   "name": "python",
   "nbconvert_exporter": "python",
   "pygments_lexer": "ipython3",
   "version": "3.9.8"
  },
  "orig_nbformat": 4,
  "vscode": {
   "interpreter": {
    "hash": "5e30ed4f6f8bb2a91dfe46fec38963d5a062a926e2e168732dffa7def24e0a27"
   }
  }
 },
 "nbformat": 4,
 "nbformat_minor": 2
}
