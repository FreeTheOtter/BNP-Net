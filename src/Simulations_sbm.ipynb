{
 "cells": [
  {
   "cell_type": "code",
   "execution_count": 1,
   "metadata": {},
   "outputs": [],
   "source": [
    "from main_sbm import SBM"
   ]
  },
  {
   "cell_type": "code",
   "execution_count": 8,
   "metadata": {},
   "outputs": [],
   "source": [
    "import numpy as np\n",
    "import matplotlib.pyplot as plt\n",
    "import seaborn as sns\n",
    "import igraph as ig"
   ]
  },
  {
   "cell_type": "code",
   "execution_count": 3,
   "metadata": {},
   "outputs": [],
   "source": [
    "def generate_graph_bicluster(Sr, Sc, thetas, random_seed = None):\n",
    "    # Kr = thetas.shape[0]\n",
    "    # Kc = thetas.shape[1]\n",
    "\n",
    "    N = np.sum(Sr)\n",
    "\n",
    "    Hr = []\n",
    "    c = 0\n",
    "    for i in Sr:\n",
    "        for j in range(i):\n",
    "            Hr += [c]\n",
    "        c+=1\n",
    "\n",
    "    Hc = []\n",
    "    c = 0\n",
    "    for i in Sc:\n",
    "        for j in range(i):\n",
    "            Hc += [c]\n",
    "        c+=1\n",
    "\n",
    "    if isinstance(random_seed, int):\n",
    "        np.random.seed(random_seed)\n",
    "\n",
    "    X = np.zeros((N,N))\n",
    "    for i in range(N):\n",
    "        for j in range(N):\n",
    "            if i == j:\n",
    "                continue\n",
    "            X[i, j] = np.random.binomial(1, thetas[Hr[i], Hc[j]])\n",
    "\n",
    "    return X"
   ]
  },
  {
   "cell_type": "code",
   "execution_count": 4,
   "metadata": {},
   "outputs": [],
   "source": [
    "theta = np.array([[0.75, 0.25, 0.25, 0.25],\n",
    "                  [0.25, 0.75, 0.25, 0.25],\n",
    "                  [0.25, 0.25, 0.75, 0.25],\n",
    "                  [0.25, 0.25, 0.25, 0.75]])\n",
    "\n",
    "Sr = [15, 15, 15, 15]\n",
    "Sc = [15, 15, 15, 15]\n",
    "\n",
    "Hr = []\n",
    "c = 0\n",
    "for i in Sr:\n",
    "    for j in range(i):\n",
    "        Hr += [c]\n",
    "    c+=1\n",
    "\n",
    "Hc = []\n",
    "c = 0\n",
    "for i in Sc:\n",
    "    for j in range(i):\n",
    "        Hc += [c]\n",
    "    c+=1\n",
    "\n",
    "z0 = [np.array(Hr), np.array(Hc)]\n",
    "\n",
    "X = generate_graph_bicluster(Sr, Sc, theta, random_seed=42)"
   ]
  },
  {
   "cell_type": "code",
   "execution_count": 5,
   "metadata": {},
   "outputs": [
    {
     "data": {
      "image/png": "[encoded data removed]",
      "text/plain": [
       "<Figure size 720x720 with 1 Axes>"
      ]
     },
     "metadata": {},
     "output_type": "display_data"
    }
   ],
   "source": [
    "fig, ax = plt.subplots(figsize = (10,10))\n",
    "ax = sns.heatmap(X, linewidth=0.0, ax = ax, cbar=False, cmap= 'rocket_r', xticklabels=[], yticklabels=[])\n",
    "# ax.set_yticks([i*10 for i in range(10)])\n",
    "# ax.set(xticks=[i*10 for i in range(10)])\n",
    "# ax.set_xlim([i*10 for i in range(10)])\n",
    "# ax.set_ylim([i*10 for i in range(10)])\n",
    "plt.show()"
   ]
  },
  {
   "cell_type": "code",
   "execution_count": 6,
   "metadata": {},
   "outputs": [],
   "source": [
    "config = {'directed': True,\n",
    "          'binary': True,\n",
    "          'unicluster': True}"
   ]
  },
  {
   "cell_type": "code",
   "execution_count": 38,
   "metadata": {},
   "outputs": [],
   "source": [
    "DP = SBM(config, alpha_PY_r = 10, set_seed=42)"
   ]
  },
  {
   "cell_type": "code",
   "execution_count": 39,
   "metadata": {},
   "outputs": [],
   "source": [
    "DP.fit(X,5000)"
   ]
  },
  {
   "cell_type": "code",
   "execution_count": 40,
   "metadata": {},
   "outputs": [
    {
     "data": {
      "text/plain": [
       "array([[0., 1., 0., 0.],\n",
       "       [0., 1., 0., 0.],\n",
       "       [0., 1., 0., 0.],\n",
       "       [0., 1., 0., 0.],\n",
       "       [0., 1., 0., 0.],\n",
       "       [0., 1., 0., 0.],\n",
       "       [0., 1., 0., 0.],\n",
       "       [0., 1., 0., 0.],\n",
       "       [0., 1., 0., 0.],\n",
       "       [0., 1., 0., 0.],\n",
       "       [0., 1., 0., 0.],\n",
       "       [0., 1., 0., 0.],\n",
       "       [0., 1., 0., 0.],\n",
       "       [0., 1., 0., 0.],\n",
       "       [0., 1., 0., 0.],\n",
       "       [1., 0., 0., 0.],\n",
       "       [1., 0., 0., 0.],\n",
       "       [1., 0., 0., 0.],\n",
       "       [1., 0., 0., 0.],\n",
       "       [1., 0., 0., 0.],\n",
       "       [1., 0., 0., 0.],\n",
       "       [1., 0., 0., 0.],\n",
       "       [1., 0., 0., 0.],\n",
       "       [1., 0., 0., 0.],\n",
       "       [1., 0., 0., 0.],\n",
       "       [1., 0., 0., 0.],\n",
       "       [1., 0., 0., 0.],\n",
       "       [1., 0., 0., 0.],\n",
       "       [1., 0., 0., 0.],\n",
       "       [1., 0., 0., 0.],\n",
       "       [0., 0., 0., 1.],\n",
       "       [0., 0., 0., 1.],\n",
       "       [0., 0., 0., 1.],\n",
       "       [0., 0., 0., 1.],\n",
       "       [0., 0., 0., 1.],\n",
       "       [0., 0., 0., 1.],\n",
       "       [0., 0., 0., 1.],\n",
       "       [0., 0., 0., 1.],\n",
       "       [0., 0., 0., 1.],\n",
       "       [0., 0., 0., 1.],\n",
       "       [0., 0., 0., 1.],\n",
       "       [0., 0., 0., 1.],\n",
       "       [0., 0., 0., 1.],\n",
       "       [0., 0., 0., 1.],\n",
       "       [0., 0., 0., 1.],\n",
       "       [0., 0., 1., 0.],\n",
       "       [0., 0., 1., 0.],\n",
       "       [0., 0., 1., 0.],\n",
       "       [0., 0., 1., 0.],\n",
       "       [0., 0., 1., 0.],\n",
       "       [0., 0., 1., 0.],\n",
       "       [0., 0., 1., 0.],\n",
       "       [0., 0., 1., 0.],\n",
       "       [0., 0., 1., 0.],\n",
       "       [0., 0., 1., 0.],\n",
       "       [0., 0., 1., 0.],\n",
       "       [0., 0., 1., 0.],\n",
       "       [0., 0., 1., 0.],\n",
       "       [0., 0., 1., 0.],\n",
       "       [0., 0., 1., 0.]])"
      ]
     },
     "execution_count": 40,
     "metadata": {},
     "output_type": "execute_result"
    }
   ],
   "source": [
    "DP.Z[-1]"
   ]
  },
  {
   "cell_type": "code",
   "execution_count": 29,
   "metadata": {},
   "outputs": [],
   "source": [
    "nn = list(DP.idx_list)\n",
    "nn.remove(0)"
   ]
  },
  {
   "attachments": {},
   "cell_type": "markdown",
   "metadata": {},
   "source": [
    "Test Bi-cluster"
   ]
  },
  {
   "cell_type": "code",
   "execution_count": 21,
   "metadata": {},
   "outputs": [],
   "source": [
    "g = ig.Graph.Read_GML('celegansneural.gml')\n",
    "X = np.array(g.get_adjacency(attribute = \"value\").data).astype(int)"
   ]
  },
  {
   "cell_type": "code",
   "execution_count": 22,
   "metadata": {},
   "outputs": [],
   "source": [
    "config = {'directed': True,\n",
    "          'binary': False,\n",
    "          'unicluster': True}"
   ]
  },
  {
   "cell_type": "code",
   "execution_count": 23,
   "metadata": {},
   "outputs": [],
   "source": [
    "w_DP = SBM(config, alpha_PY_r=1, set_seed=42)"
   ]
  },
  {
   "cell_type": "code",
   "execution_count": 24,
   "metadata": {},
   "outputs": [],
   "source": [
    "w_DP.fit(X,2000)"
   ]
  },
  {
   "cell_type": "code",
   "execution_count": 25,
   "metadata": {},
   "outputs": [],
   "source": [
    "Z = w_DP.Z"
   ]
  },
  {
   "cell_type": "code",
   "execution_count": 26,
   "metadata": {},
   "outputs": [],
   "source": [
    "def retrieve_samples(Z, gap = 25, burn_in = True):\n",
    "    if burn_in == True:\n",
    "        burn_in = len(Z)//2   \n",
    "    return Z[burn_in::gap]\n",
    "\n",
    "def cluster_summs(Z, ret = False):\n",
    "    temp_Z = []\n",
    "    mean_lenght = 0\n",
    "    mean_nodes = 0\n",
    "    for i in range(len(Z)):\n",
    "        current_z = np.sum(Z[i], 0)\n",
    "        temp_Z.append(current_z)\n",
    "        mean_lenght += len(current_z)\n",
    "        mean_nodes += np.mean(current_z)\n",
    "\n",
    "    mean_lenght /= len(Z)\n",
    "    mean_nodes /= len(Z)\n",
    "\n",
    "    print('mean number of clusters', mean_lenght)\n",
    "    print('mean nodes per cluster', mean_nodes)\n",
    "    if ret:\n",
    "        return temp_Z"
   ]
  },
  {
   "cell_type": "code",
   "execution_count": 27,
   "metadata": {},
   "outputs": [
    {
     "name": "stdout",
     "output_type": "stream",
     "text": [
      "mean number of clusters 10.968\n",
      "mean nodes per cluster 27.203665620094323\n",
      "None\n"
     ]
    }
   ],
   "source": [
    "sample = retrieve_samples(Z)\n",
    "print(cluster_summs(Z[250:]))"
   ]
  },
  {
   "cell_type": "code",
   "execution_count": 28,
   "metadata": {},
   "outputs": [],
   "source": [
    "w_DP_1 = SBM(config, alpha_PY_r=1, set_seed=42)\n",
    "w_DP_1.fit(X,200)"
   ]
  },
  {
   "cell_type": "code",
   "execution_count": 32,
   "metadata": {},
   "outputs": [
    {
     "name": "stdout",
     "output_type": "stream",
     "text": [
      "mean number of clusters 11.25\n",
      "mean nodes per cluster 26.55\n",
      "None\n"
     ]
    }
   ],
   "source": [
    "Z = w_DP.Z\n",
    "sample = retrieve_samples(Z)\n",
    "print(cluster_summs(sample))"
   ]
  },
  {
   "cell_type": "code",
   "execution_count": 33,
   "metadata": {},
   "outputs": [
    {
     "name": "stdout",
     "output_type": "stream",
     "text": [
      "mean number of clusters 12.81\n",
      "mean nodes per cluster 23.335652472527464\n",
      "None\n"
     ]
    }
   ],
   "source": [
    "w_DP_2 = SBM(config, alpha_PY_r=3, set_seed=42)\n",
    "w_DP_2.fit(X,200)\n",
    "Z = w_DP_2.Z\n",
    "sample = retrieve_samples(Z)\n",
    "print(cluster_summs(Z[int(len(Z)/2):]))"
   ]
  },
  {
   "cell_type": "code",
   "execution_count": null,
   "metadata": {},
   "outputs": [],
   "source": []
  }
 ],
 "metadata": {
  "kernelspec": {
   "display_name": "bnpenv",
   "language": "python",
   "name": "python3"
  },
  "language_info": {
   "codemirror_mode": {
    "name": "ipython",
    "version": 3
   },
   "file_extension": ".py",
   "mimetype": "text/x-python",
   "name": "python",
   "nbconvert_exporter": "python",
   "pygments_lexer": "ipython3",
   "version": "3.9.8"
  },
  "orig_nbformat": 4,
  "vscode": {
   "interpreter": {
    "hash": "5e30ed4f6f8bb2a91dfe46fec38963d5a062a926e2e168732dffa7def24e0a27"
   }
  }
 },
 "nbformat": 4,
 "nbformat_minor": 2
}
