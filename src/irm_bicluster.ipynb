{
 "cells": [
  {
   "cell_type": "code",
   "execution_count": 1,
   "metadata": {},
   "outputs": [],
   "source": [
    "import numpy as np\n",
    "import igraph as ig\n",
    "from scipy.special import betaln"
   ]
  },
  {
   "cell_type": "markdown",
   "metadata": {},
   "source": [
    "Data Generation"
   ]
  },
  {
   "cell_type": "code",
   "execution_count": 2,
   "metadata": {},
   "outputs": [],
   "source": [
    "theta = np.array([[0.75, 0.25, 0.1, 0.9],\n",
    "                  [0.1, 0.75, 0.1, 0.1],\n",
    "                  [0.1, 0.75, 0.25, 0.9]])"
   ]
  },
  {
   "cell_type": "code",
   "execution_count": 3,
   "metadata": {},
   "outputs": [],
   "source": [
    "Sr = [20, 20, 20]\n",
    "Sc = [15, 15, 15, 15]"
   ]
  },
  {
   "cell_type": "code",
   "execution_count": 112,
   "metadata": {},
   "outputs": [],
   "source": [
    "Hr = []\n",
    "c = 0\n",
    "for i in Sr:\n",
    "    for j in range(i):\n",
    "        Hr += [c]\n",
    "    c+=1\n",
    "\n",
    "Hc = []\n",
    "c = 0\n",
    "for i in Sc:\n",
    "    for j in range(i):\n",
    "        Hc += [c]\n",
    "    c+=1\n",
    "\n",
    "z0 = [np.array(Hr), np.array(Hc)]"
   ]
  },
  {
   "cell_type": "code",
   "execution_count": 4,
   "metadata": {},
   "outputs": [],
   "source": [
    "def generate_graph_bicluster(Sr, Sc, thetas, random_seed = None):\n",
    "    # Kr = thetas.shape[0]\n",
    "    # Kc = thetas.shape[1]\n",
    "\n",
    "    N = np.sum(Sr)\n",
    "\n",
    "    Hr = []\n",
    "    c = 0\n",
    "    for i in Sr:\n",
    "        for j in range(i):\n",
    "            Hr += [c]\n",
    "        c+=1\n",
    "\n",
    "    Hc = []\n",
    "    c = 0\n",
    "    for i in Sc:\n",
    "        for j in range(i):\n",
    "            Hc += [c]\n",
    "        c+=1\n",
    "\n",
    "    if isinstance(random_seed, int):\n",
    "        np.random.seed(random_seed)\n",
    "\n",
    "    X = np.zeros((N,N))\n",
    "    for i in range(N):\n",
    "        for j in range(N):\n",
    "            if i == j:\n",
    "                continue\n",
    "            X[i, j] = np.random.binomial(1, thetas[Hr[i], Hc[j]])\n",
    "\n",
    "    return X\n"
   ]
  },
  {
   "cell_type": "code",
   "execution_count": 5,
   "metadata": {},
   "outputs": [],
   "source": [
    "X = generate_graph_bicluster(Sr, Sc, theta, random_seed=42)"
   ]
  },
  {
   "cell_type": "code",
   "execution_count": 6,
   "metadata": {},
   "outputs": [],
   "source": [
    "def irm_bicluster(X, T, a, b, A, set_seed = True, random_seed = 42, print_iter = False):\n",
    "    N = len(X)\n",
    "    zr = np.ones([N, 1])\n",
    "    zc = np.ones([N, 1])\n",
    "    Z = []\n",
    "    Zr = []\n",
    "    Zc = []\n",
    "\n",
    "    if set_seed:\n",
    "        np.random.seed(random_seed)\n",
    "\n",
    "    for t in range(T):\n",
    "        for n in range(N):\n",
    "            nn = [_ for _ in range(N)]\n",
    "            nn.remove(n)\n",
    "\n",
    "            X_ = X.copy().astype(int)\n",
    "            X_[n,:] = 0\n",
    "\n",
    "            Kr = len(zr[0])\n",
    "\n",
    "            if Kr > 1:\n",
    "                idx = np.argwhere(np.sum(zr[nn], 0) == 0)\n",
    "                zr = np.delete(zr, idx, axis=1)\n",
    "                Kr -= len(idx)\n",
    "\n",
    "            # m = n. of nodes in each component \n",
    "            mr = np.sum(zr[nn,:], 0)[np.newaxis] #newaxis allows m to become 2d array (for transposing)\n",
    "            mc = np.sum(zc[nn,:], 0)[np.newaxis]\n",
    "            Mc = np.tile(mc, (Kr, 1))\n",
    "            M1 = zr.T @ X_ @ zc\n",
    "\n",
    "            X_rev = (np.where((X_==0)|(X_==1), X_^1, X_) - np.eye(X_.shape[0])).copy() #reverse matrix for non_links\n",
    "            X_rev[n,:] = 0\n",
    "            M0 = zr.T @ X_rev @ zc #n. of non-links between biclusters without current node\n",
    "\n",
    "            r = zc[nn,:].T @ X[n, nn]\n",
    "            R = np.tile(r, (Kr, 1))\n",
    "\n",
    "            logLik_exComp = np.sum(betaln(M1+R+a, M0+Mc-R+b) - betaln(M1+a, M0+b),1)\n",
    "            logLik_newComp = np.sum(betaln(r+a, mc-r+b) - betaln(a,b),1)\n",
    "\n",
    "            logLik = np.concatenate([logLik_exComp, logLik_newComp])\n",
    "            logPrior = np.log(np.append(mr, A))\n",
    "\n",
    "            logPost = logPrior + logLik\n",
    "\n",
    "            P = np.exp(logPost-max(logPost)) \n",
    "\n",
    "            # Assignment through random draw fron unif(0,1), taking first value from prob. vector\n",
    "            draw = np.random.rand()\n",
    "            i = np.argwhere(draw<np.cumsum(P)/sum(P))[0]\n",
    "\n",
    "            zr[n,:] = 0\n",
    "            if i == Kr: # If new component: add new column to partition matrix\n",
    "                zr = np.hstack((zr, np.zeros((N,1)))) \n",
    "            zr[n,i] = 1\n",
    "\n",
    "        for n in range(N):\n",
    "            nn = [_ for _ in range(N)]\n",
    "            nn.remove(n)\n",
    "\n",
    "            X_ = X.copy().astype(int)\n",
    "            X_[:,n] = 0\n",
    "\n",
    "            Kc = len(zc[0])\n",
    "\n",
    "            if Kc > 1:\n",
    "                idx = np.argwhere(np.sum(zc[nn], 0) == 0)\n",
    "                zc = np.delete(zc, idx, axis=1)\n",
    "                Kc -= len(idx)\n",
    "\n",
    "            # m = n. of nodes in each component \n",
    "            mr = np.sum(zr[nn,:], 0)[np.newaxis] #newaxis allows m to become 2d array (for transposing)\n",
    "            mc = np.sum(zc[nn,:], 0)[np.newaxis]\n",
    "            Mr = np.tile(mr.T, (1, Kc))\n",
    "\n",
    "            M1 = zr.T @ X_ @ zc\n",
    "\n",
    "            X_rev = (np.where((X_==0)|(X_==1), X_^1, X_) - np.eye(X_.shape[0])).copy() #reverse matrix for non_links\n",
    "            X_rev[:,0] = 0\n",
    "            M0 = zr.T @ X_rev @ zc #n. of non-links between biclusters without current node\n",
    "\n",
    "            s = zr[nn,:].T @ X[nn, n]\n",
    "            S = np.tile(s[np.newaxis].T, (1, Kc))\n",
    "\n",
    "            logLik_exComp = np.sum(betaln(M1+S+a, M0+Mr-S+b) - betaln(M1+a, M0+b), 0)\n",
    "            logLik_newComp = np.sum(betaln(s+a, mr-s+b) - betaln(a,b),1)\n",
    "\n",
    "            logLik = np.concatenate([logLik_exComp, logLik_newComp])\n",
    "            logPrior = np.log(np.append(mc, A))\n",
    "\n",
    "            logPost = logPrior + logLik\n",
    "\n",
    "            P = np.exp(logPost-max(logPost)) \n",
    "\n",
    "            # Assignment through random draw fron unif(0,1), taking first value from prob. vector\n",
    "            draw = np.random.rand()\n",
    "            i = np.argwhere(draw<np.cumsum(P)/sum(P))[0]\n",
    "\n",
    "            zc[n,:] = 0\n",
    "            if i == Kc: # If new component: add new column to partition matrix\n",
    "                zc = np.hstack((zc, np.zeros((N,1)))) \n",
    "            zc[n,i] = 1\n",
    "\n",
    "        Z.append([zr.copy(), zc.copy()])\n",
    "        Zr.append(zr.copy())\n",
    "        Zc.append(zc.copy())\n",
    "    \n",
    "    return [Zr, Zc]"
   ]
  },
  {
   "cell_type": "code",
   "execution_count": 7,
   "metadata": {},
   "outputs": [
    {
     "data": {
      "text/plain": [
       "array([[0., 1., 1., ..., 0., 0., 1.],\n",
       "       [1., 0., 1., ..., 1., 0., 1.],\n",
       "       [1., 0., 0., ..., 1., 1., 0.],\n",
       "       ...,\n",
       "       [0., 0., 0., ..., 0., 1., 1.],\n",
       "       [1., 0., 0., ..., 1., 0., 1.],\n",
       "       [0., 0., 0., ..., 1., 1., 0.]])"
      ]
     },
     "execution_count": 7,
     "metadata": {},
     "output_type": "execute_result"
    }
   ],
   "source": [
    "X"
   ]
  },
  {
   "cell_type": "code",
   "execution_count": 137,
   "metadata": {},
   "outputs": [],
   "source": [
    "T = 10000\n",
    "a = 1\n",
    "b = 1\n",
    "A = 1"
   ]
  },
  {
   "cell_type": "code",
   "execution_count": 138,
   "metadata": {},
   "outputs": [],
   "source": [
    "Z = irm_bicluster(X, T , a, b, A, set_seed = True, random_seed = 42)"
   ]
  },
  {
   "cell_type": "code",
   "execution_count": 178,
   "metadata": {},
   "outputs": [],
   "source": [
    "Z_bi = Z.copy()"
   ]
  },
  {
   "cell_type": "code",
   "execution_count": 11,
   "metadata": {},
   "outputs": [],
   "source": [
    "# #test X\n",
    "# X = np.array([[0, 1, 0, 0, 1],\n",
    "#               [0, 0, 1, 1, 0],\n",
    "#               [0, 1, 0, 1, 1],\n",
    "#               [1, 1, 0, 0, 1],\n",
    "#               [0, 1, 0, 1, 0]])\n",
    "\n",
    "# zr = np.array([[1, 0],\n",
    "#                [1, 0],\n",
    "#                [1, 0],\n",
    "#                [0, 1],\n",
    "#                [0, 1]])\n",
    "\n",
    "# zc = np.array([[1, 0, 0],\n",
    "#                [1, 0, 0],\n",
    "#                [0, 1, 0],\n",
    "#                [0, 1, 0],\n",
    "#                [0, 0, 1]])\n",
    "\n",
    "# a = 1\n",
    "# b = 1\n",
    "# A = 1"
   ]
  },
  {
   "cell_type": "code",
   "execution_count": 25,
   "metadata": {},
   "outputs": [],
   "source": [
    "from igraph.clustering import compare_communities\n",
    "from scipy.special import betaln\n",
    "from eval import retrieve_samples, compute_Zhat"
   ]
  },
  {
   "cell_type": "code",
   "execution_count": 154,
   "metadata": {},
   "outputs": [],
   "source": [
    "def compute_VIs(C):\n",
    "    N = len(C)\n",
    "    VIs = np.zeros((N,N))\n",
    "\n",
    "    for i in range(N):\n",
    "        for j in range(i):\n",
    "            VIs[i,j] = compare_communities(C[i], C[j])\n",
    "\n",
    "    VIs += VIs.T\n",
    "\n",
    "    return VIs\n",
    "\n",
    "def compute_edge_quantities(X, zr, zc = None, mode = 'biclustering'):\n",
    "    if mode == 'uniclustering':\n",
    "        M1 = zr.T @ X @ zr\n",
    "        X = X.copy().astype(int)\n",
    "        X_rev = (np.where((X==0)|(X==1), X^1, X) - np.eye(X.shape[0])).copy() #reverse matrix for non_links\n",
    "        M0 = zr.T @ X_rev @ zr\n",
    "\n",
    "\n",
    "    if mode == 'biclustering':\n",
    "        M1 = zr.T @ X @ zc\n",
    "\n",
    "        X = X.copy().astype(int)\n",
    "        X_rev = (np.where((X==0)|(X==1), X^1, X) - np.eye(X.shape[0])).copy() #reverse matrix for non_links\n",
    "        M0 = zr.T @ X_rev @ zc\n",
    "\n",
    "    return M1, M0\n",
    "\n",
    "def compute_logL(X, zr, zc = None, a=1, b=1, mode = 'biclustering'):\n",
    "    if mode == 'uniclustering':\n",
    "        M1, M0 = compute_edge_quantities(X, zr, mode = 'uniclustering')\n",
    "        \n",
    "\n",
    "    if mode == 'biclustering':\n",
    "        M1, M0 = compute_edge_quantities(X, zr, zc, mode = 'biclustering')\n",
    "    \n",
    "    logLlhood = np.sum(betaln(M1 + a, M0 + b) - betaln(a, b))\n",
    "    return logLlhood\n",
    "\n",
    "# def compute_logL_bicl(X, zr, zc, a=1, b=1):\n",
    "#     M1, M0 = compute_edge_quantities(X, zr, zc, mode = 'biclustering')\n",
    "#     logLlhood = np.sum(betaln(M1 + a, M0 + b) - betaln(a, b))\n",
    "#     return logLlhood\n",
    "\n",
    "\n",
    "\n",
    "def compute_logLs(X, Z, mode = 'biclustering'):\n",
    "    if mode == 'uniclustering':\n",
    "        N = len(Z)\n",
    "        logLs = [0]*N\n",
    "        for i in range(N):\n",
    "            logLs[i] = compute_logL(X, Z[i], mode = 'uniclustering')\n",
    "    if mode == 'biclustering':\n",
    "        N = len(Z[0])\n",
    "        logLs = [0]*N\n",
    "        for i in range(N):\n",
    "            logLs[i] = compute_logL(X, Z[0][i], Z[1][i], mode = 'biclustering')\n",
    "\n",
    "    return logLs\n",
    "\n",
    "def compute_Zhat(X, Z, mode = 'biclustering', weight_llhood = False, ret_VI = False, ret_all = False):\n",
    "    if mode == 'uniclustering':\n",
    "        Z = retrieve_samples(Z, gap = 10)\n",
    "\n",
    "        C = [np.where(x == 1)[1].tolist() for x in Z]\n",
    "\n",
    "        VI = compute_VIs(C)\n",
    "        VI = VI.sum(0)/VI.shape[0]\n",
    "\n",
    "        if weight_llhood == True:\n",
    "            logLs = compute_logLs(X, Z, mode = 'uniclustering')\n",
    "            VI *= -logLs        \n",
    "\n",
    "        idx_min = np.argmin(VI) \n",
    "        z_hat = Z[idx_min]\n",
    "        c_hat = np.where(z_hat==1)[1]\n",
    "\n",
    "    if mode == 'biclustering':\n",
    "        Zr = retrieve_samples(Z[0], gap = 25)\n",
    "        Zc = retrieve_samples(Z[1], gap = 25)\n",
    "\n",
    "        Cr = [np.where(x == 1)[1].tolist() for x in Zr]\n",
    "        Cc = [np.where(x == 1)[1].tolist() for x in Zc]\n",
    "\n",
    "        VIr = compute_VIs(Cr)\n",
    "        VIc = compute_VIs(Cc)\n",
    "\n",
    "        VI = (VIr + VIc)/2\n",
    "        VI = VI.sum(0)/VI.shape[0]\n",
    "\n",
    "        if weight_llhood == True:\n",
    "            logLs = compute_logLs(X, [Zr, Zc], mode = 'biclustering')\n",
    "            VI *= -logLs\n",
    "\n",
    "        idx_min = np.argmin(VI) \n",
    "        z_hat = [Zr[idx_min], Zc[idx_min]]\n",
    "        c_hat = [np.where(z_hat[0]==1)[1], np.where(z_hat[1]==1)[1]]\n",
    "\n",
    "    if ret_all:\n",
    "        return [Zr, Zc], VI, idx_min\n",
    "\n",
    "    if ret_VI:\n",
    "        return z_hat, VI[idx_min]\n",
    "\n",
    "    return z_hat"
   ]
  },
  {
   "cell_type": "code",
   "execution_count": 155,
   "metadata": {},
   "outputs": [],
   "source": [
    "Zr = retrieve_samples(Z[0], gap = 25)\n",
    "Zc = retrieve_samples(Z[1], gap = 25)\n",
    "\n",
    "Cr = [np.where(x == 1)[1].tolist() for x in Zr]\n",
    "Cc = [np.where(x == 1)[1].tolist() for x in Zc]\n",
    "\n",
    "VIr = 0\n",
    "VIc = 0\n",
    "for i in range(len(Cr)):\n",
    "    VIr += compare_communities(Cr[i], z0[0])\n",
    "    VIc += compare_communities(Cc[i], z0[1])\n",
    "\n",
    "VIr = VIr/len(Cr)\n",
    "VIc = VIc/len(Cc)\n",
    "\n",
    "VI_relative_true = np.mean([VIr, VIc])"
   ]
  },
  {
   "cell_type": "code",
   "execution_count": 158,
   "metadata": {},
   "outputs": [],
   "source": [
    "Zsample, VI, idx_min = compute_Zhat(X, Z, mode = 'biclustering', ret_all = True)\n",
    "\n",
    "z_hat = [Zsample[0][idx_min], Zsample[1][idx_min]]\n",
    "c_hat = [np.where(z_hat[0]==1)[1], np.where(z_hat[1]==1)[1]]\n",
    "\n",
    "sorted_VI = VI[np.argsort(VI)]\n",
    "sorted_Zr = [Zsample[0][i] for i in np.argsort(VI)]\n",
    "sorted_Zc = [Zsample[1][i] for i in np.argsort(VI)]\n",
    "\n",
    "b_threshold = int(len(VI)*0.95)\n",
    "\n",
    "zr_ball = sorted_Zr[b_threshold]\n",
    "zc_ball = sorted_Zc[b_threshold]\n",
    "\n",
    "c_ball = [np.where(zr_ball==1)[1], np.where(zc_ball==1)[1]]\n",
    "\n",
    "VI_relative_ball = np.mean([compare_communities(c_hat[0], c_ball[0]), \n",
    "                            compare_communities(c_hat[1], c_ball[1])])"
   ]
  },
  {
   "cell_type": "code",
   "execution_count": 160,
   "metadata": {},
   "outputs": [
    {
     "data": {
      "text/plain": [
       "0.041221483371180485"
      ]
     },
     "execution_count": 160,
     "metadata": {},
     "output_type": "execute_result"
    }
   ],
   "source": [
    "VI_relative_true"
   ]
  },
  {
   "cell_type": "code",
   "execution_count": 161,
   "metadata": {},
   "outputs": [
    {
     "data": {
      "text/plain": [
       "0.1410134600919173"
      ]
     },
     "execution_count": 161,
     "metadata": {},
     "output_type": "execute_result"
    }
   ],
   "source": [
    "VI_relative_ball"
   ]
  },
  {
   "cell_type": "code",
   "execution_count": 162,
   "metadata": {},
   "outputs": [],
   "source": [
    "Kr_vector = [i.shape[1] for i in sorted_Zr]\n",
    "Kc_vector = [i.shape[1] for i in sorted_Zc]"
   ]
  },
  {
   "cell_type": "code",
   "execution_count": 173,
   "metadata": {},
   "outputs": [
    {
     "name": "stdout",
     "output_type": "stream",
     "text": [
      "3.0\n",
      "3.0\n",
      "3.0\n"
     ]
    }
   ],
   "source": [
    "print(np.quantile(np.sort(Kr_vector), 0.25))\n",
    "print(np.quantile(np.sort(Kr_vector), 0.5))\n",
    "print(np.quantile(np.sort(Kr_vector), 0.75))"
   ]
  },
  {
   "cell_type": "code",
   "execution_count": 174,
   "metadata": {},
   "outputs": [
    {
     "name": "stdout",
     "output_type": "stream",
     "text": [
      "4.0\n",
      "4.0\n",
      "5.0\n"
     ]
    }
   ],
   "source": [
    "print(np.quantile(np.sort(Kc_vector), 0.25))\n",
    "print(np.quantile(np.sort(Kc_vector), 0.5))\n",
    "print(np.quantile(np.sort(Kc_vector), 0.75))"
   ]
  },
  {
   "cell_type": "code",
   "execution_count": 165,
   "metadata": {},
   "outputs": [
    {
     "data": {
      "text/plain": [
       "4.0"
      ]
     },
     "execution_count": 165,
     "metadata": {},
     "output_type": "execute_result"
    }
   ],
   "source": [
    "np.median(np.sort(Kc_vector))"
   ]
  },
  {
   "cell_type": "code",
   "execution_count": 176,
   "metadata": {},
   "outputs": [],
   "source": [
    "from irm import irm"
   ]
  },
  {
   "cell_type": "code",
   "execution_count": 177,
   "metadata": {},
   "outputs": [],
   "source": [
    "Z = irm(X, T , a, b, A, set_seed = True, random_seed = 42)\n",
    "Z_uni = Z.copy()"
   ]
  },
  {
   "cell_type": "code",
   "execution_count": 179,
   "metadata": {},
   "outputs": [],
   "source": [
    "Z = [Z_uni, Z_uni]"
   ]
  },
  {
   "cell_type": "code",
   "execution_count": 180,
   "metadata": {},
   "outputs": [],
   "source": [
    "Zr = retrieve_samples(Z[0], gap = 25)\n",
    "Zc = retrieve_samples(Z[1], gap = 25)\n",
    "\n",
    "Cr = [np.where(x == 1)[1].tolist() for x in Zr]\n",
    "Cc = [np.where(x == 1)[1].tolist() for x in Zc]\n",
    "\n",
    "VIr = 0\n",
    "VIc = 0\n",
    "for i in range(len(Cr)):\n",
    "    VIr += compare_communities(Cr[i], z0[0])\n",
    "    VIc += compare_communities(Cc[i], z0[1])\n",
    "\n",
    "VIr = VIr/len(Cr)\n",
    "VIc = VIc/len(Cc)\n",
    "\n",
    "VI_relative_true = np.mean([VIr, VIc])"
   ]
  },
  {
   "cell_type": "code",
   "execution_count": 181,
   "metadata": {},
   "outputs": [],
   "source": [
    "Zsample, VI, idx_min = compute_Zhat(X, Z, mode = 'biclustering', ret_all = True)\n",
    "\n",
    "z_hat = [Zsample[0][idx_min], Zsample[1][idx_min]]\n",
    "c_hat = [np.where(z_hat[0]==1)[1], np.where(z_hat[1]==1)[1]]\n",
    "\n",
    "sorted_VI = VI[np.argsort(VI)]\n",
    "sorted_Zr = [Zsample[0][i] for i in np.argsort(VI)]\n",
    "sorted_Zc = [Zsample[1][i] for i in np.argsort(VI)]\n",
    "\n",
    "b_threshold = int(len(VI)*0.95)\n",
    "\n",
    "zr_ball = sorted_Zr[b_threshold]\n",
    "zc_ball = sorted_Zc[b_threshold]\n",
    "\n",
    "c_ball = [np.where(zr_ball==1)[1], np.where(zc_ball==1)[1]]\n",
    "\n",
    "VI_relative_ball = np.mean([compare_communities(c_hat[0], c_ball[0]), \n",
    "                            compare_communities(c_hat[1], c_ball[1])])"
   ]
  },
  {
   "cell_type": "code",
   "execution_count": 182,
   "metadata": {},
   "outputs": [
    {
     "data": {
      "text/plain": [
       "0.4625870429110249"
      ]
     },
     "execution_count": 182,
     "metadata": {},
     "output_type": "execute_result"
    }
   ],
   "source": [
    "VI_relative_true"
   ]
  },
  {
   "cell_type": "code",
   "execution_count": 190,
   "metadata": {},
   "outputs": [
    {
     "data": {
      "text/plain": [
       "0.6064280791369167"
      ]
     },
     "execution_count": 190,
     "metadata": {},
     "output_type": "execute_result"
    }
   ],
   "source": [
    "VIr"
   ]
  },
  {
   "cell_type": "code",
   "execution_count": 191,
   "metadata": {},
   "outputs": [
    {
     "data": {
      "text/plain": [
       "0.31874600668513314"
      ]
     },
     "execution_count": 191,
     "metadata": {},
     "output_type": "execute_result"
    }
   ],
   "source": [
    "VIc"
   ]
  },
  {
   "cell_type": "code",
   "execution_count": 187,
   "metadata": {},
   "outputs": [
    {
     "data": {
      "text/plain": [
       "0.0"
      ]
     },
     "execution_count": 187,
     "metadata": {},
     "output_type": "execute_result"
    }
   ],
   "source": [
    "VI_relative_ball"
   ]
  },
  {
   "cell_type": "code",
   "execution_count": 188,
   "metadata": {},
   "outputs": [],
   "source": [
    "Kr_vector = [i.shape[1] for i in sorted_Zr]\n",
    "Kc_vector = [i.shape[1] for i in sorted_Zc]"
   ]
  },
  {
   "cell_type": "code",
   "execution_count": 189,
   "metadata": {},
   "outputs": [
    {
     "name": "stdout",
     "output_type": "stream",
     "text": [
      "6.0\n",
      "6.0\n",
      "6.0\n"
     ]
    }
   ],
   "source": [
    "print(np.quantile(np.sort(Kr_vector), 0.25))\n",
    "print(np.quantile(np.sort(Kr_vector), 0.5))\n",
    "print(np.quantile(np.sort(Kr_vector), 0.75))"
   ]
  },
  {
   "cell_type": "code",
   "execution_count": 166,
   "metadata": {},
   "outputs": [],
   "source": [
    "from collections import Counter"
   ]
  },
  {
   "cell_type": "code",
   "execution_count": 167,
   "metadata": {},
   "outputs": [
    {
     "data": {
      "text/plain": [
       "Counter({4: 103, 5: 67, 6: 25, 7: 5})"
      ]
     },
     "execution_count": 167,
     "metadata": {},
     "output_type": "execute_result"
    }
   ],
   "source": [
    "Counter(Kc_vector)"
   ]
  },
  {
   "cell_type": "code",
   "execution_count": 134,
   "metadata": {},
   "outputs": [
    {
     "data": {
      "text/plain": [
       "array([4, 4, 4, 4, 4, 4, 4, 4, 4, 4, 4, 4, 4, 4, 4, 4, 4, 4, 4, 4, 4, 4,\n",
       "       4, 4, 4, 4, 4, 4, 4, 4, 4, 4, 4, 4, 4, 4, 4, 4, 4, 4, 4, 4, 4, 4,\n",
       "       4, 4, 4, 4, 4, 4, 4, 4, 4, 4, 4, 4, 4, 4, 4, 4, 4, 4, 4, 4, 4, 4,\n",
       "       4, 4, 4, 4, 4, 4, 4, 4, 4, 4, 4, 4, 4, 4, 4, 4, 4, 4, 4, 4, 4, 4,\n",
       "       4, 4, 4, 4, 4, 4, 4, 4, 4, 4, 4, 4, 4, 4, 4, 4, 4, 4, 4, 4, 4, 4,\n",
       "       4, 4, 4, 4, 4, 4, 4, 4, 5, 5, 5, 5, 5, 5, 5, 5, 5, 5, 5, 5, 5, 5,\n",
       "       5, 5, 5, 5, 5, 5, 5, 5, 5, 5, 5, 5, 5, 5, 5, 5, 5, 5, 5, 5, 5, 5,\n",
       "       5, 5, 5, 5, 5, 5, 5, 5, 5, 5, 5, 5, 5, 5, 5, 5, 5, 5, 5, 5, 5, 5,\n",
       "       5, 5, 5, 5, 5, 5, 5, 5, 5, 5, 5, 5, 5, 5, 5, 5, 5, 5, 5, 5, 5, 5,\n",
       "       5, 5, 5, 5, 5, 5, 5, 5, 5, 5, 5, 5, 5, 5, 5, 5, 5, 5, 5, 5, 5, 5,\n",
       "       5, 5, 5, 6, 6, 6, 6, 6, 6, 6, 6, 6, 6, 6, 6, 6, 6, 6, 6, 6, 6, 6,\n",
       "       6, 6, 6, 6, 6, 7, 7, 9])"
      ]
     },
     "execution_count": 134,
     "metadata": {},
     "output_type": "execute_result"
    }
   ],
   "source": [
    "np.sort(Kc_vector)"
   ]
  },
  {
   "cell_type": "code",
   "execution_count": 67,
   "metadata": {},
   "outputs": [],
   "source": [
    "import seaborn as sns\n",
    "import matplotlib.pylab as plt"
   ]
  },
  {
   "cell_type": "code",
   "execution_count": 78,
   "metadata": {},
   "outputs": [],
   "source": [
    "def pr_cc(Z, mode = 'biclustering'):\n",
    "    if mode == 'biclustering':\n",
    "        Zr = Z[0]\n",
    "        Zc = Z[1]\n",
    "        N = Zr[0].shape[0]\n",
    "        C = np.zeros((N,N))\n",
    "        for i in range(len(Zr)):\n",
    "            C += (Zr[i]@Zc[i].T) * (Zc[i]@Zr[i].T)\n",
    "\n",
    "        return C/len(Zr)\n",
    "\n",
    "    if mode == 'uniclustering':\n",
    "        N = Z[0].shape[0]\n",
    "        C = np.zeros((N,N))\n",
    "        for i in range(len(Z)):\n",
    "            C += (Z[i]@Z[i].T)\n",
    "\n",
    "        return C/len(Z)\n",
    "\n"
   ]
  },
  {
   "cell_type": "code",
   "execution_count": 77,
   "metadata": {},
   "outputs": [
    {
     "data": {
      "image/png": "[encoded data removed]",
      "text/plain": [
       "<Figure size 432x288 with 2 Axes>"
      ]
     },
     "metadata": {
      "needs_background": "light"
     },
     "output_type": "display_data"
    }
   ],
   "source": [
    "ax = sns.heatmap(X, linewidth=0.5)\n",
    "plt.show()"
   ]
  },
  {
   "cell_type": "code",
   "execution_count": 76,
   "metadata": {},
   "outputs": [
    {
     "data": {
      "image/png": "[encoded data removed]",
      "text/plain": [
       "<Figure size 432x288 with 2 Axes>"
      ]
     },
     "metadata": {
      "needs_background": "light"
     },
     "output_type": "display_data"
    }
   ],
   "source": [
    "ax = sns.heatmap(pr_cc([Zr, Zc]), linewidth=0.5)\n",
    "plt.show()"
   ]
  },
  {
   "cell_type": "code",
   "execution_count": 74,
   "metadata": {},
   "outputs": [
    {
     "data": {
      "image/png": "[encoded data removed]",
      "text/plain": [
       "<Figure size 432x288 with 2 Axes>"
      ]
     },
     "metadata": {
      "needs_background": "light"
     },
     "output_type": "display_data"
    }
   ],
   "source": [
    "ax = sns.heatmap(pr_cc(Zr, mode ='uniclustering'), linewidth=0.5)\n",
    "plt.show()"
   ]
  },
  {
   "cell_type": "code",
   "execution_count": 75,
   "metadata": {},
   "outputs": [
    {
     "data": {
      "image/png": "[encoded data removed]",
      "text/plain": [
       "<Figure size 432x288 with 2 Axes>"
      ]
     },
     "metadata": {
      "needs_background": "light"
     },
     "output_type": "display_data"
    }
   ],
   "source": [
    "ax = sns.heatmap(pr_cc(Zc, mode ='uniclustering'), linewidth=0.5)\n",
    "plt.show()"
   ]
  },
  {
   "cell_type": "code",
   "execution_count": 83,
   "metadata": {},
   "outputs": [],
   "source": [
    "Zr = retrieve_samples(Z[0], gap = 10)\n",
    "Zc = retrieve_samples(Z[1], gap = 10)\n",
    "\n",
    "Cr = [np.where(x == 1)[1].tolist() for x in Zr]\n",
    "Cc = [np.where(y == 1)[1].tolist() for y in Zc]\n",
    "\n",
    "logLs = compute_logLs(X, [Zr, Zc], mode = 'biclustering')\n",
    "\n",
    "VIr = compute_VIs(Cr)\n",
    "VIc = compute_VIs(Cc)\n",
    "\n",
    "VI = (VIr + VIc)/2\n",
    "VI = VI.sum(0)/VI.shape[0]\n",
    "VI *= logLs\n",
    "\n",
    "idx_min = np.argmin(VI) \n",
    "z_hat = [Zr[idx_min], Zc[idx_min]]\n",
    "c_hat = [np.where(z_hat[0]==1)[1], np.where(z_hat[1]==1)[1]]"
   ]
  },
  {
   "cell_type": "code",
   "execution_count": 84,
   "metadata": {},
   "outputs": [
    {
     "data": {
      "text/plain": [
       "[array([0, 1, 1, 2, 0], dtype=int64), array([1, 1, 0, 0, 0], dtype=int64)]"
      ]
     },
     "execution_count": 84,
     "metadata": {},
     "output_type": "execute_result"
    }
   ],
   "source": [
    "c_hat"
   ]
  },
  {
   "cell_type": "code",
   "execution_count": 79,
   "metadata": {},
   "outputs": [],
   "source": [
    "z_hat = [Zr[idx_min], Zc[idx_min]]"
   ]
  },
  {
   "cell_type": "code",
   "execution_count": 81,
   "metadata": {},
   "outputs": [
    {
     "data": {
      "text/plain": [
       "[array([[1., 0., 0.],\n",
       "        [0., 1., 0.],\n",
       "        [0., 1., 0.],\n",
       "        [0., 0., 1.],\n",
       "        [1., 0., 0.]]),\n",
       " array([[0., 1.],\n",
       "        [0., 1.],\n",
       "        [1., 0.],\n",
       "        [1., 0.],\n",
       "        [1., 0.]])]"
      ]
     },
     "execution_count": 81,
     "metadata": {},
     "output_type": "execute_result"
    }
   ],
   "source": [
    "z_hat"
   ]
  },
  {
   "cell_type": "code",
   "execution_count": 82,
   "metadata": {},
   "outputs": [
    {
     "data": {
      "text/plain": [
       "array([0, 1, 1, 2, 0], dtype=int64)"
      ]
     },
     "execution_count": 82,
     "metadata": {},
     "output_type": "execute_result"
    }
   ],
   "source": [
    "np.where(z_hat[0]==1)[1]"
   ]
  },
  {
   "cell_type": "code",
   "execution_count": 65,
   "metadata": {},
   "outputs": [
    {
     "data": {
      "text/plain": [
       "[-12.712215321391783,\n",
       " -12.619505923287514,\n",
       " -12.021668922531894,\n",
       " -14.252660362338933,\n",
       " -11.585432155756976,\n",
       " -12.550513051800563,\n",
       " -12.460900893110876,\n",
       " -11.749735207048253,\n",
       " -12.021668922531894,\n",
       " -13.628506053265937,\n",
       " -14.727118341934046,\n",
       " -15.79755975363546,\n",
       " -14.727118341934046,\n",
       " -15.35572700135642,\n",
       " -12.396362371973304,\n",
       " -12.907187995739296,\n",
       " -13.089509552533249,\n",
       " -15.173816882543996,\n",
       " -14.970881180450993,\n",
       " -14.950261893248255,\n",
       " -12.801827480081469,\n",
       " -11.143599403477936,\n",
       " -12.668296087456948,\n",
       " -13.851649604580146,\n",
       " -12.396362371973305]"
      ]
     },
     "execution_count": 65,
     "metadata": {},
     "output_type": "execute_result"
    }
   ],
   "source": [
    "logLs"
   ]
  },
  {
   "cell_type": "code",
   "execution_count": 61,
   "metadata": {},
   "outputs": [],
   "source": [
    "def compute_VIs(C):\n",
    "    N = len(C)\n",
    "    VIs = np.zeros((N,N))\n",
    "\n",
    "    for i in range(N):\n",
    "        for j in range(i):\n",
    "            VIs[i,j] = compare_communities(C[i], C[j])\n",
    "\n",
    "    VIs += VIs.T\n",
    "\n",
    "    return VIs\n",
    "\n",
    "def compute_edge_quantities(X, zr, zc = None, mode = 'biclustering'):\n",
    "    if mode == 'biclustering':\n",
    "        mr = np.sum(zr, 0)[np.newaxis] #newaxis allows m to become 2d array (for transposing)\n",
    "        mc = np.sum(zc, 0)[np.newaxis]\n",
    "\n",
    "        M1 = zr.T @ X @ zc\n",
    "\n",
    "        X_rev = (np.where((X==0)|(X==1), X^1, X) - np.eye(X.shape[0])).copy() #reverse matrix for non_links\n",
    "        M0 = zr.T @ X_rev @ zc\n",
    "\n",
    "    return M1, M0\n",
    "\n",
    "# def compute_logL(X, zr, zc, a=1, b=1):\n",
    "#     M1, M0 = compute_edge_quantities(X, zr, zc)\n",
    "\n",
    "def compute_logL_bicl(X, zr, zc, a=1, b=1):\n",
    "    M1, M0 = compute_edge_quantities(X, zr, zc, mode = 'biclustering')\n",
    "    logLlhood = np.sum(betaln(M1 + a, M0 + b) - betaln(a, b))\n",
    "    return logLlhood\n",
    "\n",
    "\n",
    "\n",
    "def compute_logLs(X, Z, mode = 'biclustering'):\n",
    "    \n",
    "    if mode == 'biclustering':\n",
    "        N = len(Z[0])\n",
    "        logLs = [0]*N\n",
    "        for i in range(N):\n",
    "            logLs[i] = compute_logL_bicl(X, Z[0][i], Z[1][i])\n",
    "\n",
    "    return logLs\n"
   ]
  },
  {
   "cell_type": "code",
   "execution_count": 62,
   "metadata": {},
   "outputs": [
    {
     "data": {
      "text/plain": [
       "array([[ -0.        , -10.06780156,  -8.33278592, -10.62495915,\n",
       "         -5.81812212,  -6.30277892,  -8.86583364,  -6.51543666,\n",
       "         -8.33278592,  -6.38104538, -11.74924802, -13.42984715,\n",
       "         -7.6660238 , -12.25075001, -12.25691643, -12.76199581,\n",
       "         -9.7578628 , -15.62376629, -13.23577748, -13.99981761,\n",
       "         -9.63202   ,  -5.21757947,  -9.53155176,  -9.13055548,\n",
       "         -8.17127762],\n",
       "       [-10.14176482,  -0.        ,  -6.66622874, -16.55247396,\n",
       "         -7.42420405, -11.52239057, -10.5932813 ,  -8.14429583,\n",
       "         -6.66622874, -15.82760592,  -9.70763591, -15.61985395,\n",
       "        -13.79086013, -22.89452888, -10.53841571, -14.551312  ,\n",
       "         -7.94327147, -15.10816291, -15.31118229, -11.92727124,\n",
       "         -7.85730988,  -6.76241038,  -7.77535302, -14.89129461,\n",
       "         -1.71850073],\n",
       "       [ -8.81143621,  -6.99773996,  -0.        , -11.10926181,\n",
       "         -5.42445137,  -5.87631491,  -4.53032867,  -1.62885917,\n",
       "         -0.        , -12.0489817 , -13.79086013, -15.61985395,\n",
       "        -13.79086013, -18.63701733,  -5.80413954, -13.20057957,\n",
       "        -10.20264181, -11.93229431, -13.74448513, -16.07236399,\n",
       "         -5.64759612,  -6.76241038,  -5.58868802, -11.05080186,\n",
       "         -5.15550218],\n",
       "       [ -9.47660052, -14.65579323,  -9.37031151,  -0.        ,\n",
       "         -8.03040963,  -8.69935274,  -8.63723832,  -7.52949312,\n",
       "         -9.37031151,  -7.55724844, -13.0202664 , -19.17326317,\n",
       "         -7.39585471, -13.57602022,  -8.59250363, -12.52521336,\n",
       "        -10.88754797, -10.10712041, -14.52783371, -11.14500156,\n",
       "        -15.62600362,  -6.17932361, -15.46301423, -10.32601686,\n",
       "        -12.67814244],\n",
       "       [ -6.38398466,  -8.08686165,  -5.62870315,  -9.87919135,\n",
       "         -0.        ,  -6.95948219,  -6.90979066,  -3.87252105,\n",
       "         -5.62870315, -13.22518476, -15.06187851, -16.98325637,\n",
       "        -10.97865429, -19.96228754, -11.60827907, -10.73589716,\n",
       "         -7.70314433, -14.82979914, -15.03654137,  -9.07245518,\n",
       "        -10.30187325,  -4.6344927 , -10.194418  , -12.24626324,\n",
       "         -6.22536554],\n",
       "       [ -6.38398466, -11.58573163,  -5.62870315,  -9.87919135,\n",
       "         -6.42432771,  -0.        ,  -6.90979066,  -3.87252105,\n",
       "         -5.62870315, -13.22518476, -10.97865429, -16.98325637,\n",
       "        -10.97865429, -19.96228754, -11.60827907, -10.73589716,\n",
       "        -11.33232698, -14.82979914, -15.03654137, -17.36264069,\n",
       "         -6.752453  ,  -7.72415451, -10.194418  ,  -8.40577049,\n",
       "         -9.66236699],\n",
       "       [ -9.04464189, -10.72811487,  -4.37063996,  -9.87919135,\n",
       "         -6.42432771,  -6.95948219,  -0.        ,  -2.64291562,\n",
       "         -4.37063996, -10.87277864, -12.51984176, -18.63646513,\n",
       "        -12.51984176, -13.05423557,  -8.17127762,  -8.50799721,\n",
       "        -10.44276896, -16.41773344, -14.01912605, -14.78208729,\n",
       "        -10.30187325,  -5.80066625, -10.194418  ,  -9.85534048,\n",
       "         -8.81991498],\n",
       "       [ -7.04914897,  -8.74717495,  -1.66655718,  -9.13342354,\n",
       "         -3.81836944,  -4.13644436,  -2.802881  ,  -0.        ,\n",
       "         -1.66655718, -10.1596696 , -15.83247225, -17.80986075,\n",
       "        -11.74924802, -16.50826156,  -7.52264026, -11.41126338,\n",
       "         -8.38805048, -14.03583198, -11.66908032, -13.99981761,\n",
       "         -7.42230624,  -5.21757947,  -7.34488676,  -9.13055548,\n",
       "         -6.8740029 ],\n",
       "       [ -8.81143621,  -6.99773996,  -0.        , -11.10926181,\n",
       "         -5.42445137,  -5.87631491,  -4.53032867,  -1.62885917,\n",
       "         -0.        , -12.0489817 , -13.79086013, -15.61985395,\n",
       "        -13.79086013, -18.63701733,  -5.80413954, -13.20057957,\n",
       "        -10.20264181, -11.93229431, -13.74448513, -16.07236399,\n",
       "         -5.64759612,  -6.76241038,  -5.58868802, -11.05080186,\n",
       "         -5.15550218],\n",
       "       [ -5.95202603, -14.65579323, -10.6283747 ,  -7.90335308,\n",
       "        -11.24257349, -12.17909383,  -9.94126697,  -8.75909854,\n",
       "        -10.6283747 ,  -0.        , -13.0202664 , -19.17326317,\n",
       "        -13.0202664 , -13.57602022,  -6.4527769 , -17.45457817,\n",
       "        -10.88754797, -14.31419576, -10.37702408, -15.29009431,\n",
       "        -12.07658337,  -6.17932361,  -8.43821926,  -6.48552412,\n",
       "        -12.67814244],\n",
       "       [-10.14176482,  -8.31836657, -11.25740629, -12.60079742,\n",
       "        -11.84877908,  -9.356056  , -10.5932813 , -12.63161959,\n",
       "        -11.25740629, -12.0489817 ,  -0.        , -15.61985395,\n",
       "        -13.79086013, -14.37950578, -10.53841571, -10.97267962,\n",
       "        -15.20163678, -17.72730397, -19.46199192, -16.07236399,\n",
       "        -12.74643662,  -6.76241038, -12.61348299, -11.05080186,\n",
       "         -6.4527769 ],\n",
       "       [-10.80692913, -12.47754986, -11.88643789, -17.29824177,\n",
       "        -12.45498466, -13.49250036, -14.70019095, -13.2464223 ,\n",
       "        -11.88643789, -16.54071497, -14.56145387,  -0.        ,\n",
       "        -14.56145387, -10.9254798 , -14.62405452, -11.64804583,\n",
       "        -10.88754797, -14.31419576, -10.37702408, -11.14500156,\n",
       "         -8.52716312, -13.52482075,  -8.43821926, -15.6160796 ,\n",
       "        -10.53841571],\n",
       "       [ -6.61719034, -11.81723655, -11.25740629,  -7.15758527,\n",
       "         -8.63661522,  -9.356056  , -10.5932813 ,  -9.37390126,\n",
       "        -11.25740629, -12.0489817 , -13.79086013, -15.61985395,\n",
       "         -0.        , -14.37950578, -13.97541716, -14.551312  ,\n",
       "        -15.20163678, -13.52022861, -19.46199192, -11.92727124,\n",
       "        -12.74643662,  -9.85207218, -16.12588048, -11.05080186,\n",
       "         -9.88977835],\n",
       "       [-10.14176482, -18.81497651, -14.59052066, -12.60079742,\n",
       "        -15.06094293, -16.31553819, -10.5932813 , -12.63161959,\n",
       "        -14.59052066, -12.0489817 , -13.79086013, -11.23984035,\n",
       "        -13.79086013,  -0.        , -17.41241861,  -7.39404723,\n",
       "        -15.20163678,  -9.31315325, -15.31118229, -16.07236399,\n",
       "        -16.29585687, -12.94173398, -12.61348299, -18.73178735,\n",
       "        -16.76378125],\n",
       "       [-12.56921637, -10.72811487,  -5.62870315,  -9.87919135,\n",
       "        -10.84890274, -11.75262982,  -8.21381931,  -7.13023938,\n",
       "         -5.62870315,  -7.09415443, -12.51984176, -18.63646513,\n",
       "        -16.60306598, -21.56925867,  -0.        , -17.01599441,\n",
       "        -10.44276896, -12.21065808, -14.01912605, -14.78208729,\n",
       "         -6.752453  ,  -5.80066625,  -6.68202052,  -4.56527774,\n",
       "         -8.81991498],\n",
       "       [-12.56921637, -14.22698485, -12.29493188, -13.83086788,\n",
       "         -9.63649156, -10.43922328,  -8.21381931, -10.38795771,\n",
       "        -12.29493188, -18.43002708, -12.51984176, -14.25645153,\n",
       "        -16.60306598,  -8.79672402, -16.34255524,  -0.        ,\n",
       "        -10.44276896, -12.21065808, -18.16993569, -14.78208729,\n",
       "        -13.8512935 ,  -8.89032805, -13.70681549, -17.53632597,\n",
       "        -12.25691643],\n",
       "       [ -9.47660052,  -7.65805327,  -9.37031151, -11.85502961,\n",
       "         -6.81799846, -10.8656873 ,  -9.94126697,  -7.52949312,\n",
       "         -9.37031151, -11.33587266, -17.10349062, -13.1400408 ,\n",
       "        -17.10349062, -17.83353177,  -9.88977835, -10.2973134 ,\n",
       "         -0.        , -16.93333681,  -6.22621445,  -5.43536945,\n",
       "         -8.52716312,  -6.17932361,  -8.43821926, -10.32601686,\n",
       "         -9.24114099],\n",
       "       [-13.08917082, -12.56490393,  -9.45352727,  -9.4935477 ,\n",
       "        -11.32276955, -12.26597033, -13.48241849, -10.86854484,\n",
       "         -9.45352727, -12.85642928, -17.2054339 , -14.9026026 ,\n",
       "        -13.12220968,  -9.42480326,  -9.97558779, -10.38665885,\n",
       "        -14.60733813,  -0.        , -14.63146435, -16.95812158,\n",
       "         -9.95548575, -13.60195839,  -9.85164355, -15.71196275,\n",
       "        -14.0612266 ],\n",
       "       [-11.23888776, -12.90635824, -11.03686869, -13.83086788,\n",
       "        -11.63624424, -12.60555785, -11.66871464,  -9.15835228,\n",
       "        -11.03686869,  -9.44656055, -19.14510274, -10.950034  ,\n",
       "        -19.14510274, -15.70477599, -11.60827907, -15.66526198,\n",
       "         -5.44377398, -14.82979914,  -0.        , -11.65300858,\n",
       "        -10.30187325, -10.81381631,  -6.68202052, -12.24626324,\n",
       "        -14.39664316],\n",
       "       [-11.90405206, -10.06780156, -12.92396348, -10.62495915,\n",
       "         -7.03053329, -14.57566764, -12.32072896, -11.00276042,\n",
       "        -12.92396348, -13.93829381, -15.83247225, -11.77663838,\n",
       "        -11.74924802, -16.50826156, -12.25691643, -12.76199581,\n",
       "         -4.75886783, -17.21170059, -11.66908032,  -0.        ,\n",
       "        -13.18144025,  -8.30724128, -13.04394925, -12.97104823,\n",
       "         -8.17127762],\n",
       "       [ -9.56459634,  -7.74540734,  -5.30342491, -17.39690078,\n",
       "         -9.32301687,  -6.61989467, -10.02752316,  -6.81231903,\n",
       "         -5.30342491, -12.85642928, -14.66339715, -10.522589  ,\n",
       "        -14.66339715, -19.5467975 ,  -6.53858634, -13.96529124,\n",
       "         -8.71878514, -11.8000901 , -12.04735188, -15.39358222,\n",
       "         -0.        , -10.51229658,  -3.51239749,  -6.58140727,\n",
       "         -9.32695043],\n",
       "       [ -5.95202603,  -7.65805327,  -7.29526033,  -7.90335308,\n",
       "         -4.81824578,  -8.69935274,  -6.48637165,  -5.50138021,\n",
       "         -7.29526033,  -7.55724844,  -8.93704218, -19.17326317,\n",
       "        -13.0202664 , -17.83353177,  -6.4527769 , -10.2973134 ,\n",
       "         -7.25836531, -18.52127112, -14.52783371, -11.14500156,\n",
       "        -12.07658337,  -0.        , -11.95061675,  -6.48552412,\n",
       "         -5.80413954],\n",
       "       [ -9.56459634,  -7.74540734,  -5.30342491, -17.39690078,\n",
       "         -9.32301687, -10.09963576, -10.02752316,  -6.81231903,\n",
       "         -5.30342491,  -9.07780506, -14.66339715, -10.522589  ,\n",
       "        -18.74662137, -15.28928594,  -6.53858634, -13.96529124,\n",
       "         -8.71878514, -11.8000901 ,  -7.89654224, -15.39358222,\n",
       "         -3.54942025, -10.51229658,  -0.        , -10.42190002,\n",
       "         -9.32695043],\n",
       "       [ -8.37947758, -13.56667154,  -9.59084911, -10.62495915,\n",
       "        -10.24269715,  -7.61618545,  -8.86583364,  -7.74504209,\n",
       "         -9.59084911,  -6.38104538, -11.74924802, -17.80986075,\n",
       "        -11.74924802, -20.76577311,  -4.08563881, -16.3406282 ,\n",
       "         -9.7578628 , -17.21170059, -13.23577748, -13.99981761,\n",
       "         -6.08259975,  -5.21757947,  -9.53155176,  -0.        ,\n",
       "        -11.60827907],\n",
       "       [ -8.37947758,  -1.74943499,  -4.99967155, -14.57663569,\n",
       "         -5.81812212,  -9.78252002,  -8.86583364,  -6.51543666,\n",
       "         -4.99967155, -13.93829381,  -7.6660238 , -13.42984715,\n",
       "        -11.74924802, -20.76577311,  -8.81991498, -12.76199581,\n",
       "         -9.7578628 , -17.21170059, -17.38658711,  -9.85472486,\n",
       "         -9.63202   ,  -5.21757947,  -9.53155176, -12.97104823,\n",
       "         -0.        ]])"
      ]
     },
     "execution_count": 62,
     "metadata": {},
     "output_type": "execute_result"
    }
   ],
   "source": [
    "VI"
   ]
  },
  {
   "cell_type": "code",
   "execution_count": 162,
   "metadata": {},
   "outputs": [],
   "source": [
    "# for t in range(T):\n",
    "#     for n in range(N):\n",
    "a = 1\n",
    "b = 1\n",
    "A = 1\n",
    "\n",
    "N = len(X)\n",
    "for i in range(N):\n",
    "    nn = [_ for _ in range(N)]\n",
    "    nn.remove(n)\n",
    "\n",
    "    # X_ = X[np.ix_(nn,nn)]\n",
    "\n",
    "    X_ = X.copy()\n",
    "    X_[n,:] = 0\n",
    "\n",
    "    Kr = len(zr[0])\n",
    "    Kc = len(zc[0])\n",
    "\n",
    "    if Kr > 1:\n",
    "        idx = np.argwhere(np.sum(zr[nn], 0) == 0)\n",
    "        zr = np.delete(zr, idx, axis=1)\n",
    "        Kr -= len(idx)\n",
    "\n",
    "    # m = n. of nodes in each component \n",
    "    mr = np.sum(zr[nn,:], 0)[np.newaxis] #newaxis allows m to become 2d array (for transposing)\n",
    "    mc = np.sum(zc[nn,:], 0)[np.newaxis]\n",
    "    Mc = np.tile(mc, (Kr, 1))\n",
    "\n",
    "    # M = max links from other clusts\n",
    "    # M = np.tile(m, (Kr, 1))\n",
    "\n",
    "    M1 = zr.T @ X_ @ zc\n",
    "\n",
    "    X_rev = (np.where((X_==0)|(X_==1), X_^1, X_) - np.eye(X_.shape[0])).copy() #reverse matrix for non_links\n",
    "    X_rev[n,:] = 0\n",
    "    M0 = zr.T @ X_rev @ zc #n. of non-links between biclusters without current node\n",
    "\n",
    "    r = zc[nn,:].T @ X[n, nn]\n",
    "    R = np.tile(r, (Kr, 1))\n",
    "\n",
    "    logLik_exComp = np.sum(betaln(M1+R+a, M0+Mc-R+b) - betaln(M1+a, M0+b),1)\n",
    "    logLik_newComp = np.sum(betaln(r+a, mc-r+b) - betaln(a,b),1)\n",
    "\n",
    "    logLik = np.concatenate([logLik_exComp, logLik_newcomp])\n",
    "    logPrior = np.log(np.append(mr, A))\n",
    "\n",
    "    logPost = logPrior + logLik\n",
    "\n",
    "    P = np.exp(logPost-max(logPost)) \n",
    "\n",
    "    # Assignment through random draw fron unif(0,1), taking first value from prob. vector\n",
    "    draw = np.random.rand()\n",
    "    i = np.argwhere(draw<np.cumsum(P)/sum(P))[0]\n",
    "\n",
    "    zr[n,:] = 0\n",
    "    if i == Kr: # If new component: add new column to partition matrix\n",
    "        zr = np.hstack((zr, np.zeros((N,1)))) \n",
    "    zr[n,i] = 1\n"
   ]
  },
  {
   "cell_type": "code",
   "execution_count": 16,
   "metadata": {},
   "outputs": [],
   "source": [
    "N = len(X)\n",
    "\n",
    "zr = np.ones([N, 1])\n",
    "zc = np.ones([N, 1])"
   ]
  },
  {
   "cell_type": "code",
   "execution_count": 17,
   "metadata": {},
   "outputs": [],
   "source": [
    "n = 0\n",
    "\n",
    "nn = [_ for _ in range(N)]\n",
    "nn.remove(n)\n",
    "\n",
    "# X_ = X[np.ix_(nn,nn)]\n",
    "\n",
    "X_ = X.copy()\n",
    "X_[:,n] = 0\n",
    "\n",
    "Kr = len(zr[0])\n",
    "Kc = len(zc[0])"
   ]
  },
  {
   "cell_type": "code",
   "execution_count": 20,
   "metadata": {},
   "outputs": [],
   "source": [
    "mr = np.sum(zr[nn,:], 0)[np.newaxis] #newaxis allows m to become 2d array (for transposing)\n",
    "mc = np.sum(zc[nn,:], 0)[np.newaxis]\n",
    "Mc = np.tile(mc, (Kr, 1))\n",
    "\n",
    "M1 = zr.T @ X_ @ zc"
   ]
  },
  {
   "cell_type": "code",
   "execution_count": 32,
   "metadata": {},
   "outputs": [],
   "source": [
    "X_rev = (np.where((X_==0)|(X_==1), X_^1, X_) - np.eye(X_.shape[0])).copy()"
   ]
  },
  {
   "cell_type": "code",
   "execution_count": 31,
   "metadata": {},
   "outputs": [],
   "source": [
    "X_ = X_.astype(int)"
   ]
  },
  {
   "cell_type": "code",
   "execution_count": 33,
   "metadata": {},
   "outputs": [
    {
     "ename": "NameError",
     "evalue": "name 'logLik_newcomp' is not defined",
     "output_type": "error",
     "traceback": [
      "\u001b[1;31m---------------------------------------------------------------------------\u001b[0m",
      "\u001b[1;31mNameError\u001b[0m                                 Traceback (most recent call last)",
      "\u001b[1;32mc:\\Users\\nakaz\\Desktop\\DSBA\\TESI\\BNP-Net\\src\\irm_bicluster.ipynb Cell 25\u001b[0m in \u001b[0;36m<cell line: 39>\u001b[1;34m()\u001b[0m\n\u001b[0;32m     <a href='vscode-notebook-cell:/c%3A/Users/nakaz/Desktop/DSBA/TESI/BNP-Net/src/irm_bicluster.ipynb#Y105sZmlsZQ%3D%3D?line=35'>36</a>\u001b[0m logLik_exComp \u001b[39m=\u001b[39m np\u001b[39m.\u001b[39msum(betaln(M1\u001b[39m+\u001b[39mR\u001b[39m+\u001b[39ma, M0\u001b[39m+\u001b[39mMc\u001b[39m-\u001b[39mR\u001b[39m+\u001b[39mb) \u001b[39m-\u001b[39m betaln(M1\u001b[39m+\u001b[39ma, M0\u001b[39m+\u001b[39mb),\u001b[39m1\u001b[39m)\n\u001b[0;32m     <a href='vscode-notebook-cell:/c%3A/Users/nakaz/Desktop/DSBA/TESI/BNP-Net/src/irm_bicluster.ipynb#Y105sZmlsZQ%3D%3D?line=36'>37</a>\u001b[0m logLik_newComp \u001b[39m=\u001b[39m np\u001b[39m.\u001b[39msum(betaln(r\u001b[39m+\u001b[39ma, mc\u001b[39m-\u001b[39mr\u001b[39m+\u001b[39mb) \u001b[39m-\u001b[39m betaln(a,b),\u001b[39m1\u001b[39m)\n\u001b[1;32m---> <a href='vscode-notebook-cell:/c%3A/Users/nakaz/Desktop/DSBA/TESI/BNP-Net/src/irm_bicluster.ipynb#Y105sZmlsZQ%3D%3D?line=38'>39</a>\u001b[0m logLik \u001b[39m=\u001b[39m np\u001b[39m.\u001b[39mconcatenate([logLik_exComp, logLik_newcomp])\n\u001b[0;32m     <a href='vscode-notebook-cell:/c%3A/Users/nakaz/Desktop/DSBA/TESI/BNP-Net/src/irm_bicluster.ipynb#Y105sZmlsZQ%3D%3D?line=39'>40</a>\u001b[0m logPrior \u001b[39m=\u001b[39m np\u001b[39m.\u001b[39mlog(np\u001b[39m.\u001b[39mappend(mr, A))\n\u001b[0;32m     <a href='vscode-notebook-cell:/c%3A/Users/nakaz/Desktop/DSBA/TESI/BNP-Net/src/irm_bicluster.ipynb#Y105sZmlsZQ%3D%3D?line=41'>42</a>\u001b[0m logPost \u001b[39m=\u001b[39m logPrior \u001b[39m+\u001b[39m logLik\n",
      "\u001b[1;31mNameError\u001b[0m: name 'logLik_newcomp' is not defined"
     ]
    }
   ],
   "source": [
    "n = 0\n",
    "\n",
    "nn = [_ for _ in range(N)]\n",
    "nn.remove(n)\n",
    "\n",
    "# X_ = X[np.ix_(nn,nn)]\n",
    "\n",
    "X_ = X.copy().astype(int)\n",
    "X_[:,n] = 0\n",
    "\n",
    "Kr = len(zr[0])\n",
    "Kc = len(zc[0])\n",
    "\n",
    "if Kr > 1:\n",
    "    idx = np.argwhere(np.sum(zr[nn], 0) == 0)\n",
    "    zr = np.delete(zr, idx, axis=1)\n",
    "    Kr -= len(idx)\n",
    "\n",
    "# m = n. of nodes in each component \n",
    "mr = np.sum(zr[nn,:], 0)[np.newaxis] #newaxis allows m to become 2d array (for transposing)\n",
    "mc = np.sum(zc[nn,:], 0)[np.newaxis]\n",
    "Mc = np.tile(mc, (Kr, 1))\n",
    "\n",
    "# M = max links from other clusts\n",
    "# M = np.tile(m, (Kr, 1))\n",
    "\n",
    "M1 = zr.T @ X_ @ zc\n",
    "\n",
    "X_rev = (np.where((X_==0)|(X_==1), X_^1, X_) - np.eye(X_.shape[0])).copy() #reverse matrix for non_links\n",
    "X_rev[n,:] = 0\n",
    "M0 = zr.T @ X_rev @ zc #n. of non-links between biclusters without current node\n",
    "\n",
    "r = zc[nn,:].T @ X[n, nn]\n",
    "R = np.tile(r, (Kr, 1))\n",
    "\n",
    "logLik_exComp = np.sum(betaln(M1+R+a, M0+Mc-R+b) - betaln(M1+a, M0+b),1)\n",
    "logLik_newComp = np.sum(betaln(r+a, mc-r+b) - betaln(a,b),1)\n",
    "\n",
    "logLik = np.concatenate([logLik_exComp, logLik_newComp])\n",
    "logPrior = np.log(np.append(mr, A))\n",
    "\n",
    "logPost = logPrior + logLik\n",
    "\n",
    "P = np.exp(logPost-max(logPost)) \n",
    "\n",
    "# Assignment through random draw fron unif(0,1), taking first value from prob. vector\n",
    "draw = np.random.rand()\n",
    "i = np.argwhere(draw<np.cumsum(P)/sum(P))[0]\n",
    "\n",
    "zr[n,:] = 0\n",
    "if i == Kr: # If new component: add new column to partition matrix\n",
    "    zr = np.hstack((zr, np.zeros((N,1)))) \n",
    "zr[n,i] = 1"
   ]
  },
  {
   "cell_type": "code",
   "execution_count": 297,
   "metadata": {},
   "outputs": [],
   "source": [
    "for n in range(N):\n",
    "    nn = [_ for _ in range(N)]\n",
    "    nn.remove(n)\n",
    "\n",
    "    # X_ = X[np.ix_(nn,nn)]\n",
    "\n",
    "    X_ = X.copy()\n",
    "    X_[:,n] = 0\n",
    "\n",
    "    Kr = len(zr[0])\n",
    "    Kc = len(zc[0])\n",
    "\n",
    "    if Kc > 1:\n",
    "        idx = np.argwhere(np.sum(zc[nn], 0) == 0)\n",
    "        zc = np.delete(zc, idx, axis=1)\n",
    "        Kc -= len(idx)\n",
    "\n",
    "    # m = n. of nodes in each component \n",
    "    mr = np.sum(zr[nn,:], 0)[np.newaxis] #newaxis allows m to become 2d array (for transposing)\n",
    "    mc = np.sum(zc[nn,:], 0)[np.newaxis]\n",
    "    Mr = np.tile(mr.T, (1, Kc))\n",
    "\n",
    "    M1 = zr.T @ X_ @ zc\n",
    "\n",
    "    X_rev = (np.where((X_==0)|(X_==1), X_^1, X_) - np.eye(X_.shape[0])).copy() #reverse matrix for non_links\n",
    "    X_rev[:,0] = 0\n",
    "    M0 = zr.T @ X_rev @ zc #n. of non-links between biclusters without current node\n",
    "\n",
    "    s = zr[nn,:].T @ X[nn, n]\n",
    "    S = np.tile(s[np.newaxis].T, (1, Kc))\n",
    "\n",
    "    logLik_exComp = np.sum(betaln(M1+S+a, M0+Mr-S+b) - betaln(M1+a, M0+b), 0)\n",
    "    logLik_newComp = np.sum(betaln(s+a, mr-s+b) - betaln(a,b),1)\n",
    "\n",
    "    logLik = np.concatenate([logLik_exComp, logLik_newComp])\n",
    "    logPrior = np.log(np.append(mc, A))\n",
    "\n",
    "    logPost = logPrior + logLik\n",
    "\n",
    "    P = np.exp(logPost-max(logPost)) \n",
    "\n",
    "    # Assignment through random draw fron unif(0,1), taking first value from prob. vector\n",
    "    draw = np.random.rand()\n",
    "    i = np.argwhere(draw<np.cumsum(P)/sum(P))[0]\n",
    "\n",
    "    zc[n,:] = 0\n",
    "    if i == Kc: # If new component: add new column to partition matrix\n",
    "        zc = np.hstack((zc, np.zeros((N,1)))) \n",
    "    zc[n,i] = 1"
   ]
  },
  {
   "cell_type": "code",
   "execution_count": 298,
   "metadata": {},
   "outputs": [
    {
     "data": {
      "text/plain": [
       "array([[0., 1., 0.],\n",
       "       [1., 0., 0.],\n",
       "       [0., 1., 0.],\n",
       "       [1., 0., 0.],\n",
       "       [0., 0., 1.]])"
      ]
     },
     "execution_count": 298,
     "metadata": {},
     "output_type": "execute_result"
    }
   ],
   "source": [
    "zc"
   ]
  },
  {
   "cell_type": "code",
   "execution_count": 268,
   "metadata": {},
   "outputs": [
    {
     "data": {
      "text/plain": [
       "array([-4.19970508, -3.14988295, -3.40119738])"
      ]
     },
     "execution_count": 268,
     "metadata": {},
     "output_type": "execute_result"
    }
   ],
   "source": [
    "np.sum(betaln(M1+S+a, M0+Mr-S+b) - betaln(M1+a, M0+b), 0)"
   ]
  },
  {
   "cell_type": "code",
   "execution_count": 271,
   "metadata": {},
   "outputs": [
    {
     "data": {
      "text/plain": [
       "array([-2.89037176])"
      ]
     },
     "execution_count": 271,
     "metadata": {},
     "output_type": "execute_result"
    }
   ],
   "source": [
    "np.sum(betaln(s+a, mr-s+b) - betaln(a,b), 1)"
   ]
  },
  {
   "cell_type": "code",
   "execution_count": 289,
   "metadata": {},
   "outputs": [],
   "source": [
    "zc[n,:] = 0\n",
    "if i == Kc: # If new component: add new column to partition matrix\n",
    "    zc = np.hstack((zc, np.zeros((N,1)))) \n",
    "zc[n,i] = 1"
   ]
  },
  {
   "cell_type": "code",
   "execution_count": 290,
   "metadata": {},
   "outputs": [
    {
     "data": {
      "text/plain": [
       "array([[0., 0., 0., 1.],\n",
       "       [1., 0., 0., 0.],\n",
       "       [0., 1., 0., 0.],\n",
       "       [0., 1., 0., 0.],\n",
       "       [0., 0., 1., 0.]])"
      ]
     },
     "execution_count": 290,
     "metadata": {},
     "output_type": "execute_result"
    }
   ],
   "source": [
    "zc"
   ]
  },
  {
   "cell_type": "code",
   "execution_count": null,
   "metadata": {},
   "outputs": [],
   "source": []
  },
  {
   "cell_type": "code",
   "execution_count": null,
   "metadata": {},
   "outputs": [],
   "source": []
  },
  {
   "cell_type": "code",
   "execution_count": 85,
   "metadata": {},
   "outputs": [],
   "source": [
    "#test X\n",
    "X = np.array([[0, 1, 0, 0, 1],\n",
    "              [0, 0, 1, 1, 0],\n",
    "              [0, 1, 0, 1, 1],\n",
    "              [1, 1, 0, 0, 1],\n",
    "              [0, 1, 0, 1, 0]])\n",
    "\n",
    "zr = np.array([[1, 0],\n",
    "               [1, 0],\n",
    "               [1, 0],\n",
    "               [0, 1],\n",
    "               [0, 1]])\n",
    "\n",
    "# zc = np.array([[1, 0, 0],\n",
    "#                [1, 0, 0],\n",
    "#                [0, 1, 0],\n",
    "#                [0, 1, 0],\n",
    "#                [0, 0, 1]])\n",
    "\n",
    "a = 1\n",
    "b = 1\n",
    "A = 1"
   ]
  },
  {
   "cell_type": "code",
   "execution_count": 86,
   "metadata": {},
   "outputs": [],
   "source": [
    "M1 = zr.T @ X @ zr"
   ]
  },
  {
   "cell_type": "code",
   "execution_count": 87,
   "metadata": {},
   "outputs": [
    {
     "data": {
      "text/plain": [
       "array([[3, 4],\n",
       "       [3, 2]])"
      ]
     },
     "execution_count": 87,
     "metadata": {},
     "output_type": "execute_result"
    }
   ],
   "source": [
    "M1"
   ]
  },
  {
   "cell_type": "code",
   "execution_count": 88,
   "metadata": {},
   "outputs": [],
   "source": [
    "X = X.copy().astype(int)\n",
    "X_rev = (np.where((X==0)|(X==1), X^1, X) - np.eye(X.shape[0])).copy() #reverse matrix for non_links\n",
    "M0 = zr.T @ X_rev @ zr"
   ]
  },
  {
   "cell_type": "code",
   "execution_count": 89,
   "metadata": {},
   "outputs": [
    {
     "data": {
      "text/plain": [
       "array([[3., 2.],\n",
       "       [3., 0.]])"
      ]
     },
     "execution_count": 89,
     "metadata": {},
     "output_type": "execute_result"
    }
   ],
   "source": [
    "M0"
   ]
  }
 ],
 "metadata": {
  "kernelspec": {
   "display_name": "Python 3.9.8 ('bnpenv': venv)",
   "language": "python",
   "name": "python3"
  },
  "language_info": {
   "codemirror_mode": {
    "name": "ipython",
    "version": 3
   },
   "file_extension": ".py",
   "mimetype": "text/x-python",
   "name": "python",
   "nbconvert_exporter": "python",
   "pygments_lexer": "ipython3",
   "version": "3.9.8"
  },
  "orig_nbformat": 4,
  "vscode": {
   "interpreter": {
    "hash": "5e30ed4f6f8bb2a91dfe46fec38963d5a062a926e2e168732dffa7def24e0a27"
   }
  }
 },
 "nbformat": 4,
 "nbformat_minor": 2
}
