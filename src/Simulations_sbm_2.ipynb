{
 "cells": [
  {
   "cell_type": "code",
   "execution_count": 1,
   "metadata": {},
   "outputs": [],
   "source": [
    "from main_sbm import SBM\n",
    "import numpy as np\n",
    "import pandas as pd\n",
    "import matplotlib.pyplot as plt\n",
    "import seaborn as sns\n",
    "import igraph as ig\n",
    "import pickle as pkl\n",
    "from collections import Counter\n",
    "from eval import retrieve_samples\n",
    "from igraph.clustering import compare_communities\n",
    "\n",
    "def generate_graph_bicluster(Sr, Sc, thetas, random_seed = None, edge = \"binary\", undirected = False):\n",
    "    # Kr = thetas.shape[0]\n",
    "    # Kc = thetas.shape[1]\n",
    "\n",
    "    N = np.sum(Sr)\n",
    "\n",
    "    Hr = []\n",
    "    c = 0\n",
    "    for i in Sr:\n",
    "        for j in range(i):\n",
    "            Hr += [c]\n",
    "        c+=1\n",
    "\n",
    "    Hc = []\n",
    "    c = 0\n",
    "    for i in Sc:\n",
    "        for j in range(i):\n",
    "            Hc += [c]\n",
    "        c+=1\n",
    "\n",
    "    if isinstance(random_seed, int):\n",
    "        np.random.seed(random_seed)\n",
    "\n",
    "    X = np.zeros((N,N))\n",
    "    if edge == \"binary\":\n",
    "        for i in range(N):\n",
    "            for j in range(N):\n",
    "                if i == j:\n",
    "                    continue\n",
    "                X[i, j] = np.random.binomial(1, thetas[Hr[i], Hc[j]])\n",
    "    elif edge == \"weighted\":\n",
    "        for i in range(N):\n",
    "            for j in range(N):\n",
    "                if i == j:\n",
    "                    continue\n",
    "                X[i, j] = np.random.poisson(thetas[Hr[i], Hc[j]], 1)\n",
    "\n",
    "    if undirected:\n",
    "        X = np.triu(X) + np.triu(X).T\n",
    "\n",
    "    return X\n",
    "\n",
    "def cluster_summs(Z, ret = False):\n",
    "    temp_Z = []\n",
    "    mean_lenght = 0\n",
    "    mean_nodes = 0\n",
    "    for i in range(len(Z)):\n",
    "        current_z = np.sum(Z[i], 0)\n",
    "        temp_Z.append(current_z)\n",
    "        mean_lenght += len(current_z)\n",
    "        mean_nodes += np.mean(current_z)\n",
    "\n",
    "    mean_lenght /= len(Z)\n",
    "    mean_nodes /= len(Z)\n",
    "\n",
    "    print('mean number of clusters', mean_lenght)\n",
    "    print('mean nodes per cluster', mean_nodes)\n",
    "    if ret:\n",
    "        return temp_Z"
   ]
  },
  {
   "cell_type": "code",
   "execution_count": 2,
   "metadata": {},
   "outputs": [],
   "source": [
    "def compute_VIs(C):\n",
    "    N = len(C)\n",
    "    VIs = np.zeros((N,N))\n",
    "\n",
    "    for i in range(N):\n",
    "        for j in range(i):\n",
    "            VIs[i,j] = compare_communities(C[i], C[j])\n",
    "\n",
    "    VIs += VIs.T\n",
    "\n",
    "    return VIs\n",
    "\n",
    "def compute_edge_quantities(X, zr, zc = None, mode = 'biclustering'):\n",
    "    if mode == 'uniclustering':\n",
    "        M1 = zr.T @ X @ zr\n",
    "        X = X.copy().astype(int)\n",
    "        X_rev = (np.where((X==0)|(X==1), X^1, X) - np.eye(X.shape[0])).copy() #reverse matrix for non_links\n",
    "        M0 = zr.T @ X_rev @ zr\n",
    "\n",
    "\n",
    "    if mode == 'biclustering':\n",
    "        M1 = zr.T @ X @ zc\n",
    "\n",
    "        X = X.copy().astype(int)\n",
    "        X_rev = (np.where((X==0)|(X==1), X^1, X) - np.eye(X.shape[0])).copy() #reverse matrix for non_links\n",
    "        M0 = zr.T @ X_rev @ zc\n",
    "\n",
    "    return M1, M0\n",
    "\n",
    "def compute_logL(X, zr, zc = None, a=1, b=1, mode = 'biclustering'):\n",
    "    if mode == 'uniclustering':\n",
    "        M1, M0 = compute_edge_quantities(X, zr, mode = 'uniclustering')\n",
    "        \n",
    "\n",
    "    if mode == 'biclustering':\n",
    "        M1, M0 = compute_edge_quantities(X, zr, zc, mode = 'biclustering')\n",
    "    \n",
    "    logLlhood = np.sum(betaln(M1 + a, M0 + b) - betaln(a, b))\n",
    "    return logLlhood\n",
    "\n",
    "def compute_logLs(X, Z, mode = 'biclustering'):\n",
    "    if mode == 'uniclustering':\n",
    "        N = len(Z)\n",
    "        logLs = [0]*N\n",
    "        for i in range(N):\n",
    "            logLs[i] = compute_logL(X, Z[i], mode = 'uniclustering')\n",
    "    if mode == 'biclustering':\n",
    "        N = len(Z[0])\n",
    "        logLs = [0]*N\n",
    "        for i in range(N):\n",
    "            logLs[i] = compute_logL(X, Z[0][i], Z[1][i], mode = 'biclustering')\n",
    "\n",
    "    return logLs\n",
    "\n",
    "def compute_Zhat(X, Z, mode = 'biclustering', weight_llhood = False, ret_VI = False, ret_all = False):\n",
    "    if mode == 'uniclustering':\n",
    "        Z = retrieve_samples(Z, gap = 10)\n",
    "\n",
    "        C = [np.where(x == 1)[1].tolist() for x in Z]\n",
    "\n",
    "        VI = compute_VIs(C)\n",
    "        VI = VI.sum(0)/VI.shape[0]\n",
    "\n",
    "        if weight_llhood == True:\n",
    "            logLs = compute_logLs(X, Z, mode = 'uniclustering')\n",
    "            VI *= -logLs        \n",
    "\n",
    "        idx_min = np.argmin(VI) \n",
    "        z_hat = Z[idx_min]\n",
    "        c_hat = np.where(z_hat==1)[1]\n",
    "\n",
    "    if mode == 'biclustering':\n",
    "        Zr = retrieve_samples(Z[0], gap = 10)\n",
    "        Zc = retrieve_samples(Z[1], gap = 10)\n",
    "\n",
    "        Cr = [np.where(x == 1)[1].tolist() for x in Zr]\n",
    "        Cc = [np.where(x == 1)[1].tolist() for x in Zc]\n",
    "\n",
    "        VIr = compute_VIs(Cr)\n",
    "        VIc = compute_VIs(Cc)\n",
    "\n",
    "        VI = (VIr + VIc)/2\n",
    "        VI = VI.sum(0)/VI.shape[0]\n",
    "\n",
    "        if weight_llhood == True:\n",
    "            logLs = compute_logLs(X, [Zr, Zc], mode = 'biclustering')\n",
    "            VI *= -logLs\n",
    "\n",
    "        idx_min = np.argmin(VI) \n",
    "        z_hat = [Zr[idx_min], Zc[idx_min]]\n",
    "        c_hat = [np.where(z_hat[0]==1)[1], np.where(z_hat[1]==1)[1]]\n",
    "\n",
    "    if ret_all:\n",
    "        return [Zr, Zc], VI, idx_min\n",
    "\n",
    "    if ret_VI:\n",
    "        return z_hat, VI[idx_min]\n",
    "\n",
    "    return z_hat\n",
    "\n",
    "def compute_rhos(X, Z, a=1, b=1, edge_type = 'directed', edge_weight = 'binary', mode = 'normal'):\n",
    "    rhos = np.zeros((len(X), len(X)))\n",
    "    if mode == 'normal':    \n",
    "        A = np.array([np.where(Z[i,:] == 1)[0] for i in range(len(Z))]).flatten()\n",
    "\n",
    "        if edge_type == 'undirected':\n",
    "            M1 = Z.T @ X @ Z - np.diag(np.sum(X@Z*Z, 0) / 2) \n",
    "\n",
    "            m = np.sum(Z, 0)[np.newaxis]\n",
    "\n",
    "            M0 = m.T@m - np.diag((m*(m+1) / 2).flatten()) - M1 \n",
    "\n",
    "        elif edge_type == 'directed':\n",
    "            M1 = Z.T @ X @ Z\n",
    "\n",
    "            m = np.sum(Z, 0)[np.newaxis]\n",
    "            M0 = m.T@m - np.diag(m.flatten()) - M1\n",
    "\n",
    "        for i in range(len(X)):\n",
    "            for j in range(len(X)):\n",
    "                if i == j:\n",
    "                    continue\n",
    "                links = M1[A[i], A[j]]\n",
    "                non_links = M0[A[i], A[j]]\n",
    "                rhos[i,j] += (links + a) / (links + non_links + a + b)\n",
    "\n",
    "    elif mode == 'biclustering':\n",
    "        zr = Z[0]\n",
    "        zc = Z[1]\n",
    "        cr = np.where(zr==1)[1]\n",
    "        cc = np.where(zc==1)[1]\n",
    "\n",
    "        M1 = zr.T @ X @ zc\n",
    "\n",
    "        X_ = X.copy().astype(int)\n",
    "        X_rev = (np.where((X_==0)|(X_==1), X_^1, X_) - np.eye(X_.shape[0])).copy() #reverse matrix for non_links\n",
    "\n",
    "        M0 = zr.T @ X_rev @ zc\n",
    "\n",
    "        for i in range(len(X)):\n",
    "            for j in range(len(X)):\n",
    "                if i == j:\n",
    "                    continue\n",
    "                links = M1[cr[i], cc[j]]\n",
    "                non_links = M0[cr[i], cc[j]]\n",
    "                rhos[i,j] += (links + a) / (links + non_links + a + b)\n",
    "    return rhos\n",
    "\n",
    "def compute_rho(X, sample, edge_type = 'directed', edge_weight = 'binary', mode = 'normal'):\n",
    "    rhos = np.zeros((len(X), len(X)))\n",
    "    if mode == 'normal':\n",
    "        for i in sample:\n",
    "            rhos += compute_rhos(X, i, edge_type = edge_type, edge_weight = edge_weight, mode = mode)\n",
    "        rhos /= len(sample)\n",
    "    if mode == 'biclustering':\n",
    "        for i in range(len(sample[0])):\n",
    "            rhos += compute_rhos(X, [sample[0][i], sample[1][i]], \n",
    "                            edge_type = edge_type, edge_weight = edge_weight, mode = mode)\n",
    "        rhos /= len(sample[0])\n",
    "    return rhos\n",
    "\n",
    "def compute_predicted_thetas(Sr, Sc, rho):\n",
    "    prob_matrix = np.zeros((len(Sr), len(Sc)))\n",
    "\n",
    "    Sr_ = [0] + list(np.cumsum(Sr))\n",
    "    Sc_ = [0] + list(np.cumsum(Sc))\n",
    "    for i in range(len(Sr)):\n",
    "        for j in range(len(Sc)):\n",
    "            interaction_matrix = rho[Sr_[i]:Sr_[i+1], Sc_[j]:Sc_[j+1]]\n",
    "            # if i == j:\n",
    "            #     if len(interaction_matrix) == 1:\n",
    "            #         continue\n",
    "            #     prob_matrix[i,j] += np.sum(interaction_matrix)/(len(interaction_matrix)**2 - len(interaction_matrix))\n",
    "            # else:\n",
    "            # prob_matrix[i,j] += np.mean(interaction_matrix)\n",
    "            prob_matrix[i,j] += np.average(interaction_matrix, weights=(interaction_matrix>0))\n",
    "\n",
    "    return prob_matrix"
   ]
  },
  {
   "cell_type": "code",
   "execution_count": 53,
   "metadata": {},
   "outputs": [],
   "source": [
    "# theta = np.array([[0.75, 0.25, 0.25, 0.25],\n",
    "#                   [0.25, 0.75, 0.25, 0.25],\n",
    "#                   [0.25, 0.25, 0.75, 0.25],\n",
    "#                   [0.25, 0.25, 0.25, 0.75]])\n",
    "\n",
    "# Sr = [15, 15, 15, 15]\n",
    "# Sc = [15, 15, 15, 15]\n",
    "n_clust = 5\n",
    "theta = np.zeros((n_clust,n_clust)) + 0.25\n",
    "np.fill_diagonal(theta, 0.75)\n",
    "\n",
    "# Sr = [20]*n_clust\n",
    "# Sc = [20]*n_clust\n",
    "\n",
    "Sr = [20, 20, 20, 20, 20]\n",
    "Sc = [20, 20, 20, 20, 20]\n",
    "\n",
    "# Sr = [15, 15, 15, 15]\n",
    "# Sc = [15, 15, 15, 15]\n",
    "\n",
    "Hr = []\n",
    "c = 0\n",
    "for i in Sr:\n",
    "    for j in range(i):\n",
    "        Hr += [c]\n",
    "    c+=1\n",
    "\n",
    "Hc = []\n",
    "c = 0\n",
    "for i in Sc:\n",
    "    for j in range(i):\n",
    "        Hc += [c]\n",
    "    c+=1\n",
    "\n",
    "z0 = [np.array(Hr), np.array(Hc)]\n",
    "\n",
    "N = np.sum(Sr)\n",
    "true_rho = np.zeros((N,N))\n",
    "for i in range(N):\n",
    "    for j in range(N):\n",
    "        if i == j:\n",
    "            continue\n",
    "        true_rho[i,j] += theta[z0[0][i], z0[1][j]]\n",
    "\n",
    "X = generate_graph_bicluster(Sr, Sc, theta, random_seed=40) #CASE 1"
   ]
  },
  {
   "cell_type": "code",
   "execution_count": 94,
   "metadata": {},
   "outputs": [],
   "source": [
    "theta = np.array([[0.75, 0.25, 0.25, 0.75, 0.25],\n",
    "                  [0.25, 0.75, 0.25, 0.25, 0.75],\n",
    "                  [0.25, 0.25, 0.75, 0.25, 0.75],\n",
    "                  [0.75, 0.25, 0.25, 0.75, 0.75],\n",
    "                  [0.25, 0.75, 0.75, 0.75, 0.75]])\n",
    "\n",
    "Sr = [20, 15, 10, 10, 8]\n",
    "Sc = [20, 15, 10, 10, 8]\n",
    "# n_clust = 5\n",
    "# theta = np.zeros((n_clust,n_clust)) + 0.25\n",
    "# np.fill_diagonal(theta, 0.75)\n",
    "\n",
    "# Sr = [20]*n_clust\n",
    "# Sc = [20]*n_clust\n",
    "\n",
    "# Sr = [30, 30, 15, 15, 10]\n",
    "# Sc = [30, 30, 15, 15, 10]\n",
    "\n",
    "# Sr = [15, 15, 15, 15]\n",
    "# Sc = [15, 15, 15, 15]\n",
    "\n",
    "Hr = []\n",
    "c = 0\n",
    "for i in Sr:\n",
    "    for j in range(i):\n",
    "        Hr += [c]\n",
    "    c+=1\n",
    "\n",
    "Hc = []\n",
    "c = 0\n",
    "for i in Sc:\n",
    "    for j in range(i):\n",
    "        Hc += [c]\n",
    "    c+=1\n",
    "\n",
    "z0 = [np.array(Hr), np.array(Hc)]\n",
    "\n",
    "X = generate_graph_bicluster(Sr, Sc, theta, random_seed=40) #CASE 2"
   ]
  },
  {
   "cell_type": "code",
   "execution_count": 96,
   "metadata": {},
   "outputs": [],
   "source": [
    "theta = np.array([[0.75, 0.25, 0.75, 0.75, 0.25],\n",
    "                  [0.25, 0.75, 0.25, 0.25, 0.75],\n",
    "                  [0.75, 0.75, 0.25, 0.75, 0.75],\n",
    "                  [0.75, 0.25, 0.25, 0.25, 0.25],\n",
    "                  [0.75, 0.25, 0.25, 0.75, 0.75]])\n",
    "\n",
    "Sr = [15, 15, 15, 15, 15]\n",
    "Sc = [15, 15, 15, 15, 15]\n",
    "\n",
    "X = generate_graph_bicluster(Sr, Sc, theta, random_seed=40) #CASE 3"
   ]
  },
  {
   "cell_type": "code",
   "execution_count": 18,
   "metadata": {},
   "outputs": [],
   "source": [
    "theta = np.array([[0.75, 0.25, 0.1, 0.9, 0.75],\n",
    "                  [0.1, 0.75, 0.1, 0.1, 0.25],\n",
    "                  [0.1, 0.75, 0.25, 0.9, 0.25],\n",
    "                  [0.75, 0.9, 0.25, 0.25, 0.75]])\n",
    "\n",
    "Sr = [25, 25, 25, 25]\n",
    "Sc = [20, 20, 20, 20, 20]\n",
    "\n",
    "Hr = []\n",
    "c = 0\n",
    "for i in Sr:\n",
    "    for j in range(i):\n",
    "        Hr += [c]\n",
    "    c+=1\n",
    "\n",
    "Hc = []\n",
    "c = 0\n",
    "for i in Sc:\n",
    "    for j in range(i):\n",
    "        Hc += [c]\n",
    "    c+=1\n",
    "\n",
    "z0 = [np.array(Hr), np.array(Hc)]\n",
    "\n",
    "X = generate_graph_bicluster(Sr, Sc, theta, random_seed=40) #CASE 4"
   ]
  },
  {
   "cell_type": "code",
   "execution_count": 37,
   "metadata": {},
   "outputs": [],
   "source": [
    "theta = np.array([[0.75, 0.25, 0.1, 0.9, 0.75, 0.75],\n",
    "                  [0.1, 0.75, 0.1, 0.1, 0.25, 0.5],\n",
    "                  [0.1, 0.75, 0.25, 0.9, 0.25, 0.1],\n",
    "                  [0.75, 0.9, 0.25, 0.25, 0.75, 0.25]])\n",
    "\n",
    "Sr = [30, 30, 30, 30]\n",
    "Sc = [20, 20, 20, 20, 20, 20]\n",
    "\n",
    "Hr = []\n",
    "c = 0\n",
    "for i in Sr:\n",
    "    for j in range(i):\n",
    "        Hr += [c]\n",
    "    c+=1\n",
    "\n",
    "Hc = []\n",
    "c = 0\n",
    "for i in Sc:\n",
    "    for j in range(i):\n",
    "        Hc += [c]\n",
    "    c+=1\n",
    "\n",
    "z0 = [np.array(Hr), np.array(Hc)]\n",
    "\n",
    "X = generate_graph_bicluster(Sr, Sc, theta, random_seed=40) #CASE 4"
   ]
  },
  {
   "cell_type": "code",
   "execution_count": 54,
   "metadata": {},
   "outputs": [
    {
     "data": {
      "image/png": "[encoded data removed]",
      "text/plain": [
       "<Figure size 432x432 with 1 Axes>"
      ]
     },
     "metadata": {},
     "output_type": "display_data"
    }
   ],
   "source": [
    "fig, ax = plt.subplots(figsize = (6,6))\n",
    "ax = sns.heatmap(X, linewidth=0.0, ax = ax, cbar=False, cmap= 'rocket_r', xticklabels=[], yticklabels=[])\n",
    "plt.show()"
   ]
  },
  {
   "cell_type": "code",
   "execution_count": 227,
   "metadata": {},
   "outputs": [
    {
     "data": {
      "image/png": "[encoded data removed]",
      "text/plain": [
       "<Figure size 432x432 with 1 Axes>"
      ]
     },
     "metadata": {},
     "output_type": "display_data"
    }
   ],
   "source": [
    "fig, ax = plt.subplots(figsize = (6,6))\n",
    "ax = sns.heatmap(train, linewidth=0.0, ax = ax, cbar=False, cmap= 'rocket_r', xticklabels=[], yticklabels=[])\n",
    "plt.show()"
   ]
  },
  {
   "cell_type": "code",
   "execution_count": 264,
   "metadata": {},
   "outputs": [],
   "source": [
    "X_gt_theta = np.zeros((len(X), len(X)))\n",
    "for i in range(len(X)):\n",
    "    for j in range(len(X)):\n",
    "        if i == j:\n",
    "            continue\n",
    "        X_gt_theta[i,j] = theta[z0[0][i], z0[1][j]]"
   ]
  },
  {
   "cell_type": "code",
   "execution_count": 273,
   "metadata": {},
   "outputs": [],
   "source": [
    "def train_val_split(data, valid_dim=0.2, random_seed = 42):\n",
    "        '''\n",
    "        Creating two additional objects, i.e. training and validation set, which can be used in the fitting process\n",
    "\n",
    "        Parameters:\n",
    "        data = np.array\n",
    "        valid_dim = float\n",
    "        '''\n",
    "        if valid_dim >= 1:\n",
    "          raise ValueError(\"valid_dim must be lower than 1\")\n",
    "\n",
    "        train = data.copy()\n",
    "        valid = np.zeros(data.shape)\n",
    "\n",
    "        np.random.seed(random_seed)\n",
    "\n",
    "        for u in np.unique(data.nonzero()[0]):\n",
    "            ind = data[u].nonzero()[0] \n",
    "\n",
    "            if len(ind) > 0: \n",
    "                valid_ind = np.random.choice(ind, round(len(ind)*valid_dim), replace=False)\n",
    "                for i in valid_ind:\n",
    "                    valid[u,i], train[u,i] = data[u,i], 0\n",
    "        return train, valid\n",
    "\n",
    "train, test = train_val_split(X, valid_dim = 0.3, random_seed= 30)\n",
    "# model = esbmr()\n",
    "# model.fit(train, 100)\n",
    "# y_pred = model.predict(test)"
   ]
  },
  {
   "cell_type": "code",
   "execution_count": 274,
   "metadata": {},
   "outputs": [
    {
     "data": {
      "text/plain": [
       "2405.0"
      ]
     },
     "execution_count": 274,
     "metadata": {},
     "output_type": "execute_result"
    }
   ],
   "source": [
    "np.sum(train)"
   ]
  },
  {
   "cell_type": "code",
   "execution_count": 275,
   "metadata": {},
   "outputs": [
    {
     "data": {
      "text/plain": [
       "1032.0"
      ]
     },
     "execution_count": 275,
     "metadata": {},
     "output_type": "execute_result"
    }
   ],
   "source": [
    "np.sum(test)"
   ]
  },
  {
   "cell_type": "code",
   "execution_count": 71,
   "metadata": {},
   "outputs": [],
   "source": [
    "import numpy.ma as ma"
   ]
  },
  {
   "cell_type": "code",
   "execution_count": 81,
   "metadata": {},
   "outputs": [
    {
     "data": {
      "text/plain": [
       "array([[False, False,  True, ..., False, False, False],\n",
       "       [False, False,  True, ..., False, False, False],\n",
       "       [ True, False, False, ..., False, False, False],\n",
       "       ...,\n",
       "       [ True, False, False, ..., False, False, False],\n",
       "       [False, False, False, ...,  True, False, False],\n",
       "       [False, False, False, ..., False, False, False]])"
      ]
     },
     "execution_count": 81,
     "metadata": {},
     "output_type": "execute_result"
    }
   ],
   "source": [
    "test.astype(\"bool\")"
   ]
  },
  {
   "cell_type": "code",
   "execution_count": 276,
   "metadata": {},
   "outputs": [],
   "source": [
    "mask = np.invert(test.astype('bool'))"
   ]
  },
  {
   "cell_type": "code",
   "execution_count": 88,
   "metadata": {},
   "outputs": [],
   "source": [
    "mx_X = ma.masked_array(X, mask = mask)"
   ]
  },
  {
   "cell_type": "code",
   "execution_count": 201,
   "metadata": {},
   "outputs": [
    {
     "name": "stdout",
     "output_type": "stream",
     "text": [
      "mean number of clusters 3.0476190476190474\n",
      "mean nodes per cluster 32.952380952380864\n",
      "None\n",
      "mean number of clusters 3.006666666666667\n",
      "mean nodes per cluster 33.27777777777777\n",
      "None\n",
      "Counter({1: 62, 2: 21, 0: 17})\n"
     ]
    }
   ],
   "source": [
    "config = {'directed': True,\n",
    "          'binary': True,\n",
    "          'unicluster': True}\n",
    "DP = SBM(config, alpha_PY_r=3, start_z=\"singleton\", set_seed=42)\n",
    "DP.fit(train,300)\n",
    "print(cluster_summs(DP.Z[90:]))\n",
    "Counter(np.argwhere(DP.Z[-1])[:,1])\n",
    "\n",
    "# DP.fit(X, 10000)\n",
    "# with open(\"results/Case1_DP_Z_unipartite.pickle\", \"wb\") as f:\n",
    "#     pkl.dump(DP.Z, f)\n",
    "\n",
    "print(cluster_summs(DP.Z[len(DP.Z)//2:]))\n",
    "print(Counter(np.argwhere(DP.Z[-1])[:,1]))"
   ]
  },
  {
   "cell_type": "code",
   "execution_count": 266,
   "metadata": {},
   "outputs": [
    {
     "name": "stdout",
     "output_type": "stream",
     "text": [
      "VI_rel_true:  1.0592029925190443\n",
      "VI_rel_ball:  0.527433531797133\n",
      "Kr\n",
      "0.25:  3.0\n",
      "0.50:  3.0\n",
      "0.75:  3.0\n",
      "Kc\n",
      "0.25:  3.0\n",
      "0.50:  3.0\n",
      "0.75:  3.0\n"
     ]
    },
    {
     "data": {
      "text/plain": [
       "0.17380326395063017"
      ]
     },
     "execution_count": 266,
     "metadata": {},
     "output_type": "execute_result"
    }
   ],
   "source": [
    "DP.evalZ(z0)\n",
    "DP.compute_block_probabilities()\n",
    "DP.predict()\n",
    "np.sum(np.abs((X_gt_theta - DP.X_pred_theta)))/(len(X)*(len(X)-1))"
   ]
  },
  {
   "cell_type": "code",
   "execution_count": 267,
   "metadata": {},
   "outputs": [
    {
     "data": {
      "text/plain": [
       "0.265272642239746"
      ]
     },
     "execution_count": 267,
     "metadata": {},
     "output_type": "execute_result"
    }
   ],
   "source": [
    "mask_X_gt = ma.masked_array(X_gt_theta, mask=mask)\n",
    "mask_X_pred = ma.masked_array(DP.X_pred_theta, mask = mask)\n",
    "np.sum(np.abs((mask_X_gt - mask_X_pred)))/np.sum(test)"
   ]
  },
  {
   "cell_type": "code",
   "execution_count": 69,
   "metadata": {},
   "outputs": [],
   "source": [
    "DP.fit(X, 1)"
   ]
  },
  {
   "cell_type": "code",
   "execution_count": 70,
   "metadata": {},
   "outputs": [],
   "source": [
    "# print(cluster_summs(DP.Z[00:600]))\n",
    "# DP.expected_cl(DP.N, 0, 3.5, np.Infinity)\n",
    "# list_Z = cluster_summs(DP.Z, ret = True)\n",
    "# np.quantile([len(x) for x in list_Z], 0.75)\n",
    "# np.quantile([len(x) for x in list_Z], 0.5)"
   ]
  },
  {
   "cell_type": "code",
   "execution_count": 204,
   "metadata": {},
   "outputs": [
    {
     "name": "stdout",
     "output_type": "stream",
     "text": [
      "mean number of clusters 2.804\n",
      "mean nodes per cluster 39.05333333333331\n",
      "None\n",
      "mean number of clusters 2.948\n",
      "mean nodes per cluster 37.03999999999998\n",
      "None\n",
      "Counter({0: 84, 1: 12, 2: 3, 3: 1})\n",
      "Counter({0: 91, 1: 7, 2: 1, 3: 1})\n"
     ]
    }
   ],
   "source": [
    "config = {'directed': True,\n",
    "          'binary': True,\n",
    "          'unicluster': False}\n",
    "DP_bi = SBM(config, alpha_PY_r = 3, alpha_PY_c=3,\n",
    "            start_z = \"singleton\", set_seed=42)\n",
    "DP_bi.fit(train,500)\n",
    "\n",
    "# DP_bi.fit(X, 10000)\n",
    "# with open(\"results/Case4_DP_Z_bipartite_originalver.pickle\", \"wb\") as f:\n",
    "#     pkl.dump(DP_bi.Z, f)\n",
    "\n",
    "print(cluster_summs(DP_bi.Zr[len(DP_bi.Zr)//2:]))\n",
    "print(cluster_summs(DP_bi.Zc[len(DP_bi.Zc)//2:]))\n",
    "print(Counter(np.argwhere(DP_bi.Zr[-1])[:,1]))\n",
    "print(Counter(np.argwhere(DP_bi.Zc[-1])[:,1]))"
   ]
  },
  {
   "cell_type": "code",
   "execution_count": 205,
   "metadata": {},
   "outputs": [
    {
     "name": "stdout",
     "output_type": "stream",
     "text": [
      "VI_rel_true:  1.801580545011904\n",
      "VI_rel_ball:  0.5728395163719562\n",
      "Kr\n",
      "0.25:  2.0\n",
      "0.50:  3.0\n",
      "0.75:  3.0\n",
      "Kc\n",
      "0.25:  2.0\n",
      "0.50:  3.0\n",
      "0.75:  3.0\n"
     ]
    },
    {
     "data": {
      "text/plain": [
       "0.1753938992477798"
      ]
     },
     "execution_count": 205,
     "metadata": {},
     "output_type": "execute_result"
    }
   ],
   "source": [
    "DP_bi.evalZ(z0)\n",
    "DP_bi.compute_block_probabilities()\n",
    "DP_bi.predict()\n",
    "np.sum(np.abs(X_gt_theta - DP_bi.X_pred_theta))/(len(X)*(len(X)-1))"
   ]
  },
  {
   "cell_type": "code",
   "execution_count": 268,
   "metadata": {},
   "outputs": [
    {
     "data": {
      "text/plain": [
       "0.28639165563125135"
      ]
     },
     "execution_count": 268,
     "metadata": {},
     "output_type": "execute_result"
    }
   ],
   "source": [
    "mask_X_gt = ma.masked_array(X_gt_theta, mask=mask)\n",
    "mask_X_pred = ma.masked_array(DP_bi.X_pred_theta, mask = mask)\n",
    "np.sum(np.abs((mask_X_gt - mask_X_pred)))/np.sum(test)"
   ]
  },
  {
   "cell_type": "code",
   "execution_count": 72,
   "metadata": {},
   "outputs": [],
   "source": [
    "DP_bi.fit(X,1)"
   ]
  },
  {
   "cell_type": "code",
   "execution_count": 277,
   "metadata": {},
   "outputs": [
    {
     "name": "stdout",
     "output_type": "stream",
     "text": [
      "mean number of clusters 4.004\n",
      "mean nodes per cluster 24.98\n",
      "None\n",
      "Counter({0: 40, 1: 20, 3: 20, 2: 19, 4: 1})\n"
     ]
    }
   ],
   "source": [
    "config = {'directed': True,\n",
    "          'binary': True,\n",
    "          'unicluster': True}\n",
    "PY = SBM(config, prior_r = \"PY\", alpha_PY_r=0.6,sigma_PY_r=-0.3, \n",
    "           start_z = \"singleton\", set_seed=42)\n",
    "PY.fit(train,500)\n",
    "\n",
    "# PY.fit(X, 10000)\n",
    "# with open(\"results/Case4_PY_Z_unipartite.pickle\", \"wb\") as f:\n",
    "#     pkl.dump(PY.Z, f)\n",
    "\n",
    "print(cluster_summs(PY.Z[len(PY.Z)//2:]))\n",
    "print(Counter(np.argwhere(PY.Z[-1])[:,1]))"
   ]
  },
  {
   "cell_type": "code",
   "execution_count": 278,
   "metadata": {},
   "outputs": [
    {
     "name": "stdout",
     "output_type": "stream",
     "text": [
      "VI_rel_true:  0.2825651564830867\n",
      "VI_rel_ball:  0.08671581437236586\n",
      "Kr\n",
      "0.25:  4.0\n",
      "0.50:  4.0\n",
      "0.75:  4.0\n",
      "Kc\n",
      "0.25:  4.0\n",
      "0.50:  4.0\n",
      "0.75:  4.0\n"
     ]
    },
    {
     "data": {
      "text/plain": [
       "0.1205118941598283"
      ]
     },
     "execution_count": 278,
     "metadata": {},
     "output_type": "execute_result"
    }
   ],
   "source": [
    "PY.evalZ(z0)\n",
    "PY.compute_block_probabilities()\n",
    "PY.predict()\n",
    "np.sum(np.abs((X_gt_theta - PY.X_pred_theta)))/(len(X)*(len(X)-1))"
   ]
  },
  {
   "cell_type": "code",
   "execution_count": 279,
   "metadata": {},
   "outputs": [
    {
     "data": {
      "text/plain": [
       "0.17341066519249235"
      ]
     },
     "execution_count": 279,
     "metadata": {},
     "output_type": "execute_result"
    }
   ],
   "source": [
    "mask_X_gt = ma.masked_array(X_gt_theta, mask=mask)\n",
    "mask_X_pred = ma.masked_array(PY.X_pred_theta, mask = mask)\n",
    "np.sum(np.abs((mask_X_gt - mask_X_pred)))/np.sum(test)"
   ]
  },
  {
   "cell_type": "code",
   "execution_count": 74,
   "metadata": {},
   "outputs": [],
   "source": [
    "PY.fit(X,1)"
   ]
  },
  {
   "cell_type": "code",
   "execution_count": 280,
   "metadata": {},
   "outputs": [
    {
     "name": "stdout",
     "output_type": "stream",
     "text": [
      "mean number of clusters 5.054\n",
      "mean nodes per cluster 19.820000000000007\n",
      "None\n",
      "mean number of clusters 5.126\n",
      "mean nodes per cluster 19.590714285714313\n",
      "None\n",
      "Counter({0: 21, 2: 21, 1: 20, 4: 20, 3: 18})\n",
      "Counter({4: 24, 0: 20, 1: 20, 3: 19, 2: 17})\n"
     ]
    }
   ],
   "source": [
    "config = {'directed': True,\n",
    "          'binary': True,\n",
    "          'unicluster': False}\n",
    "PY_bi = SBM(config, start_z = \"singleton\", set_seed=42,\n",
    "         prior_r = \"PY\", alpha_PY_r=0.6,sigma_PY_r=-0.3,\n",
    "         prior_c = \"PY\", alpha_PY_c=0.6,sigma_PY_c=-0.3)\n",
    "\n",
    "PY_bi.fit(train,1000)\n",
    "\n",
    "# PY_bi.fit(X, 10000)\n",
    "# with open(\"results/Case4_PY_Z_bipartite.pickle\", \"wb\") as f:\n",
    "#     pkl.dump(PY_bi.Z, f)\n",
    "\n",
    "print(cluster_summs(PY_bi.Zr[len(PY_bi.Zr)//2:]))\n",
    "print(cluster_summs(PY_bi.Zc[len(PY_bi.Zc)//2:]))\n",
    "print(Counter(np.argwhere(PY_bi.Zr[-1])[:,1]))\n",
    "print(Counter(np.argwhere(PY_bi.Zc[-1])[:,1]))"
   ]
  },
  {
   "cell_type": "code",
   "execution_count": 281,
   "metadata": {},
   "outputs": [
    {
     "name": "stdout",
     "output_type": "stream",
     "text": [
      "VI_rel_true:  0.6054602336551034\n",
      "VI_rel_ball:  0.5667486531739665\n",
      "Kr\n",
      "0.25:  5.0\n",
      "0.50:  5.0\n",
      "0.75:  5.0\n",
      "Kc\n",
      "0.25:  5.0\n",
      "0.50:  5.0\n",
      "0.75:  5.0\n"
     ]
    },
    {
     "data": {
      "text/plain": [
       "0.11679125034841688"
      ]
     },
     "execution_count": 281,
     "metadata": {},
     "output_type": "execute_result"
    }
   ],
   "source": [
    "PY_bi.evalZ(z0)\n",
    "PY_bi.compute_block_probabilities()\n",
    "PY_bi.predict()\n",
    "np.sum(np.abs(X_gt_theta - PY_bi.X_pred_theta))/(len(X)*(len(X)-1))"
   ]
  },
  {
   "cell_type": "code",
   "execution_count": 282,
   "metadata": {},
   "outputs": [
    {
     "data": {
      "text/plain": [
       "0.16819579631046785"
      ]
     },
     "execution_count": 282,
     "metadata": {},
     "output_type": "execute_result"
    }
   ],
   "source": [
    "mask_X_gt = ma.masked_array(X_gt_theta, mask=mask)\n",
    "mask_X_pred = ma.masked_array(PY_bi.X_pred_theta, mask = mask)\n",
    "np.sum(np.abs((mask_X_gt - mask_X_pred)))/np.sum(test)"
   ]
  },
  {
   "cell_type": "code",
   "execution_count": 76,
   "metadata": {},
   "outputs": [],
   "source": [
    "PY_bi.fit(X,1)"
   ]
  },
  {
   "cell_type": "code",
   "execution_count": 149,
   "metadata": {},
   "outputs": [
    {
     "name": "stdout",
     "output_type": "stream",
     "text": [
      "mean number of clusters 4.0\n",
      "mean nodes per cluster 25.0\n",
      "None\n",
      "Counter({0: 40, 1: 20, 2: 20, 3: 20})\n"
     ]
    }
   ],
   "source": [
    "config = {'directed': True,\n",
    "          'binary': True,\n",
    "          'unicluster': True}\n",
    "DM = SBM(config, prior_r = \"DM\",beta_DM_r=3.5/50,K_DM_r=50,\n",
    "            start_z = \"singleton\", set_seed=42)\n",
    "DM.fit(train,100)\n",
    "\n",
    "# DM.fit(X, 10000)\n",
    "# with open(\"results/Case4_DM_Z_unipartite.pickle\", \"wb\") as f:\n",
    "#     pkl.dump(DM.Z, f)\n",
    "\n",
    "print(cluster_summs(DM.Z[len(DM.Z)//2:]))\n",
    "print(Counter(np.argwhere(DM.Z[-1])[:,1]))"
   ]
  },
  {
   "cell_type": "code",
   "execution_count": 78,
   "metadata": {},
   "outputs": [],
   "source": [
    "DM.fit(X,1)"
   ]
  },
  {
   "cell_type": "code",
   "execution_count": 79,
   "metadata": {},
   "outputs": [
    {
     "name": "stdout",
     "output_type": "stream",
     "text": [
      "mean number of clusters 5.1592\n",
      "mean nodes per cluster 19.882555555555765\n",
      "None\n",
      "mean number of clusters 5.9866\n",
      "mean nodes per cluster 17.104905483405616\n",
      "None\n",
      "Counter({3: 25, 2: 25, 0: 25, 1: 23, 4: 2})\n",
      "Counter({0: 32, 3: 20, 1: 20, 2: 20, 4: 8})\n"
     ]
    }
   ],
   "source": [
    "config = {'directed': True,\n",
    "          'binary': True,\n",
    "          'unicluster': False}\n",
    "DM_bi = SBM(config, start_z = \"singleton\", set_seed=42,\n",
    "         prior_r = \"DM\", beta_DM_r=3.5/50, K_DM_r=50,\n",
    "         prior_c = \"DM\", beta_DM_c=3.5/50, K_DM_c=50)\n",
    "DM_bi.fit(X,500)\n",
    "\n",
    "# DM_bi.fit(X, 10000)\n",
    "# with open(\"results/Case4_DM_Z_bipartite.pickle\", \"wb\") as f:\n",
    "#     pkl.dump(DM_bi.Z, f)\n",
    "\n",
    "print(cluster_summs(DM_bi.Zr[len(DM_bi.Zr)//2:]))\n",
    "print(cluster_summs(DM_bi.Zc[len(DM_bi.Zc)//2:]))\n",
    "print(Counter(np.argwhere(DM_bi.Zr[-1])[:,1]))\n",
    "print(Counter(np.argwhere(DM_bi.Zc[-1])[:,1]))"
   ]
  },
  {
   "cell_type": "code",
   "execution_count": 80,
   "metadata": {},
   "outputs": [],
   "source": [
    "DM_bi.fit(X,1)"
   ]
  },
  {
   "cell_type": "code",
   "execution_count": 290,
   "metadata": {},
   "outputs": [
    {
     "name": "stdout",
     "output_type": "stream",
     "text": [
      "mean number of clusters 5.0\n",
      "mean nodes per cluster 20.0\n",
      "None\n",
      "Counter({0: 40, 1: 20, 2: 20, 3: 19, 4: 1})\n"
     ]
    }
   ],
   "source": [
    "config = {'directed': True,\n",
    "          'binary': True,\n",
    "          'unicluster': True}\n",
    "GN = SBM(config, prior_r = \"GN\", gamma_GN_r=0.45,\n",
    "            start_z = \"singleton\", set_seed=42)\n",
    "GN.fit(train,10)\n",
    "\n",
    "# GN.fit(X, 10000)\n",
    "# with open(\"results/Case4_GN_Z_unipartite.pickle\", \"wb\") as f:\n",
    "#     pkl.dump(GN.Z, f)\n",
    "\n",
    "print(cluster_summs(GN.Z[len(GN.Z)//2:]))\n",
    "print(Counter(np.argwhere(GN.Z[-1])[:,1]))"
   ]
  },
  {
   "cell_type": "code",
   "execution_count": 284,
   "metadata": {},
   "outputs": [
    {
     "name": "stdout",
     "output_type": "stream",
     "text": [
      "VI_rel_true:  0.28246182108632006\n",
      "VI_rel_ball:  0.08671581437236586\n",
      "Kr\n",
      "0.25:  4.0\n",
      "0.50:  4.0\n",
      "0.75:  4.0\n",
      "Kc\n",
      "0.25:  4.0\n",
      "0.50:  4.0\n",
      "0.75:  4.0\n"
     ]
    },
    {
     "data": {
      "text/plain": [
       "0.1205118941598283"
      ]
     },
     "execution_count": 284,
     "metadata": {},
     "output_type": "execute_result"
    }
   ],
   "source": [
    "GN.evalZ(z0)\n",
    "GN.compute_block_probabilities()\n",
    "GN.predict()\n",
    "np.sum(np.abs(X_gt_theta - GN.X_pred_theta))/(len(X)*(len(X)-1))"
   ]
  },
  {
   "cell_type": "code",
   "execution_count": 285,
   "metadata": {},
   "outputs": [
    {
     "data": {
      "text/plain": [
       "0.17341066519249235"
      ]
     },
     "execution_count": 285,
     "metadata": {},
     "output_type": "execute_result"
    }
   ],
   "source": [
    "mask_X_gt = ma.masked_array(X_gt_theta, mask=mask)\n",
    "mask_X_pred = ma.masked_array(GN.X_pred_theta, mask = mask)\n",
    "np.sum(np.abs((mask_X_gt - mask_X_pred)))/np.sum(test)"
   ]
  },
  {
   "cell_type": "code",
   "execution_count": 82,
   "metadata": {},
   "outputs": [],
   "source": [
    "GN.fit(X,1)"
   ]
  },
  {
   "cell_type": "code",
   "execution_count": 289,
   "metadata": {},
   "outputs": [
    {
     "name": "stdout",
     "output_type": "stream",
     "text": [
      "mean number of clusters 5.0\n",
      "mean nodes per cluster 20.0\n",
      "None\n",
      "mean number of clusters 5.0\n",
      "mean nodes per cluster 20.0\n",
      "None\n",
      "Counter({0: 22, 4: 20, 3: 20, 1: 19, 2: 19})\n",
      "Counter({4: 23, 2: 22, 1: 19, 0: 18, 3: 18})\n"
     ]
    }
   ],
   "source": [
    "config = {'directed': True,\n",
    "          'binary': True,\n",
    "          'unicluster': False}\n",
    "GN_bi = SBM(config, start_z = \"singleton\", set_seed=42,\n",
    "         prior_r = \"GN\", gamma_GN_r=0.45,\n",
    "         prior_c = \"GN\", gamma_GN_c=0.45)\n",
    "GN_bi.fit(train,500)\n",
    "\n",
    "# GN_bi.fit(X, 10000)\n",
    "# with open(\"results/Case4_GN_Z_bipartite.pickle\", \"wb\") as f:\n",
    "#     pkl.dump(GN_bi.Z, f)\n",
    "\n",
    "print(cluster_summs(GN_bi.Zr[len(GN_bi.Zr)//2:]))\n",
    "print(cluster_summs(GN_bi.Zc[len(GN_bi.Zc)//2:]))\n",
    "print(Counter(np.argwhere(GN_bi.Zr[-1])[:,1]))\n",
    "print(Counter(np.argwhere(GN_bi.Zc[-1])[:,1]))"
   ]
  },
  {
   "cell_type": "code",
   "execution_count": 287,
   "metadata": {},
   "outputs": [
    {
     "data": {
      "text/plain": [
       "0.11976724346445755"
      ]
     },
     "execution_count": 287,
     "metadata": {},
     "output_type": "execute_result"
    }
   ],
   "source": [
    "# GN_bi.evalZ(z0)\n",
    "GN_bi.compute_block_probabilities()\n",
    "GN_bi.predict()\n",
    "np.sum(np.abs(X_gt_theta - GN_bi.X_pred_theta))/(len(X)*(len(X)-1))"
   ]
  },
  {
   "cell_type": "code",
   "execution_count": 288,
   "metadata": {},
   "outputs": [
    {
     "data": {
      "text/plain": [
       "0.17495219845721235"
      ]
     },
     "execution_count": 288,
     "metadata": {},
     "output_type": "execute_result"
    }
   ],
   "source": [
    "mask_X_gt = ma.masked_array(X_gt_theta, mask=mask)\n",
    "mask_X_pred = ma.masked_array(GN_bi.X_pred_theta, mask = mask)\n",
    "np.sum(np.abs((mask_X_gt - mask_X_pred)))/np.sum(test)"
   ]
  },
  {
   "cell_type": "code",
   "execution_count": 14,
   "metadata": {},
   "outputs": [
    {
     "data": {
      "text/plain": [
       "array([[0.70074813, 0.29925187, 0.22942643, 0.25436409, 0.26932668],\n",
       "       [0.26433915, 0.70573566, 0.21945137, 0.25436409, 0.28179551],\n",
       "       [0.22942643, 0.25685786, 0.71072319, 0.24189526, 0.22194514],\n",
       "       [0.26433915, 0.25935162, 0.23690773, 0.74563591, 0.25685786],\n",
       "       [0.24438903, 0.25685786, 0.25436409, 0.27182045, 0.7032419 ]])"
      ]
     },
     "execution_count": 14,
     "metadata": {},
     "output_type": "execute_result"
    }
   ],
   "source": [
    "GN_bi.estimated_theta"
   ]
  },
  {
   "cell_type": "code",
   "execution_count": 116,
   "metadata": {},
   "outputs": [
    {
     "name": "stdout",
     "output_type": "stream",
     "text": [
      "[6.43545e+03 1.58900e+02 3.10000e+00]\n"
     ]
    },
    {
     "data": {
      "text/plain": [
       "array([8.76957705, 5.06827507, 1.13140211])"
      ]
     },
     "execution_count": 116,
     "metadata": {},
     "output_type": "execute_result"
    }
   ],
   "source": [
    "m = np.array([80,1])\n",
    "gamma = 0.45\n",
    "print(np.append((m + 1) * (np.sum(m) - len(m) + gamma), len(m)**2 - len(m)*gamma))\n",
    "np.log(np.append((m + 1) * (np.sum(m) - len(m) + gamma), len(m)**2 - len(m)*gamma))"
   ]
  },
  {
   "attachments": {},
   "cell_type": "markdown",
   "metadata": {},
   "source": [
    "Link_Prediction"
   ]
  },
  {
   "cell_type": "code",
   "execution_count": 231,
   "metadata": {},
   "outputs": [],
   "source": [
    "import pandas as pd"
   ]
  },
  {
   "cell_type": "code",
   "execution_count": 237,
   "metadata": {},
   "outputs": [],
   "source": [
    "d = {}\n",
    "d[\"PY\"] = 1"
   ]
  },
  {
   "cell_type": "code",
   "execution_count": 239,
   "metadata": {},
   "outputs": [
    {
     "data": {
      "text/plain": [
       "{'PY': 1}"
      ]
     },
     "execution_count": 239,
     "metadata": {},
     "output_type": "execute_result"
    }
   ],
   "source": [
    "d"
   ]
  },
  {
   "cell_type": "code",
   "execution_count": 257,
   "metadata": {},
   "outputs": [
    {
     "data": {
      "text/html": [
       "<div>\n",
       "<style scoped>\n",
       "    .dataframe tbody tr th:only-of-type {\n",
       "        vertical-align: middle;\n",
       "    }\n",
       "\n",
       "    .dataframe tbody tr th {\n",
       "        vertical-align: top;\n",
       "    }\n",
       "\n",
       "    .dataframe thead th {\n",
       "        text-align: right;\n",
       "    }\n",
       "</style>\n",
       "<table border=\"1\" class=\"dataframe\">\n",
       "  <thead>\n",
       "    <tr style=\"text-align: right;\">\n",
       "      <th></th>\n",
       "      <th>0.00</th>\n",
       "      <th>0.05</th>\n",
       "      <th>0.10</th>\n",
       "      <th>0.15</th>\n",
       "      <th>0.20</th>\n",
       "      <th>0.25</th>\n",
       "      <th>0.30</th>\n",
       "      <th>0.35</th>\n",
       "      <th>0.40</th>\n",
       "      <th>0.45</th>\n",
       "      <th>0.50</th>\n",
       "      <th>0.55</th>\n",
       "      <th>0.60</th>\n",
       "      <th>0.65</th>\n",
       "      <th>0.70</th>\n",
       "      <th>0.75</th>\n",
       "      <th>0.80</th>\n",
       "      <th>0.85</th>\n",
       "      <th>0.90</th>\n",
       "      <th>0.95</th>\n",
       "    </tr>\n",
       "  </thead>\n",
       "  <tbody>\n",
       "    <tr>\n",
       "      <th>PY_All</th>\n",
       "      <td>0</td>\n",
       "      <td>0</td>\n",
       "      <td>0</td>\n",
       "      <td>0</td>\n",
       "      <td>0</td>\n",
       "      <td>0</td>\n",
       "      <td>0</td>\n",
       "      <td>0</td>\n",
       "      <td>0</td>\n",
       "      <td>0</td>\n",
       "      <td>0</td>\n",
       "      <td>0</td>\n",
       "      <td>0</td>\n",
       "      <td>0</td>\n",
       "      <td>0</td>\n",
       "      <td>0</td>\n",
       "      <td>0</td>\n",
       "      <td>0</td>\n",
       "      <td>0</td>\n",
       "      <td>0</td>\n",
       "    </tr>\n",
       "    <tr>\n",
       "      <th>PY_Test</th>\n",
       "      <td>0</td>\n",
       "      <td>0</td>\n",
       "      <td>0</td>\n",
       "      <td>0</td>\n",
       "      <td>0</td>\n",
       "      <td>0</td>\n",
       "      <td>0</td>\n",
       "      <td>0</td>\n",
       "      <td>0</td>\n",
       "      <td>0</td>\n",
       "      <td>0</td>\n",
       "      <td>0</td>\n",
       "      <td>0</td>\n",
       "      <td>0</td>\n",
       "      <td>0</td>\n",
       "      <td>0</td>\n",
       "      <td>0</td>\n",
       "      <td>0</td>\n",
       "      <td>0</td>\n",
       "      <td>0</td>\n",
       "    </tr>\n",
       "    <tr>\n",
       "      <th>GN_All</th>\n",
       "      <td>0</td>\n",
       "      <td>0</td>\n",
       "      <td>0</td>\n",
       "      <td>0</td>\n",
       "      <td>0</td>\n",
       "      <td>0</td>\n",
       "      <td>0</td>\n",
       "      <td>0</td>\n",
       "      <td>0</td>\n",
       "      <td>0</td>\n",
       "      <td>0</td>\n",
       "      <td>0</td>\n",
       "      <td>0</td>\n",
       "      <td>0</td>\n",
       "      <td>0</td>\n",
       "      <td>0</td>\n",
       "      <td>0</td>\n",
       "      <td>0</td>\n",
       "      <td>0</td>\n",
       "      <td>0</td>\n",
       "    </tr>\n",
       "    <tr>\n",
       "      <th>GN_Test</th>\n",
       "      <td>0</td>\n",
       "      <td>0</td>\n",
       "      <td>0</td>\n",
       "      <td>0</td>\n",
       "      <td>0</td>\n",
       "      <td>0</td>\n",
       "      <td>0</td>\n",
       "      <td>0</td>\n",
       "      <td>0</td>\n",
       "      <td>0</td>\n",
       "      <td>0</td>\n",
       "      <td>0</td>\n",
       "      <td>0</td>\n",
       "      <td>0</td>\n",
       "      <td>0</td>\n",
       "      <td>0</td>\n",
       "      <td>0</td>\n",
       "      <td>0</td>\n",
       "      <td>0</td>\n",
       "      <td>0</td>\n",
       "    </tr>\n",
       "  </tbody>\n",
       "</table>\n",
       "</div>"
      ],
      "text/plain": [
       "         0.00  0.05  0.10  0.15  0.20  0.25  0.30  0.35  0.40  0.45  0.50  \\\n",
       "PY_All      0     0     0     0     0     0     0     0     0     0     0   \n",
       "PY_Test     0     0     0     0     0     0     0     0     0     0     0   \n",
       "GN_All      0     0     0     0     0     0     0     0     0     0     0   \n",
       "GN_Test     0     0     0     0     0     0     0     0     0     0     0   \n",
       "\n",
       "         0.55  0.60  0.65  0.70  0.75  0.80  0.85  0.90  0.95  \n",
       "PY_All      0     0     0     0     0     0     0     0     0  \n",
       "PY_Test     0     0     0     0     0     0     0     0     0  \n",
       "GN_All      0     0     0     0     0     0     0     0     0  \n",
       "GN_Test     0     0     0     0     0     0     0     0     0  "
      ]
     },
     "execution_count": 257,
     "metadata": {},
     "output_type": "execute_result"
    }
   ],
   "source": [
    "df = pd.DataFrame(0, index = [\"PY_All\", \"PY_Test\",\"GN_All\", \"GN_Test\"], columns = [i/20 for i in range(20)])\n",
    "df"
   ]
  },
  {
   "cell_type": "code",
   "execution_count": 258,
   "metadata": {},
   "outputs": [],
   "source": [
    "missing_percents = [i/20 for i in range(20)]\n",
    "for i, percent in enumerate(missing_percents):\n",
    "    for t in range(10):\n",
    "        df.iloc[0,i] += 1"
   ]
  },
  {
   "cell_type": "code",
   "execution_count": 259,
   "metadata": {},
   "outputs": [
    {
     "data": {
      "text/html": [
       "<div>\n",
       "<style scoped>\n",
       "    .dataframe tbody tr th:only-of-type {\n",
       "        vertical-align: middle;\n",
       "    }\n",
       "\n",
       "    .dataframe tbody tr th {\n",
       "        vertical-align: top;\n",
       "    }\n",
       "\n",
       "    .dataframe thead th {\n",
       "        text-align: right;\n",
       "    }\n",
       "</style>\n",
       "<table border=\"1\" class=\"dataframe\">\n",
       "  <thead>\n",
       "    <tr style=\"text-align: right;\">\n",
       "      <th></th>\n",
       "      <th>0.00</th>\n",
       "      <th>0.05</th>\n",
       "      <th>0.10</th>\n",
       "      <th>0.15</th>\n",
       "      <th>0.20</th>\n",
       "      <th>0.25</th>\n",
       "      <th>0.30</th>\n",
       "      <th>0.35</th>\n",
       "      <th>0.40</th>\n",
       "      <th>0.45</th>\n",
       "      <th>0.50</th>\n",
       "      <th>0.55</th>\n",
       "      <th>0.60</th>\n",
       "      <th>0.65</th>\n",
       "      <th>0.70</th>\n",
       "      <th>0.75</th>\n",
       "      <th>0.80</th>\n",
       "      <th>0.85</th>\n",
       "      <th>0.90</th>\n",
       "      <th>0.95</th>\n",
       "    </tr>\n",
       "  </thead>\n",
       "  <tbody>\n",
       "    <tr>\n",
       "      <th>PY_All</th>\n",
       "      <td>10</td>\n",
       "      <td>10</td>\n",
       "      <td>10</td>\n",
       "      <td>10</td>\n",
       "      <td>10</td>\n",
       "      <td>10</td>\n",
       "      <td>10</td>\n",
       "      <td>10</td>\n",
       "      <td>10</td>\n",
       "      <td>10</td>\n",
       "      <td>10</td>\n",
       "      <td>10</td>\n",
       "      <td>10</td>\n",
       "      <td>10</td>\n",
       "      <td>10</td>\n",
       "      <td>10</td>\n",
       "      <td>10</td>\n",
       "      <td>10</td>\n",
       "      <td>10</td>\n",
       "      <td>10</td>\n",
       "    </tr>\n",
       "    <tr>\n",
       "      <th>PY_Test</th>\n",
       "      <td>0</td>\n",
       "      <td>0</td>\n",
       "      <td>0</td>\n",
       "      <td>0</td>\n",
       "      <td>0</td>\n",
       "      <td>0</td>\n",
       "      <td>0</td>\n",
       "      <td>0</td>\n",
       "      <td>0</td>\n",
       "      <td>0</td>\n",
       "      <td>0</td>\n",
       "      <td>0</td>\n",
       "      <td>0</td>\n",
       "      <td>0</td>\n",
       "      <td>0</td>\n",
       "      <td>0</td>\n",
       "      <td>0</td>\n",
       "      <td>0</td>\n",
       "      <td>0</td>\n",
       "      <td>0</td>\n",
       "    </tr>\n",
       "    <tr>\n",
       "      <th>GN_All</th>\n",
       "      <td>0</td>\n",
       "      <td>0</td>\n",
       "      <td>0</td>\n",
       "      <td>0</td>\n",
       "      <td>0</td>\n",
       "      <td>0</td>\n",
       "      <td>0</td>\n",
       "      <td>0</td>\n",
       "      <td>0</td>\n",
       "      <td>0</td>\n",
       "      <td>0</td>\n",
       "      <td>0</td>\n",
       "      <td>0</td>\n",
       "      <td>0</td>\n",
       "      <td>0</td>\n",
       "      <td>0</td>\n",
       "      <td>0</td>\n",
       "      <td>0</td>\n",
       "      <td>0</td>\n",
       "      <td>0</td>\n",
       "    </tr>\n",
       "    <tr>\n",
       "      <th>GN_Test</th>\n",
       "      <td>0</td>\n",
       "      <td>0</td>\n",
       "      <td>0</td>\n",
       "      <td>0</td>\n",
       "      <td>0</td>\n",
       "      <td>0</td>\n",
       "      <td>0</td>\n",
       "      <td>0</td>\n",
       "      <td>0</td>\n",
       "      <td>0</td>\n",
       "      <td>0</td>\n",
       "      <td>0</td>\n",
       "      <td>0</td>\n",
       "      <td>0</td>\n",
       "      <td>0</td>\n",
       "      <td>0</td>\n",
       "      <td>0</td>\n",
       "      <td>0</td>\n",
       "      <td>0</td>\n",
       "      <td>0</td>\n",
       "    </tr>\n",
       "  </tbody>\n",
       "</table>\n",
       "</div>"
      ],
      "text/plain": [
       "         0.00  0.05  0.10  0.15  0.20  0.25  0.30  0.35  0.40  0.45  0.50  \\\n",
       "PY_All     10    10    10    10    10    10    10    10    10    10    10   \n",
       "PY_Test     0     0     0     0     0     0     0     0     0     0     0   \n",
       "GN_All      0     0     0     0     0     0     0     0     0     0     0   \n",
       "GN_Test     0     0     0     0     0     0     0     0     0     0     0   \n",
       "\n",
       "         0.55  0.60  0.65  0.70  0.75  0.80  0.85  0.90  0.95  \n",
       "PY_All     10    10    10    10    10    10    10    10    10  \n",
       "PY_Test     0     0     0     0     0     0     0     0     0  \n",
       "GN_All      0     0     0     0     0     0     0     0     0  \n",
       "GN_Test     0     0     0     0     0     0     0     0     0  "
      ]
     },
     "execution_count": 259,
     "metadata": {},
     "output_type": "execute_result"
    }
   ],
   "source": [
    "df"
   ]
  },
  {
   "cell_type": "code",
   "execution_count": null,
   "metadata": {},
   "outputs": [],
   "source": [
    "missing_percents = [i/20 for i in range(20)]\n",
    "\n",
    "config_uni = {'directed': True,\n",
    "          'binary': True,\n",
    "          'unicluster': True}\n",
    "\n",
    "config_bi = {'directed': True,\n",
    "          'binary': True,\n",
    "          'unicluster': False}\n",
    "for i, percent in missing_percents:\n",
    "    for j in range(10):\n",
    "        train, test = train_val_split(X, valid_dim = i, random_seed= j)\n",
    "        \n",
    "        PY = SBM(config, prior_r = \"PY\", alpha_PY_r=0.6,sigma_PY_r=-0.3, \n",
    "                start_z = \"singleton\", set_seed=42)\n",
    "        PY.fit(train,500)\n",
    "        PY.compute_block_probabilities()\n",
    "        PY.predict()\n",
    "        df.iloc[0,i] += np.sum(np.abs((X_gt_theta - PY.X_pred_theta)))/(len(X)*(len(X)-1))\n",
    "\n",
    "        mask_X_gt = ma.masked_array(X_gt_theta, mask=mask)\n",
    "        mask_X_pred = ma.masked_array(PY_bi.X_pred_theta, mask = mask)\n",
    "        np.sum(np.abs((mask_X_gt - mask_X_pred)))/np.sum(test)\n",
    "        \n",
    "        PY_bi = SBM(config, start_z = \"singleton\", set_seed=42,\n",
    "         prior_r = \"PY\", alpha_PY_r=0.6,sigma_PY_r=-0.3,\n",
    "         prior_c = \"PY\", alpha_PY_c=0.6,sigma_PY_c=-0.3)\n",
    "\n",
    "        PY_bi.fit(train,500)\n",
    "        PY_bi.compute_block_probabilities()\n",
    "        PY_bi.predict()\n",
    "        df.np.sum(np.abs(X_gt_theta - PY_bi.X_pred_theta))/(len(X)*(len(X)-1))\n"
   ]
  },
  {
   "cell_type": "code",
   "execution_count": 229,
   "metadata": {},
   "outputs": [
    {
     "data": {
      "text/plain": [
       "[0.0,\n",
       " 0.05,\n",
       " 0.1,\n",
       " 0.15,\n",
       " 0.2,\n",
       " 0.25,\n",
       " 0.3,\n",
       " 0.35,\n",
       " 0.4,\n",
       " 0.45,\n",
       " 0.5,\n",
       " 0.55,\n",
       " 0.6,\n",
       " 0.65,\n",
       " 0.7,\n",
       " 0.75,\n",
       " 0.8,\n",
       " 0.85,\n",
       " 0.9,\n",
       " 0.95]"
      ]
     },
     "execution_count": 229,
     "metadata": {},
     "output_type": "execute_result"
    }
   ],
   "source": [
    "[i/20 for i in range(20)]"
   ]
  },
  {
   "cell_type": "code",
   "execution_count": null,
   "metadata": {},
   "outputs": [],
   "source": []
  },
  {
   "cell_type": "code",
   "execution_count": 181,
   "metadata": {},
   "outputs": [],
   "source": [
    "def evalZ(Z, z0):\n",
    "    Zr = retrieve_samples(Z[0], gap = 10)\n",
    "    Zc = retrieve_samples(Z[1], gap = 10)\n",
    "\n",
    "    Cr = [np.where(x == 1)[1].tolist() for x in Zr]\n",
    "    Cc = [np.where(x == 1)[1].tolist() for x in Zc]\n",
    "\n",
    "    VIr = 0\n",
    "    VIc = 0\n",
    "    for i in range(len(Cr)):\n",
    "        VIr += compare_communities(Cr[i], z0[0])\n",
    "        VIc += compare_communities(Cc[i], z0[1])\n",
    "\n",
    "    VIr = VIr/len(Cr)\n",
    "    VIc = VIc/len(Cc)\n",
    "\n",
    "    VI_relative_true = np.mean([VIr, VIc])\n",
    "\n",
    "    Zsample, VI, idx_min = compute_Zhat(X, Z, mode = 'biclustering', ret_all = True)\n",
    "\n",
    "    z_hat = [Zsample[0][idx_min], Zsample[1][idx_min]]\n",
    "    c_hat = [np.where(z_hat[0]==1)[1], np.where(z_hat[1]==1)[1]]\n",
    "\n",
    "    sorted_VI = VI[np.argsort(VI)]\n",
    "    sorted_Zr = [Zsample[0][i] for i in np.argsort(VI)]\n",
    "    sorted_Zc = [Zsample[1][i] for i in np.argsort(VI)]\n",
    "\n",
    "    b_threshold = int(len(VI)*0.95)\n",
    "\n",
    "    zr_ball = sorted_Zr[b_threshold]\n",
    "    zc_ball = sorted_Zc[b_threshold]\n",
    "\n",
    "    c_ball = [np.where(zr_ball==1)[1], np.where(zc_ball==1)[1]]\n",
    "\n",
    "    VI_relative_ball = np.mean([compare_communities(c_hat[0], c_ball[0]), \n",
    "                                compare_communities(c_hat[1], c_ball[1])])\n",
    "\n",
    "    VIr_true = compare_communities(c_hat[0], z0[0])\n",
    "    VIc_true = compare_communities(c_hat[1], z0[1])\n",
    "\n",
    "    print(\"VIr: \", VIr_true)\n",
    "    print(\"VIc: \", VIc_true)\n",
    "    print(\"VI_rel_true: \", VI_relative_true)\n",
    "    print(\"VI_rel_ball: \", VI_relative_ball)\n",
    "\n",
    "\n",
    "    Kr_vector = [i.shape[1] for i in sorted_Zr]\n",
    "    Kc_vector = [i.shape[1] for i in sorted_Zc] \n",
    "    print(\"Kr\")\n",
    "    print('0.25: ', np.quantile(np.sort(Kr_vector), 0.25))\n",
    "    print('0.50: ', np.quantile(np.sort(Kr_vector), 0.5))\n",
    "    print('0.75: ', np.quantile(np.sort(Kr_vector), 0.75))\n",
    "\n",
    "    print(\"Kc\")\n",
    "    print('0.25: ', np.quantile(np.sort(Kc_vector), 0.25))\n",
    "    print('0.50: ', np.quantile(np.sort(Kc_vector), 0.5))\n",
    "    print('0.75: ', np.quantile(np.sort(Kc_vector), 0.75))\n",
    "\n",
    "    rho = compute_rho(X, Zsample, mode = 'biclustering')\n",
    "    predicted_thetas = compute_predicted_thetas(Sr, Sc, rho)\n",
    "\n",
    "    MAE = np.sum(np.abs(true_rho - rho))/(len(rho)**2 - len(rho))\n",
    "    print(\"MAE: \", MAE)\n",
    "\n",
    "    "
   ]
  },
  {
   "attachments": {},
   "cell_type": "markdown",
   "metadata": {},
   "source": [
    "Analysis:"
   ]
  },
  {
   "attachments": {},
   "cell_type": "markdown",
   "metadata": {},
   "source": [
    "Case 1:"
   ]
  },
  {
   "cell_type": "code",
   "execution_count": 200,
   "metadata": {},
   "outputs": [],
   "source": [
    "\n",
    "n_clust = 5\n",
    "theta = np.zeros((n_clust,n_clust)) + 0.25\n",
    "np.fill_diagonal(theta, 0.75)\n",
    "\n",
    "Sr = [20, 20, 20, 20, 20]\n",
    "Sc = [20, 20, 20, 20, 20]\n",
    "\n",
    "Hr = []\n",
    "c = 0\n",
    "for i in Sr:\n",
    "    for j in range(i):\n",
    "        Hr += [c]\n",
    "    c+=1\n",
    "\n",
    "Hc = []\n",
    "c = 0\n",
    "for i in Sc:\n",
    "    for j in range(i):\n",
    "        Hc += [c]\n",
    "    c+=1\n",
    "\n",
    "z0 = [np.array(Hr), np.array(Hc)]\n",
    "\n",
    "N = np.sum(Sr)\n",
    "true_rho = np.zeros((N,N))\n",
    "for i in range(N):\n",
    "    for j in range(N):\n",
    "        if i == j:\n",
    "            continue\n",
    "        true_rho[i,j] += theta[z0[0][i], z0[1][j]]\n",
    "\n",
    "X = generate_graph_bicluster(Sr, Sc, theta, random_seed=40) #CASE 1"
   ]
  },
  {
   "cell_type": "code",
   "execution_count": 201,
   "metadata": {},
   "outputs": [
    {
     "name": "stdout",
     "output_type": "stream",
     "text": [
      "VIr:  0.0\n",
      "VIc:  0.0\n",
      "VI_rel_true:  0.001797561233461919\n",
      "VI_rel_ball:  0.0\n",
      "Kr\n",
      "0.25:  5.0\n",
      "0.50:  5.0\n",
      "0.75:  5.0\n",
      "Kc\n",
      "0.25:  5.0\n",
      "0.50:  5.0\n",
      "0.75:  5.0\n",
      "MAE:  0.015527047474324202\n",
      "\n",
      "\n",
      "VIr:  0.0\n",
      "VIc:  0.0\n",
      "VI_rel_true:  7.940609733834946e-05\n",
      "VI_rel_ball:  0.0\n",
      "Kr\n",
      "0.25:  5.0\n",
      "0.50:  5.0\n",
      "0.75:  5.0\n",
      "Kc\n",
      "0.25:  5.0\n",
      "0.50:  5.0\n",
      "0.75:  5.0\n",
      "MAE:  0.015527637769108177\n"
     ]
    }
   ],
   "source": [
    "with open(\"results/Case1_DP_Z_unipartite.pickle\", \"rb\") as f:\n",
    "    Z_uni = pkl.load(f)\n",
    "Z = [Z_uni, Z_uni]\n",
    "evalZ(Z, z0)\n",
    "print(\"\\n\")\n",
    "with open(\"results/Case1_PY_Z_unipartite.pickle\", \"rb\") as f:\n",
    "    Z_uni = pkl.load(f)\n",
    "Z = [Z_uni, Z_uni]\n",
    "evalZ(Z, z0)"
   ]
  },
  {
   "cell_type": "code",
   "execution_count": 126,
   "metadata": {},
   "outputs": [
    {
     "name": "stdout",
     "output_type": "stream",
     "text": [
      "VIr:  0.0\n",
      "VIc:  0.0\n",
      "VI_rel_true:  0.0021945917201536664\n",
      "VI_rel_ball:  0.039703048669174734\n",
      "0.25:  5.0\n",
      "0.50:  5.0\n",
      "0.75:  5.0\n",
      "MAE:  0.015526761498456521\n",
      "VIr:  0.0\n",
      "VIc:  0.0\n",
      "VI_rel_true:  0.0\n",
      "VI_rel_ball:  0.0\n",
      "0.25:  5.0\n",
      "0.50:  5.0\n",
      "0.75:  5.0\n",
      "MAE:  0.015527694964281713\n"
     ]
    }
   ],
   "source": [
    "with open(\"results/Case1_DM_Z_unipartite.pickle\", \"rb\") as f:\n",
    "    Z_uni = pkl.load(f)\n",
    "Z = [Z_uni, Z_uni]\n",
    "evalZ(Z, z0)\n",
    "print(\"\\n\")\n",
    "with open(\"results/Case1_GN_Z_unipartite.pickle\", \"rb\") as f:\n",
    "    Z_uni = pkl.load(f)\n",
    "Z = [Z_uni, Z_uni]\n",
    "evalZ(Z, z0)"
   ]
  },
  {
   "cell_type": "code",
   "execution_count": 202,
   "metadata": {},
   "outputs": [
    {
     "name": "stdout",
     "output_type": "stream",
     "text": [
      "VIr:  0.0\n",
      "VIc:  0.0\n",
      "VI_rel_true:  0.045661396554873265\n",
      "VI_rel_ball:  0.1173199446673705\n",
      "Kr\n",
      "0.25:  5.0\n",
      "0.50:  6.0\n",
      "0.75:  6.0\n",
      "Kc\n",
      "0.25:  5.0\n",
      "0.50:  5.0\n",
      "0.75:  6.0\n",
      "MAE:  0.01612648460554333\n",
      "\n",
      "\n",
      "VIr:  0.0\n",
      "VIc:  0.0\n",
      "VI_rel_true:  0.015581776138153595\n",
      "VI_rel_ball:  0.06190753419815409\n",
      "Kr\n",
      "0.25:  5.0\n",
      "0.50:  5.0\n",
      "0.75:  5.0\n",
      "Kc\n",
      "0.25:  5.0\n",
      "0.50:  5.0\n",
      "0.75:  5.0\n",
      "MAE:  0.015772005930835026\n"
     ]
    }
   ],
   "source": [
    "with open(\"results/Case1_DP_Z_bipartite.pickle\", \"rb\") as f:\n",
    "    Z_uni = pkl.load(f)\n",
    "Zr = [x[0] for x in [i for i in Z_uni]]\n",
    "Zc = [x[1] for x in [i for i in Z_uni]]    \n",
    "Z = [Zr, Zc]\n",
    "evalZ(Z, z0)\n",
    "print(\"\\n\")\n",
    "with open(\"results/Case1_PY_Z_bipartite.pickle\", \"rb\") as f:\n",
    "    Z_uni = pkl.load(f)\n",
    "Zr = [x[0] for x in [i for i in Z_uni]]\n",
    "Zc = [x[1] for x in [i for i in Z_uni]]    \n",
    "Z = [Zr, Zc]\n",
    "evalZ(Z, z0)"
   ]
  },
  {
   "cell_type": "code",
   "execution_count": 204,
   "metadata": {},
   "outputs": [
    {
     "name": "stdout",
     "output_type": "stream",
     "text": [
      "VIr:  0.039703048669174734\n",
      "VIc:  0.0\n",
      "VI_rel_true:  0.07406041209007647\n",
      "VI_rel_ball:  0.16387142717158532\n",
      "Kr\n",
      "0.25:  6.0\n",
      "0.50:  6.0\n",
      "0.75:  7.0\n",
      "Kc\n",
      "0.25:  5.0\n",
      "0.50:  5.0\n",
      "0.75:  6.0\n",
      "MAE:  0.016768512094353163\n",
      "\n",
      "\n",
      "VIr:  0.0\n",
      "VIc:  0.0\n",
      "VI_rel_true:  0.0070818316124991836\n",
      "VI_rel_ball:  0.03995315294014756\n",
      "Kr\n",
      "0.25:  5.0\n",
      "0.50:  5.0\n",
      "0.75:  5.0\n",
      "Kc\n",
      "0.25:  5.0\n",
      "0.50:  5.0\n",
      "0.75:  5.0\n",
      "MAE:  0.015722868113898697\n"
     ]
    }
   ],
   "source": [
    "with open(\"results/Case1_DM_Z_bipartite.pickle\", \"rb\") as f:\n",
    "    Z_uni = pkl.load(f)\n",
    "Zr = [x[0] for x in [i for i in Z_uni]]\n",
    "Zc = [x[1] for x in [i for i in Z_uni]]    \n",
    "Z = [Zr, Zc]\n",
    "evalZ(Z, z0)\n",
    "print(\"\\n\")\n",
    "with open(\"results/Case1_GN_Z_bipartite.pickle\", \"rb\") as f:\n",
    "    Z_uni = pkl.load(f)\n",
    "Zr = [x[0] for x in [i for i in Z_uni]]\n",
    "Zc = [x[1] for x in [i for i in Z_uni]]    \n",
    "Z = [Zr, Zc]\n",
    "evalZ(Z, z0)"
   ]
  },
  {
   "cell_type": "code",
   "execution_count": 205,
   "metadata": {},
   "outputs": [],
   "source": [
    "theta = np.array([[0.75, 0.25, 0.25, 0.75, 0.25],\n",
    "                  [0.25, 0.75, 0.25, 0.25, 0.75],\n",
    "                  [0.25, 0.25, 0.75, 0.25, 0.75],\n",
    "                  [0.75, 0.25, 0.25, 0.75, 0.75],\n",
    "                  [0.25, 0.75, 0.75, 0.75, 0.75]])\n",
    "\n",
    "Sr = [20, 15, 10, 10, 8]\n",
    "Sc = [20, 15, 10, 10, 8]\n",
    "# Sc = [15, 15, 15, 15]\n",
    "\n",
    "Hr = []\n",
    "c = 0\n",
    "for i in Sr:\n",
    "    for j in range(i):\n",
    "        Hr += [c]\n",
    "    c+=1\n",
    "\n",
    "Hc = []\n",
    "c = 0\n",
    "for i in Sc:\n",
    "    for j in range(i):\n",
    "        Hc += [c]\n",
    "    c+=1\n",
    "\n",
    "z0 = [np.array(Hr), np.array(Hc)]\n",
    "\n",
    "N = np.sum(Sr)\n",
    "true_rho = np.zeros((N,N))\n",
    "for i in range(N):\n",
    "    for j in range(N):\n",
    "        if i == j:\n",
    "            continue\n",
    "        true_rho[i,j] += theta[z0[0][i], z0[1][j]]\n",
    "\n",
    "X = generate_graph_bicluster(Sr, Sc, theta, random_seed=40) #CASE 2"
   ]
  },
  {
   "cell_type": "code",
   "execution_count": 206,
   "metadata": {},
   "outputs": [
    {
     "name": "stdout",
     "output_type": "stream",
     "text": [
      "DP: \n",
      "VIr:  0.11621114186919179\n",
      "VIc:  0.11621114186919179\n",
      "VI_rel_true:  0.19322489912477328\n",
      "VI_rel_ball:  0.24700320524045605\n",
      "Kr\n",
      "0.25:  5.0\n",
      "0.50:  5.0\n",
      "0.75:  5.0\n",
      "Kc\n",
      "0.25:  5.0\n",
      "0.50:  5.0\n",
      "0.75:  5.0\n",
      "MAE:  0.02634419670993856\n",
      "\n",
      "PY: \n",
      "VIr:  0.11621114186919179\n",
      "VIc:  0.11621114186919179\n",
      "VI_rel_true:  0.18767962097729968\n",
      "VI_rel_ball:  0.19007331236801273\n",
      "Kr\n",
      "0.25:  5.0\n",
      "0.50:  5.0\n",
      "0.75:  5.0\n",
      "Kc\n",
      "0.25:  5.0\n",
      "0.50:  5.0\n",
      "0.75:  5.0\n",
      "MAE:  0.02628968141475012\n"
     ]
    }
   ],
   "source": [
    "print(\"DP: \")\n",
    "with open(\"results/Case2_DP_Z_unipartite.pickle\", \"rb\") as f:\n",
    "    Z_uni = pkl.load(f)\n",
    "Z = [Z_uni, Z_uni]\n",
    "evalZ(Z, z0)\n",
    "print(\"\\nPY: \")\n",
    "with open(\"results/Case2_PY_Z_unipartite.pickle\", \"rb\") as f:\n",
    "    Z_uni = pkl.load(f)\n",
    "Z = [Z_uni, Z_uni]\n",
    "evalZ(Z, z0)"
   ]
  },
  {
   "cell_type": "code",
   "execution_count": 185,
   "metadata": {},
   "outputs": [
    {
     "name": "stdout",
     "output_type": "stream",
     "text": [
      "DM: \n",
      "VIr:  0.11621114186919179\n",
      "VIc:  0.11621114186919179\n",
      "VI_rel_true:  0.1951130191062112\n",
      "VI_rel_ball:  0.24555210346506096\n",
      "Kr\n",
      "0.25:  5.0\n",
      "0.50:  5.0\n",
      "0.75:  5.0\n",
      "Kc\n",
      "0.25:  5.0\n",
      "0.50:  5.0\n",
      "0.75:  5.0\n",
      "MAE:  0.02638518581576847\n",
      "\n",
      "GN: \n",
      "VIr:  0.11621114186919179\n",
      "VIc:  0.11621114186919179\n",
      "VI_rel_true:  0.18681373287731734\n",
      "VI_rel_ball:  0.19007331236801273\n",
      "Kr\n",
      "0.25:  5.0\n",
      "0.50:  5.0\n",
      "0.75:  5.0\n",
      "Kc\n",
      "0.25:  5.0\n",
      "0.50:  5.0\n",
      "0.75:  5.0\n",
      "MAE:  0.02631268524854733\n"
     ]
    }
   ],
   "source": [
    "print(\"DM: \")\n",
    "with open(\"results/Case2_DM_Z_unipartite.pickle\", \"rb\") as f:\n",
    "    Z_uni = pkl.load(f)\n",
    "Z = [Z_uni, Z_uni]\n",
    "evalZ(Z, z0)\n",
    "print(\"\\nGN: \")\n",
    "with open(\"results/Case2_GN_Z_unipartite.pickle\", \"rb\") as f:\n",
    "    Z_uni = pkl.load(f)\n",
    "Z = [Z_uni, Z_uni]\n",
    "evalZ(Z, z0)"
   ]
  },
  {
   "cell_type": "code",
   "execution_count": 209,
   "metadata": {},
   "outputs": [
    {
     "name": "stdout",
     "output_type": "stream",
     "text": [
      "VIr:  0.4629754954368046\n",
      "VIc:  0.2918067096977355\n",
      "VI_rel_true:  0.6422019685535041\n",
      "VI_rel_ball:  0.6803561779539744\n",
      "Kr\n",
      "0.25:  6.0\n",
      "0.50:  7.0\n",
      "0.75:  8.0\n",
      "Kc\n",
      "0.25:  6.0\n",
      "0.50:  7.0\n",
      "0.75:  8.0\n",
      "MAE:  0.047907153398820325\n",
      "\n",
      "\n",
      "VIr:  0.4691607250949277\n",
      "VIc:  0.4099292336339202\n",
      "VI_rel_true:  0.5214320589530062\n",
      "VI_rel_ball:  0.3557459186188463\n",
      "Kr\n",
      "0.25:  5.0\n",
      "0.50:  5.0\n",
      "0.75:  5.0\n",
      "Kc\n",
      "0.25:  5.0\n",
      "0.50:  5.0\n",
      "0.75:  5.0\n",
      "MAE:  0.04567115940860594\n"
     ]
    }
   ],
   "source": [
    "with open(\"results/Case2_DP_Z_bipartite.pickle\", \"rb\") as f:\n",
    "    Z_uni = pkl.load(f)\n",
    "Zr = [x[0] for x in [i for i in Z_uni]]\n",
    "Zc = [x[1] for x in [i for i in Z_uni]]    \n",
    "Z = [Zr, Zc]\n",
    "evalZ(Z, z0)\n",
    "print(\"\\n\")\n",
    "with open(\"results/Case2_PY_Z_bipartite.pickle\", \"rb\") as f:\n",
    "    Z_uni = pkl.load(f)\n",
    "Zr = [x[0] for x in [i for i in Z_uni]]\n",
    "Zc = [x[1] for x in [i for i in Z_uni]]    \n",
    "Z = [Zr, Zc]\n",
    "evalZ(Z, z0)"
   ]
  },
  {
   "cell_type": "code",
   "execution_count": 208,
   "metadata": {},
   "outputs": [
    {
     "name": "stdout",
     "output_type": "stream",
     "text": [
      "VIr:  0.4629754954368046\n",
      "VIc:  0.44667123901968564\n",
      "VI_rel_true:  0.6680479872654141\n",
      "VI_rel_ball:  0.7313807967992765\n",
      "Kr\n",
      "0.25:  7.0\n",
      "0.50:  8.0\n",
      "0.75:  9.0\n",
      "Kc\n",
      "0.25:  6.0\n",
      "0.50:  7.0\n",
      "0.75:  8.0\n",
      "MAE:  0.049038193837340587\n",
      "\n",
      "\n",
      "VIr:  0.4629754954368046\n",
      "VIc:  0.4099292336339202\n",
      "VI_rel_true:  0.49713262018317905\n",
      "VI_rel_ball:  0.47444843155697347\n",
      "Kr\n",
      "0.25:  5.0\n",
      "0.50:  5.0\n",
      "0.75:  5.0\n",
      "Kc\n",
      "0.25:  5.0\n",
      "0.50:  5.0\n",
      "0.75:  5.0\n",
      "MAE:  0.04492854657922441\n"
     ]
    }
   ],
   "source": [
    "with open(\"results/Case2_DM_Z_bipartite.pickle\", \"rb\") as f:\n",
    "    Z_uni = pkl.load(f)\n",
    "Zr = [x[0] for x in [i for i in Z_uni]]\n",
    "Zc = [x[1] for x in [i for i in Z_uni]]    \n",
    "Z = [Zr, Zc]\n",
    "evalZ(Z, z0)\n",
    "print(\"\\n\")\n",
    "with open(\"results/Case2_GN_Z_bipartite.pickle\", \"rb\") as f:\n",
    "    Z_uni = pkl.load(f)\n",
    "Zr = [x[0] for x in [i for i in Z_uni]]\n",
    "Zc = [x[1] for x in [i for i in Z_uni]]    \n",
    "Z = [Zr, Zc]\n",
    "evalZ(Z, z0)"
   ]
  },
  {
   "cell_type": "code",
   "execution_count": null,
   "metadata": {},
   "outputs": [],
   "source": []
  },
  {
   "cell_type": "code",
   "execution_count": 210,
   "metadata": {},
   "outputs": [],
   "source": [
    "theta = np.array([[0.75, 0.25, 0.75, 0.75, 0.25],\n",
    "                  [0.25, 0.75, 0.25, 0.25, 0.75],\n",
    "                  [0.75, 0.75, 0.25, 0.75, 0.75],\n",
    "                  [0.75, 0.25, 0.25, 0.25, 0.25],\n",
    "                  [0.75, 0.25, 0.25, 0.75, 0.75]])\n",
    "\n",
    "Sr = [15, 15, 15, 15, 15]\n",
    "Sc = [15, 15, 15, 15, 15]\n",
    "\n",
    "Hr = []\n",
    "c = 0\n",
    "for i in Sr:\n",
    "    for j in range(i):\n",
    "        Hr += [c]\n",
    "    c+=1\n",
    "\n",
    "Hc = []\n",
    "c = 0\n",
    "for i in Sc:\n",
    "    for j in range(i):\n",
    "        Hc += [c]\n",
    "    c+=1\n",
    "\n",
    "z0 = [np.array(Hr), np.array(Hc)]\n",
    "\n",
    "N = np.sum(Sr)\n",
    "true_rho = np.zeros((N,N))\n",
    "for i in range(N):\n",
    "    for j in range(N):\n",
    "        if i == j:\n",
    "            continue\n",
    "        true_rho[i,j] += theta[z0[0][i], z0[1][j]]\n",
    "\n",
    "X = generate_graph_bicluster(Sr, Sc, theta, random_seed=40) #CASE 3"
   ]
  },
  {
   "cell_type": "code",
   "execution_count": 211,
   "metadata": {},
   "outputs": [
    {
     "name": "stdout",
     "output_type": "stream",
     "text": [
      "DP: \n",
      "VIr:  0.0\n",
      "VIc:  0.0\n",
      "VI_rel_true:  0.013945401505659706\n",
      "VI_rel_ball:  0.04898600535892683\n",
      "Kr\n",
      "0.25:  5.0\n",
      "0.50:  5.0\n",
      "0.75:  5.0\n",
      "Kc\n",
      "0.25:  5.0\n",
      "0.50:  5.0\n",
      "0.75:  5.0\n",
      "MAE:  0.020143055986398088\n",
      "\n",
      "PY: \n",
      "VIr:  0.0\n",
      "VIc:  0.0\n",
      "VI_rel_true:  0.0019838807039651253\n",
      "VI_rel_ball:  0.0\n",
      "Kr\n",
      "0.25:  5.0\n",
      "0.50:  5.0\n",
      "0.75:  5.0\n",
      "Kc\n",
      "0.25:  5.0\n",
      "0.50:  5.0\n",
      "0.75:  5.0\n",
      "MAE:  0.01991560807495949\n"
     ]
    }
   ],
   "source": [
    "print(\"DP: \")\n",
    "with open(\"results/Case3_DP_Z_unipartite.pickle\", \"rb\") as f:\n",
    "    Z_uni = pkl.load(f)\n",
    "Z = [Z_uni, Z_uni]\n",
    "evalZ(Z, z0)\n",
    "print(\"\\nPY: \")\n",
    "with open(\"results/Case3_PY_Z_unipartite.pickle\", \"rb\") as f:\n",
    "    Z_uni = pkl.load(f)\n",
    "Z = [Z_uni, Z_uni]\n",
    "evalZ(Z, z0)"
   ]
  },
  {
   "cell_type": "code",
   "execution_count": 215,
   "metadata": {},
   "outputs": [
    {
     "name": "stdout",
     "output_type": "stream",
     "text": [
      "DP: \n",
      "VIr:  0.0\n",
      "VIc:  0.0\n",
      "VI_rel_true:  0.01576799547475424\n",
      "VI_rel_ball:  0.07853489344551079\n",
      "Kr\n",
      "0.25:  5.0\n",
      "0.50:  5.0\n",
      "0.75:  6.0\n",
      "Kc\n",
      "0.25:  5.0\n",
      "0.50:  5.0\n",
      "0.75:  6.0\n",
      "MAE:  0.02023393424344843\n",
      "\n",
      "PY: \n",
      "VIr:  0.0\n",
      "VIc:  0.0\n",
      "VI_rel_true:  0.0\n",
      "VI_rel_ball:  0.0\n",
      "Kr\n",
      "0.25:  5.0\n",
      "0.50:  5.0\n",
      "0.75:  5.0\n",
      "Kc\n",
      "0.25:  5.0\n",
      "0.50:  5.0\n",
      "0.75:  5.0\n",
      "MAE:  0.019909378250331282\n"
     ]
    }
   ],
   "source": [
    "print(\"DP: \")\n",
    "with open(\"results/Case3_DM_Z_unipartite.pickle\", \"rb\") as f:\n",
    "    Z_uni = pkl.load(f)\n",
    "Z = [Z_uni, Z_uni]\n",
    "evalZ(Z, z0)\n",
    "print(\"\\nPY: \")\n",
    "with open(\"results/Case3_GN_Z_unipartite.pickle\", \"rb\") as f:\n",
    "    Z_uni = pkl.load(f)\n",
    "Z = [Z_uni, Z_uni]\n",
    "evalZ(Z, z0)"
   ]
  },
  {
   "cell_type": "code",
   "execution_count": 213,
   "metadata": {},
   "outputs": [
    {
     "name": "stdout",
     "output_type": "stream",
     "text": [
      "VIr:  0.19594402143570866\n",
      "VIc:  0.0\n",
      "VI_rel_true:  0.2539071088385361\n",
      "VI_rel_ball:  0.3002272383184683\n",
      "Kr\n",
      "0.25:  6.0\n",
      "0.50:  7.0\n",
      "0.75:  8.0\n",
      "Kc\n",
      "0.25:  6.0\n",
      "0.50:  6.0\n",
      "0.75:  7.0\n",
      "MAE:  0.02811761763875129\n",
      "\n",
      "\n",
      "VIr:  0.09886155921630513\n",
      "VIc:  0.0\n",
      "VI_rel_true:  0.16799198360584355\n",
      "VI_rel_ball:  0.1870059787252496\n",
      "Kr\n",
      "0.25:  5.0\n",
      "0.50:  5.5\n",
      "0.75:  6.0\n",
      "Kc\n",
      "0.25:  5.0\n",
      "0.50:  5.0\n",
      "0.75:  5.0\n",
      "MAE:  0.023958335591145213\n"
     ]
    }
   ],
   "source": [
    "with open(\"results/Case3_DP_Z_bipartite.pickle\", \"rb\") as f:\n",
    "    Z_uni = pkl.load(f)\n",
    "Zr = [x[0] for x in [i for i in Z_uni]]\n",
    "Zc = [x[1] for x in [i for i in Z_uni]]    \n",
    "Z = [Zr, Zc]\n",
    "evalZ(Z, z0)\n",
    "print(\"\\n\")\n",
    "with open(\"results/Case3_PY_Z_bipartite.pickle\", \"rb\") as f:\n",
    "    Z_uni = pkl.load(f)\n",
    "Zr = [x[0] for x in [i for i in Z_uni]]\n",
    "Zc = [x[1] for x in [i for i in Z_uni]]    \n",
    "Z = [Zr, Zc]\n",
    "evalZ(Z, z0)"
   ]
  },
  {
   "cell_type": "code",
   "execution_count": 214,
   "metadata": {},
   "outputs": [
    {
     "name": "stdout",
     "output_type": "stream",
     "text": [
      "VIr:  0.2144279462506411\n",
      "VIc:  0.0\n",
      "VI_rel_true:  0.2709682975858777\n",
      "VI_rel_ball:  0.34778992349827464\n",
      "Kr\n",
      "0.25:  7.0\n",
      "0.50:  7.0\n",
      "0.75:  8.0\n",
      "Kc\n",
      "0.25:  6.0\n",
      "0.50:  7.0\n",
      "0.75:  7.0\n",
      "MAE:  0.028890425510612976\n",
      "\n",
      "\n",
      "VIr:  0.09886155921630513\n",
      "VIc:  0.0\n",
      "VI_rel_true:  0.14620111925777368\n",
      "VI_rel_ball:  0.22733565047815452\n",
      "Kr\n",
      "0.25:  5.0\n",
      "0.50:  5.0\n",
      "0.75:  5.0\n",
      "Kc\n",
      "0.25:  5.0\n",
      "0.50:  5.0\n",
      "0.75:  5.0\n",
      "MAE:  0.02256050567385287\n"
     ]
    }
   ],
   "source": [
    "with open(\"results/Case3_DM_Z_bipartite.pickle\", \"rb\") as f:\n",
    "    Z_uni = pkl.load(f)\n",
    "Zr = [x[0] for x in [i for i in Z_uni]]\n",
    "Zc = [x[1] for x in [i for i in Z_uni]]    \n",
    "Z = [Zr, Zc]\n",
    "evalZ(Z, z0)\n",
    "print(\"\\n\")\n",
    "with open(\"results/Case3_GN_Z_bipartite.pickle\", \"rb\") as f:\n",
    "    Z_uni = pkl.load(f)\n",
    "Zr = [x[0] for x in [i for i in Z_uni]]\n",
    "Zc = [x[1] for x in [i for i in Z_uni]]    \n",
    "Z = [Zr, Zc]\n",
    "evalZ(Z, z0)"
   ]
  },
  {
   "cell_type": "code",
   "execution_count": 217,
   "metadata": {},
   "outputs": [],
   "source": [
    "theta = np.array([[0.75, 0.25, 0.1, 0.9, 0.75],\n",
    "                  [0.1, 0.75, 0.1, 0.1, 0.25],\n",
    "                  [0.1, 0.75, 0.25, 0.9, 0.25],\n",
    "                  [0.75, 0.9, 0.25, 0.25, 0.75]])\n",
    "\n",
    "Sr = [25, 25, 25, 25]\n",
    "Sc = [20, 20, 20, 20, 20]\n",
    "\n",
    "Hr = []\n",
    "c = 0\n",
    "for i in Sr:\n",
    "    for j in range(i):\n",
    "        Hr += [c]\n",
    "    c+=1\n",
    "\n",
    "Hc = []\n",
    "c = 0\n",
    "for i in Sc:\n",
    "    for j in range(i):\n",
    "        Hc += [c]\n",
    "    c+=1\n",
    "\n",
    "z0 = [np.array(Hr), np.array(Hc)]\n",
    "\n",
    "N = np.sum(Sr)\n",
    "true_rho = np.zeros((N,N))\n",
    "for i in range(N):\n",
    "    for j in range(N):\n",
    "        if i == j:\n",
    "            continue\n",
    "        true_rho[i,j] += theta[z0[0][i], z0[1][j]]\n",
    "\n",
    "X = generate_graph_bicluster(Sr, Sc, theta, random_seed=40) #CASE 4"
   ]
  },
  {
   "cell_type": "code",
   "execution_count": 218,
   "metadata": {},
   "outputs": [
    {
     "name": "stdout",
     "output_type": "stream",
     "text": [
      "DP: \n",
      "VIr:  0.5867070452737218\n",
      "VIc:  0.36356349395951204\n",
      "VI_rel_true:  0.4755541481900082\n",
      "VI_rel_ball:  0.0\n",
      "Kr\n",
      "0.25:  8.0\n",
      "0.50:  8.0\n",
      "0.75:  8.0\n",
      "Kc\n",
      "0.25:  8.0\n",
      "0.50:  8.0\n",
      "0.75:  8.0\n",
      "MAE:  0.019861563885623656\n",
      "\n",
      "PY: \n",
      "VIr:  0.5867070452737218\n",
      "VIc:  0.36356349395951204\n",
      "VI_rel_true:  0.4752653028059749\n",
      "VI_rel_ball:  0.0\n",
      "Kr\n",
      "0.25:  8.0\n",
      "0.50:  8.0\n",
      "0.75:  8.0\n",
      "Kc\n",
      "0.25:  8.0\n",
      "0.50:  8.0\n",
      "0.75:  8.0\n",
      "MAE:  0.019858625366412842\n"
     ]
    }
   ],
   "source": [
    "print(\"DP: \")\n",
    "with open(\"results/Case4_DP_Z_unipartite.pickle\", \"rb\") as f:\n",
    "    Z_uni = pkl.load(f)\n",
    "Z = [Z_uni, Z_uni]\n",
    "evalZ(Z, z0)\n",
    "print(\"\\nPY: \")\n",
    "with open(\"results/Case4_PY_Z_unipartite.pickle\", \"rb\") as f:\n",
    "    Z_uni = pkl.load(f)\n",
    "Z = [Z_uni, Z_uni]\n",
    "evalZ(Z, z0)"
   ]
  },
  {
   "cell_type": "code",
   "execution_count": 219,
   "metadata": {},
   "outputs": [
    {
     "name": "stdout",
     "output_type": "stream",
     "text": [
      "VIr:  0.5867070452737218\n",
      "VIc:  0.36356349395951204\n",
      "VI_rel_true:  0.475944247758078\n",
      "VI_rel_ball:  0.0\n",
      "Kr\n",
      "0.25:  8.0\n",
      "0.50:  8.0\n",
      "0.75:  8.0\n",
      "Kc\n",
      "0.25:  8.0\n",
      "0.50:  8.0\n",
      "0.75:  8.0\n",
      "MAE:  0.01986536020522878\n",
      "\n",
      "\n",
      "VIr:  0.5867070452737218\n",
      "VIc:  0.36356349395951204\n",
      "VI_rel_true:  0.47513526961661834\n",
      "VI_rel_ball:  0.0\n",
      "Kr\n",
      "0.25:  8.0\n",
      "0.50:  8.0\n",
      "0.75:  8.0\n",
      "Kc\n",
      "0.25:  8.0\n",
      "0.50:  8.0\n",
      "0.75:  8.0\n",
      "MAE:  0.019857932460046055\n"
     ]
    }
   ],
   "source": [
    "with open(\"results/Case4_DM_Z_unipartite.pickle\", \"rb\") as f:\n",
    "    Z_uni = pkl.load(f)\n",
    "Z = [Z_uni, Z_uni]\n",
    "evalZ(Z, z0)\n",
    "print(\"\\n\")\n",
    "with open(\"results/Case4_GN_Z_unipartite.pickle\", \"rb\") as f:\n",
    "    Z_uni = pkl.load(f)\n",
    "Z = [Z_uni, Z_uni]\n",
    "evalZ(Z, z0)"
   ]
  },
  {
   "cell_type": "code",
   "execution_count": 220,
   "metadata": {},
   "outputs": [
    {
     "name": "stdout",
     "output_type": "stream",
     "text": [
      "VIr:  0.0\n",
      "VIc:  0.2840051164834252\n",
      "VI_rel_true:  0.21074904513709167\n",
      "VI_rel_ball:  0.24303905112445534\n",
      "Kr\n",
      "0.25:  4.0\n",
      "0.50:  5.0\n",
      "0.75:  6.0\n",
      "Kc\n",
      "0.25:  5.0\n",
      "0.50:  6.0\n",
      "0.75:  6.0\n",
      "MAE:  0.017182975581791902\n",
      "\n",
      "\n",
      "VIr:  0.0\n",
      "VIc:  0.2375676348083089\n",
      "VI_rel_true:  0.16289303746826503\n",
      "VI_rel_ball:  0.15998135112893208\n",
      "Kr\n",
      "0.25:  4.0\n",
      "0.50:  4.0\n",
      "0.75:  4.0\n",
      "Kc\n",
      "0.25:  5.0\n",
      "0.50:  5.0\n",
      "0.75:  5.0\n",
      "MAE:  0.01495700780784881\n"
     ]
    }
   ],
   "source": [
    "with open(\"results/Case4_DP_Z_bipartite.pickle\", \"rb\") as f:\n",
    "    Z_uni = pkl.load(f)\n",
    "Zr = [x[0] for x in [i for i in Z_uni]]\n",
    "Zc = [x[1] for x in [i for i in Z_uni]]    \n",
    "Z = [Zr, Zc]\n",
    "evalZ(Z, z0)\n",
    "print(\"\\n\")\n",
    "with open(\"results/Case4_PY_Z_bipartite.pickle\", \"rb\") as f:\n",
    "    Z_uni = pkl.load(f)\n",
    "Zr = [x[0] for x in [i for i in Z_uni]]\n",
    "Zc = [x[1] for x in [i for i in Z_uni]]    \n",
    "Z = [Zr, Zc]\n",
    "evalZ(Z, z0)"
   ]
  },
  {
   "cell_type": "code",
   "execution_count": 221,
   "metadata": {},
   "outputs": [
    {
     "name": "stdout",
     "output_type": "stream",
     "text": [
      "VIr:  0.0\n",
      "VIc:  0.2840051164834252\n",
      "VI_rel_true:  0.21955609564332143\n",
      "VI_rel_ball:  0.2511849002749307\n",
      "Kr\n",
      "0.25:  5.0\n",
      "0.50:  5.0\n",
      "0.75:  6.0\n",
      "Kc\n",
      "0.25:  5.0\n",
      "0.50:  6.0\n",
      "0.75:  6.0\n",
      "MAE:  0.017438836591718278\n",
      "\n",
      "\n",
      "VIr:  0.0\n",
      "VIc:  0.2375676348083089\n",
      "VI_rel_true:  0.15573675535566936\n",
      "VI_rel_ball:  0.16971559858855834\n",
      "Kr\n",
      "0.25:  4.0\n",
      "0.50:  4.0\n",
      "0.75:  4.0\n",
      "Kc\n",
      "0.25:  5.0\n",
      "0.50:  5.0\n",
      "0.75:  5.0\n",
      "MAE:  0.014646979007810236\n"
     ]
    }
   ],
   "source": [
    "with open(\"results/Case4_DM_Z_bipartite.pickle\", \"rb\") as f:\n",
    "    Z_uni = pkl.load(f)\n",
    "Zr = [x[0] for x in [i for i in Z_uni]]\n",
    "Zc = [x[1] for x in [i for i in Z_uni]]    \n",
    "Z = [Zr, Zc]\n",
    "evalZ(Z, z0)\n",
    "print(\"\\n\")\n",
    "with open(\"results/Case4_GN_Z_bipartite.pickle\", \"rb\") as f:\n",
    "    Z_uni = pkl.load(f)\n",
    "Zr = [x[0] for x in [i for i in Z_uni]]\n",
    "Zc = [x[1] for x in [i for i in Z_uni]]    \n",
    "Z = [Zr, Zc]\n",
    "evalZ(Z, z0)"
   ]
  },
  {
   "cell_type": "code",
   "execution_count": null,
   "metadata": {},
   "outputs": [],
   "source": []
  },
  {
   "cell_type": "code",
   "execution_count": null,
   "metadata": {},
   "outputs": [],
   "source": []
  }
 ],
 "metadata": {
  "kernelspec": {
   "display_name": "bnpenv",
   "language": "python",
   "name": "python3"
  },
  "language_info": {
   "codemirror_mode": {
    "name": "ipython",
    "version": 3
   },
   "file_extension": ".py",
   "mimetype": "text/x-python",
   "name": "python",
   "nbconvert_exporter": "python",
   "pygments_lexer": "ipython3",
   "version": "3.9.8"
  },
  "orig_nbformat": 4,
  "vscode": {
   "interpreter": {
    "hash": "5e30ed4f6f8bb2a91dfe46fec38963d5a062a926e2e168732dffa7def24e0a27"
   }
  }
 },
 "nbformat": 4,
 "nbformat_minor": 2
}
