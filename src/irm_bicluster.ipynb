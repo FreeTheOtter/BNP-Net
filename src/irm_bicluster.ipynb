{
 "cells": [
  {
   "cell_type": "code",
   "execution_count": 1,
   "metadata": {},
   "outputs": [],
   "source": [
    "import numpy as np\n",
    "import igraph as ig"
   ]
  },
  {
   "cell_type": "markdown",
   "metadata": {},
   "source": [
    "Data Generation"
   ]
  },
  {
   "cell_type": "code",
   "execution_count": 2,
   "metadata": {},
   "outputs": [],
   "source": [
    "theta = np.array([[0.75, 0.25, 0.1, 0.9],\n",
    "                  [0.75, 0.25, 0.8, 0.1],\n",
    "                  [0.1, 0.75, 0.25, 0.9]])"
   ]
  },
  {
   "cell_type": "code",
   "execution_count": 9,
   "metadata": {},
   "outputs": [],
   "source": [
    "Sr = [4, 4, 4]\n",
    "Sc = [3, 3, 3, 3]"
   ]
  },
  {
   "cell_type": "code",
   "execution_count": 10,
   "metadata": {},
   "outputs": [],
   "source": [
    "def generate_graph_bicluster(Sr, Sc, thetas):\n",
    "    # Kr = thetas.shape[0]\n",
    "    # Kc = thetas.shape[1]\n",
    "\n",
    "    N = np.sum(Sr)\n",
    "\n",
    "    Hr = []\n",
    "    c = 0\n",
    "    for i in Sr:\n",
    "        for j in range(i):\n",
    "            Hr += [c]\n",
    "        c+=1\n",
    "\n",
    "    Hc = []\n",
    "    c = 0\n",
    "    for i in Sc:\n",
    "        for j in range(i):\n",
    "            Hc += [c]\n",
    "        c+=1\n",
    "\n",
    "    X = np.zeros((N,N))\n",
    "    for i in range(N):\n",
    "        for j in range(N):\n",
    "            if i == j:\n",
    "                continue\n",
    "            X[i, j] = np.random.binomial(1, thetas[Hr[i], Hc[j]])\n",
    "\n",
    "    return X\n"
   ]
  },
  {
   "cell_type": "code",
   "execution_count": 11,
   "metadata": {},
   "outputs": [],
   "source": [
    "X = generate_graph_bicluster(Sr, Sc, theta)"
   ]
  },
  {
   "cell_type": "code",
   "execution_count": 12,
   "metadata": {},
   "outputs": [
    {
     "data": {
      "text/plain": [
       "array([[0., 0., 1., 1., 0., 0., 0., 0., 0., 1., 0., 1.],\n",
       "       [1., 0., 0., 0., 0., 0., 0., 0., 0., 1., 1., 1.],\n",
       "       [1., 0., 0., 1., 0., 0., 0., 0., 0., 1., 1., 1.],\n",
       "       [1., 0., 1., 0., 0., 1., 0., 0., 0., 1., 1., 1.],\n",
       "       [1., 1., 0., 0., 0., 1., 1., 1., 1., 0., 0., 0.],\n",
       "       [1., 1., 0., 0., 0., 0., 1., 1., 0., 1., 0., 0.],\n",
       "       [0., 1., 1., 0., 0., 1., 0., 1., 1., 1., 1., 0.],\n",
       "       [0., 0., 1., 0., 0., 1., 1., 0., 0., 0., 0., 0.],\n",
       "       [0., 0., 0., 1., 1., 1., 0., 0., 0., 1., 1., 0.],\n",
       "       [0., 1., 0., 0., 1., 1., 0., 0., 0., 0., 1., 1.],\n",
       "       [0., 0., 0., 1., 1., 1., 1., 0., 0., 0., 0., 1.],\n",
       "       [0., 1., 0., 1., 0., 1., 0., 0., 0., 1., 1., 0.]])"
      ]
     },
     "execution_count": 12,
     "metadata": {},
     "output_type": "execute_result"
    }
   ],
   "source": [
    "def irm_bicluster():\n",
    "    \n",
    "    return Z"
   ]
  },
  {
   "cell_type": "code",
   "execution_count": 22,
   "metadata": {},
   "outputs": [],
   "source": [
    "N = len(X)\n",
    "zr = np.ones([N, 1])\n",
    "zc = np.ones([N, 1])\n",
    "Zr = []\n",
    "Zc = []"
   ]
  },
  {
   "cell_type": "code",
   "execution_count": 17,
   "metadata": {},
   "outputs": [],
   "source": [
    "n = 0\n",
    "\n",
    "nn = [_ for _ in range(N)]\n",
    "nn.remove(n)\n",
    "\n",
    "X_ = X[np.ix_(nn,nn)]"
   ]
  },
  {
   "cell_type": "code",
   "execution_count": 29,
   "metadata": {},
   "outputs": [],
   "source": [
    "# for t in range(T):\n",
    "#     for n in range(N):\n",
    "n = 0\n",
    "\n",
    "nn = [_ for _ in range(N)]\n",
    "nn.remove(n)\n",
    "\n",
    "X_ = X[np.ix_(nn,nn)]\n",
    "\n",
    "Kr = len(zr[0])\n",
    "\n",
    "if Kr > 1:\n",
    "    idx = np.argwhere(np.sum(zr[nn], 0) == 0)\n",
    "    zr = np.delete(zr, idx, axis=1)\n",
    "    Kr -= len(idx)\n",
    "\n",
    "# m = n. of nodes in each component \n",
    "m = np.sum(zr[nn,:], 0)[np.newaxis] #newaxis allows m to become 2d array (for transposing)\n",
    "\n",
    "# M = max links from other clusts\n",
    "M = np.tile(m, (Kr, 1))"
   ]
  },
  {
   "cell_type": "code",
   "execution_count": 34,
   "metadata": {},
   "outputs": [],
   "source": [
    "M = np.tile(m, (Kr, 1))\n",
    "\n",
    "\n",
    "# M1 = n. of links between components without current node\n",
    "M1 = zr[nn].T @ X_ @ zr[nn]\n",
    "\n",
    "# M0 = n. of non-links between components without current node\n",
    "M0 = m.T@m - np.diag((m*(m+1) / 2).flatten()) - M1 \n",
    "\n",
    "# r = n. of links from current node to components\n",
    "r = zr[nn].T @ X[nn, n]\n",
    "R = np.tile(r, (Kr, 1))"
   ]
  },
  {
   "cell_type": "code",
   "execution_count": 39,
   "metadata": {},
   "outputs": [
    {
     "data": {
      "text/plain": [
       "array([[4.]])"
      ]
     },
     "execution_count": 39,
     "metadata": {},
     "output_type": "execute_result"
    }
   ],
   "source": [
    "M0"
   ]
  },
  {
   "cell_type": "code",
   "execution_count": 40,
   "metadata": {},
   "outputs": [
    {
     "data": {
      "text/plain": [
       "array([[0., 0., 0., 0., 0., 0., 0., 0., 1., 1., 1.],\n",
       "       [0., 0., 1., 0., 0., 0., 0., 0., 1., 1., 1.],\n",
       "       [0., 1., 0., 0., 1., 0., 0., 0., 1., 1., 1.],\n",
       "       [1., 0., 0., 0., 1., 1., 1., 1., 0., 0., 0.],\n",
       "       [1., 0., 0., 0., 0., 1., 1., 0., 1., 0., 0.],\n",
       "       [1., 1., 0., 0., 1., 0., 1., 1., 1., 1., 0.],\n",
       "       [0., 1., 0., 0., 1., 1., 0., 0., 0., 0., 0.],\n",
       "       [0., 0., 1., 1., 1., 0., 0., 0., 1., 1., 0.],\n",
       "       [1., 0., 0., 1., 1., 0., 0., 0., 0., 1., 1.],\n",
       "       [0., 0., 1., 1., 1., 1., 0., 0., 0., 0., 1.],\n",
       "       [1., 0., 1., 0., 1., 0., 0., 0., 1., 1., 0.]])"
      ]
     },
     "execution_count": 40,
     "metadata": {},
     "output_type": "execute_result"
    }
   ],
   "source": [
    "X_"
   ]
  },
  {
   "cell_type": "code",
   "execution_count": 35,
   "metadata": {},
   "outputs": [
    {
     "data": {
      "text/plain": [
       "array([[51.]])"
      ]
     },
     "execution_count": 35,
     "metadata": {},
     "output_type": "execute_result"
    }
   ],
   "source": [
    "M1"
   ]
  },
  {
   "cell_type": "code",
   "execution_count": null,
   "metadata": {},
   "outputs": [],
   "source": [
    "# for t in range(T):\n",
    "#     for n in range(N):\n",
    "n = 0\n",
    "\n",
    "nn = [_ for _ in range(N)]\n",
    "nn.remove(n)\n",
    "\n",
    "X_ = X[np.ix_(nn,nn)]\n",
    "\n",
    "Kr = len(zr[0])\n",
    "Kc = len(zc[0])\n",
    "\n",
    "if Kr > 1:\n",
    "    idx = np.argwhere(np.sum(zr[nn], 0) == 0)\n",
    "    zr = np.delete(zr, idx, axis=1)\n",
    "    Kr -= len(idx)"
   ]
  },
  {
   "cell_type": "code",
   "execution_count": 23,
   "metadata": {},
   "outputs": [],
   "source": [
    "Kr = len(zr[0])\n",
    "Kc = len(zc[0])"
   ]
  },
  {
   "cell_type": "code",
   "execution_count": 25,
   "metadata": {},
   "outputs": [
    {
     "data": {
      "text/plain": [
       "1"
      ]
     },
     "execution_count": 25,
     "metadata": {},
     "output_type": "execute_result"
    }
   ],
   "source": [
    "Kc"
   ]
  },
  {
   "cell_type": "code",
   "execution_count": null,
   "metadata": {},
   "outputs": [],
   "source": []
  }
 ],
 "metadata": {
  "kernelspec": {
   "display_name": "Python 3.9.8 ('bnpenv': venv)",
   "language": "python",
   "name": "python3"
  },
  "language_info": {
   "codemirror_mode": {
    "name": "ipython",
    "version": 3
   },
   "file_extension": ".py",
   "mimetype": "text/x-python",
   "name": "python",
   "nbconvert_exporter": "python",
   "pygments_lexer": "ipython3",
   "version": "3.9.8"
  },
  "orig_nbformat": 4,
  "vscode": {
   "interpreter": {
    "hash": "5e30ed4f6f8bb2a91dfe46fec38963d5a062a926e2e168732dffa7def24e0a27"
   }
  }
 },
 "nbformat": 4,
 "nbformat_minor": 2
}
